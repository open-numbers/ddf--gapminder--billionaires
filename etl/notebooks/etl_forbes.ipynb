{
 "cells": [
  {
   "cell_type": "code",
   "execution_count": 1,
   "id": "9e3c0488",
   "metadata": {},
   "outputs": [],
   "source": [
    "import pandas as pd\n",
    "import numpy as np"
   ]
  },
  {
   "cell_type": "code",
   "execution_count": 2,
   "id": "79df619b",
   "metadata": {},
   "outputs": [],
   "source": [
    "# datapoints\n",
    "# steps:\n",
    "# - combine all files from source dir\n",
    "# - manage person renaming\n",
    "# - groupby person, interpolate datapoints for missing years"
   ]
  },
  {
   "cell_type": "code",
   "execution_count": 3,
   "id": "47dce132",
   "metadata": {},
   "outputs": [],
   "source": [
    "import sys\n",
    "sys.path.insert(0, '../scripts/')"
   ]
  },
  {
   "cell_type": "code",
   "execution_count": 4,
   "id": "639e0983",
   "metadata": {},
   "outputs": [],
   "source": [
    "import etllib"
   ]
  },
  {
   "cell_type": "code",
   "execution_count": 5,
   "id": "3bc68a86",
   "metadata": {},
   "outputs": [],
   "source": [
    "%load_ext autoreload\n",
    "%autoreload 1\n",
    "%aimport etllib"
   ]
  },
  {
   "cell_type": "code",
   "execution_count": 6,
   "id": "79c9a399",
   "metadata": {},
   "outputs": [
    {
     "name": "stdout",
     "output_type": "stream",
     "text": [
      "Modules to reload:\n",
      "etllib\n",
      "\n",
      "Modules to skip:\n",
      "\n"
     ]
    }
   ],
   "source": [
    "%aimport"
   ]
  },
  {
   "cell_type": "code",
   "execution_count": 7,
   "id": "e79e01a2",
   "metadata": {},
   "outputs": [
    {
     "name": "stdout",
     "output_type": "stream",
     "text": [
      "2002 (443, 23)\n",
      "2003 (529, 23)\n",
      "2004 (532, 23)\n",
      "2005 (530, 23)\n",
      "2006 (628, 24)\n",
      "2007 (760, 24)\n",
      "2008 (910, 24)\n",
      "2009 (738, 23)\n",
      "2010 (1011, 24)\n",
      "2011 (1209, 24)\n",
      "2012 (1226, 25)\n",
      "2013 (1426, 26)\n",
      "2014 (1645, 26)\n",
      "2015 (1826, 26)\n",
      "2016 (1812, 26)\n",
      "2017 (2043, 26)\n",
      "2018 (2208, 26)\n",
      "2019 (2153, 26)\n",
      "2020 (2095, 25)\n",
      "2021 (2755, 26)\n",
      "2022 (2668, 26)\n"
     ]
    }
   ],
   "source": [
    "# step 1\n",
    "\n",
    "res = []\n",
    "\n",
    "# the data before 2002 have many problems. So we start with 2002\n",
    "for year in range(2002, 2023):\n",
    "    df = etllib.get_data_file(year)\n",
    "    df['year'] = year\n",
    "    df = df.dropna(subset=['worth'], how='any')\n",
    "    res.append(df)\n",
    "    print(year, df.shape)\n",
    "\n",
    "res = pd.concat(res, ignore_index=True)"
   ]
  },
  {
   "cell_type": "code",
   "execution_count": 8,
   "id": "b938e090",
   "metadata": {},
   "outputs": [
    {
     "name": "stdout",
     "output_type": "stream",
     "text": [
      "2002 (442, 23)\n",
      "2003 (523, 23)\n",
      "2004 (529, 23)\n",
      "2005 (530, 23)\n",
      "2006 (628, 24)\n",
      "2007 (761, 24)\n",
      "2008 (912, 24)\n",
      "2009 (738, 23)\n",
      "2010 (1011, 24)\n",
      "2011 (1209, 24)\n",
      "2012 (1226, 25)\n",
      "2013 (1426, 26)\n",
      "2014 (1645, 26)\n",
      "2015 (1826, 26)\n",
      "2016 (1812, 26)\n",
      "2017 (2043, 26)\n",
      "2018 (2208, 26)\n",
      "2019 (2153, 26)\n",
      "2020 (2095, 25)\n",
      "2021 (2755, 26)\n",
      "2022 (2668, 26)\n"
     ]
    }
   ],
   "source": [
    "# also need to load alternative files which downloaded at another time.\n",
    "# use for double checking\n",
    "\n",
    "res_alt = []\n",
    "\n",
    "for year in range(2002, 2023):\n",
    "    df = etllib.get_data_file(year, subdir='forbes2')\n",
    "    df['year'] = year\n",
    "    df = df.dropna(subset=['worth'], how='any')\n",
    "    res_alt.append(df)\n",
    "    print(year, df.shape)\n",
    "\n",
    "res_alt = pd.concat(res_alt, ignore_index=True)"
   ]
  },
  {
   "cell_type": "code",
   "execution_count": 9,
   "id": "1dc4d040",
   "metadata": {},
   "outputs": [
    {
     "data": {
      "text/html": [
       "<div>\n",
       "<style scoped>\n",
       "    .dataframe tbody tr th:only-of-type {\n",
       "        vertical-align: middle;\n",
       "    }\n",
       "\n",
       "    .dataframe tbody tr th {\n",
       "        vertical-align: top;\n",
       "    }\n",
       "\n",
       "    .dataframe thead th {\n",
       "        text-align: right;\n",
       "    }\n",
       "</style>\n",
       "<table border=\"1\" class=\"dataframe\">\n",
       "  <thead>\n",
       "    <tr style=\"text-align: right;\">\n",
       "      <th></th>\n",
       "      <th>name</th>\n",
       "      <th>lastName</th>\n",
       "      <th>uri</th>\n",
       "      <th>imageUri</th>\n",
       "      <th>worthChange</th>\n",
       "      <th>age</th>\n",
       "      <th>source</th>\n",
       "      <th>industry</th>\n",
       "      <th>gender</th>\n",
       "      <th>country</th>\n",
       "      <th>...</th>\n",
       "      <th>squareImage</th>\n",
       "      <th>position</th>\n",
       "      <th>rank</th>\n",
       "      <th>worth</th>\n",
       "      <th>title</th>\n",
       "      <th>government</th>\n",
       "      <th>year</th>\n",
       "      <th>salary</th>\n",
       "      <th>managementAssets</th>\n",
       "      <th>pay</th>\n",
       "    </tr>\n",
       "  </thead>\n",
       "  <tbody>\n",
       "    <tr>\n",
       "      <th>0</th>\n",
       "      <td>Bill Gates</td>\n",
       "      <td>Gates</td>\n",
       "      <td>bill-gates</td>\n",
       "      <td>bill-gates</td>\n",
       "      <td>566.060</td>\n",
       "      <td>66.0</td>\n",
       "      <td>NaN</td>\n",
       "      <td>Technology</td>\n",
       "      <td>M</td>\n",
       "      <td>United States</td>\n",
       "      <td>...</td>\n",
       "      <td>https://specials-images.forbesimg.com/imageser...</td>\n",
       "      <td>1.0</td>\n",
       "      <td>1.0</td>\n",
       "      <td>52800.0</td>\n",
       "      <td>NaN</td>\n",
       "      <td>NaN</td>\n",
       "      <td>2002</td>\n",
       "      <td>NaN</td>\n",
       "      <td>NaN</td>\n",
       "      <td>NaN</td>\n",
       "    </tr>\n",
       "    <tr>\n",
       "      <th>1</th>\n",
       "      <td>Warren Buffett</td>\n",
       "      <td>NaN</td>\n",
       "      <td>warren-buffett</td>\n",
       "      <td>no-pic</td>\n",
       "      <td>413.323</td>\n",
       "      <td>NaN</td>\n",
       "      <td>NaN</td>\n",
       "      <td>Investments</td>\n",
       "      <td>NaN</td>\n",
       "      <td>United States</td>\n",
       "      <td>...</td>\n",
       "      <td>//specials-images.forbesimg.com/imageserve/5ba...</td>\n",
       "      <td>2.0</td>\n",
       "      <td>2.0</td>\n",
       "      <td>35000.0</td>\n",
       "      <td>NaN</td>\n",
       "      <td>NaN</td>\n",
       "      <td>2002</td>\n",
       "      <td>NaN</td>\n",
       "      <td>NaN</td>\n",
       "      <td>NaN</td>\n",
       "    </tr>\n",
       "    <tr>\n",
       "      <th>2</th>\n",
       "      <td>Paul Allen</td>\n",
       "      <td>Allen</td>\n",
       "      <td>paul-allen</td>\n",
       "      <td>paul-allen</td>\n",
       "      <td>NaN</td>\n",
       "      <td>69.0</td>\n",
       "      <td>NaN</td>\n",
       "      <td>Technology</td>\n",
       "      <td>M</td>\n",
       "      <td>United States</td>\n",
       "      <td>...</td>\n",
       "      <td>http://specials-images.forbesimg.com/imageserv...</td>\n",
       "      <td>4.0</td>\n",
       "      <td>4.0</td>\n",
       "      <td>25200.0</td>\n",
       "      <td>NaN</td>\n",
       "      <td>NaN</td>\n",
       "      <td>2002</td>\n",
       "      <td>NaN</td>\n",
       "      <td>NaN</td>\n",
       "      <td>NaN</td>\n",
       "    </tr>\n",
       "    <tr>\n",
       "      <th>3</th>\n",
       "      <td>Lawrence Ellison</td>\n",
       "      <td>NaN</td>\n",
       "      <td>larry-ellison</td>\n",
       "      <td>no-pic</td>\n",
       "      <td>-1304.262</td>\n",
       "      <td>NaN</td>\n",
       "      <td>NaN</td>\n",
       "      <td>Software</td>\n",
       "      <td>NaN</td>\n",
       "      <td>United States</td>\n",
       "      <td>...</td>\n",
       "      <td>//specials-images.forbesimg.com/imageserve/5e8...</td>\n",
       "      <td>5.0</td>\n",
       "      <td>5.0</td>\n",
       "      <td>23500.0</td>\n",
       "      <td>NaN</td>\n",
       "      <td>NaN</td>\n",
       "      <td>2002</td>\n",
       "      <td>NaN</td>\n",
       "      <td>NaN</td>\n",
       "      <td>NaN</td>\n",
       "    </tr>\n",
       "    <tr>\n",
       "      <th>4</th>\n",
       "      <td>Jim Walton</td>\n",
       "      <td>NaN</td>\n",
       "      <td>jim-walton</td>\n",
       "      <td>no-pic</td>\n",
       "      <td>-513.284</td>\n",
       "      <td>NaN</td>\n",
       "      <td>NaN</td>\n",
       "      <td>Retail</td>\n",
       "      <td>NaN</td>\n",
       "      <td>United States</td>\n",
       "      <td>...</td>\n",
       "      <td>//specials-images.forbesimg.com/imageserve/5c7...</td>\n",
       "      <td>6.0</td>\n",
       "      <td>6.0</td>\n",
       "      <td>20800.0</td>\n",
       "      <td>NaN</td>\n",
       "      <td>NaN</td>\n",
       "      <td>2002</td>\n",
       "      <td>NaN</td>\n",
       "      <td>NaN</td>\n",
       "      <td>NaN</td>\n",
       "    </tr>\n",
       "    <tr>\n",
       "      <th>...</th>\n",
       "      <td>...</td>\n",
       "      <td>...</td>\n",
       "      <td>...</td>\n",
       "      <td>...</td>\n",
       "      <td>...</td>\n",
       "      <td>...</td>\n",
       "      <td>...</td>\n",
       "      <td>...</td>\n",
       "      <td>...</td>\n",
       "      <td>...</td>\n",
       "      <td>...</td>\n",
       "      <td>...</td>\n",
       "      <td>...</td>\n",
       "      <td>...</td>\n",
       "      <td>...</td>\n",
       "      <td>...</td>\n",
       "      <td>...</td>\n",
       "      <td>...</td>\n",
       "      <td>...</td>\n",
       "      <td>...</td>\n",
       "      <td>...</td>\n",
       "    </tr>\n",
       "    <tr>\n",
       "      <th>29142</th>\n",
       "      <td>Zhang Yuqiang</td>\n",
       "      <td>Zhang</td>\n",
       "      <td>zhang-yuqiang</td>\n",
       "      <td>no-pic</td>\n",
       "      <td>NaN</td>\n",
       "      <td>66.0</td>\n",
       "      <td>Fiberglass</td>\n",
       "      <td>Manufacturing</td>\n",
       "      <td>M</td>\n",
       "      <td>China</td>\n",
       "      <td>...</td>\n",
       "      <td>NaN</td>\n",
       "      <td>2664.0</td>\n",
       "      <td>2578.0</td>\n",
       "      <td>1000.0</td>\n",
       "      <td>NaN</td>\n",
       "      <td>NaN</td>\n",
       "      <td>2022</td>\n",
       "      <td>NaN</td>\n",
       "      <td>NaN</td>\n",
       "      <td>NaN</td>\n",
       "    </tr>\n",
       "    <tr>\n",
       "      <th>29143</th>\n",
       "      <td>Zhou Ruxin</td>\n",
       "      <td>Zhou</td>\n",
       "      <td>zhou-ruxin</td>\n",
       "      <td>no-pic</td>\n",
       "      <td>NaN</td>\n",
       "      <td>59.0</td>\n",
       "      <td>Navigation</td>\n",
       "      <td>Technology</td>\n",
       "      <td>M</td>\n",
       "      <td>China</td>\n",
       "      <td>...</td>\n",
       "      <td>NaN</td>\n",
       "      <td>2665.0</td>\n",
       "      <td>2578.0</td>\n",
       "      <td>1000.0</td>\n",
       "      <td>NaN</td>\n",
       "      <td>NaN</td>\n",
       "      <td>2022</td>\n",
       "      <td>NaN</td>\n",
       "      <td>NaN</td>\n",
       "      <td>NaN</td>\n",
       "    </tr>\n",
       "    <tr>\n",
       "      <th>29144</th>\n",
       "      <td>Wen Zhou</td>\n",
       "      <td>Zhou</td>\n",
       "      <td>wen-zhou</td>\n",
       "      <td>no-pic</td>\n",
       "      <td>NaN</td>\n",
       "      <td>57.0</td>\n",
       "      <td>chemicals</td>\n",
       "      <td>Manufacturing</td>\n",
       "      <td>M</td>\n",
       "      <td>China</td>\n",
       "      <td>...</td>\n",
       "      <td>NaN</td>\n",
       "      <td>2666.0</td>\n",
       "      <td>2578.0</td>\n",
       "      <td>1000.0</td>\n",
       "      <td>NaN</td>\n",
       "      <td>NaN</td>\n",
       "      <td>2022</td>\n",
       "      <td>NaN</td>\n",
       "      <td>NaN</td>\n",
       "      <td>NaN</td>\n",
       "    </tr>\n",
       "    <tr>\n",
       "      <th>29145</th>\n",
       "      <td>Zhou Yifeng</td>\n",
       "      <td>Zhou</td>\n",
       "      <td>zhou-yifeng</td>\n",
       "      <td>no-pic-female</td>\n",
       "      <td>NaN</td>\n",
       "      <td>43.0</td>\n",
       "      <td>liquefied petroleum gas</td>\n",
       "      <td>Energy</td>\n",
       "      <td>F</td>\n",
       "      <td>China</td>\n",
       "      <td>...</td>\n",
       "      <td>NaN</td>\n",
       "      <td>2667.0</td>\n",
       "      <td>2578.0</td>\n",
       "      <td>1000.0</td>\n",
       "      <td>NaN</td>\n",
       "      <td>NaN</td>\n",
       "      <td>2022</td>\n",
       "      <td>NaN</td>\n",
       "      <td>NaN</td>\n",
       "      <td>NaN</td>\n",
       "    </tr>\n",
       "    <tr>\n",
       "      <th>29146</th>\n",
       "      <td>Zhuang Kuilong</td>\n",
       "      <td>Zhuang</td>\n",
       "      <td>zhuang-kuilong</td>\n",
       "      <td>no-pic</td>\n",
       "      <td>NaN</td>\n",
       "      <td>59.0</td>\n",
       "      <td>polyester</td>\n",
       "      <td>Manufacturing</td>\n",
       "      <td>M</td>\n",
       "      <td>China</td>\n",
       "      <td>...</td>\n",
       "      <td>NaN</td>\n",
       "      <td>2668.0</td>\n",
       "      <td>2578.0</td>\n",
       "      <td>1000.0</td>\n",
       "      <td>NaN</td>\n",
       "      <td>NaN</td>\n",
       "      <td>2022</td>\n",
       "      <td>NaN</td>\n",
       "      <td>NaN</td>\n",
       "      <td>NaN</td>\n",
       "    </tr>\n",
       "  </tbody>\n",
       "</table>\n",
       "<p>29147 rows × 26 columns</p>\n",
       "</div>"
      ],
      "text/plain": [
       "                   name lastName             uri       imageUri  worthChange  \\\n",
       "0            Bill Gates    Gates      bill-gates     bill-gates      566.060   \n",
       "1        Warren Buffett      NaN  warren-buffett         no-pic      413.323   \n",
       "2            Paul Allen    Allen      paul-allen     paul-allen          NaN   \n",
       "3      Lawrence Ellison      NaN   larry-ellison         no-pic    -1304.262   \n",
       "4            Jim Walton      NaN      jim-walton         no-pic     -513.284   \n",
       "...                 ...      ...             ...            ...          ...   \n",
       "29142     Zhang Yuqiang    Zhang   zhang-yuqiang         no-pic          NaN   \n",
       "29143        Zhou Ruxin     Zhou      zhou-ruxin         no-pic          NaN   \n",
       "29144          Wen Zhou     Zhou        wen-zhou         no-pic          NaN   \n",
       "29145       Zhou Yifeng     Zhou     zhou-yifeng  no-pic-female          NaN   \n",
       "29146    Zhuang Kuilong   Zhuang  zhuang-kuilong         no-pic          NaN   \n",
       "\n",
       "        age                   source       industry gender        country  \\\n",
       "0      66.0                      NaN     Technology      M  United States   \n",
       "1       NaN                      NaN    Investments    NaN  United States   \n",
       "2      69.0                      NaN     Technology      M  United States   \n",
       "3       NaN                      NaN       Software    NaN  United States   \n",
       "4       NaN                      NaN         Retail    NaN  United States   \n",
       "...     ...                      ...            ...    ...            ...   \n",
       "29142  66.0               Fiberglass  Manufacturing      M          China   \n",
       "29143  59.0               Navigation     Technology      M          China   \n",
       "29144  57.0                chemicals  Manufacturing      M          China   \n",
       "29145  43.0  liquefied petroleum gas         Energy      F          China   \n",
       "29146  59.0                polyester  Manufacturing      M          China   \n",
       "\n",
       "       ...                                        squareImage position  \\\n",
       "0      ...  https://specials-images.forbesimg.com/imageser...      1.0   \n",
       "1      ...  //specials-images.forbesimg.com/imageserve/5ba...      2.0   \n",
       "2      ...  http://specials-images.forbesimg.com/imageserv...      4.0   \n",
       "3      ...  //specials-images.forbesimg.com/imageserve/5e8...      5.0   \n",
       "4      ...  //specials-images.forbesimg.com/imageserve/5c7...      6.0   \n",
       "...    ...                                                ...      ...   \n",
       "29142  ...                                                NaN   2664.0   \n",
       "29143  ...                                                NaN   2665.0   \n",
       "29144  ...                                                NaN   2666.0   \n",
       "29145  ...                                                NaN   2667.0   \n",
       "29146  ...                                                NaN   2668.0   \n",
       "\n",
       "         rank    worth  title  government  year  salary  managementAssets  pay  \n",
       "0         1.0  52800.0    NaN         NaN  2002     NaN               NaN  NaN  \n",
       "1         2.0  35000.0    NaN         NaN  2002     NaN               NaN  NaN  \n",
       "2         4.0  25200.0    NaN         NaN  2002     NaN               NaN  NaN  \n",
       "3         5.0  23500.0    NaN         NaN  2002     NaN               NaN  NaN  \n",
       "4         6.0  20800.0    NaN         NaN  2002     NaN               NaN  NaN  \n",
       "...       ...      ...    ...         ...   ...     ...               ...  ...  \n",
       "29142  2578.0   1000.0    NaN         NaN  2022     NaN               NaN  NaN  \n",
       "29143  2578.0   1000.0    NaN         NaN  2022     NaN               NaN  NaN  \n",
       "29144  2578.0   1000.0    NaN         NaN  2022     NaN               NaN  NaN  \n",
       "29145  2578.0   1000.0    NaN         NaN  2022     NaN               NaN  NaN  \n",
       "29146  2578.0   1000.0    NaN         NaN  2022     NaN               NaN  NaN  \n",
       "\n",
       "[29147 rows x 26 columns]"
      ]
     },
     "execution_count": 9,
     "metadata": {},
     "output_type": "execute_result"
    }
   ],
   "source": [
    "res"
   ]
  },
  {
   "cell_type": "code",
   "execution_count": 10,
   "id": "53a0ee37",
   "metadata": {},
   "outputs": [
    {
     "data": {
      "text/plain": [
       "Index(['name', 'lastName', 'uri', 'imageUri', 'worthChange', 'age', 'source',\n",
       "       'industry', 'gender', 'country', 'timestamp', 'headquarters', 'state',\n",
       "       'realTimeWorth', 'realTimeRank', 'realTimePosition', 'squareImage',\n",
       "       'position', 'rank', 'worth', 'title', 'government', 'year', 'salary',\n",
       "       'managementAssets', 'pay'],\n",
       "      dtype='object')"
      ]
     },
     "execution_count": 10,
     "metadata": {},
     "output_type": "execute_result"
    }
   ],
   "source": [
    "res.columns"
   ]
  },
  {
   "cell_type": "code",
   "execution_count": 11,
   "id": "b18d81a8",
   "metadata": {},
   "outputs": [
    {
     "data": {
      "text/plain": [
       "0        https://specials-images.forbesimg.com/imageser...\n",
       "1        //specials-images.forbesimg.com/imageserve/5ba...\n",
       "2        http://specials-images.forbesimg.com/imageserv...\n",
       "3        //specials-images.forbesimg.com/imageserve/5e8...\n",
       "4        //specials-images.forbesimg.com/imageserve/5c7...\n",
       "                               ...                        \n",
       "29142                                                  NaN\n",
       "29143                                                  NaN\n",
       "29144                                                  NaN\n",
       "29145                                                  NaN\n",
       "29146                                                  NaN\n",
       "Name: squareImage, Length: 29147, dtype: object"
      ]
     },
     "execution_count": 11,
     "metadata": {},
     "output_type": "execute_result"
    }
   ],
   "source": [
    "res['squareImage']"
   ]
  },
  {
   "cell_type": "code",
   "execution_count": null,
   "id": "03fd2626",
   "metadata": {},
   "outputs": [],
   "source": []
  },
  {
   "cell_type": "code",
   "execution_count": 12,
   "id": "9915b846",
   "metadata": {},
   "outputs": [
    {
     "data": {
      "text/plain": [
       "array(['daniel-yong-zhang-1'], dtype=object)"
      ]
     },
     "execution_count": 12,
     "metadata": {},
     "output_type": "execute_result"
    }
   ],
   "source": [
    "res[res.uri.str.contains(\"daniel-yong-zhang\")]['uri'].unique()"
   ]
  },
  {
   "cell_type": "code",
   "execution_count": 13,
   "id": "7587a842",
   "metadata": {},
   "outputs": [],
   "source": [
    "from ddf_utils.str import to_concept_id"
   ]
  },
  {
   "cell_type": "code",
   "execution_count": 14,
   "id": "884fa393",
   "metadata": {},
   "outputs": [
    {
     "data": {
      "text/plain": [
       "Index(['name', 'lastName', 'uri', 'imageUri', 'worthChange', 'age', 'source',\n",
       "       'industry', 'gender', 'country', 'timestamp', 'headquarters', 'state',\n",
       "       'realTimeWorth', 'realTimeRank', 'realTimePosition', 'squareImage',\n",
       "       'position', 'rank', 'worth', 'title', 'government', 'year', 'salary',\n",
       "       'managementAssets', 'pay'],\n",
       "      dtype='object')"
      ]
     },
     "execution_count": 14,
     "metadata": {},
     "output_type": "execute_result"
    }
   ],
   "source": [
    "res.columns"
   ]
  },
  {
   "cell_type": "code",
   "execution_count": 14,
   "id": "f2555ac4",
   "metadata": {},
   "outputs": [],
   "source": [
    "# assuming the uri value is unique for each person\n",
    "# we don't use names because they are not consistent.\n",
    "\n",
    "res['person'] = res['uri'].map(to_concept_id)"
   ]
  },
  {
   "cell_type": "code",
   "execution_count": null,
   "id": "9b51837a",
   "metadata": {},
   "outputs": [],
   "source": []
  },
  {
   "cell_type": "code",
   "execution_count": 15,
   "id": "c348bb32",
   "metadata": {},
   "outputs": [],
   "source": [
    "# double check if following is true:\n",
    "# - all data before NaNs are the same\n",
    "# - pick some one who dropped off the list and come back again, see what the data looks like"
   ]
  },
  {
   "cell_type": "code",
   "execution_count": 16,
   "id": "be7a54ce",
   "metadata": {},
   "outputs": [],
   "source": [
    "res['uri'] = res['uri'].str.strip()\n",
    "res_alt['uri'] = res_alt['uri'].str.strip()"
   ]
  },
  {
   "cell_type": "code",
   "execution_count": 17,
   "id": "c395b3a0",
   "metadata": {},
   "outputs": [],
   "source": [
    "dps = res[['uri', 'year', 'worth']].copy()\n",
    "dps_alt = res_alt[['uri', 'year', 'worth']].copy()"
   ]
  },
  {
   "cell_type": "code",
   "execution_count": 18,
   "id": "ca2109c0",
   "metadata": {},
   "outputs": [],
   "source": [
    "dps = dps.set_index(['uri', 'year'])\n",
    "dps_alt = dps_alt.set_index(['uri', 'year'])"
   ]
  },
  {
   "cell_type": "code",
   "execution_count": 19,
   "id": "3e962fdf",
   "metadata": {
    "scrolled": false
   },
   "outputs": [
    {
     "data": {
      "text/html": [
       "<div>\n",
       "<style scoped>\n",
       "    .dataframe tbody tr th:only-of-type {\n",
       "        vertical-align: middle;\n",
       "    }\n",
       "\n",
       "    .dataframe tbody tr th {\n",
       "        vertical-align: top;\n",
       "    }\n",
       "\n",
       "    .dataframe thead th {\n",
       "        text-align: right;\n",
       "    }\n",
       "</style>\n",
       "<table border=\"1\" class=\"dataframe\">\n",
       "  <thead>\n",
       "    <tr style=\"text-align: right;\">\n",
       "      <th></th>\n",
       "      <th>worth</th>\n",
       "    </tr>\n",
       "    <tr>\n",
       "      <th>year</th>\n",
       "      <th></th>\n",
       "    </tr>\n",
       "  </thead>\n",
       "  <tbody>\n",
       "    <tr>\n",
       "      <th>2008</th>\n",
       "      <td>1200.0</td>\n",
       "    </tr>\n",
       "    <tr>\n",
       "      <th>2020</th>\n",
       "      <td>1000.0</td>\n",
       "    </tr>\n",
       "    <tr>\n",
       "      <th>2021</th>\n",
       "      <td>1200.0</td>\n",
       "    </tr>\n",
       "    <tr>\n",
       "      <th>2022</th>\n",
       "      <td>3400.0</td>\n",
       "    </tr>\n",
       "  </tbody>\n",
       "</table>\n",
       "</div>"
      ],
      "text/plain": [
       "       worth\n",
       "year        \n",
       "2008  1200.0\n",
       "2020  1000.0\n",
       "2021  1200.0\n",
       "2022  3400.0"
      ]
     },
     "execution_count": 19,
     "metadata": {},
     "output_type": "execute_result"
    }
   ],
   "source": [
    "dps.loc['wesley-edens'] "
   ]
  },
  {
   "cell_type": "code",
   "execution_count": 20,
   "id": "25d8054b",
   "metadata": {
    "scrolled": true
   },
   "outputs": [
    {
     "data": {
      "text/html": [
       "<div>\n",
       "<style scoped>\n",
       "    .dataframe tbody tr th:only-of-type {\n",
       "        vertical-align: middle;\n",
       "    }\n",
       "\n",
       "    .dataframe tbody tr th {\n",
       "        vertical-align: top;\n",
       "    }\n",
       "\n",
       "    .dataframe thead th {\n",
       "        text-align: right;\n",
       "    }\n",
       "</style>\n",
       "<table border=\"1\" class=\"dataframe\">\n",
       "  <thead>\n",
       "    <tr style=\"text-align: right;\">\n",
       "      <th></th>\n",
       "      <th>worth</th>\n",
       "    </tr>\n",
       "    <tr>\n",
       "      <th>year</th>\n",
       "      <th></th>\n",
       "    </tr>\n",
       "  </thead>\n",
       "  <tbody>\n",
       "    <tr>\n",
       "      <th>2008</th>\n",
       "      <td>1200.0</td>\n",
       "    </tr>\n",
       "    <tr>\n",
       "      <th>2020</th>\n",
       "      <td>1000.0</td>\n",
       "    </tr>\n",
       "    <tr>\n",
       "      <th>2021</th>\n",
       "      <td>1200.0</td>\n",
       "    </tr>\n",
       "    <tr>\n",
       "      <th>2022</th>\n",
       "      <td>3400.0</td>\n",
       "    </tr>\n",
       "  </tbody>\n",
       "</table>\n",
       "</div>"
      ],
      "text/plain": [
       "       worth\n",
       "year        \n",
       "2008  1200.0\n",
       "2020  1000.0\n",
       "2021  1200.0\n",
       "2022  3400.0"
      ]
     },
     "execution_count": 20,
     "metadata": {},
     "output_type": "execute_result"
    }
   ],
   "source": [
    "dps_alt.loc['wesley-edens']"
   ]
  },
  {
   "cell_type": "code",
   "execution_count": 21,
   "id": "48691dc5",
   "metadata": {
    "scrolled": true
   },
   "outputs": [
    {
     "data": {
      "text/html": [
       "<div>\n",
       "<style scoped>\n",
       "    .dataframe tbody tr th:only-of-type {\n",
       "        vertical-align: middle;\n",
       "    }\n",
       "\n",
       "    .dataframe tbody tr th {\n",
       "        vertical-align: top;\n",
       "    }\n",
       "\n",
       "    .dataframe thead th {\n",
       "        text-align: right;\n",
       "    }\n",
       "</style>\n",
       "<table border=\"1\" class=\"dataframe\">\n",
       "  <thead>\n",
       "    <tr style=\"text-align: right;\">\n",
       "      <th></th>\n",
       "      <th>worth</th>\n",
       "    </tr>\n",
       "    <tr>\n",
       "      <th>year</th>\n",
       "      <th></th>\n",
       "    </tr>\n",
       "  </thead>\n",
       "  <tbody>\n",
       "    <tr>\n",
       "      <th>2008</th>\n",
       "      <td>1500.0</td>\n",
       "    </tr>\n",
       "    <tr>\n",
       "      <th>2010</th>\n",
       "      <td>4000.0</td>\n",
       "    </tr>\n",
       "    <tr>\n",
       "      <th>2011</th>\n",
       "      <td>13500.0</td>\n",
       "    </tr>\n",
       "    <tr>\n",
       "      <th>2012</th>\n",
       "      <td>17500.0</td>\n",
       "    </tr>\n",
       "    <tr>\n",
       "      <th>2013</th>\n",
       "      <td>13300.0</td>\n",
       "    </tr>\n",
       "    <tr>\n",
       "      <th>2014</th>\n",
       "      <td>28500.0</td>\n",
       "    </tr>\n",
       "    <tr>\n",
       "      <th>2015</th>\n",
       "      <td>33400.0</td>\n",
       "    </tr>\n",
       "    <tr>\n",
       "      <th>2016</th>\n",
       "      <td>44600.0</td>\n",
       "    </tr>\n",
       "    <tr>\n",
       "      <th>2017</th>\n",
       "      <td>56000.0</td>\n",
       "    </tr>\n",
       "    <tr>\n",
       "      <th>2018</th>\n",
       "      <td>71000.0</td>\n",
       "    </tr>\n",
       "    <tr>\n",
       "      <th>2019</th>\n",
       "      <td>62300.0</td>\n",
       "    </tr>\n",
       "    <tr>\n",
       "      <th>2020</th>\n",
       "      <td>54700.0</td>\n",
       "    </tr>\n",
       "    <tr>\n",
       "      <th>2021</th>\n",
       "      <td>97000.0</td>\n",
       "    </tr>\n",
       "    <tr>\n",
       "      <th>2022</th>\n",
       "      <td>67300.0</td>\n",
       "    </tr>\n",
       "  </tbody>\n",
       "</table>\n",
       "</div>"
      ],
      "text/plain": [
       "        worth\n",
       "year         \n",
       "2008   1500.0\n",
       "2010   4000.0\n",
       "2011  13500.0\n",
       "2012  17500.0\n",
       "2013  13300.0\n",
       "2014  28500.0\n",
       "2015  33400.0\n",
       "2016  44600.0\n",
       "2017  56000.0\n",
       "2018  71000.0\n",
       "2019  62300.0\n",
       "2020  54700.0\n",
       "2021  97000.0\n",
       "2022  67300.0"
      ]
     },
     "execution_count": 21,
     "metadata": {},
     "output_type": "execute_result"
    }
   ],
   "source": [
    "dps.loc['mark-zuckerberg'] "
   ]
  },
  {
   "cell_type": "code",
   "execution_count": 22,
   "id": "fc75f7f8",
   "metadata": {},
   "outputs": [
    {
     "data": {
      "text/html": [
       "<div>\n",
       "<style scoped>\n",
       "    .dataframe tbody tr th:only-of-type {\n",
       "        vertical-align: middle;\n",
       "    }\n",
       "\n",
       "    .dataframe tbody tr th {\n",
       "        vertical-align: top;\n",
       "    }\n",
       "\n",
       "    .dataframe thead th {\n",
       "        text-align: right;\n",
       "    }\n",
       "</style>\n",
       "<table border=\"1\" class=\"dataframe\">\n",
       "  <thead>\n",
       "    <tr style=\"text-align: right;\">\n",
       "      <th></th>\n",
       "      <th>worth</th>\n",
       "    </tr>\n",
       "    <tr>\n",
       "      <th>year</th>\n",
       "      <th></th>\n",
       "    </tr>\n",
       "  </thead>\n",
       "  <tbody>\n",
       "    <tr>\n",
       "      <th>2008</th>\n",
       "      <td>1500.0</td>\n",
       "    </tr>\n",
       "    <tr>\n",
       "      <th>2010</th>\n",
       "      <td>4000.0</td>\n",
       "    </tr>\n",
       "    <tr>\n",
       "      <th>2011</th>\n",
       "      <td>13500.0</td>\n",
       "    </tr>\n",
       "    <tr>\n",
       "      <th>2012</th>\n",
       "      <td>17500.0</td>\n",
       "    </tr>\n",
       "    <tr>\n",
       "      <th>2013</th>\n",
       "      <td>13300.0</td>\n",
       "    </tr>\n",
       "    <tr>\n",
       "      <th>2014</th>\n",
       "      <td>28500.0</td>\n",
       "    </tr>\n",
       "    <tr>\n",
       "      <th>2015</th>\n",
       "      <td>33400.0</td>\n",
       "    </tr>\n",
       "    <tr>\n",
       "      <th>2016</th>\n",
       "      <td>44600.0</td>\n",
       "    </tr>\n",
       "    <tr>\n",
       "      <th>2017</th>\n",
       "      <td>56000.0</td>\n",
       "    </tr>\n",
       "    <tr>\n",
       "      <th>2018</th>\n",
       "      <td>71000.0</td>\n",
       "    </tr>\n",
       "    <tr>\n",
       "      <th>2019</th>\n",
       "      <td>62300.0</td>\n",
       "    </tr>\n",
       "    <tr>\n",
       "      <th>2020</th>\n",
       "      <td>54700.0</td>\n",
       "    </tr>\n",
       "    <tr>\n",
       "      <th>2021</th>\n",
       "      <td>97000.0</td>\n",
       "    </tr>\n",
       "    <tr>\n",
       "      <th>2022</th>\n",
       "      <td>67300.0</td>\n",
       "    </tr>\n",
       "  </tbody>\n",
       "</table>\n",
       "</div>"
      ],
      "text/plain": [
       "        worth\n",
       "year         \n",
       "2008   1500.0\n",
       "2010   4000.0\n",
       "2011  13500.0\n",
       "2012  17500.0\n",
       "2013  13300.0\n",
       "2014  28500.0\n",
       "2015  33400.0\n",
       "2016  44600.0\n",
       "2017  56000.0\n",
       "2018  71000.0\n",
       "2019  62300.0\n",
       "2020  54700.0\n",
       "2021  97000.0\n",
       "2022  67300.0"
      ]
     },
     "execution_count": 22,
     "metadata": {},
     "output_type": "execute_result"
    }
   ],
   "source": [
    "dps_alt.loc['mark-zuckerberg'] "
   ]
  },
  {
   "cell_type": "code",
   "execution_count": null,
   "id": "ca68f452",
   "metadata": {},
   "outputs": [],
   "source": []
  },
  {
   "cell_type": "code",
   "execution_count": 23,
   "id": "c42ca43b",
   "metadata": {},
   "outputs": [
    {
     "data": {
      "text/plain": [
       "False"
      ]
     },
     "execution_count": 23,
     "metadata": {},
     "output_type": "execute_result"
    }
   ],
   "source": [
    "dps.shape == dps_alt.shape"
   ]
  },
  {
   "cell_type": "code",
   "execution_count": 24,
   "id": "c4f1fa85",
   "metadata": {},
   "outputs": [
    {
     "data": {
      "text/plain": [
       "(29147, 1)"
      ]
     },
     "execution_count": 24,
     "metadata": {},
     "output_type": "execute_result"
    }
   ],
   "source": [
    "dps.shape"
   ]
  },
  {
   "cell_type": "code",
   "execution_count": 25,
   "id": "5037ef0d",
   "metadata": {},
   "outputs": [
    {
     "data": {
      "text/plain": [
       "(29140, 1)"
      ]
     },
     "execution_count": 25,
     "metadata": {},
     "output_type": "execute_result"
    }
   ],
   "source": [
    "dps_alt.shape"
   ]
  },
  {
   "cell_type": "code",
   "execution_count": 26,
   "id": "553a7315",
   "metadata": {},
   "outputs": [],
   "source": [
    "# what are the diffs?"
   ]
  },
  {
   "cell_type": "code",
   "execution_count": 27,
   "id": "3c89158a",
   "metadata": {},
   "outputs": [],
   "source": [
    "dps_1, dps_alt_1 = dps.align(dps_alt)"
   ]
  },
  {
   "cell_type": "code",
   "execution_count": 28,
   "id": "ab45e8dc",
   "metadata": {},
   "outputs": [
    {
     "data": {
      "text/plain": [
       "True"
      ]
     },
     "execution_count": 28,
     "metadata": {},
     "output_type": "execute_result"
    }
   ],
   "source": [
    "dps_1.shape == dps_alt_1.shape"
   ]
  },
  {
   "cell_type": "code",
   "execution_count": 29,
   "id": "be024b45",
   "metadata": {},
   "outputs": [],
   "source": [
    "s1 = set(dps_1[pd.isnull(dps_1.worth)].index.get_level_values(0).unique().values)"
   ]
  },
  {
   "cell_type": "code",
   "execution_count": 30,
   "id": "e128d625",
   "metadata": {
    "scrolled": false
   },
   "outputs": [],
   "source": [
    "s2 = set(dps_alt_1[pd.isnull(dps_alt_1.worth)].index.get_level_values(0).unique().values)"
   ]
  },
  {
   "cell_type": "code",
   "execution_count": 31,
   "id": "40376dfc",
   "metadata": {},
   "outputs": [],
   "source": [
    "def swapname(x):\n",
    "    split = x.split('-')\n",
    "    if len(split) == 2:\n",
    "        split.reverse()\n",
    "        return '-'.join(split)\n",
    "    return None"
   ]
  },
  {
   "cell_type": "code",
   "execution_count": 32,
   "id": "0529939d",
   "metadata": {},
   "outputs": [],
   "source": [
    "alt_map_name = dict()\n",
    "\n",
    "for n in s1:\n",
    "    swapped = swapname(n)\n",
    "    if swapped and swapped in s2:\n",
    "        s2.remove(swapped)\n",
    "        v = n\n",
    "        alt_map_name[swapped] = v"
   ]
  },
  {
   "cell_type": "code",
   "execution_count": 33,
   "id": "f8c14b44",
   "metadata": {
    "scrolled": false
   },
   "outputs": [
    {
     "data": {
      "text/plain": [
       "111"
      ]
     },
     "execution_count": 33,
     "metadata": {},
     "output_type": "execute_result"
    }
   ],
   "source": [
    "len(alt_map_name)"
   ]
  },
  {
   "cell_type": "code",
   "execution_count": 34,
   "id": "e69a7fda",
   "metadata": {},
   "outputs": [
    {
     "data": {
      "text/plain": [
       "159"
      ]
     },
     "execution_count": 34,
     "metadata": {},
     "output_type": "execute_result"
    }
   ],
   "source": [
    "len(s1)"
   ]
  },
  {
   "cell_type": "code",
   "execution_count": null,
   "id": "398f853f",
   "metadata": {},
   "outputs": [],
   "source": []
  },
  {
   "cell_type": "code",
   "execution_count": 35,
   "id": "ae07bd93",
   "metadata": {},
   "outputs": [
    {
     "data": {
      "text/html": [
       "<div>\n",
       "<style scoped>\n",
       "    .dataframe tbody tr th:only-of-type {\n",
       "        vertical-align: middle;\n",
       "    }\n",
       "\n",
       "    .dataframe tbody tr th {\n",
       "        vertical-align: top;\n",
       "    }\n",
       "\n",
       "    .dataframe thead th {\n",
       "        text-align: right;\n",
       "    }\n",
       "</style>\n",
       "<table border=\"1\" class=\"dataframe\">\n",
       "  <thead>\n",
       "    <tr style=\"text-align: right;\">\n",
       "      <th></th>\n",
       "      <th>worth</th>\n",
       "    </tr>\n",
       "    <tr>\n",
       "      <th>year</th>\n",
       "      <th></th>\n",
       "    </tr>\n",
       "  </thead>\n",
       "  <tbody>\n",
       "    <tr>\n",
       "      <th>2015</th>\n",
       "      <td>NaN</td>\n",
       "    </tr>\n",
       "    <tr>\n",
       "      <th>2016</th>\n",
       "      <td>NaN</td>\n",
       "    </tr>\n",
       "    <tr>\n",
       "      <th>2017</th>\n",
       "      <td>NaN</td>\n",
       "    </tr>\n",
       "    <tr>\n",
       "      <th>2018</th>\n",
       "      <td>NaN</td>\n",
       "    </tr>\n",
       "    <tr>\n",
       "      <th>2019</th>\n",
       "      <td>NaN</td>\n",
       "    </tr>\n",
       "    <tr>\n",
       "      <th>2020</th>\n",
       "      <td>NaN</td>\n",
       "    </tr>\n",
       "    <tr>\n",
       "      <th>2021</th>\n",
       "      <td>NaN</td>\n",
       "    </tr>\n",
       "    <tr>\n",
       "      <th>2022</th>\n",
       "      <td>1400.0</td>\n",
       "    </tr>\n",
       "  </tbody>\n",
       "</table>\n",
       "</div>"
      ],
      "text/plain": [
       "       worth\n",
       "year        \n",
       "2015     NaN\n",
       "2016     NaN\n",
       "2017     NaN\n",
       "2018     NaN\n",
       "2019     NaN\n",
       "2020     NaN\n",
       "2021     NaN\n",
       "2022  1400.0"
      ]
     },
     "execution_count": 35,
     "metadata": {},
     "output_type": "execute_result"
    }
   ],
   "source": [
    "dps_1.loc['guangwei-liang']"
   ]
  },
  {
   "cell_type": "code",
   "execution_count": 36,
   "id": "de00b73c",
   "metadata": {},
   "outputs": [
    {
     "data": {
      "text/html": [
       "<div>\n",
       "<style scoped>\n",
       "    .dataframe tbody tr th:only-of-type {\n",
       "        vertical-align: middle;\n",
       "    }\n",
       "\n",
       "    .dataframe tbody tr th {\n",
       "        vertical-align: top;\n",
       "    }\n",
       "\n",
       "    .dataframe thead th {\n",
       "        text-align: right;\n",
       "    }\n",
       "</style>\n",
       "<table border=\"1\" class=\"dataframe\">\n",
       "  <thead>\n",
       "    <tr style=\"text-align: right;\">\n",
       "      <th></th>\n",
       "      <th>worth</th>\n",
       "    </tr>\n",
       "    <tr>\n",
       "      <th>year</th>\n",
       "      <th></th>\n",
       "    </tr>\n",
       "  </thead>\n",
       "  <tbody>\n",
       "    <tr>\n",
       "      <th>2015</th>\n",
       "      <td>1300.0</td>\n",
       "    </tr>\n",
       "    <tr>\n",
       "      <th>2016</th>\n",
       "      <td>1300.0</td>\n",
       "    </tr>\n",
       "    <tr>\n",
       "      <th>2017</th>\n",
       "      <td>1300.0</td>\n",
       "    </tr>\n",
       "    <tr>\n",
       "      <th>2018</th>\n",
       "      <td>1100.0</td>\n",
       "    </tr>\n",
       "    <tr>\n",
       "      <th>2019</th>\n",
       "      <td>1200.0</td>\n",
       "    </tr>\n",
       "    <tr>\n",
       "      <th>2020</th>\n",
       "      <td>1100.0</td>\n",
       "    </tr>\n",
       "    <tr>\n",
       "      <th>2021</th>\n",
       "      <td>1300.0</td>\n",
       "    </tr>\n",
       "    <tr>\n",
       "      <th>2022</th>\n",
       "      <td>1400.0</td>\n",
       "    </tr>\n",
       "  </tbody>\n",
       "</table>\n",
       "</div>"
      ],
      "text/plain": [
       "       worth\n",
       "year        \n",
       "2015  1300.0\n",
       "2016  1300.0\n",
       "2017  1300.0\n",
       "2018  1100.0\n",
       "2019  1200.0\n",
       "2020  1100.0\n",
       "2021  1300.0\n",
       "2022  1400.0"
      ]
     },
     "execution_count": 36,
     "metadata": {},
     "output_type": "execute_result"
    }
   ],
   "source": [
    "dps_alt_1.loc['guangwei-liang']"
   ]
  },
  {
   "cell_type": "code",
   "execution_count": 37,
   "id": "15a6001d",
   "metadata": {},
   "outputs": [],
   "source": [
    "# ok, I believe the above one (guangwei-liang) is how the different comes in\n",
    "# because the different is 7 years\n",
    "# while the total different is also 7 years."
   ]
  },
  {
   "cell_type": "code",
   "execution_count": null,
   "id": "85d01f1b",
   "metadata": {},
   "outputs": [],
   "source": []
  },
  {
   "cell_type": "code",
   "execution_count": 38,
   "id": "83bf7ce3",
   "metadata": {},
   "outputs": [],
   "source": [
    "gs = dps.groupby(['uri'])['worth']\n",
    "gs_alt = dps_alt.groupby(['uri'])['worth']"
   ]
  },
  {
   "cell_type": "code",
   "execution_count": 39,
   "id": "d68c575a",
   "metadata": {},
   "outputs": [],
   "source": [
    "dps_int_res = []\n",
    "\n",
    "for g, df in gs:\n",
    "    if g in gs_alt.groups.keys():\n",
    "        df_ = gs_alt.get_group(g)\n",
    "        df1, df2 = df.align(df_)\n",
    "        m = df1 == df2\n",
    "        dfm1 = df[m].dropna()\n",
    "        m = dfm1.map(lambda x: x.is_integer())\n",
    "        dps_int_res.append(dfm1[m])\n",
    "    else:\n",
    "        # just drop floats\n",
    "        m = df.map(lambda x: x.is_integer())\n",
    "        dps_int_res.append(df[m])"
   ]
  },
  {
   "cell_type": "code",
   "execution_count": 40,
   "id": "8caccb12",
   "metadata": {},
   "outputs": [],
   "source": [
    "dps_int_res = pd.concat(dps_int_res)"
   ]
  },
  {
   "cell_type": "code",
   "execution_count": 41,
   "id": "746557b7",
   "metadata": {},
   "outputs": [
    {
     "data": {
      "text/plain": [
       "(28726,)"
      ]
     },
     "execution_count": 41,
     "metadata": {},
     "output_type": "execute_result"
    }
   ],
   "source": [
    "dps_int_res.shape"
   ]
  },
  {
   "cell_type": "code",
   "execution_count": 42,
   "id": "2f4397ac",
   "metadata": {},
   "outputs": [
    {
     "data": {
      "text/plain": [
       "(29147, 1)"
      ]
     },
     "execution_count": 42,
     "metadata": {},
     "output_type": "execute_result"
    }
   ],
   "source": [
    "dps.shape"
   ]
  },
  {
   "cell_type": "code",
   "execution_count": 43,
   "id": "72fa4af2",
   "metadata": {},
   "outputs": [
    {
     "data": {
      "text/plain": [
       "uri\n",
       "bruno-schroder             1800.0\n",
       "george-soros               6900.0\n",
       "jon-huntsman-sr            3800.0\n",
       "tetsuro-funai              1600.0\n",
       "donald-newhouse            5000.0\n",
       "ryoichi-jinnai             1800.0\n",
       "paul-allen                25200.0\n",
       "ricardo-salinas-pliego     1600.0\n",
       "sam-zell                   1800.0\n",
       "barry-diller               1100.0\n",
       "Name: worth, dtype: float64"
      ]
     },
     "execution_count": 43,
     "metadata": {},
     "output_type": "execute_result"
    }
   ],
   "source": [
    "dps_int_res.swaplevel(0, 1).loc[2002].sample(10)"
   ]
  },
  {
   "cell_type": "code",
   "execution_count": 220,
   "id": "4ae661ad",
   "metadata": {},
   "outputs": [
    {
     "data": {
      "text/plain": [
       "year\n",
       "2002    20500.0\n",
       "2003    16500.0\n",
       "2004    20000.0\n",
       "2005    18000.0\n",
       "2006    15700.0\n",
       "2007    16600.0\n",
       "2008    19000.0\n",
       "2009    17600.0\n",
       "2010    20600.0\n",
       "2011    21200.0\n",
       "2012    23300.0\n",
       "2013    26300.0\n",
       "2014    34300.0\n",
       "2015    39400.0\n",
       "2016    32300.0\n",
       "2017    33800.0\n",
       "2018    46000.0\n",
       "2019    44400.0\n",
       "2020    54400.0\n",
       "2021    61800.0\n",
       "2022    65300.0\n",
       "Name: worth, dtype: float64"
      ]
     },
     "execution_count": 220,
     "metadata": {},
     "output_type": "execute_result"
    }
   ],
   "source": [
    "dps_int_res.loc['alice-walton']"
   ]
  },
  {
   "cell_type": "code",
   "execution_count": null,
   "id": "0d831054",
   "metadata": {},
   "outputs": [],
   "source": []
  },
  {
   "cell_type": "code",
   "execution_count": 44,
   "id": "9cd0801d",
   "metadata": {},
   "outputs": [],
   "source": [
    "# now serve the datapoints\n",
    "dps_res = dps_int_res.reset_index()\n",
    "dps_res['person'] = dps_res['uri'].map(to_concept_id)\n",
    "dps_res = dps_res.set_index(['person', 'year'])['worth']"
   ]
  },
  {
   "cell_type": "code",
   "execution_count": 45,
   "id": "73ec751f",
   "metadata": {},
   "outputs": [
    {
     "data": {
      "text/plain": [
       "person          year\n",
       "oleg_deripaska  2016    2100.0\n",
       "Name: worth, dtype: float64"
      ]
     },
     "execution_count": 45,
     "metadata": {},
     "output_type": "execute_result"
    }
   ],
   "source": [
    "dps_res.loc[dps_res.index.duplicated()]"
   ]
  },
  {
   "cell_type": "code",
   "execution_count": 46,
   "id": "5db39bc2",
   "metadata": {},
   "outputs": [],
   "source": [
    "dps_res = dps_res.loc[~dps_res.index.duplicated()]"
   ]
  },
  {
   "cell_type": "code",
   "execution_count": 47,
   "id": "35645570",
   "metadata": {},
   "outputs": [
    {
     "data": {
      "text/plain": [
       "person               year\n",
       "a_jayson_adair       2021    1000.0\n",
       "                     2022    1100.0\n",
       "a_jerrold_perenchio  2002    2600.0\n",
       "                     2003    2300.0\n",
       "                     2004    2700.0\n",
       "                              ...  \n",
       "zygmunt_solorz_zak   2018    2800.0\n",
       "                     2019    2700.0\n",
       "                     2020    2400.0\n",
       "                     2021    3200.0\n",
       "                     2022    2900.0\n",
       "Name: worth, Length: 28725, dtype: float64"
      ]
     },
     "execution_count": 47,
     "metadata": {},
     "output_type": "execute_result"
    }
   ],
   "source": [
    "dps_res"
   ]
  },
  {
   "cell_type": "code",
   "execution_count": 48,
   "id": "60449139",
   "metadata": {},
   "outputs": [],
   "source": [
    "dps_res.to_csv('../intermediate/forbes/ddf--datapoints--worth--by--person--year.csv')"
   ]
  },
  {
   "cell_type": "code",
   "execution_count": null,
   "id": "07f19aa0",
   "metadata": {},
   "outputs": [],
   "source": []
  },
  {
   "cell_type": "code",
   "execution_count": 54,
   "id": "41cd95eb",
   "metadata": {},
   "outputs": [
    {
     "data": {
      "text/plain": [
       "pandas.core.series.Series"
      ]
     },
     "execution_count": 54,
     "metadata": {},
     "output_type": "execute_result"
    }
   ],
   "source": [
    "type(income)"
   ]
  },
  {
   "cell_type": "code",
   "execution_count": 31,
   "id": "1f262fa5",
   "metadata": {},
   "outputs": [],
   "source": [
    "# TODO: maybe also add age\n",
    "# ages = res[['person', 'age']].drop_duplicates().dropna()"
   ]
  },
  {
   "cell_type": "code",
   "execution_count": 49,
   "id": "c253b341",
   "metadata": {},
   "outputs": [],
   "source": [
    "# assume average annual return on assets is 3%, calculate the income for all data points\n",
    "r = 0.03\n",
    "\n",
    "income = dps_res * r * 1e6"
   ]
  },
  {
   "cell_type": "code",
   "execution_count": 50,
   "id": "83be486f",
   "metadata": {},
   "outputs": [],
   "source": [
    "income.name = 'annual_income'\n",
    "\n",
    "income.to_csv('../intermediate/forbes/ddf--datapoints--annual_income--by--person--year.csv')"
   ]
  },
  {
   "cell_type": "code",
   "execution_count": 51,
   "id": "4646e604",
   "metadata": {},
   "outputs": [
    {
     "data": {
      "text/plain": [
       "5130000000.0"
      ]
     },
     "execution_count": 51,
     "metadata": {},
     "output_type": "execute_result"
    }
   ],
   "source": [
    "# lookup Bezoe\n",
    "\n",
    "income.loc['jeff_bezos', 2022]"
   ]
  },
  {
   "cell_type": "code",
   "execution_count": 55,
   "id": "6c002dff",
   "metadata": {},
   "outputs": [
    {
     "data": {
      "text/plain": [
       "5310000000.0"
      ]
     },
     "execution_count": 55,
     "metadata": {},
     "output_type": "execute_result"
    }
   ],
   "source": [
    "income.at[('jeff_bezos', 2021)]"
   ]
  },
  {
   "cell_type": "code",
   "execution_count": 56,
   "id": "2d06b94e",
   "metadata": {},
   "outputs": [],
   "source": [
    "b = income.at['jeff_bezos', 2021]"
   ]
  },
  {
   "cell_type": "code",
   "execution_count": 57,
   "id": "1eab08f7",
   "metadata": {},
   "outputs": [],
   "source": [
    "def get_level(n):\n",
    "    i = 1\n",
    "    acc = n / 2\n",
    "    while acc > 1:\n",
    "        acc = acc / 4\n",
    "        i = i + 1\n",
    "    return i"
   ]
  },
  {
   "cell_type": "code",
   "execution_count": 58,
   "id": "c9032349",
   "metadata": {},
   "outputs": [
    {
     "data": {
      "text/plain": [
       "17"
      ]
     },
     "execution_count": 58,
     "metadata": {},
     "output_type": "execute_result"
    }
   ],
   "source": [
    "get_level(b)"
   ]
  },
  {
   "cell_type": "code",
   "execution_count": 59,
   "id": "e56a55a3",
   "metadata": {},
   "outputs": [],
   "source": [
    "def test_cal(n):\n",
    "    return 2 * (4**(n-1))"
   ]
  },
  {
   "cell_type": "code",
   "execution_count": 60,
   "id": "fd3662af",
   "metadata": {},
   "outputs": [
    {
     "data": {
      "text/plain": [
       "8589934592"
      ]
     },
     "execution_count": 60,
     "metadata": {},
     "output_type": "execute_result"
    }
   ],
   "source": [
    "test_cal(17)"
   ]
  },
  {
   "cell_type": "code",
   "execution_count": 61,
   "id": "b69d2cf9",
   "metadata": {},
   "outputs": [
    {
     "name": "stdout",
     "output_type": "stream",
     "text": [
      "536870912\n",
      "5310000000.0\n"
     ]
    }
   ],
   "source": [
    "print(test_cal(15))\n",
    "print(b)"
   ]
  },
  {
   "cell_type": "code",
   "execution_count": 62,
   "id": "8bffb1c8",
   "metadata": {},
   "outputs": [
    {
     "data": {
      "text/plain": [
       "2"
      ]
     },
     "execution_count": 62,
     "metadata": {},
     "output_type": "execute_result"
    }
   ],
   "source": [
    "test_cal(1)"
   ]
  },
  {
   "cell_type": "code",
   "execution_count": 63,
   "id": "8eb8b8ed",
   "metadata": {},
   "outputs": [
    {
     "name": "stdout",
     "output_type": "stream",
     "text": [
      "15\n",
      "3 8 32\n"
     ]
    }
   ],
   "source": [
    "test_val = 15\n",
    "n = get_level(test_val)\n",
    "\n",
    "print(test_val)\n",
    "print(n, test_cal(n-1), test_cal(n))\n",
    "\n",
    "assert test_cal(n-1) <= test_val\n",
    "assert test_cal(n) >= test_val\n"
   ]
  },
  {
   "cell_type": "code",
   "execution_count": 64,
   "id": "66133dc6",
   "metadata": {},
   "outputs": [],
   "source": [
    "income_level = income.map(get_level)"
   ]
  },
  {
   "cell_type": "code",
   "execution_count": 65,
   "id": "7e0ceda2",
   "metadata": {},
   "outputs": [],
   "source": [
    "income_level.name = \"income_level\""
   ]
  },
  {
   "cell_type": "code",
   "execution_count": 66,
   "id": "54994cb8",
   "metadata": {},
   "outputs": [],
   "source": [
    "income_level.to_csv('../intermediate/forbes/ddf--datapoints--income_level--by--person--year.csv')"
   ]
  },
  {
   "cell_type": "code",
   "execution_count": null,
   "id": "f258ab15",
   "metadata": {},
   "outputs": [],
   "source": []
  },
  {
   "cell_type": "code",
   "execution_count": 46,
   "id": "8017c05c",
   "metadata": {},
   "outputs": [
    {
     "data": {
      "text/plain": [
       "Index(['name', 'lastName', 'uri', 'imageUri', 'worthChange', 'age', 'source',\n",
       "       'industry', 'gender', 'country', 'timestamp', 'headquarters', 'state',\n",
       "       'realTimeWorth', 'realTimeRank', 'realTimePosition', 'squareImage',\n",
       "       'worth', 'position', 'rank', 'year', 'title', 'government', 'salary',\n",
       "       'managementAssets', 'pay', 'person'],\n",
       "      dtype='object')"
      ]
     },
     "execution_count": 46,
     "metadata": {},
     "output_type": "execute_result"
    }
   ],
   "source": [
    "# person entity\n",
    "res.columns"
   ]
  },
  {
   "cell_type": "code",
   "execution_count": 47,
   "id": "f57e71e0",
   "metadata": {},
   "outputs": [],
   "source": [
    "person = res[['person', 'name', 'lastName', \n",
    "              'age',  'gender', 'country', 'imageUri', 'squareImage',\n",
    "              'state', 'headquarters', 'source', 'industry']].copy().set_index('person')"
   ]
  },
  {
   "cell_type": "code",
   "execution_count": 48,
   "id": "6850f8ba",
   "metadata": {},
   "outputs": [
    {
     "data": {
      "text/html": [
       "<div>\n",
       "<style scoped>\n",
       "    .dataframe tbody tr th:only-of-type {\n",
       "        vertical-align: middle;\n",
       "    }\n",
       "\n",
       "    .dataframe tbody tr th {\n",
       "        vertical-align: top;\n",
       "    }\n",
       "\n",
       "    .dataframe thead th {\n",
       "        text-align: right;\n",
       "    }\n",
       "</style>\n",
       "<table border=\"1\" class=\"dataframe\">\n",
       "  <thead>\n",
       "    <tr style=\"text-align: right;\">\n",
       "      <th></th>\n",
       "      <th>name</th>\n",
       "      <th>lastName</th>\n",
       "      <th>age</th>\n",
       "      <th>gender</th>\n",
       "      <th>country</th>\n",
       "      <th>imageUri</th>\n",
       "      <th>squareImage</th>\n",
       "      <th>state</th>\n",
       "      <th>headquarters</th>\n",
       "      <th>source</th>\n",
       "      <th>industry</th>\n",
       "    </tr>\n",
       "    <tr>\n",
       "      <th>person</th>\n",
       "      <th></th>\n",
       "      <th></th>\n",
       "      <th></th>\n",
       "      <th></th>\n",
       "      <th></th>\n",
       "      <th></th>\n",
       "      <th></th>\n",
       "      <th></th>\n",
       "      <th></th>\n",
       "      <th></th>\n",
       "      <th></th>\n",
       "    </tr>\n",
       "  </thead>\n",
       "  <tbody>\n",
       "    <tr>\n",
       "      <th>a_jayson_adair</th>\n",
       "      <td>A. Jayson Adair</td>\n",
       "      <td>Adair</td>\n",
       "      <td>52.0</td>\n",
       "      <td>M</td>\n",
       "      <td>United States</td>\n",
       "      <td>no-pic</td>\n",
       "      <td>https://specials-images.forbesimg.com/imageser...</td>\n",
       "      <td>Texas</td>\n",
       "      <td>TX</td>\n",
       "      <td>damaged cars</td>\n",
       "      <td>Automotive</td>\n",
       "    </tr>\n",
       "    <tr>\n",
       "      <th>abdulla_al_futtaim</th>\n",
       "      <td>Abdulla Al Futtaim &amp; family</td>\n",
       "      <td>Al Futtaim</td>\n",
       "      <td>NaN</td>\n",
       "      <td>M</td>\n",
       "      <td>United Arab Emirates</td>\n",
       "      <td>abdulla-al-futtaim</td>\n",
       "      <td>//specials-images.forbesimg.com/imageserve/5ab...</td>\n",
       "      <td>NaN</td>\n",
       "      <td>NaN</td>\n",
       "      <td>auto dealers, investments</td>\n",
       "      <td>Automotive</td>\n",
       "    </tr>\n",
       "    <tr>\n",
       "      <th>abdulla_bin_ahmad_al_ghurair</th>\n",
       "      <td>Abdulla bin Ahmad Al Ghurair &amp; family</td>\n",
       "      <td>Al Ghurair</td>\n",
       "      <td>NaN</td>\n",
       "      <td>M</td>\n",
       "      <td>United Arab Emirates</td>\n",
       "      <td>abdulla-bin-ahmad-al-ghurair</td>\n",
       "      <td>//specials-images.forbesimg.com/imageserve/5a9...</td>\n",
       "      <td>NaN</td>\n",
       "      <td>NaN</td>\n",
       "      <td>diversified</td>\n",
       "      <td>Diversified</td>\n",
       "    </tr>\n",
       "    <tr>\n",
       "      <th>abdulsamad_rabiu</th>\n",
       "      <td>Abdulsamad Rabiu</td>\n",
       "      <td>Rabiu</td>\n",
       "      <td>61.0</td>\n",
       "      <td>M</td>\n",
       "      <td>Nigeria</td>\n",
       "      <td>abdulsamad-rabiu</td>\n",
       "      <td>https://specials-images.forbesimg.com/imageser...</td>\n",
       "      <td>NaN</td>\n",
       "      <td>NaN</td>\n",
       "      <td>cement, sugar</td>\n",
       "      <td>Diversified</td>\n",
       "    </tr>\n",
       "    <tr>\n",
       "      <th>abhay_firodia</th>\n",
       "      <td>Abhay Firodia</td>\n",
       "      <td>Firodia</td>\n",
       "      <td>77.0</td>\n",
       "      <td>M</td>\n",
       "      <td>India</td>\n",
       "      <td>abhay-firodia</td>\n",
       "      <td>https://specials-images.forbesimg.com/imageser...</td>\n",
       "      <td>NaN</td>\n",
       "      <td>NaN</td>\n",
       "      <td>automobiles</td>\n",
       "      <td>Automotive</td>\n",
       "    </tr>\n",
       "    <tr>\n",
       "      <th>...</th>\n",
       "      <td>...</td>\n",
       "      <td>...</td>\n",
       "      <td>...</td>\n",
       "      <td>...</td>\n",
       "      <td>...</td>\n",
       "      <td>...</td>\n",
       "      <td>...</td>\n",
       "      <td>...</td>\n",
       "      <td>...</td>\n",
       "      <td>...</td>\n",
       "      <td>...</td>\n",
       "    </tr>\n",
       "    <tr>\n",
       "      <th>zhang_yuqiang</th>\n",
       "      <td>Zhang Yuqiang</td>\n",
       "      <td>Zhang</td>\n",
       "      <td>66.0</td>\n",
       "      <td>M</td>\n",
       "      <td>China</td>\n",
       "      <td>no-pic</td>\n",
       "      <td>NaN</td>\n",
       "      <td>NaN</td>\n",
       "      <td>NaN</td>\n",
       "      <td>Fiberglass</td>\n",
       "      <td>Manufacturing</td>\n",
       "    </tr>\n",
       "    <tr>\n",
       "      <th>zhou_ruxin</th>\n",
       "      <td>Zhou Ruxin</td>\n",
       "      <td>Zhou</td>\n",
       "      <td>59.0</td>\n",
       "      <td>M</td>\n",
       "      <td>China</td>\n",
       "      <td>no-pic</td>\n",
       "      <td>NaN</td>\n",
       "      <td>NaN</td>\n",
       "      <td>NaN</td>\n",
       "      <td>Navigation</td>\n",
       "      <td>Technology</td>\n",
       "    </tr>\n",
       "    <tr>\n",
       "      <th>wen_zhou</th>\n",
       "      <td>Wen Zhou</td>\n",
       "      <td>Zhou</td>\n",
       "      <td>57.0</td>\n",
       "      <td>M</td>\n",
       "      <td>China</td>\n",
       "      <td>no-pic</td>\n",
       "      <td>NaN</td>\n",
       "      <td>NaN</td>\n",
       "      <td>NaN</td>\n",
       "      <td>chemicals</td>\n",
       "      <td>Manufacturing</td>\n",
       "    </tr>\n",
       "    <tr>\n",
       "      <th>zhou_yifeng</th>\n",
       "      <td>Zhou Yifeng</td>\n",
       "      <td>Zhou</td>\n",
       "      <td>43.0</td>\n",
       "      <td>F</td>\n",
       "      <td>China</td>\n",
       "      <td>no-pic-female</td>\n",
       "      <td>NaN</td>\n",
       "      <td>NaN</td>\n",
       "      <td>NaN</td>\n",
       "      <td>liquefied petroleum gas</td>\n",
       "      <td>Energy</td>\n",
       "    </tr>\n",
       "    <tr>\n",
       "      <th>zhuang_kuilong</th>\n",
       "      <td>Zhuang Kuilong</td>\n",
       "      <td>Zhuang</td>\n",
       "      <td>59.0</td>\n",
       "      <td>M</td>\n",
       "      <td>China</td>\n",
       "      <td>no-pic</td>\n",
       "      <td>NaN</td>\n",
       "      <td>NaN</td>\n",
       "      <td>NaN</td>\n",
       "      <td>polyester</td>\n",
       "      <td>Manufacturing</td>\n",
       "    </tr>\n",
       "  </tbody>\n",
       "</table>\n",
       "<p>73993 rows × 11 columns</p>\n",
       "</div>"
      ],
      "text/plain": [
       "                                                               name  \\\n",
       "person                                                                \n",
       "a_jayson_adair                                      A. Jayson Adair   \n",
       "abdulla_al_futtaim                      Abdulla Al Futtaim & family   \n",
       "abdulla_bin_ahmad_al_ghurair  Abdulla bin Ahmad Al Ghurair & family   \n",
       "abdulsamad_rabiu                                   Abdulsamad Rabiu   \n",
       "abhay_firodia                                         Abhay Firodia   \n",
       "...                                                             ...   \n",
       "zhang_yuqiang                                         Zhang Yuqiang   \n",
       "zhou_ruxin                                               Zhou Ruxin   \n",
       "wen_zhou                                                   Wen Zhou   \n",
       "zhou_yifeng                                             Zhou Yifeng   \n",
       "zhuang_kuilong                                       Zhuang Kuilong   \n",
       "\n",
       "                                lastName   age gender               country  \\\n",
       "person                                                                        \n",
       "a_jayson_adair                     Adair  52.0      M         United States   \n",
       "abdulla_al_futtaim            Al Futtaim   NaN      M  United Arab Emirates   \n",
       "abdulla_bin_ahmad_al_ghurair  Al Ghurair   NaN      M  United Arab Emirates   \n",
       "abdulsamad_rabiu                   Rabiu  61.0      M               Nigeria   \n",
       "abhay_firodia                    Firodia  77.0      M                 India   \n",
       "...                                  ...   ...    ...                   ...   \n",
       "zhang_yuqiang                      Zhang  66.0      M                 China   \n",
       "zhou_ruxin                          Zhou  59.0      M                 China   \n",
       "wen_zhou                            Zhou  57.0      M                 China   \n",
       "zhou_yifeng                         Zhou  43.0      F                 China   \n",
       "zhuang_kuilong                    Zhuang  59.0      M                 China   \n",
       "\n",
       "                                                  imageUri  \\\n",
       "person                                                       \n",
       "a_jayson_adair                                      no-pic   \n",
       "abdulla_al_futtaim                      abdulla-al-futtaim   \n",
       "abdulla_bin_ahmad_al_ghurair  abdulla-bin-ahmad-al-ghurair   \n",
       "abdulsamad_rabiu                          abdulsamad-rabiu   \n",
       "abhay_firodia                                abhay-firodia   \n",
       "...                                                    ...   \n",
       "zhang_yuqiang                                       no-pic   \n",
       "zhou_ruxin                                          no-pic   \n",
       "wen_zhou                                            no-pic   \n",
       "zhou_yifeng                                  no-pic-female   \n",
       "zhuang_kuilong                                      no-pic   \n",
       "\n",
       "                                                                    squareImage  \\\n",
       "person                                                                            \n",
       "a_jayson_adair                https://specials-images.forbesimg.com/imageser...   \n",
       "abdulla_al_futtaim            //specials-images.forbesimg.com/imageserve/5ab...   \n",
       "abdulla_bin_ahmad_al_ghurair  //specials-images.forbesimg.com/imageserve/5a9...   \n",
       "abdulsamad_rabiu              https://specials-images.forbesimg.com/imageser...   \n",
       "abhay_firodia                 https://specials-images.forbesimg.com/imageser...   \n",
       "...                                                                         ...   \n",
       "zhang_yuqiang                                                               NaN   \n",
       "zhou_ruxin                                                                  NaN   \n",
       "wen_zhou                                                                    NaN   \n",
       "zhou_yifeng                                                                 NaN   \n",
       "zhuang_kuilong                                                              NaN   \n",
       "\n",
       "                              state headquarters                     source  \\\n",
       "person                                                                        \n",
       "a_jayson_adair                Texas           TX               damaged cars   \n",
       "abdulla_al_futtaim              NaN          NaN  auto dealers, investments   \n",
       "abdulla_bin_ahmad_al_ghurair    NaN          NaN                diversified   \n",
       "abdulsamad_rabiu                NaN          NaN              cement, sugar   \n",
       "abhay_firodia                   NaN          NaN                automobiles   \n",
       "...                             ...          ...                        ...   \n",
       "zhang_yuqiang                   NaN          NaN                 Fiberglass   \n",
       "zhou_ruxin                      NaN          NaN                 Navigation   \n",
       "wen_zhou                        NaN          NaN                  chemicals   \n",
       "zhou_yifeng                     NaN          NaN    liquefied petroleum gas   \n",
       "zhuang_kuilong                  NaN          NaN                  polyester   \n",
       "\n",
       "                                   industry  \n",
       "person                                       \n",
       "a_jayson_adair                   Automotive  \n",
       "abdulla_al_futtaim               Automotive  \n",
       "abdulla_bin_ahmad_al_ghurair    Diversified  \n",
       "abdulsamad_rabiu                Diversified  \n",
       "abhay_firodia                    Automotive  \n",
       "...                                     ...  \n",
       "zhang_yuqiang                 Manufacturing  \n",
       "zhou_ruxin                       Technology  \n",
       "wen_zhou                      Manufacturing  \n",
       "zhou_yifeng                          Energy  \n",
       "zhuang_kuilong                Manufacturing  \n",
       "\n",
       "[73993 rows x 11 columns]"
      ]
     },
     "execution_count": 48,
     "metadata": {},
     "output_type": "execute_result"
    }
   ],
   "source": [
    "person"
   ]
  },
  {
   "cell_type": "code",
   "execution_count": 49,
   "id": "d9ae0c76",
   "metadata": {},
   "outputs": [
    {
     "data": {
      "text/plain": [
       "array(['https://specials-images.forbesimg.com/imageserve/5d9f59e9793bd50006ea45cd/416x416.jpg?background=000000&cropX1=411&cropX2=707&cropY1=27&cropY2=323'],\n",
       "      dtype=object)"
      ]
     },
     "execution_count": 49,
     "metadata": {},
     "output_type": "execute_result"
    }
   ],
   "source": [
    "person.loc['abhay_firodia']['squareImage'].unique()"
   ]
  },
  {
   "cell_type": "code",
   "execution_count": 50,
   "id": "85b72a17",
   "metadata": {},
   "outputs": [
    {
     "data": {
      "text/plain": [
       "name                                                  A. Jayson Adair\n",
       "lastName                                                        Adair\n",
       "uri                                                    a-jayson-adair\n",
       "imageUri                                                       no-pic\n",
       "worthChange                                                   -32.566\n",
       "age                                                              52.0\n",
       "source                                                   damaged cars\n",
       "industry                                                   Automotive\n",
       "gender                                                              M\n",
       "country                                                 United States\n",
       "timestamp                                               1643251502564\n",
       "headquarters                                                       TX\n",
       "state                                                           Texas\n",
       "realTimeWorth                                                 1167.09\n",
       "realTimeRank                                                   2380.0\n",
       "realTimePosition                                               2380.0\n",
       "squareImage         https://specials-images.forbesimg.com/imageser...\n",
       "worth                                                             NaN\n",
       "position                                                          NaN\n",
       "rank                                                              NaN\n",
       "year                                                             1997\n",
       "title                                                             NaN\n",
       "government                                                        NaN\n",
       "salary                                                            NaN\n",
       "managementAssets                                                  NaN\n",
       "pay                                                               NaN\n",
       "person                                                 a_jayson_adair\n",
       "Name: 0, dtype: object"
      ]
     },
     "execution_count": 50,
     "metadata": {},
     "output_type": "execute_result"
    }
   ],
   "source": [
    "res[res.uri != res.imageUri].iloc[0]"
   ]
  },
  {
   "cell_type": "code",
   "execution_count": null,
   "id": "187226ae",
   "metadata": {},
   "outputs": [],
   "source": []
  },
  {
   "cell_type": "code",
   "execution_count": 51,
   "id": "e71788ab",
   "metadata": {},
   "outputs": [],
   "source": [
    "def cleanup(s):\n",
    "    if isinstance(s, str):\n",
    "        s_new = s.strip()\n",
    "        if \"&#38;\" in s_new:\n",
    "            s_new = s_new.replace(\"&#38;\", '')\n",
    "        return s_new\n",
    "    else:\n",
    "        return s\n",
    "\n",
    "for c in person.columns:\n",
    "    person[c] = person[c].map(cleanup)"
   ]
  },
  {
   "cell_type": "code",
   "execution_count": 52,
   "id": "0819a8d1",
   "metadata": {},
   "outputs": [],
   "source": [
    "# merge info\n",
    "\n",
    "ent1 = person[['name', 'country', 'state', 'headquarters', 'source', 'industry', 'imageUri', 'squareImage']]\n",
    "ent1 = ent1.groupby('person').apply(etllib.combine_values)"
   ]
  },
  {
   "cell_type": "code",
   "execution_count": 53,
   "id": "86860eb4",
   "metadata": {},
   "outputs": [],
   "source": [
    "def fixUrl(x):\n",
    "    if x and x.startswith('//'):\n",
    "        return 'https:' + x\n",
    "    return x\n",
    "\n",
    "ent1['squareImage'] = ent1['squareImage'].map(fixUrl)"
   ]
  },
  {
   "cell_type": "code",
   "execution_count": 54,
   "id": "e69e5f50",
   "metadata": {},
   "outputs": [
    {
     "data": {
      "text/html": [
       "<div>\n",
       "<style scoped>\n",
       "    .dataframe tbody tr th:only-of-type {\n",
       "        vertical-align: middle;\n",
       "    }\n",
       "\n",
       "    .dataframe tbody tr th {\n",
       "        vertical-align: top;\n",
       "    }\n",
       "\n",
       "    .dataframe thead th {\n",
       "        text-align: right;\n",
       "    }\n",
       "</style>\n",
       "<table border=\"1\" class=\"dataframe\">\n",
       "  <thead>\n",
       "    <tr style=\"text-align: right;\">\n",
       "      <th></th>\n",
       "      <th>name</th>\n",
       "      <th>country</th>\n",
       "      <th>state</th>\n",
       "      <th>headquarters</th>\n",
       "      <th>source</th>\n",
       "      <th>industry</th>\n",
       "      <th>imageUri</th>\n",
       "      <th>squareImage</th>\n",
       "    </tr>\n",
       "    <tr>\n",
       "      <th>person</th>\n",
       "      <th></th>\n",
       "      <th></th>\n",
       "      <th></th>\n",
       "      <th></th>\n",
       "      <th></th>\n",
       "      <th></th>\n",
       "      <th></th>\n",
       "      <th></th>\n",
       "    </tr>\n",
       "  </thead>\n",
       "  <tbody>\n",
       "    <tr>\n",
       "      <th>a_jayson_adair</th>\n",
       "      <td>A. Jayson Adair</td>\n",
       "      <td>United States</td>\n",
       "      <td>Texas</td>\n",
       "      <td>TX</td>\n",
       "      <td>damaged cars</td>\n",
       "      <td>Automotive</td>\n",
       "      <td>no-pic</td>\n",
       "      <td>https://specials-images.forbesimg.com/imageser...</td>\n",
       "    </tr>\n",
       "    <tr>\n",
       "      <th>a_jerrold_perenchio</th>\n",
       "      <td>A. Jerrold Perenchio</td>\n",
       "      <td>United States</td>\n",
       "      <td>California</td>\n",
       "      <td>CA</td>\n",
       "      <td>Univision; television; television, Univision</td>\n",
       "      <td>Media; Media &amp; Entertainment</td>\n",
       "      <td>no-pic; a-jerrold-perenchio</td>\n",
       "      <td>http://specials-images.forbesimg.com/imageserv...</td>\n",
       "    </tr>\n",
       "    <tr>\n",
       "      <th>abdul_aziz_al_ghurair</th>\n",
       "      <td>Abdul Aziz Al Ghurair</td>\n",
       "      <td>United Arab Emirates</td>\n",
       "      <td></td>\n",
       "      <td></td>\n",
       "      <td>banking</td>\n",
       "      <td>Finance</td>\n",
       "      <td>no-pic; abdul-aziz-al-ghurair</td>\n",
       "      <td></td>\n",
       "    </tr>\n",
       "    <tr>\n",
       "      <th>abdul_majeed_alhokair</th>\n",
       "      <td>Abdul Majeed Alhokair</td>\n",
       "      <td>Saudi Arabia</td>\n",
       "      <td></td>\n",
       "      <td></td>\n",
       "      <td>retail, real estate</td>\n",
       "      <td>Fashion &amp; Retail</td>\n",
       "      <td>no-pic</td>\n",
       "      <td>https://specials-images.forbesimg.com/imageser...</td>\n",
       "    </tr>\n",
       "    <tr>\n",
       "      <th>abdul_rasyid</th>\n",
       "      <td>Abdul Rasyid</td>\n",
       "      <td>Indonesia</td>\n",
       "      <td></td>\n",
       "      <td></td>\n",
       "      <td>timber, palm oil</td>\n",
       "      <td>Manufacturing</td>\n",
       "      <td>abdul-rasyid</td>\n",
       "      <td>https://specials-images.forbesimg.com/imageser...</td>\n",
       "    </tr>\n",
       "    <tr>\n",
       "      <th>...</th>\n",
       "      <td>...</td>\n",
       "      <td>...</td>\n",
       "      <td>...</td>\n",
       "      <td>...</td>\n",
       "      <td>...</td>\n",
       "      <td>...</td>\n",
       "      <td>...</td>\n",
       "      <td>...</td>\n",
       "    </tr>\n",
       "    <tr>\n",
       "      <th>zong_yanmin</th>\n",
       "      <td>Zong Yanmin</td>\n",
       "      <td>China</td>\n",
       "      <td></td>\n",
       "      <td></td>\n",
       "      <td>Semiconductor materials</td>\n",
       "      <td>Manufacturing</td>\n",
       "      <td>no-pic</td>\n",
       "      <td></td>\n",
       "    </tr>\n",
       "    <tr>\n",
       "      <th>zugen_ni</th>\n",
       "      <td>Zugen Ni</td>\n",
       "      <td>China</td>\n",
       "      <td>Jiangsu</td>\n",
       "      <td></td>\n",
       "      <td>appliances</td>\n",
       "      <td>Manufacturing</td>\n",
       "      <td>no-pic</td>\n",
       "      <td>https://specials-images.forbesimg.com/imageser...</td>\n",
       "    </tr>\n",
       "    <tr>\n",
       "      <th>zuo_hui</th>\n",
       "      <td>Zuo Hui</td>\n",
       "      <td>China</td>\n",
       "      <td></td>\n",
       "      <td></td>\n",
       "      <td>real estate services</td>\n",
       "      <td>Real Estate</td>\n",
       "      <td>no-pic</td>\n",
       "      <td>https://specials-images.forbesimg.com/imageser...</td>\n",
       "    </tr>\n",
       "    <tr>\n",
       "      <th>zuowen_song</th>\n",
       "      <td>Zuowen Song</td>\n",
       "      <td>China</td>\n",
       "      <td></td>\n",
       "      <td></td>\n",
       "      <td>aluminum, diversified</td>\n",
       "      <td>Diversified</td>\n",
       "      <td>zuowen-song</td>\n",
       "      <td>https://specials-images.forbesimg.com/imageser...</td>\n",
       "    </tr>\n",
       "    <tr>\n",
       "      <th>zygmunt_solorz_zak</th>\n",
       "      <td>Zygmunt Solorz-Zak</td>\n",
       "      <td>Poland</td>\n",
       "      <td></td>\n",
       "      <td></td>\n",
       "      <td>TV broadcasting; TV station</td>\n",
       "      <td>Media &amp; Entertainment; Media</td>\n",
       "      <td>zygmunt-solorz-zak; no-pic</td>\n",
       "      <td>https://specials-images.forbesimg.com/imageser...</td>\n",
       "    </tr>\n",
       "  </tbody>\n",
       "</table>\n",
       "<p>4224 rows × 8 columns</p>\n",
       "</div>"
      ],
      "text/plain": [
       "                                        name               country  \\\n",
       "person                                                               \n",
       "a_jayson_adair               A. Jayson Adair         United States   \n",
       "a_jerrold_perenchio     A. Jerrold Perenchio         United States   \n",
       "abdul_aziz_al_ghurair  Abdul Aziz Al Ghurair  United Arab Emirates   \n",
       "abdul_majeed_alhokair  Abdul Majeed Alhokair          Saudi Arabia   \n",
       "abdul_rasyid                    Abdul Rasyid             Indonesia   \n",
       "...                                      ...                   ...   \n",
       "zong_yanmin                      Zong Yanmin                 China   \n",
       "zugen_ni                            Zugen Ni                 China   \n",
       "zuo_hui                              Zuo Hui                 China   \n",
       "zuowen_song                      Zuowen Song                 China   \n",
       "zygmunt_solorz_zak        Zygmunt Solorz-Zak                Poland   \n",
       "\n",
       "                            state headquarters  \\\n",
       "person                                           \n",
       "a_jayson_adair              Texas           TX   \n",
       "a_jerrold_perenchio    California           CA   \n",
       "abdul_aziz_al_ghurair                            \n",
       "abdul_majeed_alhokair                            \n",
       "abdul_rasyid                                     \n",
       "...                           ...          ...   \n",
       "zong_yanmin                                      \n",
       "zugen_ni                  Jiangsu                \n",
       "zuo_hui                                          \n",
       "zuowen_song                                      \n",
       "zygmunt_solorz_zak                               \n",
       "\n",
       "                                                             source  \\\n",
       "person                                                                \n",
       "a_jayson_adair                                         damaged cars   \n",
       "a_jerrold_perenchio    Univision; television; television, Univision   \n",
       "abdul_aziz_al_ghurair                                       banking   \n",
       "abdul_majeed_alhokair                           retail, real estate   \n",
       "abdul_rasyid                                       timber, palm oil   \n",
       "...                                                             ...   \n",
       "zong_yanmin                                 Semiconductor materials   \n",
       "zugen_ni                                                 appliances   \n",
       "zuo_hui                                        real estate services   \n",
       "zuowen_song                                   aluminum, diversified   \n",
       "zygmunt_solorz_zak                      TV broadcasting; TV station   \n",
       "\n",
       "                                           industry  \\\n",
       "person                                                \n",
       "a_jayson_adair                           Automotive   \n",
       "a_jerrold_perenchio    Media; Media & Entertainment   \n",
       "abdul_aziz_al_ghurair                       Finance   \n",
       "abdul_majeed_alhokair              Fashion & Retail   \n",
       "abdul_rasyid                          Manufacturing   \n",
       "...                                             ...   \n",
       "zong_yanmin                           Manufacturing   \n",
       "zugen_ni                              Manufacturing   \n",
       "zuo_hui                                 Real Estate   \n",
       "zuowen_song                             Diversified   \n",
       "zygmunt_solorz_zak     Media & Entertainment; Media   \n",
       "\n",
       "                                            imageUri  \\\n",
       "person                                                 \n",
       "a_jayson_adair                                no-pic   \n",
       "a_jerrold_perenchio      no-pic; a-jerrold-perenchio   \n",
       "abdul_aziz_al_ghurair  no-pic; abdul-aziz-al-ghurair   \n",
       "abdul_majeed_alhokair                         no-pic   \n",
       "abdul_rasyid                            abdul-rasyid   \n",
       "...                                              ...   \n",
       "zong_yanmin                                   no-pic   \n",
       "zugen_ni                                      no-pic   \n",
       "zuo_hui                                       no-pic   \n",
       "zuowen_song                              zuowen-song   \n",
       "zygmunt_solorz_zak        zygmunt-solorz-zak; no-pic   \n",
       "\n",
       "                                                             squareImage  \n",
       "person                                                                    \n",
       "a_jayson_adair         https://specials-images.forbesimg.com/imageser...  \n",
       "a_jerrold_perenchio    http://specials-images.forbesimg.com/imageserv...  \n",
       "abdul_aziz_al_ghurair                                                     \n",
       "abdul_majeed_alhokair  https://specials-images.forbesimg.com/imageser...  \n",
       "abdul_rasyid           https://specials-images.forbesimg.com/imageser...  \n",
       "...                                                                  ...  \n",
       "zong_yanmin                                                               \n",
       "zugen_ni               https://specials-images.forbesimg.com/imageser...  \n",
       "zuo_hui                https://specials-images.forbesimg.com/imageser...  \n",
       "zuowen_song            https://specials-images.forbesimg.com/imageser...  \n",
       "zygmunt_solorz_zak     https://specials-images.forbesimg.com/imageser...  \n",
       "\n",
       "[4224 rows x 8 columns]"
      ]
     },
     "execution_count": 54,
     "metadata": {},
     "output_type": "execute_result"
    }
   ],
   "source": [
    "ent1"
   ]
  },
  {
   "cell_type": "code",
   "execution_count": 55,
   "id": "e28d9df2",
   "metadata": {},
   "outputs": [],
   "source": [
    "ent2 = person[['age', 'gender', 'lastName']]"
   ]
  },
  {
   "cell_type": "code",
   "execution_count": 56,
   "id": "8d3f1cb8",
   "metadata": {},
   "outputs": [],
   "source": [
    "ent2 = ent2.groupby('person').apply(etllib.get_last_value)"
   ]
  },
  {
   "cell_type": "code",
   "execution_count": 57,
   "id": "f3c3579e",
   "metadata": {},
   "outputs": [
    {
     "data": {
      "text/html": [
       "<div>\n",
       "<style scoped>\n",
       "    .dataframe tbody tr th:only-of-type {\n",
       "        vertical-align: middle;\n",
       "    }\n",
       "\n",
       "    .dataframe tbody tr th {\n",
       "        vertical-align: top;\n",
       "    }\n",
       "\n",
       "    .dataframe thead th {\n",
       "        text-align: right;\n",
       "    }\n",
       "</style>\n",
       "<table border=\"1\" class=\"dataframe\">\n",
       "  <thead>\n",
       "    <tr style=\"text-align: right;\">\n",
       "      <th></th>\n",
       "      <th>age</th>\n",
       "      <th>gender</th>\n",
       "      <th>lastName</th>\n",
       "    </tr>\n",
       "    <tr>\n",
       "      <th>person</th>\n",
       "      <th></th>\n",
       "      <th></th>\n",
       "      <th></th>\n",
       "    </tr>\n",
       "  </thead>\n",
       "  <tbody>\n",
       "    <tr>\n",
       "      <th>a_jayson_adair</th>\n",
       "      <td>52.0</td>\n",
       "      <td>M</td>\n",
       "      <td>Adair</td>\n",
       "    </tr>\n",
       "    <tr>\n",
       "      <th>a_jerrold_perenchio</th>\n",
       "      <td>91.0</td>\n",
       "      <td>M</td>\n",
       "      <td>Perenchio</td>\n",
       "    </tr>\n",
       "    <tr>\n",
       "      <th>abdul_aziz_al_ghurair</th>\n",
       "      <td>67.0</td>\n",
       "      <td>M</td>\n",
       "      <td>Al Ghurair</td>\n",
       "    </tr>\n",
       "    <tr>\n",
       "      <th>abdul_majeed_alhokair</th>\n",
       "      <td>52.0</td>\n",
       "      <td>M</td>\n",
       "      <td>Alhokair</td>\n",
       "    </tr>\n",
       "    <tr>\n",
       "      <th>abdul_rasyid</th>\n",
       "      <td>64.0</td>\n",
       "      <td>M</td>\n",
       "      <td>Abdul</td>\n",
       "    </tr>\n",
       "    <tr>\n",
       "      <th>...</th>\n",
       "      <td>...</td>\n",
       "      <td>...</td>\n",
       "      <td>...</td>\n",
       "    </tr>\n",
       "    <tr>\n",
       "      <th>zong_yanmin</th>\n",
       "      <td>NaN</td>\n",
       "      <td>M</td>\n",
       "      <td>Zong</td>\n",
       "    </tr>\n",
       "    <tr>\n",
       "      <th>zugen_ni</th>\n",
       "      <td>65.0</td>\n",
       "      <td>M</td>\n",
       "      <td>Ni</td>\n",
       "    </tr>\n",
       "    <tr>\n",
       "      <th>zuo_hui</th>\n",
       "      <td>51.0</td>\n",
       "      <td>M</td>\n",
       "      <td>Zuo</td>\n",
       "    </tr>\n",
       "    <tr>\n",
       "      <th>zuowen_song</th>\n",
       "      <td>75.0</td>\n",
       "      <td>M</td>\n",
       "      <td>Song</td>\n",
       "    </tr>\n",
       "    <tr>\n",
       "      <th>zygmunt_solorz_zak</th>\n",
       "      <td>65.0</td>\n",
       "      <td>M</td>\n",
       "      <td>Solorz-Zak</td>\n",
       "    </tr>\n",
       "  </tbody>\n",
       "</table>\n",
       "<p>4224 rows × 3 columns</p>\n",
       "</div>"
      ],
      "text/plain": [
       "                        age gender    lastName\n",
       "person                                        \n",
       "a_jayson_adair         52.0      M       Adair\n",
       "a_jerrold_perenchio    91.0      M   Perenchio\n",
       "abdul_aziz_al_ghurair  67.0      M  Al Ghurair\n",
       "abdul_majeed_alhokair  52.0      M    Alhokair\n",
       "abdul_rasyid           64.0      M       Abdul\n",
       "...                     ...    ...         ...\n",
       "zong_yanmin             NaN      M        Zong\n",
       "zugen_ni               65.0      M          Ni\n",
       "zuo_hui                51.0      M         Zuo\n",
       "zuowen_song            75.0      M        Song\n",
       "zygmunt_solorz_zak     65.0      M  Solorz-Zak\n",
       "\n",
       "[4224 rows x 3 columns]"
      ]
     },
     "execution_count": 57,
     "metadata": {},
     "output_type": "execute_result"
    }
   ],
   "source": [
    "ent2"
   ]
  },
  {
   "cell_type": "code",
   "execution_count": 58,
   "id": "88de118f",
   "metadata": {},
   "outputs": [],
   "source": [
    "ent = pd.concat([ent1, ent2],  axis=1)"
   ]
  },
  {
   "cell_type": "code",
   "execution_count": 59,
   "id": "c596dbec",
   "metadata": {},
   "outputs": [
    {
     "data": {
      "text/html": [
       "<div>\n",
       "<style scoped>\n",
       "    .dataframe tbody tr th:only-of-type {\n",
       "        vertical-align: middle;\n",
       "    }\n",
       "\n",
       "    .dataframe tbody tr th {\n",
       "        vertical-align: top;\n",
       "    }\n",
       "\n",
       "    .dataframe thead th {\n",
       "        text-align: right;\n",
       "    }\n",
       "</style>\n",
       "<table border=\"1\" class=\"dataframe\">\n",
       "  <thead>\n",
       "    <tr style=\"text-align: right;\">\n",
       "      <th></th>\n",
       "      <th>name</th>\n",
       "      <th>country</th>\n",
       "      <th>state</th>\n",
       "      <th>headquarters</th>\n",
       "      <th>source</th>\n",
       "      <th>industry</th>\n",
       "      <th>imageUri</th>\n",
       "      <th>squareImage</th>\n",
       "      <th>age</th>\n",
       "      <th>gender</th>\n",
       "      <th>lastName</th>\n",
       "    </tr>\n",
       "    <tr>\n",
       "      <th>person</th>\n",
       "      <th></th>\n",
       "      <th></th>\n",
       "      <th></th>\n",
       "      <th></th>\n",
       "      <th></th>\n",
       "      <th></th>\n",
       "      <th></th>\n",
       "      <th></th>\n",
       "      <th></th>\n",
       "      <th></th>\n",
       "      <th></th>\n",
       "    </tr>\n",
       "  </thead>\n",
       "  <tbody>\n",
       "    <tr>\n",
       "      <th>a_jayson_adair</th>\n",
       "      <td>A. Jayson Adair</td>\n",
       "      <td>United States</td>\n",
       "      <td>Texas</td>\n",
       "      <td>TX</td>\n",
       "      <td>damaged cars</td>\n",
       "      <td>Automotive</td>\n",
       "      <td>no-pic</td>\n",
       "      <td>https://specials-images.forbesimg.com/imageser...</td>\n",
       "      <td>52.0</td>\n",
       "      <td>M</td>\n",
       "      <td>Adair</td>\n",
       "    </tr>\n",
       "    <tr>\n",
       "      <th>a_jerrold_perenchio</th>\n",
       "      <td>A. Jerrold Perenchio</td>\n",
       "      <td>United States</td>\n",
       "      <td>California</td>\n",
       "      <td>CA</td>\n",
       "      <td>Univision; television; television, Univision</td>\n",
       "      <td>Media; Media &amp; Entertainment</td>\n",
       "      <td>no-pic; a-jerrold-perenchio</td>\n",
       "      <td>http://specials-images.forbesimg.com/imageserv...</td>\n",
       "      <td>91.0</td>\n",
       "      <td>M</td>\n",
       "      <td>Perenchio</td>\n",
       "    </tr>\n",
       "    <tr>\n",
       "      <th>abdul_aziz_al_ghurair</th>\n",
       "      <td>Abdul Aziz Al Ghurair</td>\n",
       "      <td>United Arab Emirates</td>\n",
       "      <td></td>\n",
       "      <td></td>\n",
       "      <td>banking</td>\n",
       "      <td>Finance</td>\n",
       "      <td>no-pic; abdul-aziz-al-ghurair</td>\n",
       "      <td></td>\n",
       "      <td>67.0</td>\n",
       "      <td>M</td>\n",
       "      <td>Al Ghurair</td>\n",
       "    </tr>\n",
       "    <tr>\n",
       "      <th>abdul_majeed_alhokair</th>\n",
       "      <td>Abdul Majeed Alhokair</td>\n",
       "      <td>Saudi Arabia</td>\n",
       "      <td></td>\n",
       "      <td></td>\n",
       "      <td>retail, real estate</td>\n",
       "      <td>Fashion &amp; Retail</td>\n",
       "      <td>no-pic</td>\n",
       "      <td>https://specials-images.forbesimg.com/imageser...</td>\n",
       "      <td>52.0</td>\n",
       "      <td>M</td>\n",
       "      <td>Alhokair</td>\n",
       "    </tr>\n",
       "    <tr>\n",
       "      <th>abdul_rasyid</th>\n",
       "      <td>Abdul Rasyid</td>\n",
       "      <td>Indonesia</td>\n",
       "      <td></td>\n",
       "      <td></td>\n",
       "      <td>timber, palm oil</td>\n",
       "      <td>Manufacturing</td>\n",
       "      <td>abdul-rasyid</td>\n",
       "      <td>https://specials-images.forbesimg.com/imageser...</td>\n",
       "      <td>64.0</td>\n",
       "      <td>M</td>\n",
       "      <td>Abdul</td>\n",
       "    </tr>\n",
       "    <tr>\n",
       "      <th>...</th>\n",
       "      <td>...</td>\n",
       "      <td>...</td>\n",
       "      <td>...</td>\n",
       "      <td>...</td>\n",
       "      <td>...</td>\n",
       "      <td>...</td>\n",
       "      <td>...</td>\n",
       "      <td>...</td>\n",
       "      <td>...</td>\n",
       "      <td>...</td>\n",
       "      <td>...</td>\n",
       "    </tr>\n",
       "    <tr>\n",
       "      <th>zong_yanmin</th>\n",
       "      <td>Zong Yanmin</td>\n",
       "      <td>China</td>\n",
       "      <td></td>\n",
       "      <td></td>\n",
       "      <td>Semiconductor materials</td>\n",
       "      <td>Manufacturing</td>\n",
       "      <td>no-pic</td>\n",
       "      <td></td>\n",
       "      <td>NaN</td>\n",
       "      <td>M</td>\n",
       "      <td>Zong</td>\n",
       "    </tr>\n",
       "    <tr>\n",
       "      <th>zugen_ni</th>\n",
       "      <td>Zugen Ni</td>\n",
       "      <td>China</td>\n",
       "      <td>Jiangsu</td>\n",
       "      <td></td>\n",
       "      <td>appliances</td>\n",
       "      <td>Manufacturing</td>\n",
       "      <td>no-pic</td>\n",
       "      <td>https://specials-images.forbesimg.com/imageser...</td>\n",
       "      <td>65.0</td>\n",
       "      <td>M</td>\n",
       "      <td>Ni</td>\n",
       "    </tr>\n",
       "    <tr>\n",
       "      <th>zuo_hui</th>\n",
       "      <td>Zuo Hui</td>\n",
       "      <td>China</td>\n",
       "      <td></td>\n",
       "      <td></td>\n",
       "      <td>real estate services</td>\n",
       "      <td>Real Estate</td>\n",
       "      <td>no-pic</td>\n",
       "      <td>https://specials-images.forbesimg.com/imageser...</td>\n",
       "      <td>51.0</td>\n",
       "      <td>M</td>\n",
       "      <td>Zuo</td>\n",
       "    </tr>\n",
       "    <tr>\n",
       "      <th>zuowen_song</th>\n",
       "      <td>Zuowen Song</td>\n",
       "      <td>China</td>\n",
       "      <td></td>\n",
       "      <td></td>\n",
       "      <td>aluminum, diversified</td>\n",
       "      <td>Diversified</td>\n",
       "      <td>zuowen-song</td>\n",
       "      <td>https://specials-images.forbesimg.com/imageser...</td>\n",
       "      <td>75.0</td>\n",
       "      <td>M</td>\n",
       "      <td>Song</td>\n",
       "    </tr>\n",
       "    <tr>\n",
       "      <th>zygmunt_solorz_zak</th>\n",
       "      <td>Zygmunt Solorz-Zak</td>\n",
       "      <td>Poland</td>\n",
       "      <td></td>\n",
       "      <td></td>\n",
       "      <td>TV broadcasting; TV station</td>\n",
       "      <td>Media &amp; Entertainment; Media</td>\n",
       "      <td>zygmunt-solorz-zak; no-pic</td>\n",
       "      <td>https://specials-images.forbesimg.com/imageser...</td>\n",
       "      <td>65.0</td>\n",
       "      <td>M</td>\n",
       "      <td>Solorz-Zak</td>\n",
       "    </tr>\n",
       "  </tbody>\n",
       "</table>\n",
       "<p>4224 rows × 11 columns</p>\n",
       "</div>"
      ],
      "text/plain": [
       "                                        name               country  \\\n",
       "person                                                               \n",
       "a_jayson_adair               A. Jayson Adair         United States   \n",
       "a_jerrold_perenchio     A. Jerrold Perenchio         United States   \n",
       "abdul_aziz_al_ghurair  Abdul Aziz Al Ghurair  United Arab Emirates   \n",
       "abdul_majeed_alhokair  Abdul Majeed Alhokair          Saudi Arabia   \n",
       "abdul_rasyid                    Abdul Rasyid             Indonesia   \n",
       "...                                      ...                   ...   \n",
       "zong_yanmin                      Zong Yanmin                 China   \n",
       "zugen_ni                            Zugen Ni                 China   \n",
       "zuo_hui                              Zuo Hui                 China   \n",
       "zuowen_song                      Zuowen Song                 China   \n",
       "zygmunt_solorz_zak        Zygmunt Solorz-Zak                Poland   \n",
       "\n",
       "                            state headquarters  \\\n",
       "person                                           \n",
       "a_jayson_adair              Texas           TX   \n",
       "a_jerrold_perenchio    California           CA   \n",
       "abdul_aziz_al_ghurair                            \n",
       "abdul_majeed_alhokair                            \n",
       "abdul_rasyid                                     \n",
       "...                           ...          ...   \n",
       "zong_yanmin                                      \n",
       "zugen_ni                  Jiangsu                \n",
       "zuo_hui                                          \n",
       "zuowen_song                                      \n",
       "zygmunt_solorz_zak                               \n",
       "\n",
       "                                                             source  \\\n",
       "person                                                                \n",
       "a_jayson_adair                                         damaged cars   \n",
       "a_jerrold_perenchio    Univision; television; television, Univision   \n",
       "abdul_aziz_al_ghurair                                       banking   \n",
       "abdul_majeed_alhokair                           retail, real estate   \n",
       "abdul_rasyid                                       timber, palm oil   \n",
       "...                                                             ...   \n",
       "zong_yanmin                                 Semiconductor materials   \n",
       "zugen_ni                                                 appliances   \n",
       "zuo_hui                                        real estate services   \n",
       "zuowen_song                                   aluminum, diversified   \n",
       "zygmunt_solorz_zak                      TV broadcasting; TV station   \n",
       "\n",
       "                                           industry  \\\n",
       "person                                                \n",
       "a_jayson_adair                           Automotive   \n",
       "a_jerrold_perenchio    Media; Media & Entertainment   \n",
       "abdul_aziz_al_ghurair                       Finance   \n",
       "abdul_majeed_alhokair              Fashion & Retail   \n",
       "abdul_rasyid                          Manufacturing   \n",
       "...                                             ...   \n",
       "zong_yanmin                           Manufacturing   \n",
       "zugen_ni                              Manufacturing   \n",
       "zuo_hui                                 Real Estate   \n",
       "zuowen_song                             Diversified   \n",
       "zygmunt_solorz_zak     Media & Entertainment; Media   \n",
       "\n",
       "                                            imageUri  \\\n",
       "person                                                 \n",
       "a_jayson_adair                                no-pic   \n",
       "a_jerrold_perenchio      no-pic; a-jerrold-perenchio   \n",
       "abdul_aziz_al_ghurair  no-pic; abdul-aziz-al-ghurair   \n",
       "abdul_majeed_alhokair                         no-pic   \n",
       "abdul_rasyid                            abdul-rasyid   \n",
       "...                                              ...   \n",
       "zong_yanmin                                   no-pic   \n",
       "zugen_ni                                      no-pic   \n",
       "zuo_hui                                       no-pic   \n",
       "zuowen_song                              zuowen-song   \n",
       "zygmunt_solorz_zak        zygmunt-solorz-zak; no-pic   \n",
       "\n",
       "                                                             squareImage  \\\n",
       "person                                                                     \n",
       "a_jayson_adair         https://specials-images.forbesimg.com/imageser...   \n",
       "a_jerrold_perenchio    http://specials-images.forbesimg.com/imageserv...   \n",
       "abdul_aziz_al_ghurair                                                      \n",
       "abdul_majeed_alhokair  https://specials-images.forbesimg.com/imageser...   \n",
       "abdul_rasyid           https://specials-images.forbesimg.com/imageser...   \n",
       "...                                                                  ...   \n",
       "zong_yanmin                                                                \n",
       "zugen_ni               https://specials-images.forbesimg.com/imageser...   \n",
       "zuo_hui                https://specials-images.forbesimg.com/imageser...   \n",
       "zuowen_song            https://specials-images.forbesimg.com/imageser...   \n",
       "zygmunt_solorz_zak     https://specials-images.forbesimg.com/imageser...   \n",
       "\n",
       "                        age gender    lastName  \n",
       "person                                          \n",
       "a_jayson_adair         52.0      M       Adair  \n",
       "a_jerrold_perenchio    91.0      M   Perenchio  \n",
       "abdul_aziz_al_ghurair  67.0      M  Al Ghurair  \n",
       "abdul_majeed_alhokair  52.0      M    Alhokair  \n",
       "abdul_rasyid           64.0      M       Abdul  \n",
       "...                     ...    ...         ...  \n",
       "zong_yanmin             NaN      M        Zong  \n",
       "zugen_ni               65.0      M          Ni  \n",
       "zuo_hui                51.0      M         Zuo  \n",
       "zuowen_song            75.0      M        Song  \n",
       "zygmunt_solorz_zak     65.0      M  Solorz-Zak  \n",
       "\n",
       "[4224 rows x 11 columns]"
      ]
     },
     "execution_count": 59,
     "metadata": {},
     "output_type": "execute_result"
    }
   ],
   "source": [
    "ent"
   ]
  },
  {
   "cell_type": "code",
   "execution_count": 60,
   "id": "49fd61f0",
   "metadata": {},
   "outputs": [],
   "source": [
    "ent.columns = ['name', 'country', 'state', 'headquarters', 'source', 'industry', 'image_uri', 'square_image', 'age',\n",
    "       'gender', 'last_name']"
   ]
  },
  {
   "cell_type": "code",
   "execution_count": 61,
   "id": "28ebbb35",
   "metadata": {},
   "outputs": [],
   "source": [
    "# MAYBE: \n",
    "# create a csv with square_image urls"
   ]
  },
  {
   "cell_type": "code",
   "execution_count": 62,
   "id": "7969bbf4",
   "metadata": {},
   "outputs": [],
   "source": [
    "# don't include image url in entity domain\n",
    "ent = ent.drop(columns=['square_image'])"
   ]
  },
  {
   "cell_type": "code",
   "execution_count": 64,
   "id": "9f75e897",
   "metadata": {},
   "outputs": [],
   "source": [
    "ent.to_csv('../../forbes/ddf--entities--person.csv')"
   ]
  },
  {
   "cell_type": "code",
   "execution_count": null,
   "id": "8b673c98",
   "metadata": {},
   "outputs": [],
   "source": []
  },
  {
   "cell_type": "code",
   "execution_count": null,
   "id": "63aa3bed",
   "metadata": {},
   "outputs": [],
   "source": []
  },
  {
   "cell_type": "code",
   "execution_count": null,
   "id": "b86b0dec",
   "metadata": {},
   "outputs": [],
   "source": []
  }
 ],
 "metadata": {
  "kernelspec": {
   "display_name": "Python 3 (ipykernel)",
   "language": "python",
   "name": "python3"
  },
  "language_info": {
   "codemirror_mode": {
    "name": "ipython",
    "version": 3
   },
   "file_extension": ".py",
   "mimetype": "text/x-python",
   "name": "python",
   "nbconvert_exporter": "python",
   "pygments_lexer": "ipython3",
   "version": "3.10.4"
  },
  "name": "etl.ipynb"
 },
 "nbformat": 4,
 "nbformat_minor": 5
}
