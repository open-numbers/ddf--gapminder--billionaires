{
 "cells": [
  {
   "cell_type": "code",
   "execution_count": 1,
   "id": "27c13ad4",
   "metadata": {},
   "outputs": [],
   "source": [
    "import pandas as pd"
   ]
  },
  {
   "cell_type": "code",
   "execution_count": 2,
   "id": "7470b1d7",
   "metadata": {},
   "outputs": [],
   "source": [
    "import numpy as np"
   ]
  },
  {
   "cell_type": "code",
   "execution_count": 3,
   "id": "255448e2",
   "metadata": {},
   "outputs": [],
   "source": [
    "import matplotlib.pyplot as plt\n",
    "import seaborn as sns\n",
    "%matplotlib inline\n",
    "sns.set_style(\"darkgrid\")"
   ]
  },
  {
   "cell_type": "code",
   "execution_count": 4,
   "id": "ac41823c",
   "metadata": {},
   "outputs": [],
   "source": [
    "ppl = pd.read_csv('../../ddf--entities--person.csv')"
   ]
  },
  {
   "cell_type": "code",
   "execution_count": 5,
   "id": "3ac47c5b",
   "metadata": {},
   "outputs": [
    {
     "data": {
      "text/html": [
       "<div>\n",
       "<style scoped>\n",
       "    .dataframe tbody tr th:only-of-type {\n",
       "        vertical-align: middle;\n",
       "    }\n",
       "\n",
       "    .dataframe tbody tr th {\n",
       "        vertical-align: top;\n",
       "    }\n",
       "\n",
       "    .dataframe thead th {\n",
       "        text-align: right;\n",
       "    }\n",
       "</style>\n",
       "<table border=\"1\" class=\"dataframe\">\n",
       "  <thead>\n",
       "    <tr style=\"text-align: right;\">\n",
       "      <th></th>\n",
       "      <th>person</th>\n",
       "      <th>name</th>\n",
       "      <th>country</th>\n",
       "      <th>state</th>\n",
       "      <th>headquarters</th>\n",
       "      <th>source</th>\n",
       "      <th>industry</th>\n",
       "      <th>image_uri</th>\n",
       "      <th>age</th>\n",
       "      <th>gender</th>\n",
       "      <th>last_name</th>\n",
       "      <th>geo</th>\n",
       "      <th>birth</th>\n",
       "      <th>birth_1</th>\n",
       "      <th>birth_2</th>\n",
       "      <th>birth_3</th>\n",
       "      <th>sex</th>\n",
       "      <th>permanent_country</th>\n",
       "      <th>company</th>\n",
       "      <th>birth_comb</th>\n",
       "    </tr>\n",
       "  </thead>\n",
       "  <tbody>\n",
       "    <tr>\n",
       "      <th>0</th>\n",
       "      <td>a_jayson_adair</td>\n",
       "      <td>A. Jayson Adair</td>\n",
       "      <td>United States</td>\n",
       "      <td>Texas</td>\n",
       "      <td>TX</td>\n",
       "      <td>damaged cars</td>\n",
       "      <td>Automotive</td>\n",
       "      <td>no-pic</td>\n",
       "      <td>52.0</td>\n",
       "      <td>M</td>\n",
       "      <td>Adair</td>\n",
       "      <td>usa</td>\n",
       "      <td>NaN</td>\n",
       "      <td>NaN</td>\n",
       "      <td>NaN</td>\n",
       "      <td>NaN</td>\n",
       "      <td>NaN</td>\n",
       "      <td>NaN</td>\n",
       "      <td>NaN</td>\n",
       "      <td>NaN</td>\n",
       "    </tr>\n",
       "    <tr>\n",
       "      <th>1</th>\n",
       "      <td>a_jerrold_perenchio</td>\n",
       "      <td>A. Jerrold Perenchio</td>\n",
       "      <td>United States</td>\n",
       "      <td>California</td>\n",
       "      <td>CA</td>\n",
       "      <td>Univision; television; television, Univision</td>\n",
       "      <td>Media; Media &amp; Entertainment</td>\n",
       "      <td>no-pic; a-jerrold-perenchio</td>\n",
       "      <td>91.0</td>\n",
       "      <td>M</td>\n",
       "      <td>Perenchio</td>\n",
       "      <td>usa</td>\n",
       "      <td>NaN</td>\n",
       "      <td>NaN</td>\n",
       "      <td>NaN</td>\n",
       "      <td>NaN</td>\n",
       "      <td>NaN</td>\n",
       "      <td>NaN</td>\n",
       "      <td>NaN</td>\n",
       "      <td>NaN</td>\n",
       "    </tr>\n",
       "    <tr>\n",
       "      <th>2</th>\n",
       "      <td>abdul_aziz_al_ghurair</td>\n",
       "      <td>Abdul Aziz Al Ghurair</td>\n",
       "      <td>United Arab Emirates</td>\n",
       "      <td>NaN</td>\n",
       "      <td>NaN</td>\n",
       "      <td>banking</td>\n",
       "      <td>Finance</td>\n",
       "      <td>no-pic; abdul-aziz-al-ghurair</td>\n",
       "      <td>67.0</td>\n",
       "      <td>M</td>\n",
       "      <td>Al Ghurair</td>\n",
       "      <td>are</td>\n",
       "      <td>NaN</td>\n",
       "      <td>NaN</td>\n",
       "      <td>NaN</td>\n",
       "      <td>NaN</td>\n",
       "      <td>NaN</td>\n",
       "      <td>NaN</td>\n",
       "      <td>NaN</td>\n",
       "      <td>NaN</td>\n",
       "    </tr>\n",
       "    <tr>\n",
       "      <th>3</th>\n",
       "      <td>abdul_majeed_alhokair</td>\n",
       "      <td>Abdul Majeed Alhokair</td>\n",
       "      <td>Saudi Arabia</td>\n",
       "      <td>NaN</td>\n",
       "      <td>NaN</td>\n",
       "      <td>retail, real estate</td>\n",
       "      <td>Fashion &amp; Retail</td>\n",
       "      <td>no-pic</td>\n",
       "      <td>52.0</td>\n",
       "      <td>M</td>\n",
       "      <td>Alhokair</td>\n",
       "      <td>sau</td>\n",
       "      <td>NaN</td>\n",
       "      <td>NaN</td>\n",
       "      <td>NaN</td>\n",
       "      <td>NaN</td>\n",
       "      <td>NaN</td>\n",
       "      <td>NaN</td>\n",
       "      <td>NaN</td>\n",
       "      <td>NaN</td>\n",
       "    </tr>\n",
       "    <tr>\n",
       "      <th>4</th>\n",
       "      <td>abdul_rasyid</td>\n",
       "      <td>Abdul Rasyid</td>\n",
       "      <td>Indonesia</td>\n",
       "      <td>NaN</td>\n",
       "      <td>NaN</td>\n",
       "      <td>timber, palm oil</td>\n",
       "      <td>Manufacturing</td>\n",
       "      <td>abdul-rasyid</td>\n",
       "      <td>64.0</td>\n",
       "      <td>M</td>\n",
       "      <td>Abdul</td>\n",
       "      <td>idn</td>\n",
       "      <td>NaN</td>\n",
       "      <td>NaN</td>\n",
       "      <td>NaN</td>\n",
       "      <td>NaN</td>\n",
       "      <td>NaN</td>\n",
       "      <td>NaN</td>\n",
       "      <td>NaN</td>\n",
       "      <td>NaN</td>\n",
       "    </tr>\n",
       "    <tr>\n",
       "      <th>...</th>\n",
       "      <td>...</td>\n",
       "      <td>...</td>\n",
       "      <td>...</td>\n",
       "      <td>...</td>\n",
       "      <td>...</td>\n",
       "      <td>...</td>\n",
       "      <td>...</td>\n",
       "      <td>...</td>\n",
       "      <td>...</td>\n",
       "      <td>...</td>\n",
       "      <td>...</td>\n",
       "      <td>...</td>\n",
       "      <td>...</td>\n",
       "      <td>...</td>\n",
       "      <td>...</td>\n",
       "      <td>...</td>\n",
       "      <td>...</td>\n",
       "      <td>...</td>\n",
       "      <td>...</td>\n",
       "      <td>...</td>\n",
       "    </tr>\n",
       "    <tr>\n",
       "      <th>5362</th>\n",
       "      <td>zou_jieming</td>\n",
       "      <td>Zou Jieming</td>\n",
       "      <td>China</td>\n",
       "      <td>NaN</td>\n",
       "      <td>NaN</td>\n",
       "      <td>NaN</td>\n",
       "      <td>Pharmaceuticals</td>\n",
       "      <td>NaN</td>\n",
       "      <td>79.0</td>\n",
       "      <td>NaN</td>\n",
       "      <td>NaN</td>\n",
       "      <td>chn</td>\n",
       "      <td>1943-05-01</td>\n",
       "      <td>1943.0</td>\n",
       "      <td>NaN</td>\n",
       "      <td>NaN</td>\n",
       "      <td>Male</td>\n",
       "      <td>China-Guangxi-Guilin</td>\n",
       "      <td>Sanjin Pharmaceutical</td>\n",
       "      <td>1943.0</td>\n",
       "    </tr>\n",
       "    <tr>\n",
       "      <th>5363</th>\n",
       "      <td>zuo_hui</td>\n",
       "      <td>Zuo Hui</td>\n",
       "      <td>China</td>\n",
       "      <td>NaN</td>\n",
       "      <td>NaN</td>\n",
       "      <td>real estate services</td>\n",
       "      <td>Real Estate;Real Estate;Online Marketplace;Rea...</td>\n",
       "      <td>no-pic</td>\n",
       "      <td>51.0</td>\n",
       "      <td>M</td>\n",
       "      <td>Zuo</td>\n",
       "      <td>chn</td>\n",
       "      <td>1971-01-01</td>\n",
       "      <td>1971.0</td>\n",
       "      <td>1971</td>\n",
       "      <td>NaN</td>\n",
       "      <td>Male</td>\n",
       "      <td>China-Beijing</td>\n",
       "      <td>Beike;Lianjia;KE</td>\n",
       "      <td>1971.0</td>\n",
       "    </tr>\n",
       "    <tr>\n",
       "      <th>5364</th>\n",
       "      <td>zuo_s</td>\n",
       "      <td>Zuo's</td>\n",
       "      <td>China</td>\n",
       "      <td>NaN</td>\n",
       "      <td>NaN</td>\n",
       "      <td>NaN</td>\n",
       "      <td>Real Estate Services</td>\n",
       "      <td>NaN</td>\n",
       "      <td>51.0</td>\n",
       "      <td>NaN</td>\n",
       "      <td>NaN</td>\n",
       "      <td>chn</td>\n",
       "      <td>1971-01-01</td>\n",
       "      <td>1971.0</td>\n",
       "      <td>NaN</td>\n",
       "      <td>NaN</td>\n",
       "      <td>Male</td>\n",
       "      <td>China -Beijing</td>\n",
       "      <td>KE</td>\n",
       "      <td>1971.0</td>\n",
       "    </tr>\n",
       "    <tr>\n",
       "      <th>5365</th>\n",
       "      <td>zuo_xiaoping</td>\n",
       "      <td>Zuo Xiaoping</td>\n",
       "      <td>China</td>\n",
       "      <td>NaN</td>\n",
       "      <td>NaN</td>\n",
       "      <td>NaN</td>\n",
       "      <td>Plastic pipes and fittings;Construction Materi...</td>\n",
       "      <td>NaN</td>\n",
       "      <td>49.0</td>\n",
       "      <td>NaN</td>\n",
       "      <td>NaN</td>\n",
       "      <td>chn</td>\n",
       "      <td>1973-01-01</td>\n",
       "      <td>1973.0</td>\n",
       "      <td>NaN</td>\n",
       "      <td>NaN</td>\n",
       "      <td>Female</td>\n",
       "      <td>China-Guangdong-Foshan</td>\n",
       "      <td>L&amp;S;Lesso</td>\n",
       "      <td>1973.0</td>\n",
       "    </tr>\n",
       "    <tr>\n",
       "      <th>5366</th>\n",
       "      <td>zygmunt_solorz_zak</td>\n",
       "      <td>Zygmunt Solorz-Zak</td>\n",
       "      <td>Poland</td>\n",
       "      <td>NaN</td>\n",
       "      <td>NaN</td>\n",
       "      <td>TV broadcasting; TV station</td>\n",
       "      <td>Media;Entertainment;Media &amp; Entertainment; Media</td>\n",
       "      <td>zygmunt-solorz-zak; no-pic</td>\n",
       "      <td>65.0</td>\n",
       "      <td>M</td>\n",
       "      <td>Solorz-Zak</td>\n",
       "      <td>pol</td>\n",
       "      <td>1956-08-04</td>\n",
       "      <td>1957.0</td>\n",
       "      <td>1957</td>\n",
       "      <td>NaN</td>\n",
       "      <td>Male</td>\n",
       "      <td>Poland-Warsaw</td>\n",
       "      <td>Cyfrowy Polsat</td>\n",
       "      <td>1957.0</td>\n",
       "    </tr>\n",
       "  </tbody>\n",
       "</table>\n",
       "<p>5367 rows × 20 columns</p>\n",
       "</div>"
      ],
      "text/plain": [
       "                     person                   name               country  \\\n",
       "0            a_jayson_adair        A. Jayson Adair         United States   \n",
       "1       a_jerrold_perenchio   A. Jerrold Perenchio         United States   \n",
       "2     abdul_aziz_al_ghurair  Abdul Aziz Al Ghurair  United Arab Emirates   \n",
       "3     abdul_majeed_alhokair  Abdul Majeed Alhokair          Saudi Arabia   \n",
       "4              abdul_rasyid           Abdul Rasyid             Indonesia   \n",
       "...                     ...                    ...                   ...   \n",
       "5362            zou_jieming            Zou Jieming                 China   \n",
       "5363                zuo_hui                Zuo Hui                 China   \n",
       "5364                  zuo_s                  Zuo's                 China   \n",
       "5365           zuo_xiaoping           Zuo Xiaoping                 China   \n",
       "5366     zygmunt_solorz_zak     Zygmunt Solorz-Zak                Poland   \n",
       "\n",
       "           state headquarters                                        source  \\\n",
       "0          Texas           TX                                  damaged cars   \n",
       "1     California           CA  Univision; television; television, Univision   \n",
       "2            NaN          NaN                                       banking   \n",
       "3            NaN          NaN                           retail, real estate   \n",
       "4            NaN          NaN                              timber, palm oil   \n",
       "...          ...          ...                                           ...   \n",
       "5362         NaN          NaN                                           NaN   \n",
       "5363         NaN          NaN                          real estate services   \n",
       "5364         NaN          NaN                                           NaN   \n",
       "5365         NaN          NaN                                           NaN   \n",
       "5366         NaN          NaN                   TV broadcasting; TV station   \n",
       "\n",
       "                                               industry  \\\n",
       "0                                            Automotive   \n",
       "1                          Media; Media & Entertainment   \n",
       "2                                               Finance   \n",
       "3                                      Fashion & Retail   \n",
       "4                                         Manufacturing   \n",
       "...                                                 ...   \n",
       "5362                                    Pharmaceuticals   \n",
       "5363  Real Estate;Real Estate;Online Marketplace;Rea...   \n",
       "5364                               Real Estate Services   \n",
       "5365  Plastic pipes and fittings;Construction Materi...   \n",
       "5366   Media;Entertainment;Media & Entertainment; Media   \n",
       "\n",
       "                          image_uri   age gender   last_name  geo       birth  \\\n",
       "0                            no-pic  52.0      M       Adair  usa         NaN   \n",
       "1       no-pic; a-jerrold-perenchio  91.0      M   Perenchio  usa         NaN   \n",
       "2     no-pic; abdul-aziz-al-ghurair  67.0      M  Al Ghurair  are         NaN   \n",
       "3                            no-pic  52.0      M    Alhokair  sau         NaN   \n",
       "4                      abdul-rasyid  64.0      M       Abdul  idn         NaN   \n",
       "...                             ...   ...    ...         ...  ...         ...   \n",
       "5362                            NaN  79.0    NaN         NaN  chn  1943-05-01   \n",
       "5363                         no-pic  51.0      M         Zuo  chn  1971-01-01   \n",
       "5364                            NaN  51.0    NaN         NaN  chn  1971-01-01   \n",
       "5365                            NaN  49.0    NaN         NaN  chn  1973-01-01   \n",
       "5366     zygmunt-solorz-zak; no-pic  65.0      M  Solorz-Zak  pol  1956-08-04   \n",
       "\n",
       "     birth_1 birth_2  birth_3     sex       permanent_country  \\\n",
       "0        NaN     NaN      NaN     NaN                     NaN   \n",
       "1        NaN     NaN      NaN     NaN                     NaN   \n",
       "2        NaN     NaN      NaN     NaN                     NaN   \n",
       "3        NaN     NaN      NaN     NaN                     NaN   \n",
       "4        NaN     NaN      NaN     NaN                     NaN   \n",
       "...      ...     ...      ...     ...                     ...   \n",
       "5362  1943.0     NaN      NaN    Male    China-Guangxi-Guilin   \n",
       "5363  1971.0    1971      NaN    Male           China-Beijing   \n",
       "5364  1971.0     NaN      NaN    Male          China -Beijing   \n",
       "5365  1973.0     NaN      NaN  Female  China-Guangdong-Foshan   \n",
       "5366  1957.0    1957      NaN    Male           Poland-Warsaw   \n",
       "\n",
       "                    company  birth_comb  \n",
       "0                       NaN         NaN  \n",
       "1                       NaN         NaN  \n",
       "2                       NaN         NaN  \n",
       "3                       NaN         NaN  \n",
       "4                       NaN         NaN  \n",
       "...                     ...         ...  \n",
       "5362  Sanjin Pharmaceutical      1943.0  \n",
       "5363       Beike;Lianjia;KE      1971.0  \n",
       "5364                     KE      1971.0  \n",
       "5365              L&S;Lesso      1973.0  \n",
       "5366         Cyfrowy Polsat      1957.0  \n",
       "\n",
       "[5367 rows x 20 columns]"
      ]
     },
     "execution_count": 5,
     "metadata": {},
     "output_type": "execute_result"
    }
   ],
   "source": [
    "ppl"
   ]
  },
  {
   "cell_type": "code",
   "execution_count": 6,
   "id": "f838fbad",
   "metadata": {},
   "outputs": [],
   "source": [
    "synonyms = pd.read_csv('../../../ddf--open_numbers/ddf--synonyms--geo.csv')"
   ]
  },
  {
   "cell_type": "code",
   "execution_count": 7,
   "id": "fd0e7a7e",
   "metadata": {},
   "outputs": [],
   "source": [
    "syn = synonyms.set_index('synonym')['geo'].to_dict()"
   ]
  },
  {
   "cell_type": "code",
   "execution_count": 8,
   "id": "0de80ed0",
   "metadata": {},
   "outputs": [],
   "source": [
    "# append one that not exists in dict\n",
    "syn['Eswatini (Swaziland)'] = 'swz'"
   ]
  },
  {
   "cell_type": "code",
   "execution_count": 9,
   "id": "2c8fc85c",
   "metadata": {},
   "outputs": [],
   "source": [
    "def _f(x):\n",
    "    try:\n",
    "        k = x.split(';')[0]\n",
    "        return syn[k]\n",
    "    except KeyError:\n",
    "        print(x)\n",
    "        return x"
   ]
  },
  {
   "cell_type": "code",
   "execution_count": 10,
   "id": "4080b6d4",
   "metadata": {},
   "outputs": [],
   "source": [
    "# Question: what to do if there are multiple countries?"
   ]
  },
  {
   "cell_type": "code",
   "execution_count": 11,
   "id": "2231934c",
   "metadata": {},
   "outputs": [],
   "source": [
    "ppl['geo'] = ppl['country'].map(_f)"
   ]
  },
  {
   "cell_type": "code",
   "execution_count": 12,
   "id": "9740bb64",
   "metadata": {},
   "outputs": [
    {
     "name": "stdout",
     "output_type": "stream",
     "text": [
      "datapackage.json\r\n",
      "datapackage.json.bak\r\n",
      "ddf--concepts.csv\r\n",
      "ddf--datapoints--annual_income--by--person--year.csv\r\n",
      "ddf--datapoints--income_level--by--person--year.csv\r\n",
      "ddf--datapoints--worth--by--person--year.csv\r\n",
      "ddf--entities--person.csv\r\n",
      "etl\r\n",
      "README.md\r\n"
     ]
    }
   ],
   "source": [
    "!ls ../../"
   ]
  },
  {
   "cell_type": "code",
   "execution_count": 13,
   "id": "b80b8caa",
   "metadata": {},
   "outputs": [],
   "source": [
    "# Question: what USD is it?"
   ]
  },
  {
   "cell_type": "code",
   "execution_count": 14,
   "id": "77d3655f",
   "metadata": {},
   "outputs": [],
   "source": [
    "# assuming it's current USD"
   ]
  },
  {
   "cell_type": "code",
   "execution_count": 15,
   "id": "33c19803",
   "metadata": {},
   "outputs": [],
   "source": [
    "# TODOs:\n",
    "# 1. create population by geo time income_group (income_group same as the groups in income mountain)\n",
    "# 2. copy the new income mountain from the wealth report dataset\n",
    "# 3. combain them"
   ]
  },
  {
   "cell_type": "code",
   "execution_count": 6,
   "id": "207a7c3a",
   "metadata": {},
   "outputs": [],
   "source": [
    "all_brackets = np.logspace(-7, 13, 51, endpoint=True, base=2)\n",
    "brackets_delta = (13 - (-7)) / 50\n",
    "\n",
    "\n",
    "def bracket_number_from_income(s, mountly=False, integer=True):\n",
    "    if mountly:  # calculate daily income\n",
    "        res = ((np.log2(s / 30) + 7) / brackets_delta)\n",
    "    else:\n",
    "        res = ((np.log2(s) + 7) / brackets_delta)\n",
    "    if integer:\n",
    "        return res.astype(int)\n",
    "    return res\n",
    "\n",
    "def bracket_number_from_income_c(s):\n",
    "    res = ((np.log2(s) + 7) / brackets_delta)\n",
    "    return res.astype(int)\n",
    "\n",
    "def bracket_number_to_income(n):\n",
    "    p = n * brackets_delta - 7\n",
    "    return np.power(2, p)"
   ]
  },
  {
   "cell_type": "code",
   "execution_count": 7,
   "id": "da91bf1f",
   "metadata": {},
   "outputs": [],
   "source": [
    "income = pd.read_csv('../../ddf--datapoints--annual_income--by--person--year.csv')"
   ]
  },
  {
   "cell_type": "code",
   "execution_count": 10,
   "id": "0c7b9723",
   "metadata": {},
   "outputs": [],
   "source": [
    "income = income.sort_values(by=['gm_id', 'year'])\n",
    "income.columns = ['person', 'year', 'annual_income']  # FIXME"
   ]
  },
  {
   "cell_type": "code",
   "execution_count": 11,
   "id": "080c6658",
   "metadata": {},
   "outputs": [
    {
     "data": {
      "text/plain": [
       "array([2021, 2022, 2001, 2002, 2003, 2004, 2005, 2006, 2007, 2008, 2009,\n",
       "       2010, 2011, 2012, 2013, 2014, 2015, 2016, 2017, 2018, 2019, 2020,\n",
       "       2000, 1999, 1997, 1998])"
      ]
     },
     "execution_count": 11,
     "metadata": {},
     "output_type": "execute_result"
    }
   ],
   "source": [
    "income.year.unique()"
   ]
  },
  {
   "cell_type": "code",
   "execution_count": 12,
   "id": "1ed11e61",
   "metadata": {},
   "outputs": [],
   "source": [
    "rates = [1.548,1.565,1.553,1.517,1.464,1.445,1.417,1.369,1.347,1.346,1.357,1.337,1.289,1.262,1.252,1.198,1.126,1.088,1.070,1.065,1.041,1.032,1.022,1.000,0.974,0.963,0.948,0.954,0.955,0.937,0.895,0.876,0.859,0.82,0.77]"
   ]
  },
  {
   "cell_type": "code",
   "execution_count": 13,
   "id": "059f2327",
   "metadata": {},
   "outputs": [],
   "source": [
    "years = list(range(1988, 2023))"
   ]
  },
  {
   "cell_type": "code",
   "execution_count": 14,
   "id": "2a0f8227",
   "metadata": {},
   "outputs": [],
   "source": [
    "rs = pd.Series(rates, index=years)"
   ]
  },
  {
   "cell_type": "code",
   "execution_count": 15,
   "id": "19b87ae2",
   "metadata": {},
   "outputs": [
    {
     "data": {
      "text/plain": [
       "<AxesSubplot:>"
      ]
     },
     "execution_count": 15,
     "metadata": {},
     "output_type": "execute_result"
    },
    {
     "data": {
      "image/png": "[encoded data removed]",
      "text/plain": [
       "<Figure size 432x288 with 1 Axes>"
      ]
     },
     "metadata": {},
     "output_type": "display_data"
    }
   ],
   "source": [
    "rs.plot()"
   ]
  },
  {
   "cell_type": "code",
   "execution_count": 16,
   "id": "fa27bdd1",
   "metadata": {},
   "outputs": [],
   "source": [
    "rs.index.name = 'year'\n",
    "rs.name = 'rate'"
   ]
  },
  {
   "cell_type": "code",
   "execution_count": 17,
   "id": "ff65bf69",
   "metadata": {},
   "outputs": [],
   "source": [
    "df = rs.reset_index()"
   ]
  },
  {
   "cell_type": "code",
   "execution_count": 18,
   "id": "d16144f4",
   "metadata": {},
   "outputs": [],
   "source": [
    "import statsmodels.api as sm\n",
    "from statsmodels.formula.api import ols\n",
    "from statsmodels.sandbox.regression.predstd import wls_prediction_std"
   ]
  },
  {
   "cell_type": "code",
   "execution_count": 19,
   "id": "8f6335fa",
   "metadata": {},
   "outputs": [],
   "source": [
    "X = rs.index.values\n",
    "Y = rs.values\n",
    "X = sm.add_constant(X)\n",
    "\n",
    "model = sm.OLS(Y, X)\n",
    "modelres = model.fit()"
   ]
  },
  {
   "cell_type": "code",
   "execution_count": 20,
   "id": "a5013aaa",
   "metadata": {},
   "outputs": [
    {
     "data": {
      "text/html": [
       "<table class=\"simpletable\">\n",
       "<caption>OLS Regression Results</caption>\n",
       "<tr>\n",
       "  <th>Dep. Variable:</th>            <td>y</td>        <th>  R-squared:         </th> <td>   0.978</td>\n",
       "</tr>\n",
       "<tr>\n",
       "  <th>Model:</th>                   <td>OLS</td>       <th>  Adj. R-squared:    </th> <td>   0.978</td>\n",
       "</tr>\n",
       "<tr>\n",
       "  <th>Method:</th>             <td>Least Squares</td>  <th>  F-statistic:       </th> <td>   1494.</td>\n",
       "</tr>\n",
       "<tr>\n",
       "  <th>Date:</th>             <td>Sun, 05 Jun 2022</td> <th>  Prob (F-statistic):</th> <td>4.61e-29</td>\n",
       "</tr>\n",
       "<tr>\n",
       "  <th>Time:</th>                 <td>15:28:25</td>     <th>  Log-Likelihood:    </th> <td>  68.279</td>\n",
       "</tr>\n",
       "<tr>\n",
       "  <th>No. Observations:</th>      <td>    35</td>      <th>  AIC:               </th> <td>  -132.6</td>\n",
       "</tr>\n",
       "<tr>\n",
       "  <th>Df Residuals:</th>          <td>    33</td>      <th>  BIC:               </th> <td>  -129.4</td>\n",
       "</tr>\n",
       "<tr>\n",
       "  <th>Df Model:</th>              <td>     1</td>      <th>                     </th>     <td> </td>   \n",
       "</tr>\n",
       "<tr>\n",
       "  <th>Covariance Type:</th>      <td>nonrobust</td>    <th>                     </th>     <td> </td>   \n",
       "</tr>\n",
       "</table>\n",
       "<table class=\"simpletable\">\n",
       "<tr>\n",
       "    <td></td>       <th>coef</th>     <th>std err</th>      <th>t</th>      <th>P>|t|</th>  <th>[0.025</th>    <th>0.975]</th>  \n",
       "</tr>\n",
       "<tr>\n",
       "  <th>const</th> <td>   47.1156</td> <td>    1.189</td> <td>   39.635</td> <td> 0.000</td> <td>   44.697</td> <td>   49.534</td>\n",
       "</tr>\n",
       "<tr>\n",
       "  <th>x1</th>    <td>   -0.0229</td> <td>    0.001</td> <td>  -38.658</td> <td> 0.000</td> <td>   -0.024</td> <td>   -0.022</td>\n",
       "</tr>\n",
       "</table>\n",
       "<table class=\"simpletable\">\n",
       "<tr>\n",
       "  <th>Omnibus:</th>       <td> 2.426</td> <th>  Durbin-Watson:     </th> <td>   0.321</td>\n",
       "</tr>\n",
       "<tr>\n",
       "  <th>Prob(Omnibus):</th> <td> 0.297</td> <th>  Jarque-Bera (JB):  </th> <td>   1.984</td>\n",
       "</tr>\n",
       "<tr>\n",
       "  <th>Skew:</th>          <td>-0.447</td> <th>  Prob(JB):          </th> <td>   0.371</td>\n",
       "</tr>\n",
       "<tr>\n",
       "  <th>Kurtosis:</th>      <td> 2.251</td> <th>  Cond. No.          </th> <td>3.98e+05</td>\n",
       "</tr>\n",
       "</table><br/><br/>Notes:<br/>[1] Standard Errors assume that the covariance matrix of the errors is correctly specified.<br/>[2] The condition number is large, 3.98e+05. This might indicate that there are<br/>strong multicollinearity or other numerical problems."
      ],
      "text/plain": [
       "<class 'statsmodels.iolib.summary.Summary'>\n",
       "\"\"\"\n",
       "                            OLS Regression Results                            \n",
       "==============================================================================\n",
       "Dep. Variable:                      y   R-squared:                       0.978\n",
       "Model:                            OLS   Adj. R-squared:                  0.978\n",
       "Method:                 Least Squares   F-statistic:                     1494.\n",
       "Date:                Sun, 05 Jun 2022   Prob (F-statistic):           4.61e-29\n",
       "Time:                        15:28:25   Log-Likelihood:                 68.279\n",
       "No. Observations:                  35   AIC:                            -132.6\n",
       "Df Residuals:                      33   BIC:                            -129.4\n",
       "Df Model:                           1                                         \n",
       "Covariance Type:            nonrobust                                         \n",
       "==============================================================================\n",
       "                 coef    std err          t      P>|t|      [0.025      0.975]\n",
       "------------------------------------------------------------------------------\n",
       "const         47.1156      1.189     39.635      0.000      44.697      49.534\n",
       "x1            -0.0229      0.001    -38.658      0.000      -0.024      -0.022\n",
       "==============================================================================\n",
       "Omnibus:                        2.426   Durbin-Watson:                   0.321\n",
       "Prob(Omnibus):                  0.297   Jarque-Bera (JB):                1.984\n",
       "Skew:                          -0.447   Prob(JB):                        0.371\n",
       "Kurtosis:                       2.251   Cond. No.                     3.98e+05\n",
       "==============================================================================\n",
       "\n",
       "Notes:\n",
       "[1] Standard Errors assume that the covariance matrix of the errors is correctly specified.\n",
       "[2] The condition number is large, 3.98e+05. This might indicate that there are\n",
       "strong multicollinearity or other numerical problems.\n",
       "\"\"\""
      ]
     },
     "execution_count": 20,
     "metadata": {},
     "output_type": "execute_result"
    }
   ],
   "source": [
    "modelres.summary()"
   ]
  },
  {
   "cell_type": "code",
   "execution_count": 21,
   "id": "73d4648b",
   "metadata": {},
   "outputs": [],
   "source": [
    "b, a = modelres.params"
   ]
  },
  {
   "cell_type": "code",
   "execution_count": 22,
   "id": "8b3ee5e1",
   "metadata": {},
   "outputs": [
    {
     "data": {
      "text/plain": [
       "[<matplotlib.lines.Line2D at 0x7fd3952621a0>]"
      ]
     },
     "execution_count": 22,
     "metadata": {},
     "output_type": "execute_result"
    },
    {
     "data": {
      "image/png": "[encoded data removed]",
      "text/plain": [
       "<Figure size 432x288 with 1 Axes>"
      ]
     },
     "metadata": {},
     "output_type": "display_data"
    }
   ],
   "source": [
    "x = list(range(1980, 2025))\n",
    "\n",
    "yp = [a * x_ + b for x_ in x]\n",
    "\n",
    "plt.plot(x, yp)\n",
    "plt.plot(df.year, df.rate, 'r.')"
   ]
  },
  {
   "cell_type": "code",
   "execution_count": 23,
   "id": "315ef3af",
   "metadata": {},
   "outputs": [],
   "source": [
    "def get_inflation_rate(y):\n",
    "    if y in rs.index:\n",
    "        return rs.loc[y]\n",
    "    else:\n",
    "        return a * y + b"
   ]
  },
  {
   "cell_type": "code",
   "execution_count": 24,
   "id": "6eac0405",
   "metadata": {},
   "outputs": [
    {
     "data": {
      "text/plain": [
       "1.0"
      ]
     },
     "execution_count": 24,
     "metadata": {},
     "output_type": "execute_result"
    }
   ],
   "source": [
    "get_inflation_rate(2011)"
   ]
  },
  {
   "cell_type": "code",
   "execution_count": null,
   "id": "58a8670d",
   "metadata": {},
   "outputs": [],
   "source": []
  },
  {
   "cell_type": "code",
   "execution_count": null,
   "id": "cb883224",
   "metadata": {},
   "outputs": [],
   "source": []
  },
  {
   "cell_type": "code",
   "execution_count": 25,
   "id": "3ea11dd4",
   "metadata": {},
   "outputs": [],
   "source": [
    "# 1. convert person to geo\n",
    "# 2. convert income to income group\n",
    "\n",
    "person_to_geo = ppl.set_index('person')['geo'].to_dict()\n",
    "\n",
    "def _f(x):\n",
    "    if x in person_to_geo:\n",
    "        res = person_to_geo[x]\n",
    "        if ';' in res:\n",
    "            return res.split(';')[0]\n",
    "        return res\n",
    "    return np.nan\n",
    "\n",
    "df = income.copy()\n",
    "df['geo'] = df['person'].map(_f)"
   ]
  },
  {
   "cell_type": "code",
   "execution_count": 26,
   "id": "c929dde4",
   "metadata": {},
   "outputs": [],
   "source": [
    "def annual_income_to_group(i, y):\n",
    "    daily = i / 365.0\n",
    "    daily_adjusted = get_inflation_rate(y) * daily\n",
    "    return bracket_number_from_income(daily_adjusted)\n",
    "\n",
    "def annual_income_to_group_c(i, y):\n",
    "    daily = i / 365.0\n",
    "    rates = [get_inflation_rate(y_) for y_ in y]\n",
    "    daily_adjusted = rates * daily\n",
    "    return bracket_number_from_income_c(daily_adjusted)\n",
    "\n",
    "df['income_group'] = df.apply(lambda x: annual_income_to_group(x['annual_income'], x['year']), axis=1)"
   ]
  },
  {
   "cell_type": "code",
   "execution_count": 27,
   "id": "babc10ee",
   "metadata": {},
   "outputs": [],
   "source": [
    "res = df.groupby(['geo', 'year', 'income_group'])['person'].count()"
   ]
  },
  {
   "cell_type": "code",
   "execution_count": 28,
   "id": "d2863a14",
   "metadata": {},
   "outputs": [
    {
     "data": {
      "text/plain": [
       "income_group\n",
       "57     37\n",
       "58    177\n",
       "59    102\n",
       "60    122\n",
       "61    127\n",
       "62     88\n",
       "63     50\n",
       "64     37\n",
       "65     18\n",
       "66     12\n",
       "67     10\n",
       "68      3\n",
       "69      6\n",
       "70      4\n",
       "71      3\n",
       "72      7\n",
       "74      2\n",
       "Name: person, dtype: int64"
      ]
     },
     "execution_count": 28,
     "metadata": {},
     "output_type": "execute_result"
    }
   ],
   "source": [
    "res.loc['usa', 2020]"
   ]
  },
  {
   "cell_type": "code",
   "execution_count": 29,
   "id": "913f5741",
   "metadata": {},
   "outputs": [],
   "source": [
    "# reindex to range() and fillna before continue\n",
    "\n",
    "def reindex_income_group(ser):\n",
    "    # print(ser)\n",
    "    ser = ser.set_index('income_group')\n",
    "    ser = ser.reindex(range(ser.index.min(), ser.index.max()+1)).fillna(0)\n",
    "    return ser"
   ]
  },
  {
   "cell_type": "code",
   "execution_count": 30,
   "id": "cf6f4c0e",
   "metadata": {},
   "outputs": [],
   "source": [
    "res = res.reset_index()"
   ]
  },
  {
   "cell_type": "code",
   "execution_count": 31,
   "id": "74348fa6",
   "metadata": {},
   "outputs": [],
   "source": [
    "res = res.groupby(['geo', 'year']).apply(reindex_income_group)['person']"
   ]
  },
  {
   "cell_type": "code",
   "execution_count": 32,
   "id": "cd343ab7",
   "metadata": {},
   "outputs": [],
   "source": [
    "res = res.sort_index().astype(int)"
   ]
  },
  {
   "cell_type": "code",
   "execution_count": 33,
   "id": "a1b7dba7",
   "metadata": {},
   "outputs": [
    {
     "data": {
      "text/plain": [
       "income_group\n",
       "57     37\n",
       "58    177\n",
       "59    102\n",
       "60    122\n",
       "61    127\n",
       "62     88\n",
       "63     50\n",
       "64     37\n",
       "65     18\n",
       "66     12\n",
       "67     10\n",
       "68      3\n",
       "69      6\n",
       "70      4\n",
       "71      3\n",
       "72      7\n",
       "73      0\n",
       "74      2\n",
       "Name: person, dtype: int64"
      ]
     },
     "execution_count": 33,
     "metadata": {},
     "output_type": "execute_result"
    }
   ],
   "source": [
    "res.loc['usa', 2020]"
   ]
  },
  {
   "cell_type": "code",
   "execution_count": null,
   "id": "25239d38",
   "metadata": {},
   "outputs": [],
   "source": []
  },
  {
   "cell_type": "code",
   "execution_count": 34,
   "id": "6cba1685",
   "metadata": {},
   "outputs": [
    {
     "data": {
      "text/html": [
       "<div>\n",
       "<style scoped>\n",
       "    .dataframe tbody tr th:only-of-type {\n",
       "        vertical-align: middle;\n",
       "    }\n",
       "\n",
       "    .dataframe tbody tr th {\n",
       "        vertical-align: top;\n",
       "    }\n",
       "\n",
       "    .dataframe thead th {\n",
       "        text-align: right;\n",
       "    }\n",
       "</style>\n",
       "<table border=\"1\" class=\"dataframe\">\n",
       "  <thead>\n",
       "    <tr style=\"text-align: right;\">\n",
       "      <th></th>\n",
       "      <th>person</th>\n",
       "      <th>year</th>\n",
       "      <th>annual_income</th>\n",
       "      <th>geo</th>\n",
       "      <th>income_group</th>\n",
       "    </tr>\n",
       "  </thead>\n",
       "  <tbody>\n",
       "    <tr>\n",
       "      <th>18555</th>\n",
       "      <td>jeff_bezos</td>\n",
       "      <td>1998</td>\n",
       "      <td>4.943444e+09</td>\n",
       "      <td>usa</td>\n",
       "      <td>77</td>\n",
       "    </tr>\n",
       "    <tr>\n",
       "      <th>18556</th>\n",
       "      <td>jeff_bezos</td>\n",
       "      <td>1999</td>\n",
       "      <td>3.315630e+09</td>\n",
       "      <td>usa</td>\n",
       "      <td>76</td>\n",
       "    </tr>\n",
       "    <tr>\n",
       "      <th>18557</th>\n",
       "      <td>jeff_bezos</td>\n",
       "      <td>2000</td>\n",
       "      <td>1.687815e+09</td>\n",
       "      <td>usa</td>\n",
       "      <td>73</td>\n",
       "    </tr>\n",
       "    <tr>\n",
       "      <th>18558</th>\n",
       "      <td>jeff_bezos</td>\n",
       "      <td>2001</td>\n",
       "      <td>6.000000e+07</td>\n",
       "      <td>usa</td>\n",
       "      <td>61</td>\n",
       "    </tr>\n",
       "    <tr>\n",
       "      <th>18559</th>\n",
       "      <td>jeff_bezos</td>\n",
       "      <td>2002</td>\n",
       "      <td>4.500000e+07</td>\n",
       "      <td>usa</td>\n",
       "      <td>60</td>\n",
       "    </tr>\n",
       "    <tr>\n",
       "      <th>18560</th>\n",
       "      <td>jeff_bezos</td>\n",
       "      <td>2003</td>\n",
       "      <td>7.500000e+07</td>\n",
       "      <td>usa</td>\n",
       "      <td>62</td>\n",
       "    </tr>\n",
       "    <tr>\n",
       "      <th>18561</th>\n",
       "      <td>jeff_bezos</td>\n",
       "      <td>2004</td>\n",
       "      <td>1.530000e+08</td>\n",
       "      <td>usa</td>\n",
       "      <td>64</td>\n",
       "    </tr>\n",
       "    <tr>\n",
       "      <th>18562</th>\n",
       "      <td>jeff_bezos</td>\n",
       "      <td>2005</td>\n",
       "      <td>1.230000e+08</td>\n",
       "      <td>usa</td>\n",
       "      <td>63</td>\n",
       "    </tr>\n",
       "    <tr>\n",
       "      <th>18563</th>\n",
       "      <td>jeff_bezos</td>\n",
       "      <td>2006</td>\n",
       "      <td>1.290000e+08</td>\n",
       "      <td>usa</td>\n",
       "      <td>63</td>\n",
       "    </tr>\n",
       "    <tr>\n",
       "      <th>18564</th>\n",
       "      <td>jeff_bezos</td>\n",
       "      <td>2007</td>\n",
       "      <td>1.320000e+08</td>\n",
       "      <td>usa</td>\n",
       "      <td>63</td>\n",
       "    </tr>\n",
       "    <tr>\n",
       "      <th>18565</th>\n",
       "      <td>jeff_bezos</td>\n",
       "      <td>2008</td>\n",
       "      <td>2.460000e+08</td>\n",
       "      <td>usa</td>\n",
       "      <td>66</td>\n",
       "    </tr>\n",
       "    <tr>\n",
       "      <th>18566</th>\n",
       "      <td>jeff_bezos</td>\n",
       "      <td>2009</td>\n",
       "      <td>2.040000e+08</td>\n",
       "      <td>usa</td>\n",
       "      <td>65</td>\n",
       "    </tr>\n",
       "    <tr>\n",
       "      <th>18567</th>\n",
       "      <td>jeff_bezos</td>\n",
       "      <td>2010</td>\n",
       "      <td>3.690000e+08</td>\n",
       "      <td>usa</td>\n",
       "      <td>67</td>\n",
       "    </tr>\n",
       "    <tr>\n",
       "      <th>18568</th>\n",
       "      <td>jeff_bezos</td>\n",
       "      <td>2011</td>\n",
       "      <td>5.430000e+08</td>\n",
       "      <td>usa</td>\n",
       "      <td>68</td>\n",
       "    </tr>\n",
       "    <tr>\n",
       "      <th>18569</th>\n",
       "      <td>jeff_bezos</td>\n",
       "      <td>2012</td>\n",
       "      <td>5.520000e+08</td>\n",
       "      <td>usa</td>\n",
       "      <td>68</td>\n",
       "    </tr>\n",
       "    <tr>\n",
       "      <th>18570</th>\n",
       "      <td>jeff_bezos</td>\n",
       "      <td>2013</td>\n",
       "      <td>7.560000e+08</td>\n",
       "      <td>usa</td>\n",
       "      <td>69</td>\n",
       "    </tr>\n",
       "    <tr>\n",
       "      <th>18571</th>\n",
       "      <td>jeff_bezos</td>\n",
       "      <td>2014</td>\n",
       "      <td>9.600000e+08</td>\n",
       "      <td>usa</td>\n",
       "      <td>70</td>\n",
       "    </tr>\n",
       "    <tr>\n",
       "      <th>18572</th>\n",
       "      <td>jeff_bezos</td>\n",
       "      <td>2015</td>\n",
       "      <td>1.044000e+09</td>\n",
       "      <td>usa</td>\n",
       "      <td>70</td>\n",
       "    </tr>\n",
       "    <tr>\n",
       "      <th>18573</th>\n",
       "      <td>jeff_bezos</td>\n",
       "      <td>2016</td>\n",
       "      <td>1.356000e+09</td>\n",
       "      <td>usa</td>\n",
       "      <td>71</td>\n",
       "    </tr>\n",
       "    <tr>\n",
       "      <th>18574</th>\n",
       "      <td>jeff_bezos</td>\n",
       "      <td>2017</td>\n",
       "      <td>2.184000e+09</td>\n",
       "      <td>usa</td>\n",
       "      <td>73</td>\n",
       "    </tr>\n",
       "    <tr>\n",
       "      <th>18575</th>\n",
       "      <td>jeff_bezos</td>\n",
       "      <td>2018</td>\n",
       "      <td>3.360000e+09</td>\n",
       "      <td>usa</td>\n",
       "      <td>74</td>\n",
       "    </tr>\n",
       "    <tr>\n",
       "      <th>18576</th>\n",
       "      <td>jeff_bezos</td>\n",
       "      <td>2019</td>\n",
       "      <td>3.930000e+09</td>\n",
       "      <td>usa</td>\n",
       "      <td>75</td>\n",
       "    </tr>\n",
       "    <tr>\n",
       "      <th>18577</th>\n",
       "      <td>jeff_bezos</td>\n",
       "      <td>2020</td>\n",
       "      <td>3.390000e+09</td>\n",
       "      <td>usa</td>\n",
       "      <td>74</td>\n",
       "    </tr>\n",
       "    <tr>\n",
       "      <th>18578</th>\n",
       "      <td>jeff_bezos</td>\n",
       "      <td>2021</td>\n",
       "      <td>5.310000e+09</td>\n",
       "      <td>usa</td>\n",
       "      <td>76</td>\n",
       "    </tr>\n",
       "    <tr>\n",
       "      <th>18579</th>\n",
       "      <td>jeff_bezos</td>\n",
       "      <td>2022</td>\n",
       "      <td>5.130000e+09</td>\n",
       "      <td>usa</td>\n",
       "      <td>75</td>\n",
       "    </tr>\n",
       "  </tbody>\n",
       "</table>\n",
       "</div>"
      ],
      "text/plain": [
       "           person  year  annual_income  geo  income_group\n",
       "18555  jeff_bezos  1998   4.943444e+09  usa            77\n",
       "18556  jeff_bezos  1999   3.315630e+09  usa            76\n",
       "18557  jeff_bezos  2000   1.687815e+09  usa            73\n",
       "18558  jeff_bezos  2001   6.000000e+07  usa            61\n",
       "18559  jeff_bezos  2002   4.500000e+07  usa            60\n",
       "18560  jeff_bezos  2003   7.500000e+07  usa            62\n",
       "18561  jeff_bezos  2004   1.530000e+08  usa            64\n",
       "18562  jeff_bezos  2005   1.230000e+08  usa            63\n",
       "18563  jeff_bezos  2006   1.290000e+08  usa            63\n",
       "18564  jeff_bezos  2007   1.320000e+08  usa            63\n",
       "18565  jeff_bezos  2008   2.460000e+08  usa            66\n",
       "18566  jeff_bezos  2009   2.040000e+08  usa            65\n",
       "18567  jeff_bezos  2010   3.690000e+08  usa            67\n",
       "18568  jeff_bezos  2011   5.430000e+08  usa            68\n",
       "18569  jeff_bezos  2012   5.520000e+08  usa            68\n",
       "18570  jeff_bezos  2013   7.560000e+08  usa            69\n",
       "18571  jeff_bezos  2014   9.600000e+08  usa            70\n",
       "18572  jeff_bezos  2015   1.044000e+09  usa            70\n",
       "18573  jeff_bezos  2016   1.356000e+09  usa            71\n",
       "18574  jeff_bezos  2017   2.184000e+09  usa            73\n",
       "18575  jeff_bezos  2018   3.360000e+09  usa            74\n",
       "18576  jeff_bezos  2019   3.930000e+09  usa            75\n",
       "18577  jeff_bezos  2020   3.390000e+09  usa            74\n",
       "18578  jeff_bezos  2021   5.310000e+09  usa            76\n",
       "18579  jeff_bezos  2022   5.130000e+09  usa            75"
      ]
     },
     "execution_count": 34,
     "metadata": {},
     "output_type": "execute_result"
    }
   ],
   "source": [
    "df[df.person == 'jeff_bezos']"
   ]
  },
  {
   "cell_type": "code",
   "execution_count": 35,
   "id": "31bea812",
   "metadata": {},
   "outputs": [
    {
     "data": {
      "text/html": [
       "<div>\n",
       "<style scoped>\n",
       "    .dataframe tbody tr th:only-of-type {\n",
       "        vertical-align: middle;\n",
       "    }\n",
       "\n",
       "    .dataframe tbody tr th {\n",
       "        vertical-align: top;\n",
       "    }\n",
       "\n",
       "    .dataframe thead th {\n",
       "        text-align: right;\n",
       "    }\n",
       "</style>\n",
       "<table border=\"1\" class=\"dataframe\">\n",
       "  <thead>\n",
       "    <tr style=\"text-align: right;\">\n",
       "      <th></th>\n",
       "      <th>person</th>\n",
       "      <th>name</th>\n",
       "      <th>country</th>\n",
       "      <th>state</th>\n",
       "      <th>headquarters</th>\n",
       "      <th>source</th>\n",
       "      <th>industry</th>\n",
       "      <th>image_uri</th>\n",
       "      <th>age</th>\n",
       "      <th>gender</th>\n",
       "      <th>last_name</th>\n",
       "      <th>geo</th>\n",
       "      <th>birth</th>\n",
       "      <th>birth_1</th>\n",
       "      <th>birth_2</th>\n",
       "      <th>birth_3</th>\n",
       "      <th>sex</th>\n",
       "      <th>permanent_country</th>\n",
       "      <th>company</th>\n",
       "      <th>birth_comb</th>\n",
       "    </tr>\n",
       "  </thead>\n",
       "  <tbody>\n",
       "    <tr>\n",
       "      <th>1963</th>\n",
       "      <td>jeff_bezos</td>\n",
       "      <td>Jeff Bezos</td>\n",
       "      <td>United States</td>\n",
       "      <td>Washington</td>\n",
       "      <td>WA</td>\n",
       "      <td>Amazon; Amazon.com</td>\n",
       "      <td>Online Retail;E-Commerce;Technology</td>\n",
       "      <td>jeff-bezos</td>\n",
       "      <td>58.0</td>\n",
       "      <td>M</td>\n",
       "      <td>Bezos</td>\n",
       "      <td>usa</td>\n",
       "      <td>1964-01-12</td>\n",
       "      <td>1964.0</td>\n",
       "      <td>1964</td>\n",
       "      <td>1964.0</td>\n",
       "      <td>Male</td>\n",
       "      <td>United States-Washington State-Seattle</td>\n",
       "      <td>Amazon</td>\n",
       "      <td>1964.0</td>\n",
       "    </tr>\n",
       "  </tbody>\n",
       "</table>\n",
       "</div>"
      ],
      "text/plain": [
       "          person        name        country       state headquarters  \\\n",
       "1963  jeff_bezos  Jeff Bezos  United States  Washington           WA   \n",
       "\n",
       "                  source                             industry   image_uri  \\\n",
       "1963  Amazon; Amazon.com  Online Retail;E-Commerce;Technology  jeff-bezos   \n",
       "\n",
       "       age gender last_name  geo       birth birth_1 birth_2  birth_3   sex  \\\n",
       "1963  58.0      M     Bezos  usa  1964-01-12  1964.0    1964   1964.0  Male   \n",
       "\n",
       "                           permanent_country company  birth_comb  \n",
       "1963  United States-Washington State-Seattle  Amazon      1964.0  "
      ]
     },
     "execution_count": 35,
     "metadata": {},
     "output_type": "execute_result"
    }
   ],
   "source": [
    "ppl[ppl['person'].str.contains('bezos')]"
   ]
  },
  {
   "cell_type": "code",
   "execution_count": null,
   "id": "120e41ce",
   "metadata": {},
   "outputs": [],
   "source": []
  },
  {
   "cell_type": "code",
   "execution_count": 36,
   "id": "772e3777",
   "metadata": {},
   "outputs": [
    {
     "data": {
      "text/plain": [
       "geo  year  income_group\n",
       "ago  2013  60              1\n",
       "     2014  62              1\n",
       "     2015  62              1\n",
       "     2016  62              1\n",
       "     2017  62              1\n",
       "                          ..\n",
       "zwe  2018  59              1\n",
       "     2019  61              1\n",
       "     2020  58              1\n",
       "     2021  59              1\n",
       "     2022  61              1\n",
       "Name: person, Length: 12652, dtype: int64"
      ]
     },
     "execution_count": 36,
     "metadata": {},
     "output_type": "execute_result"
    }
   ],
   "source": [
    "res"
   ]
  },
  {
   "cell_type": "code",
   "execution_count": null,
   "id": "5949d3b5",
   "metadata": {},
   "outputs": [],
   "source": []
  },
  {
   "cell_type": "code",
   "execution_count": 37,
   "id": "3a462204",
   "metadata": {},
   "outputs": [],
   "source": [
    "# now get estimation for past and future "
   ]
  },
  {
   "cell_type": "code",
   "execution_count": 38,
   "id": "89b26b5a",
   "metadata": {},
   "outputs": [],
   "source": [
    "def get_model(X, Y):\n",
    "    X = sm.add_constant(X)\n",
    "    return sm.OLS(Y, X).fit()\n",
    "\n",
    "def get_predict(model, X):\n",
    "    a, b = model.params\n",
    "    Yp = [b * x + a for x in X]\n",
    "    return Yp"
   ]
  },
  {
   "cell_type": "code",
   "execution_count": null,
   "id": "7b0a498a",
   "metadata": {},
   "outputs": [],
   "source": []
  },
  {
   "cell_type": "code",
   "execution_count": 39,
   "id": "da37d881",
   "metadata": {},
   "outputs": [],
   "source": [
    "res2 = res.reset_index()"
   ]
  },
  {
   "cell_type": "code",
   "execution_count": 40,
   "id": "f96c718e",
   "metadata": {},
   "outputs": [],
   "source": [
    "g = res2[res2['income_group'] == 77].set_index('year')['person'].copy()\n",
    "g = g.reindex(pd.RangeIndex(1998, 2004))"
   ]
  },
  {
   "cell_type": "code",
   "execution_count": 41,
   "id": "f12a9d83",
   "metadata": {},
   "outputs": [],
   "source": [
    "# g.plot()\n",
    "X = g.index.values\n",
    "Y = g.fillna(0).values\n",
    "yp = get_predict(get_model(X, Y), X)\n",
    "g2 = g.fillna(pd.Series(yp, index=g.index))"
   ]
  },
  {
   "cell_type": "code",
   "execution_count": 42,
   "id": "1b8e7188",
   "metadata": {},
   "outputs": [
    {
     "data": {
      "text/plain": [
       "<AxesSubplot:>"
      ]
     },
     "execution_count": 42,
     "metadata": {},
     "output_type": "execute_result"
    },
    {
     "data": {
      "image/png": "[encoded data removed]",
      "text/plain": [
       "<Figure size 432x288 with 1 Axes>"
      ]
     },
     "metadata": {},
     "output_type": "display_data"
    }
   ],
   "source": [
    "g2.plot()"
   ]
  },
  {
   "cell_type": "code",
   "execution_count": null,
   "id": "3e303bdf",
   "metadata": {},
   "outputs": [],
   "source": []
  },
  {
   "cell_type": "code",
   "execution_count": null,
   "id": "d224c7b6",
   "metadata": {},
   "outputs": [],
   "source": []
  },
  {
   "cell_type": "code",
   "execution_count": 43,
   "id": "e07743a4",
   "metadata": {},
   "outputs": [
    {
     "data": {
      "text/plain": [
       "array([2013, 2014, 2015, 2016, 2017, 2018, 2019, 2020, 1997, 1998, 1999,\n",
       "       2000, 2001, 2002, 2003, 2004, 2005, 2006, 2007, 2008, 2009, 2010,\n",
       "       2011, 2012, 2021, 2022])"
      ]
     },
     "execution_count": 43,
     "metadata": {},
     "output_type": "execute_result"
    }
   ],
   "source": [
    "res2.year.unique()"
   ]
  },
  {
   "cell_type": "code",
   "execution_count": 44,
   "id": "5c5780e2",
   "metadata": {},
   "outputs": [],
   "source": [
    "def complete_time_series(ser):\n",
    "    #print(ser)\n",
    "    if ser.shape[0] == 1:\n",
    "        # print(\"not enough data point\")\n",
    "        return np.round(ser)\n",
    "    xmax = ser.index.max()\n",
    "    xmin = ser.index.min()\n",
    "    ser = ser.reindex(pd.RangeIndex(xmin, xmax+1))\n",
    "    #print(ser)\n",
    "    X = ser.index.values\n",
    "    Y = ser.fillna(0).values\n",
    "    xp = np.array(range(xmin-50, xmax+50))\n",
    "    yp = get_predict(get_model(X, Y), xp)\n",
    "    \n",
    "    res = pd.Series(yp, index=xp)\n",
    "    res.update(ser)\n",
    "    res.index.name = 'year'\n",
    "    res.name = 'person'\n",
    "    res[res < 0] = 0\n",
    "    return np.round(res)"
   ]
  },
  {
   "cell_type": "code",
   "execution_count": 45,
   "id": "893511fb",
   "metadata": {},
   "outputs": [],
   "source": [
    "res = complete_time_series(res2[res2['income_group'] == 77].set_index('year')['person'])"
   ]
  },
  {
   "cell_type": "code",
   "execution_count": 46,
   "id": "05ae7969",
   "metadata": {},
   "outputs": [
    {
     "data": {
      "text/plain": [
       "year\n",
       "2000    0.0\n",
       "2001    0.0\n",
       "2002    1.0\n",
       "2003    1.0\n",
       "2004    1.0\n",
       "2005    1.0\n",
       "2006    1.0\n",
       "2007    1.0\n",
       "2008    1.0\n",
       "2009    1.0\n",
       "2010    1.0\n",
       "Name: person, dtype: float64"
      ]
     },
     "execution_count": 46,
     "metadata": {},
     "output_type": "execute_result"
    }
   ],
   "source": [
    "res.loc[2000:2010]"
   ]
  },
  {
   "cell_type": "code",
   "execution_count": 47,
   "id": "8dbec88d",
   "metadata": {},
   "outputs": [
    {
     "data": {
      "text/plain": [
       "<AxesSubplot:xlabel='year'>"
      ]
     },
     "execution_count": 47,
     "metadata": {},
     "output_type": "execute_result"
    },
    {
     "data": {
      "image/png": "[encoded data removed]",
      "text/plain": [
       "<Figure size 432x288 with 1 Axes>"
      ]
     },
     "metadata": {},
     "output_type": "display_data"
    }
   ],
   "source": [
    "ser = res2[(res2['income_group'] == 60) & (res2['geo'] == 'usa')].set_index('year')['person']\n",
    "\n",
    "complete_time_series(ser).plot()"
   ]
  },
  {
   "cell_type": "code",
   "execution_count": 48,
   "id": "38ff9fd1",
   "metadata": {},
   "outputs": [],
   "source": [
    "usadf = res2[res2['geo'] == 'usa']"
   ]
  },
  {
   "cell_type": "code",
   "execution_count": 49,
   "id": "0a8b772b",
   "metadata": {},
   "outputs": [],
   "source": [
    "gs = usadf.groupby('income_group')\n",
    "\n",
    "def run(df):\n",
    "    # print(g)\n",
    "    # print(df)\n",
    "    return complete_time_series(df[['year', 'person']].set_index('year')['person']).reset_index()\n",
    "    # res = res.assign(income_group=g).set_index('income_group', append=True)\n",
    "    # return res\n",
    "\n",
    "# res = gs.apply(run)"
   ]
  },
  {
   "cell_type": "code",
   "execution_count": 50,
   "id": "ac339627",
   "metadata": {},
   "outputs": [],
   "source": [
    "def run_geo(df):\n",
    "    # print(df.head(1))\n",
    "    return  df.groupby('income_group').apply(run).droplevel(1)\n",
    "    # res.index.names = \n",
    "\n",
    "res = dict([(g, run_geo(df)) for g, df in res2.groupby('geo')])"
   ]
  },
  {
   "cell_type": "code",
   "execution_count": 51,
   "id": "38cbffea",
   "metadata": {},
   "outputs": [],
   "source": [
    "res_ = []\n",
    "for k, v in res.items():\n",
    "    v_ = v.copy()\n",
    "    v_['geo'] = k\n",
    "    res_.append(v_)"
   ]
  },
  {
   "cell_type": "code",
   "execution_count": 52,
   "id": "ea018237",
   "metadata": {},
   "outputs": [],
   "source": [
    "res_ = pd.concat(res_)"
   ]
  },
  {
   "cell_type": "code",
   "execution_count": 53,
   "id": "1535e957",
   "metadata": {},
   "outputs": [],
   "source": [
    "res_ = res_.set_index(['geo', 'year'], append=True)"
   ]
  },
  {
   "cell_type": "code",
   "execution_count": 54,
   "id": "13c31f57",
   "metadata": {},
   "outputs": [],
   "source": [
    "res_ = res_.reorder_levels([1, 2, 0])"
   ]
  },
  {
   "cell_type": "code",
   "execution_count": 55,
   "id": "82888ca2",
   "metadata": {},
   "outputs": [],
   "source": [
    "res_ = res_.sort_index()"
   ]
  },
  {
   "cell_type": "code",
   "execution_count": 56,
   "id": "56be8d84",
   "metadata": {},
   "outputs": [
    {
     "data": {
      "text/html": [
       "<div>\n",
       "<style scoped>\n",
       "    .dataframe tbody tr th:only-of-type {\n",
       "        vertical-align: middle;\n",
       "    }\n",
       "\n",
       "    .dataframe tbody tr th {\n",
       "        vertical-align: top;\n",
       "    }\n",
       "\n",
       "    .dataframe thead th {\n",
       "        text-align: right;\n",
       "    }\n",
       "</style>\n",
       "<table border=\"1\" class=\"dataframe\">\n",
       "  <thead>\n",
       "    <tr style=\"text-align: right;\">\n",
       "      <th></th>\n",
       "      <th>person</th>\n",
       "    </tr>\n",
       "    <tr>\n",
       "      <th>income_group</th>\n",
       "      <th></th>\n",
       "    </tr>\n",
       "  </thead>\n",
       "  <tbody>\n",
       "    <tr>\n",
       "      <th>59</th>\n",
       "      <td>0.0</td>\n",
       "    </tr>\n",
       "    <tr>\n",
       "      <th>60</th>\n",
       "      <td>3.0</td>\n",
       "    </tr>\n",
       "    <tr>\n",
       "      <th>61</th>\n",
       "      <td>19.0</td>\n",
       "    </tr>\n",
       "    <tr>\n",
       "      <th>62</th>\n",
       "      <td>9.0</td>\n",
       "    </tr>\n",
       "    <tr>\n",
       "      <th>63</th>\n",
       "      <td>1.0</td>\n",
       "    </tr>\n",
       "    <tr>\n",
       "      <th>64</th>\n",
       "      <td>5.0</td>\n",
       "    </tr>\n",
       "    <tr>\n",
       "      <th>65</th>\n",
       "      <td>0.0</td>\n",
       "    </tr>\n",
       "    <tr>\n",
       "      <th>66</th>\n",
       "      <td>2.0</td>\n",
       "    </tr>\n",
       "  </tbody>\n",
       "</table>\n",
       "</div>"
      ],
      "text/plain": [
       "              person\n",
       "income_group        \n",
       "59               0.0\n",
       "60               3.0\n",
       "61              19.0\n",
       "62               9.0\n",
       "63               1.0\n",
       "64               5.0\n",
       "65               0.0\n",
       "66               2.0"
      ]
     },
     "execution_count": 56,
     "metadata": {},
     "output_type": "execute_result"
    }
   ],
   "source": [
    "res_.loc['can', 1947]"
   ]
  },
  {
   "cell_type": "code",
   "execution_count": 83,
   "id": "31bec3e9",
   "metadata": {},
   "outputs": [
    {
     "data": {
      "text/html": [
       "<div>\n",
       "<style scoped>\n",
       "    .dataframe tbody tr th:only-of-type {\n",
       "        vertical-align: middle;\n",
       "    }\n",
       "\n",
       "    .dataframe tbody tr th {\n",
       "        vertical-align: top;\n",
       "    }\n",
       "\n",
       "    .dataframe thead th {\n",
       "        text-align: right;\n",
       "    }\n",
       "</style>\n",
       "<table border=\"1\" class=\"dataframe\">\n",
       "  <thead>\n",
       "    <tr style=\"text-align: right;\">\n",
       "      <th></th>\n",
       "      <th>person</th>\n",
       "    </tr>\n",
       "    <tr>\n",
       "      <th>income_group</th>\n",
       "      <th></th>\n",
       "    </tr>\n",
       "  </thead>\n",
       "  <tbody>\n",
       "    <tr>\n",
       "      <th>59</th>\n",
       "      <td>0.0</td>\n",
       "    </tr>\n",
       "    <tr>\n",
       "      <th>60</th>\n",
       "      <td>2.0</td>\n",
       "    </tr>\n",
       "    <tr>\n",
       "      <th>61</th>\n",
       "      <td>24.0</td>\n",
       "    </tr>\n",
       "    <tr>\n",
       "      <th>62</th>\n",
       "      <td>11.0</td>\n",
       "    </tr>\n",
       "    <tr>\n",
       "      <th>63</th>\n",
       "      <td>2.0</td>\n",
       "    </tr>\n",
       "    <tr>\n",
       "      <th>64</th>\n",
       "      <td>8.0</td>\n",
       "    </tr>\n",
       "    <tr>\n",
       "      <th>65</th>\n",
       "      <td>0.0</td>\n",
       "    </tr>\n",
       "    <tr>\n",
       "      <th>66</th>\n",
       "      <td>3.0</td>\n",
       "    </tr>\n",
       "  </tbody>\n",
       "</table>\n",
       "</div>"
      ],
      "text/plain": [
       "              person\n",
       "income_group        \n",
       "59               0.0\n",
       "60               2.0\n",
       "61              24.0\n",
       "62              11.0\n",
       "63               2.0\n",
       "64               8.0\n",
       "65               0.0\n",
       "66               3.0"
      ]
     },
     "execution_count": 83,
     "metadata": {},
     "output_type": "execute_result"
    }
   ],
   "source": [
    "res_.loc['can', 1947]"
   ]
  },
  {
   "cell_type": "code",
   "execution_count": 57,
   "id": "42cab54e",
   "metadata": {},
   "outputs": [],
   "source": [
    "res_.columns = ['population']"
   ]
  },
  {
   "cell_type": "code",
   "execution_count": 58,
   "id": "95a73e5d",
   "metadata": {},
   "outputs": [],
   "source": [
    "res_.to_csv('../../ddf--datapoints--population--by--geo--year--income_group.csv')"
   ]
  },
  {
   "cell_type": "code",
   "execution_count": null,
   "id": "17f37d59",
   "metadata": {},
   "outputs": [],
   "source": []
  },
  {
   "cell_type": "code",
   "execution_count": null,
   "id": "752ce0a7",
   "metadata": {},
   "outputs": [],
   "source": []
  },
  {
   "cell_type": "code",
   "execution_count": null,
   "id": "a46d730d",
   "metadata": {},
   "outputs": [],
   "source": []
  },
  {
   "cell_type": "code",
   "execution_count": null,
   "id": "f1e23495",
   "metadata": {},
   "outputs": [],
   "source": []
  },
  {
   "cell_type": "code",
   "execution_count": null,
   "id": "6d5a1387",
   "metadata": {},
   "outputs": [],
   "source": []
  },
  {
   "cell_type": "code",
   "execution_count": null,
   "id": "83771ec7",
   "metadata": {},
   "outputs": [],
   "source": []
  },
  {
   "cell_type": "code",
   "execution_count": 59,
   "id": "1de8ba23",
   "metadata": {},
   "outputs": [
    {
     "data": {
      "text/plain": [
       "<AxesSubplot:xlabel='income_group'>"
      ]
     },
     "execution_count": 59,
     "metadata": {},
     "output_type": "execute_result"
    },
    {
     "data": {
      "image/png": "[encoded data removed]",
      "text/plain": [
       "<Figure size 432x288 with 1 Axes>"
      ]
     },
     "metadata": {},
     "output_type": "display_data"
    }
   ],
   "source": [
    "res_.loc['usa', 2020].plot()"
   ]
  },
  {
   "cell_type": "code",
   "execution_count": 87,
   "id": "7b8c916e",
   "metadata": {},
   "outputs": [
    {
     "data": {
      "text/plain": [
       "<AxesSubplot:xlabel='income_group'>"
      ]
     },
     "execution_count": 87,
     "metadata": {},
     "output_type": "execute_result"
    },
    {
     "data": {
      "image/png": "[encoded data removed]",
      "text/plain": [
       "<Figure size 432x288 with 1 Axes>"
      ]
     },
     "metadata": {},
     "output_type": "display_data"
    }
   ],
   "source": [
    "res_.loc['usa', 2020].plot()"
   ]
  },
  {
   "cell_type": "code",
   "execution_count": 62,
   "id": "bd8c0010",
   "metadata": {},
   "outputs": [],
   "source": [
    "im = pd.read_csv('../../../ddf--worldbank--povcalnet/etl/datapoints/ddf--datapoints--population--by--geo--time--income_bracket_50.csv')\n",
    "# im = pd.read_csv('../../../ddf--worldbank--povcalnet/income_mountain/ddf--datapoints--population--by--geo--time--income_bracket_50.csv')"
   ]
  },
  {
   "cell_type": "code",
   "execution_count": 63,
   "id": "0c2b20b7",
   "metadata": {},
   "outputs": [],
   "source": [
    "im = im.set_index(['geo', 'time', 'income_bracket_50'])"
   ]
  },
  {
   "cell_type": "code",
   "execution_count": 64,
   "id": "8a97a755",
   "metadata": {},
   "outputs": [],
   "source": [
    "wb = im.loc['usa', 2020].copy()"
   ]
  },
  {
   "cell_type": "code",
   "execution_count": 65,
   "id": "832ffcd5",
   "metadata": {},
   "outputs": [],
   "source": [
    "fb = res_.loc['usa', 2020].copy()"
   ]
  },
  {
   "cell_type": "code",
   "execution_count": 66,
   "id": "3057f188",
   "metadata": {},
   "outputs": [
    {
     "data": {
      "text/html": [
       "<div>\n",
       "<style scoped>\n",
       "    .dataframe tbody tr th:only-of-type {\n",
       "        vertical-align: middle;\n",
       "    }\n",
       "\n",
       "    .dataframe tbody tr th {\n",
       "        vertical-align: top;\n",
       "    }\n",
       "\n",
       "    .dataframe thead th {\n",
       "        text-align: right;\n",
       "    }\n",
       "</style>\n",
       "<table border=\"1\" class=\"dataframe\">\n",
       "  <thead>\n",
       "    <tr style=\"text-align: right;\">\n",
       "      <th></th>\n",
       "      <th>population</th>\n",
       "    </tr>\n",
       "    <tr>\n",
       "      <th>income_group</th>\n",
       "      <th></th>\n",
       "    </tr>\n",
       "  </thead>\n",
       "  <tbody>\n",
       "    <tr>\n",
       "      <th>57</th>\n",
       "      <td>37.0</td>\n",
       "    </tr>\n",
       "    <tr>\n",
       "      <th>58</th>\n",
       "      <td>177.0</td>\n",
       "    </tr>\n",
       "    <tr>\n",
       "      <th>59</th>\n",
       "      <td>102.0</td>\n",
       "    </tr>\n",
       "    <tr>\n",
       "      <th>60</th>\n",
       "      <td>122.0</td>\n",
       "    </tr>\n",
       "    <tr>\n",
       "      <th>61</th>\n",
       "      <td>127.0</td>\n",
       "    </tr>\n",
       "    <tr>\n",
       "      <th>62</th>\n",
       "      <td>88.0</td>\n",
       "    </tr>\n",
       "    <tr>\n",
       "      <th>63</th>\n",
       "      <td>50.0</td>\n",
       "    </tr>\n",
       "    <tr>\n",
       "      <th>64</th>\n",
       "      <td>37.0</td>\n",
       "    </tr>\n",
       "    <tr>\n",
       "      <th>65</th>\n",
       "      <td>18.0</td>\n",
       "    </tr>\n",
       "    <tr>\n",
       "      <th>66</th>\n",
       "      <td>12.0</td>\n",
       "    </tr>\n",
       "    <tr>\n",
       "      <th>67</th>\n",
       "      <td>10.0</td>\n",
       "    </tr>\n",
       "    <tr>\n",
       "      <th>68</th>\n",
       "      <td>3.0</td>\n",
       "    </tr>\n",
       "    <tr>\n",
       "      <th>69</th>\n",
       "      <td>6.0</td>\n",
       "    </tr>\n",
       "    <tr>\n",
       "      <th>70</th>\n",
       "      <td>4.0</td>\n",
       "    </tr>\n",
       "    <tr>\n",
       "      <th>71</th>\n",
       "      <td>3.0</td>\n",
       "    </tr>\n",
       "    <tr>\n",
       "      <th>72</th>\n",
       "      <td>7.0</td>\n",
       "    </tr>\n",
       "    <tr>\n",
       "      <th>73</th>\n",
       "      <td>0.0</td>\n",
       "    </tr>\n",
       "    <tr>\n",
       "      <th>74</th>\n",
       "      <td>2.0</td>\n",
       "    </tr>\n",
       "    <tr>\n",
       "      <th>75</th>\n",
       "      <td>0.0</td>\n",
       "    </tr>\n",
       "    <tr>\n",
       "      <th>76</th>\n",
       "      <td>0.0</td>\n",
       "    </tr>\n",
       "    <tr>\n",
       "      <th>77</th>\n",
       "      <td>2.0</td>\n",
       "    </tr>\n",
       "    <tr>\n",
       "      <th>78</th>\n",
       "      <td>7.0</td>\n",
       "    </tr>\n",
       "  </tbody>\n",
       "</table>\n",
       "</div>"
      ],
      "text/plain": [
       "              population\n",
       "income_group            \n",
       "57                  37.0\n",
       "58                 177.0\n",
       "59                 102.0\n",
       "60                 122.0\n",
       "61                 127.0\n",
       "62                  88.0\n",
       "63                  50.0\n",
       "64                  37.0\n",
       "65                  18.0\n",
       "66                  12.0\n",
       "67                  10.0\n",
       "68                   3.0\n",
       "69                   6.0\n",
       "70                   4.0\n",
       "71                   3.0\n",
       "72                   7.0\n",
       "73                   0.0\n",
       "74                   2.0\n",
       "75                   0.0\n",
       "76                   0.0\n",
       "77                   2.0\n",
       "78                   7.0"
      ]
     },
     "execution_count": 66,
     "metadata": {},
     "output_type": "execute_result"
    }
   ],
   "source": [
    "fb"
   ]
  },
  {
   "cell_type": "code",
   "execution_count": 67,
   "id": "a11850d9",
   "metadata": {},
   "outputs": [],
   "source": [
    "wb.index.name = 'income_group'\n",
    "fb.index.name = 'income_group'\n",
    "\n",
    "com = pd.concat([wb, fb])"
   ]
  },
  {
   "cell_type": "code",
   "execution_count": 68,
   "id": "aa5a734c",
   "metadata": {},
   "outputs": [],
   "source": [
    "com = com.reindex(range(0, 79)).interpolate('slinear')"
   ]
  },
  {
   "cell_type": "code",
   "execution_count": 69,
   "id": "4eb8bf5a",
   "metadata": {},
   "outputs": [],
   "source": [
    "plt.rcParams['figure.figsize'] = [10, 8]"
   ]
  },
  {
   "cell_type": "code",
   "execution_count": 70,
   "id": "324359d1",
   "metadata": {},
   "outputs": [
    {
     "data": {
      "text/plain": [
       "<AxesSubplot:xlabel='income_group'>"
      ]
     },
     "execution_count": 70,
     "metadata": {},
     "output_type": "execute_result"
    },
    {
     "data": {
      "image/png": "[encoded data removed]",
      "text/plain": [
       "<Figure size 720x576 with 1 Axes>"
      ]
     },
     "metadata": {},
     "output_type": "display_data"
    }
   ],
   "source": [
    "wb[46:]['population'].plot(color='r')\n",
    "fb['population'].plot(color='g')\n",
    "\n",
    "com[49:58]['population'].astype(int).plot(color='b')"
   ]
  },
  {
   "cell_type": "code",
   "execution_count": 71,
   "id": "d1e2d139",
   "metadata": {},
   "outputs": [
    {
     "data": {
      "text/plain": [
       "Index(['ago', 'are', 'arg', 'aus', 'aut', 'bel', 'bgd', 'bgr', 'bhs', 'blz',\n",
       "       'bra', 'brb', 'brn', 'can', 'che', 'chl', 'chn', 'col', 'cyp', 'cze',\n",
       "       'deu', 'dnk', 'dza', 'egy', 'esp', 'fin', 'fra', 'gbg', 'gbr', 'geo',\n",
       "       'grc', 'gtm', 'hkg', 'hun', 'idn', 'ind', 'irl', 'isl', 'isr', 'ita',\n",
       "       'jpn', 'kaz', 'khm', 'kna', 'kor', 'kwt', 'lbn', 'lie', 'ltu', 'mac',\n",
       "       'mar', 'mco', 'mex', 'mys', 'nga', 'nld', 'nor', 'npl', 'nzl', 'omn',\n",
       "       'pak', 'per', 'phl', 'pol', 'prt', 'qat', 'rou', 'rus', 'sau', 'sgp',\n",
       "       'svk', 'swe', 'swz', 'syc', 'tha', 'tur', 'twn', 'tza', 'uga', 'ukr',\n",
       "       'ury', 'usa', 'ven', 'vnm', 'zaf', 'zwe'],\n",
       "      dtype='object', name='geo')"
      ]
     },
     "execution_count": 71,
     "metadata": {},
     "output_type": "execute_result"
    }
   ],
   "source": [
    "res_.index.get_level_values('geo').unique()"
   ]
  },
  {
   "cell_type": "code",
   "execution_count": null,
   "id": "a210eb83",
   "metadata": {},
   "outputs": [],
   "source": []
  },
  {
   "cell_type": "code",
   "execution_count": 72,
   "id": "73f58a2c",
   "metadata": {},
   "outputs": [],
   "source": [
    "import sys\n",
    "sys.path.insert(0, '../scripts')"
   ]
  },
  {
   "cell_type": "code",
   "execution_count": 73,
   "id": "9bad6a84",
   "metadata": {},
   "outputs": [],
   "source": [
    "%load_ext autoreload"
   ]
  },
  {
   "cell_type": "code",
   "execution_count": 74,
   "id": "b9e6d6f8",
   "metadata": {},
   "outputs": [],
   "source": [
    "%autoreload 1"
   ]
  },
  {
   "cell_type": "code",
   "execution_count": 75,
   "id": "fadd4a58",
   "metadata": {},
   "outputs": [],
   "source": [
    "%aimport smoothlib"
   ]
  },
  {
   "cell_type": "code",
   "execution_count": 76,
   "id": "456fc407",
   "metadata": {},
   "outputs": [],
   "source": [
    "import smoothlib"
   ]
  },
  {
   "cell_type": "code",
   "execution_count": 77,
   "id": "6cafeebe",
   "metadata": {},
   "outputs": [],
   "source": [
    "from scipy.signal import savgol_filter\n",
    "import statsmodels.api as sm"
   ]
  },
  {
   "cell_type": "code",
   "execution_count": 78,
   "id": "85087dbe",
   "metadata": {},
   "outputs": [],
   "source": [
    "# we don't want to underestimate the millionaires! so, overestimate it!"
   ]
  },
  {
   "cell_type": "code",
   "execution_count": 384,
   "id": "a47a5245",
   "metadata": {},
   "outputs": [
    {
     "name": "stdout",
     "output_type": "stream",
     "text": [
      "/home/semio/src/work/gapminder/datasets/repo/github.com/open-numbers/ddf--gapminder--forbes_billionaires/etl/notebooks\r\n"
     ]
    }
   ],
   "source": [
    "!pwd"
   ]
  },
  {
   "cell_type": "code",
   "execution_count": null,
   "id": "57e9545d",
   "metadata": {},
   "outputs": [],
   "source": []
  },
  {
   "cell_type": "code",
   "execution_count": null,
   "id": "fc27dd32",
   "metadata": {},
   "outputs": [],
   "source": []
  },
  {
   "cell_type": "code",
   "execution_count": 79,
   "id": "d920b58b",
   "metadata": {},
   "outputs": [],
   "source": [
    "def create_shape(wb, fb):\n",
    "    # remove some wb's tailing datapoint which are lower than\n",
    "    # the maximum of fb's datapoint\n",
    "    # and also the head of fb's datapoints which are lower than the maximum\n",
    "    fb_input = fb['population'].copy()\n",
    "    wb_input = wb['population'].copy()\n",
    "    fb_max = fb_input.max()\n",
    "    for i, v in wb_input.iloc[::-1].iteritems():\n",
    "        if v > fb_max:\n",
    "            break        \n",
    "    wb_input = wb_input.loc[:i]\n",
    "    idmax = fb_input.idxmax()       \n",
    "    fb_input = fb_input.loc[idmax:]\n",
    "    fb_idx_max = fb.index.max()\n",
    "    \n",
    "    # inteoplate values. pchip is good at creating curves\n",
    "    com = pd.concat([wb_input, fb_input])\n",
    "    com = com.reindex(range(0, fb_idx_max+1))\n",
    "    com = com.interpolate('pchip')\n",
    "    \n",
    "    # smoothing\n",
    "    begin_idx = i - 5\n",
    "    ser = com[begin_idx:].copy()\n",
    "    ser_max = ser.max()\n",
    "    ser_input = ser / ser_max\n",
    "    # ser.loc[ser == 0] = 1\n",
    "    # ser_input = np.log(ser)\n",
    "    # print(ser)\n",
    "    # print(ser_input)\n",
    "    # MAYBE: use log version. But it's not working on first try.\n",
    "    \n",
    "    ser_new = smoothlib.run_smooth(ser_input, 8, 0)\n",
    "    ser_new = smoothlib.run_smooth(ser_new, 5, 0)\n",
    "    ser_new = smoothlib.run_smooth(ser_new, 3, 0)\n",
    "    # ser_new = smoothlib.run_smooth(ser_new, 3, 0)\n",
    "    ser_new = np.round(ser_new * ser_max)\n",
    "    # print(ser_new)\n",
    "    # ser_new = np.round(np.exp(ser_new))\n",
    "    \n",
    "#     print(begin_idx)\n",
    "#     print(wb_input.loc[:begin_idx].tail())\n",
    "#     print(ser_new.head())\n",
    "    res = pd.concat([wb_input.loc[:begin_idx-1], ser_new])\n",
    "    return res"
   ]
  },
  {
   "cell_type": "code",
   "execution_count": null,
   "id": "14aa5186",
   "metadata": {},
   "outputs": [],
   "source": []
  },
  {
   "cell_type": "code",
   "execution_count": 106,
   "id": "e758091d",
   "metadata": {},
   "outputs": [],
   "source": [
    "geo, time = ['gbr', 2020]\n",
    "fb = res_.loc[geo, time].copy()\n",
    "wb = im.loc[geo, time].copy()"
   ]
  },
  {
   "cell_type": "code",
   "execution_count": 107,
   "id": "bb1b766a",
   "metadata": {},
   "outputs": [],
   "source": [
    "wb.index.name = 'income_group'\n",
    "fb.index.name = 'income_group'"
   ]
  },
  {
   "cell_type": "code",
   "execution_count": 108,
   "id": "e70b4f50",
   "metadata": {},
   "outputs": [],
   "source": [
    "res_shape = create_shape(wb, fb)"
   ]
  },
  {
   "cell_type": "code",
   "execution_count": 110,
   "id": "55081e16",
   "metadata": {},
   "outputs": [
    {
     "data": {
      "text/plain": [
       "<AxesSubplot:xlabel='income_group'>"
      ]
     },
     "execution_count": 110,
     "metadata": {},
     "output_type": "execute_result"
    },
    {
     "data": {
      "image/png": "[encoded data removed]",
      "text/plain": [
       "<Figure size 720x576 with 1 Axes>"
      ]
     },
     "metadata": {},
     "output_type": "display_data"
    }
   ],
   "source": [
    "wb[45:]['population'].plot(color='r')\n",
    "fb['population'].plot(color='g')\n",
    "\n",
    "# com[49:58]['population'].astype(int).plot(color='b')\n",
    "res_shape.loc[45:].plot()"
   ]
  },
  {
   "cell_type": "code",
   "execution_count": 94,
   "id": "baa3ea3b",
   "metadata": {},
   "outputs": [
    {
     "data": {
      "text/plain": [
       "<AxesSubplot:xlabel='income_group'>"
      ]
     },
     "execution_count": 94,
     "metadata": {},
     "output_type": "execute_result"
    },
    {
     "data": {
      "image/png": "[encoded data removed]",
      "text/plain": [
       "<Figure size 720x576 with 1 Axes>"
      ]
     },
     "metadata": {},
     "output_type": "display_data"
    }
   ],
   "source": [
    "k = 46\n",
    "wb['population'].loc[k:].plot()\n",
    "res_shape.loc[k:].plot()"
   ]
  },
  {
   "cell_type": "code",
   "execution_count": 111,
   "id": "41c601a3",
   "metadata": {},
   "outputs": [
    {
     "data": {
      "text/plain": [
       "income_group\n",
       "46    413.0\n",
       "47    155.0\n",
       "48     80.0\n",
       "49     42.0\n",
       "50     41.0\n",
       "51     40.0\n",
       "52     40.0\n",
       "53     39.0\n",
       "54     39.0\n",
       "55     39.0\n",
       "56     36.0\n",
       "57     32.0\n",
       "58     27.0\n",
       "59     23.0\n",
       "60     19.0\n",
       "61     15.0\n",
       "62     11.0\n",
       "63      9.0\n",
       "64      7.0\n",
       "65      5.0\n",
       "66      4.0\n",
       "67      3.0\n",
       "68      2.0\n",
       "69      1.0\n",
       "70      1.0\n",
       "71      0.0\n",
       "72      0.0\n",
       "dtype: float64"
      ]
     },
     "execution_count": 111,
     "metadata": {},
     "output_type": "execute_result"
    }
   ],
   "source": [
    "res_shape.loc[k:]"
   ]
  },
  {
   "cell_type": "code",
   "execution_count": 112,
   "id": "85a010cf",
   "metadata": {},
   "outputs": [],
   "source": [
    "im.index.names = ['geo', 'year', 'income_group']"
   ]
  },
  {
   "cell_type": "code",
   "execution_count": 113,
   "id": "cd4a9b20",
   "metadata": {},
   "outputs": [
    {
     "data": {
      "text/html": [
       "<div>\n",
       "<style scoped>\n",
       "    .dataframe tbody tr th:only-of-type {\n",
       "        vertical-align: middle;\n",
       "    }\n",
       "\n",
       "    .dataframe tbody tr th {\n",
       "        vertical-align: top;\n",
       "    }\n",
       "\n",
       "    .dataframe thead th {\n",
       "        text-align: right;\n",
       "    }\n",
       "</style>\n",
       "<table border=\"1\" class=\"dataframe\">\n",
       "  <thead>\n",
       "    <tr style=\"text-align: right;\">\n",
       "      <th></th>\n",
       "      <th></th>\n",
       "      <th></th>\n",
       "      <th>population</th>\n",
       "    </tr>\n",
       "    <tr>\n",
       "      <th>geo</th>\n",
       "      <th>year</th>\n",
       "      <th>income_group</th>\n",
       "      <th></th>\n",
       "    </tr>\n",
       "  </thead>\n",
       "  <tbody>\n",
       "    <tr>\n",
       "      <th rowspan=\"5\" valign=\"top\">afg</th>\n",
       "      <th rowspan=\"5\" valign=\"top\">1800</th>\n",
       "      <th>0</th>\n",
       "      <td>35</td>\n",
       "    </tr>\n",
       "    <tr>\n",
       "      <th>1</th>\n",
       "      <td>56</td>\n",
       "    </tr>\n",
       "    <tr>\n",
       "      <th>2</th>\n",
       "      <td>92</td>\n",
       "    </tr>\n",
       "    <tr>\n",
       "      <th>3</th>\n",
       "      <td>154</td>\n",
       "    </tr>\n",
       "    <tr>\n",
       "      <th>4</th>\n",
       "      <td>266</td>\n",
       "    </tr>\n",
       "    <tr>\n",
       "      <th>...</th>\n",
       "      <th>...</th>\n",
       "      <th>...</th>\n",
       "      <td>...</td>\n",
       "    </tr>\n",
       "    <tr>\n",
       "      <th rowspan=\"5\" valign=\"top\">zwe</th>\n",
       "      <th rowspan=\"5\" valign=\"top\">2050</th>\n",
       "      <th>45</th>\n",
       "      <td>443</td>\n",
       "    </tr>\n",
       "    <tr>\n",
       "      <th>46</th>\n",
       "      <td>255</td>\n",
       "    </tr>\n",
       "    <tr>\n",
       "      <th>47</th>\n",
       "      <td>139</td>\n",
       "    </tr>\n",
       "    <tr>\n",
       "      <th>48</th>\n",
       "      <td>71</td>\n",
       "    </tr>\n",
       "    <tr>\n",
       "      <th>49</th>\n",
       "      <td>34</td>\n",
       "    </tr>\n",
       "  </tbody>\n",
       "</table>\n",
       "<p>2447250 rows × 1 columns</p>\n",
       "</div>"
      ],
      "text/plain": [
       "                       population\n",
       "geo year income_group            \n",
       "afg 1800 0                     35\n",
       "         1                     56\n",
       "         2                     92\n",
       "         3                    154\n",
       "         4                    266\n",
       "...                           ...\n",
       "zwe 2050 45                   443\n",
       "         46                   255\n",
       "         47                   139\n",
       "         48                    71\n",
       "         49                    34\n",
       "\n",
       "[2447250 rows x 1 columns]"
      ]
     },
     "execution_count": 113,
     "metadata": {},
     "output_type": "execute_result"
    }
   ],
   "source": [
    "im"
   ]
  },
  {
   "cell_type": "code",
   "execution_count": 114,
   "id": "d6845c03",
   "metadata": {},
   "outputs": [
    {
     "data": {
      "text/html": [
       "<div>\n",
       "<style scoped>\n",
       "    .dataframe tbody tr th:only-of-type {\n",
       "        vertical-align: middle;\n",
       "    }\n",
       "\n",
       "    .dataframe tbody tr th {\n",
       "        vertical-align: top;\n",
       "    }\n",
       "\n",
       "    .dataframe thead th {\n",
       "        text-align: right;\n",
       "    }\n",
       "</style>\n",
       "<table border=\"1\" class=\"dataframe\">\n",
       "  <thead>\n",
       "    <tr style=\"text-align: right;\">\n",
       "      <th></th>\n",
       "      <th></th>\n",
       "      <th></th>\n",
       "      <th>population</th>\n",
       "    </tr>\n",
       "    <tr>\n",
       "      <th>geo</th>\n",
       "      <th>year</th>\n",
       "      <th>income_group</th>\n",
       "      <th></th>\n",
       "    </tr>\n",
       "  </thead>\n",
       "  <tbody>\n",
       "    <tr>\n",
       "      <th rowspan=\"5\" valign=\"top\">ago</th>\n",
       "      <th>1963</th>\n",
       "      <th>60</th>\n",
       "      <td>0.0</td>\n",
       "    </tr>\n",
       "    <tr>\n",
       "      <th rowspan=\"2\" valign=\"top\">1964</th>\n",
       "      <th>60</th>\n",
       "      <td>0.0</td>\n",
       "    </tr>\n",
       "    <tr>\n",
       "      <th>62</th>\n",
       "      <td>1.0</td>\n",
       "    </tr>\n",
       "    <tr>\n",
       "      <th rowspan=\"2\" valign=\"top\">1965</th>\n",
       "      <th>60</th>\n",
       "      <td>0.0</td>\n",
       "    </tr>\n",
       "    <tr>\n",
       "      <th>62</th>\n",
       "      <td>1.0</td>\n",
       "    </tr>\n",
       "    <tr>\n",
       "      <th>...</th>\n",
       "      <th>...</th>\n",
       "      <th>...</th>\n",
       "      <td>...</td>\n",
       "    </tr>\n",
       "    <tr>\n",
       "      <th rowspan=\"5\" valign=\"top\">zwe</th>\n",
       "      <th rowspan=\"2\" valign=\"top\">2069</th>\n",
       "      <th>59</th>\n",
       "      <td>0.0</td>\n",
       "    </tr>\n",
       "    <tr>\n",
       "      <th>61</th>\n",
       "      <td>0.0</td>\n",
       "    </tr>\n",
       "    <tr>\n",
       "      <th rowspan=\"2\" valign=\"top\">2070</th>\n",
       "      <th>59</th>\n",
       "      <td>0.0</td>\n",
       "    </tr>\n",
       "    <tr>\n",
       "      <th>61</th>\n",
       "      <td>0.0</td>\n",
       "    </tr>\n",
       "    <tr>\n",
       "      <th>2071</th>\n",
       "      <th>61</th>\n",
       "      <td>0.0</td>\n",
       "    </tr>\n",
       "  </tbody>\n",
       "</table>\n",
       "<p>88203 rows × 1 columns</p>\n",
       "</div>"
      ],
      "text/plain": [
       "                       population\n",
       "geo year income_group            \n",
       "ago 1963 60                   0.0\n",
       "    1964 60                   0.0\n",
       "         62                   1.0\n",
       "    1965 60                   0.0\n",
       "         62                   1.0\n",
       "...                           ...\n",
       "zwe 2069 59                   0.0\n",
       "         61                   0.0\n",
       "    2070 59                   0.0\n",
       "         61                   0.0\n",
       "    2071 61                   0.0\n",
       "\n",
       "[88203 rows x 1 columns]"
      ]
     },
     "execution_count": 114,
     "metadata": {},
     "output_type": "execute_result"
    }
   ],
   "source": [
    "res_"
   ]
  },
  {
   "cell_type": "code",
   "execution_count": 115,
   "id": "60702475",
   "metadata": {},
   "outputs": [],
   "source": [
    "im2 = im.reset_index(level=[2])\n",
    "res_2 = res_.reset_index(level=[2])"
   ]
  },
  {
   "cell_type": "code",
   "execution_count": 116,
   "id": "24712a7b",
   "metadata": {},
   "outputs": [],
   "source": [
    "both_idx = im2.index.intersection(res_2.index)"
   ]
  },
  {
   "cell_type": "code",
   "execution_count": 117,
   "id": "42e9d968",
   "metadata": {},
   "outputs": [
    {
     "data": {
      "text/plain": [
       "MultiIndex([('ago', 1963),\n",
       "            ('ago', 1964),\n",
       "            ('ago', 1965),\n",
       "            ('ago', 1966),\n",
       "            ('ago', 1967),\n",
       "            ('ago', 1968),\n",
       "            ('ago', 1969),\n",
       "            ('ago', 1970),\n",
       "            ('ago', 1971),\n",
       "            ('ago', 1972),\n",
       "            ...\n",
       "            ('zwe', 2041),\n",
       "            ('zwe', 2042),\n",
       "            ('zwe', 2043),\n",
       "            ('zwe', 2044),\n",
       "            ('zwe', 2045),\n",
       "            ('zwe', 2046),\n",
       "            ('zwe', 2047),\n",
       "            ('zwe', 2048),\n",
       "            ('zwe', 2049),\n",
       "            ('zwe', 2050)],\n",
       "           names=['geo', 'year'], length=8034)"
      ]
     },
     "execution_count": 117,
     "metadata": {},
     "output_type": "execute_result"
    }
   ],
   "source": [
    "both_idx"
   ]
  },
  {
   "cell_type": "code",
   "execution_count": 118,
   "id": "3b686c6a",
   "metadata": {},
   "outputs": [
    {
     "data": {
      "text/plain": [
       "('ago', 1963)"
      ]
     },
     "execution_count": 118,
     "metadata": {},
     "output_type": "execute_result"
    }
   ],
   "source": [
    "both_idx[0]"
   ]
  },
  {
   "cell_type": "code",
   "execution_count": 119,
   "id": "fc181a77",
   "metadata": {},
   "outputs": [
    {
     "data": {
      "text/plain": [
       "MultiIndex([('ago', 1963),\n",
       "            ('ago', 1964),\n",
       "            ('ago', 1965),\n",
       "            ('ago', 1966),\n",
       "            ('ago', 1967),\n",
       "            ('ago', 1968),\n",
       "            ('ago', 1969),\n",
       "            ('ago', 1970),\n",
       "            ('ago', 1971),\n",
       "            ('ago', 1972),\n",
       "            ...\n",
       "            ('zwe', 2041),\n",
       "            ('zwe', 2042),\n",
       "            ('zwe', 2043),\n",
       "            ('zwe', 2044),\n",
       "            ('zwe', 2045),\n",
       "            ('zwe', 2046),\n",
       "            ('zwe', 2047),\n",
       "            ('zwe', 2048),\n",
       "            ('zwe', 2049),\n",
       "            ('zwe', 2050)],\n",
       "           names=['geo', 'year'], length=8034)"
      ]
     },
     "execution_count": 119,
     "metadata": {},
     "output_type": "execute_result"
    }
   ],
   "source": [
    "both_idx.unique()"
   ]
  },
  {
   "cell_type": "code",
   "execution_count": null,
   "id": "dc0e16c3",
   "metadata": {},
   "outputs": [],
   "source": []
  },
  {
   "cell_type": "code",
   "execution_count": null,
   "id": "2fa86fe8",
   "metadata": {},
   "outputs": [],
   "source": []
  },
  {
   "cell_type": "code",
   "execution_count": 120,
   "id": "5d3b56a0",
   "metadata": {},
   "outputs": [
    {
     "name": "stderr",
     "output_type": "stream",
     "text": [
      "/home/semio/.pyvenv/gapminder/lib64/python3.10/site-packages/scipy/optimize/_minpack_py.py:833: OptimizeWarning: Covariance of the parameters could not be estimated\n",
      "  warnings.warn('Covariance of the parameters could not be estimated',\n",
      "/home/semio/.pyvenv/gapminder/lib64/python3.10/site-packages/scipy/optimize/_minpack_py.py:833: OptimizeWarning: Covariance of the parameters could not be estimated\n",
      "  warnings.warn('Covariance of the parameters could not be estimated',\n"
     ]
    }
   ],
   "source": [
    "# do create shape for all geo time\n",
    "\n",
    "res = []\n",
    "\n",
    "for idx in both_idx:\n",
    "    geo, time = idx\n",
    "    wb = im.loc[geo, time, :].copy()\n",
    "    fb = res_.loc[geo, time, :].copy()\n",
    "    res_shape = create_shape(wb, fb)\n",
    "    res_shape.name = 'population'\n",
    "    res_shape = res_shape.to_frame()\n",
    "    res_shape['geo'] = geo\n",
    "    res_shape['time'] = time\n",
    "    res_shape = res_shape.set_index(['geo', 'time'], append=True)\n",
    "    res.append(res_shape)"
   ]
  },
  {
   "cell_type": "code",
   "execution_count": 121,
   "id": "67e0de70",
   "metadata": {},
   "outputs": [],
   "source": [
    "res = pd.concat(res)"
   ]
  },
  {
   "cell_type": "code",
   "execution_count": 122,
   "id": "285900e9",
   "metadata": {},
   "outputs": [],
   "source": [
    "res = res.reorder_levels([1, 2, 0])"
   ]
  },
  {
   "cell_type": "code",
   "execution_count": 123,
   "id": "0bcf36f9",
   "metadata": {},
   "outputs": [
    {
     "data": {
      "text/html": [
       "<div>\n",
       "<style scoped>\n",
       "    .dataframe tbody tr th:only-of-type {\n",
       "        vertical-align: middle;\n",
       "    }\n",
       "\n",
       "    .dataframe tbody tr th {\n",
       "        vertical-align: top;\n",
       "    }\n",
       "\n",
       "    .dataframe thead th {\n",
       "        text-align: right;\n",
       "    }\n",
       "</style>\n",
       "<table border=\"1\" class=\"dataframe\">\n",
       "  <thead>\n",
       "    <tr style=\"text-align: right;\">\n",
       "      <th></th>\n",
       "      <th></th>\n",
       "      <th></th>\n",
       "      <th>population</th>\n",
       "    </tr>\n",
       "    <tr>\n",
       "      <th>geo</th>\n",
       "      <th>time</th>\n",
       "      <th>income_group</th>\n",
       "      <th></th>\n",
       "    </tr>\n",
       "  </thead>\n",
       "  <tbody>\n",
       "    <tr>\n",
       "      <th rowspan=\"5\" valign=\"top\">ago</th>\n",
       "      <th rowspan=\"5\" valign=\"top\">1963</th>\n",
       "      <th>0</th>\n",
       "      <td>0.0</td>\n",
       "    </tr>\n",
       "    <tr>\n",
       "      <th>1</th>\n",
       "      <td>41.0</td>\n",
       "    </tr>\n",
       "    <tr>\n",
       "      <th>2</th>\n",
       "      <td>254.0</td>\n",
       "    </tr>\n",
       "    <tr>\n",
       "      <th>3</th>\n",
       "      <td>462.0</td>\n",
       "    </tr>\n",
       "    <tr>\n",
       "      <th>4</th>\n",
       "      <td>791.0</td>\n",
       "    </tr>\n",
       "    <tr>\n",
       "      <th>...</th>\n",
       "      <th>...</th>\n",
       "      <th>...</th>\n",
       "      <td>...</td>\n",
       "    </tr>\n",
       "    <tr>\n",
       "      <th rowspan=\"5\" valign=\"top\">zwe</th>\n",
       "      <th rowspan=\"5\" valign=\"top\">2050</th>\n",
       "      <th>58</th>\n",
       "      <td>4.0</td>\n",
       "    </tr>\n",
       "    <tr>\n",
       "      <th>59</th>\n",
       "      <td>3.0</td>\n",
       "    </tr>\n",
       "    <tr>\n",
       "      <th>60</th>\n",
       "      <td>2.0</td>\n",
       "    </tr>\n",
       "    <tr>\n",
       "      <th>61</th>\n",
       "      <td>1.0</td>\n",
       "    </tr>\n",
       "    <tr>\n",
       "      <th>62</th>\n",
       "      <td>0.0</td>\n",
       "    </tr>\n",
       "  </tbody>\n",
       "</table>\n",
       "<p>539588 rows × 1 columns</p>\n",
       "</div>"
      ],
      "text/plain": [
       "                       population\n",
       "geo time income_group            \n",
       "ago 1963 0                    0.0\n",
       "         1                   41.0\n",
       "         2                  254.0\n",
       "         3                  462.0\n",
       "         4                  791.0\n",
       "...                           ...\n",
       "zwe 2050 58                   4.0\n",
       "         59                   3.0\n",
       "         60                   2.0\n",
       "         61                   1.0\n",
       "         62                   0.0\n",
       "\n",
       "[539588 rows x 1 columns]"
      ]
     },
     "execution_count": 123,
     "metadata": {},
     "output_type": "execute_result"
    }
   ],
   "source": [
    "res"
   ]
  },
  {
   "cell_type": "code",
   "execution_count": 124,
   "id": "af79d01f",
   "metadata": {},
   "outputs": [],
   "source": [
    "wb_other = im2.loc[~im2.index.isin(both_idx)].set_index('income_group', append=True)"
   ]
  },
  {
   "cell_type": "code",
   "execution_count": 125,
   "id": "cf2fa21c",
   "metadata": {},
   "outputs": [],
   "source": [
    "wb_other.index.names = ['geo', 'time', 'income_group']"
   ]
  },
  {
   "cell_type": "code",
   "execution_count": 126,
   "id": "a42c5253",
   "metadata": {},
   "outputs": [],
   "source": [
    "res_all = pd.concat([wb_other, res])"
   ]
  },
  {
   "cell_type": "code",
   "execution_count": 127,
   "id": "5e5edb6e",
   "metadata": {},
   "outputs": [
    {
     "data": {
      "text/plain": [
       "MultiIndex([], names=['geo', 'time', 'income_group'])"
      ]
     },
     "execution_count": 127,
     "metadata": {},
     "output_type": "execute_result"
    }
   ],
   "source": [
    "res.index.intersection(wb_other.index)"
   ]
  },
  {
   "cell_type": "code",
   "execution_count": 128,
   "id": "9df1f436",
   "metadata": {},
   "outputs": [
    {
     "data": {
      "text/plain": [
       "FrozenList(['geo', 'time', 'income_group'])"
      ]
     },
     "execution_count": 128,
     "metadata": {},
     "output_type": "execute_result"
    }
   ],
   "source": [
    "res.index.names"
   ]
  },
  {
   "cell_type": "code",
   "execution_count": 129,
   "id": "e2ccea07",
   "metadata": {},
   "outputs": [
    {
     "data": {
      "text/plain": [
       "FrozenList(['geo', 'time', 'income_group'])"
      ]
     },
     "execution_count": 129,
     "metadata": {},
     "output_type": "execute_result"
    }
   ],
   "source": [
    "wb_other.index.names"
   ]
  },
  {
   "cell_type": "code",
   "execution_count": 130,
   "id": "7f826259",
   "metadata": {},
   "outputs": [],
   "source": [
    "res_all = res_all.sort_index()"
   ]
  },
  {
   "cell_type": "code",
   "execution_count": 131,
   "id": "26a6bb18",
   "metadata": {},
   "outputs": [],
   "source": [
    "res_all['population'] = res_all['population'].astype(int)"
   ]
  },
  {
   "cell_type": "code",
   "execution_count": 132,
   "id": "8be12c22",
   "metadata": {},
   "outputs": [
    {
     "data": {
      "text/html": [
       "<div>\n",
       "<style scoped>\n",
       "    .dataframe tbody tr th:only-of-type {\n",
       "        vertical-align: middle;\n",
       "    }\n",
       "\n",
       "    .dataframe tbody tr th {\n",
       "        vertical-align: top;\n",
       "    }\n",
       "\n",
       "    .dataframe thead th {\n",
       "        text-align: right;\n",
       "    }\n",
       "</style>\n",
       "<table border=\"1\" class=\"dataframe\">\n",
       "  <thead>\n",
       "    <tr style=\"text-align: right;\">\n",
       "      <th></th>\n",
       "      <th></th>\n",
       "      <th></th>\n",
       "      <th>population</th>\n",
       "    </tr>\n",
       "    <tr>\n",
       "      <th>geo</th>\n",
       "      <th>time</th>\n",
       "      <th>income_group</th>\n",
       "      <th></th>\n",
       "    </tr>\n",
       "  </thead>\n",
       "  <tbody>\n",
       "    <tr>\n",
       "      <th rowspan=\"5\" valign=\"top\">afg</th>\n",
       "      <th rowspan=\"5\" valign=\"top\">1800</th>\n",
       "      <th>0</th>\n",
       "      <td>35</td>\n",
       "    </tr>\n",
       "    <tr>\n",
       "      <th>1</th>\n",
       "      <td>56</td>\n",
       "    </tr>\n",
       "    <tr>\n",
       "      <th>2</th>\n",
       "      <td>92</td>\n",
       "    </tr>\n",
       "    <tr>\n",
       "      <th>3</th>\n",
       "      <td>154</td>\n",
       "    </tr>\n",
       "    <tr>\n",
       "      <th>4</th>\n",
       "      <td>266</td>\n",
       "    </tr>\n",
       "    <tr>\n",
       "      <th>...</th>\n",
       "      <th>...</th>\n",
       "      <th>...</th>\n",
       "      <td>...</td>\n",
       "    </tr>\n",
       "    <tr>\n",
       "      <th rowspan=\"5\" valign=\"top\">zwe</th>\n",
       "      <th rowspan=\"5\" valign=\"top\">2050</th>\n",
       "      <th>58</th>\n",
       "      <td>4</td>\n",
       "    </tr>\n",
       "    <tr>\n",
       "      <th>59</th>\n",
       "      <td>3</td>\n",
       "    </tr>\n",
       "    <tr>\n",
       "      <th>60</th>\n",
       "      <td>2</td>\n",
       "    </tr>\n",
       "    <tr>\n",
       "      <th>61</th>\n",
       "      <td>1</td>\n",
       "    </tr>\n",
       "    <tr>\n",
       "      <th>62</th>\n",
       "      <td>0</td>\n",
       "    </tr>\n",
       "  </tbody>\n",
       "</table>\n",
       "<p>2585138 rows × 1 columns</p>\n",
       "</div>"
      ],
      "text/plain": [
       "                       population\n",
       "geo time income_group            \n",
       "afg 1800 0                     35\n",
       "         1                     56\n",
       "         2                     92\n",
       "         3                    154\n",
       "         4                    266\n",
       "...                           ...\n",
       "zwe 2050 58                     4\n",
       "         59                     3\n",
       "         60                     2\n",
       "         61                     1\n",
       "         62                     0\n",
       "\n",
       "[2585138 rows x 1 columns]"
      ]
     },
     "execution_count": 132,
     "metadata": {},
     "output_type": "execute_result"
    }
   ],
   "source": [
    "res_all"
   ]
  },
  {
   "cell_type": "code",
   "execution_count": 133,
   "id": "02c5b8e3",
   "metadata": {},
   "outputs": [
    {
     "data": {
      "text/html": [
       "<div>\n",
       "<style scoped>\n",
       "    .dataframe tbody tr th:only-of-type {\n",
       "        vertical-align: middle;\n",
       "    }\n",
       "\n",
       "    .dataframe tbody tr th {\n",
       "        vertical-align: top;\n",
       "    }\n",
       "\n",
       "    .dataframe thead th {\n",
       "        text-align: right;\n",
       "    }\n",
       "</style>\n",
       "<table border=\"1\" class=\"dataframe\">\n",
       "  <thead>\n",
       "    <tr style=\"text-align: right;\">\n",
       "      <th></th>\n",
       "      <th></th>\n",
       "      <th></th>\n",
       "      <th>population</th>\n",
       "    </tr>\n",
       "    <tr>\n",
       "      <th>geo</th>\n",
       "      <th>time</th>\n",
       "      <th>income_group</th>\n",
       "      <th></th>\n",
       "    </tr>\n",
       "  </thead>\n",
       "  <tbody>\n",
       "    <tr>\n",
       "      <th rowspan=\"33\" valign=\"top\">usa</th>\n",
       "      <th rowspan=\"33\" valign=\"top\">2020</th>\n",
       "      <th>46</th>\n",
       "      <td>1282</td>\n",
       "    </tr>\n",
       "    <tr>\n",
       "      <th>47</th>\n",
       "      <td>1069</td>\n",
       "    </tr>\n",
       "    <tr>\n",
       "      <th>48</th>\n",
       "      <td>884</td>\n",
       "    </tr>\n",
       "    <tr>\n",
       "      <th>49</th>\n",
       "      <td>738</td>\n",
       "    </tr>\n",
       "    <tr>\n",
       "      <th>50</th>\n",
       "      <td>626</td>\n",
       "    </tr>\n",
       "    <tr>\n",
       "      <th>51</th>\n",
       "      <td>547</td>\n",
       "    </tr>\n",
       "    <tr>\n",
       "      <th>52</th>\n",
       "      <td>482</td>\n",
       "    </tr>\n",
       "    <tr>\n",
       "      <th>53</th>\n",
       "      <td>429</td>\n",
       "    </tr>\n",
       "    <tr>\n",
       "      <th>54</th>\n",
       "      <td>384</td>\n",
       "    </tr>\n",
       "    <tr>\n",
       "      <th>55</th>\n",
       "      <td>337</td>\n",
       "    </tr>\n",
       "    <tr>\n",
       "      <th>56</th>\n",
       "      <td>287</td>\n",
       "    </tr>\n",
       "    <tr>\n",
       "      <th>57</th>\n",
       "      <td>240</td>\n",
       "    </tr>\n",
       "    <tr>\n",
       "      <th>58</th>\n",
       "      <td>199</td>\n",
       "    </tr>\n",
       "    <tr>\n",
       "      <th>59</th>\n",
       "      <td>164</td>\n",
       "    </tr>\n",
       "    <tr>\n",
       "      <th>60</th>\n",
       "      <td>134</td>\n",
       "    </tr>\n",
       "    <tr>\n",
       "      <th>61</th>\n",
       "      <td>108</td>\n",
       "    </tr>\n",
       "    <tr>\n",
       "      <th>62</th>\n",
       "      <td>86</td>\n",
       "    </tr>\n",
       "    <tr>\n",
       "      <th>63</th>\n",
       "      <td>67</td>\n",
       "    </tr>\n",
       "    <tr>\n",
       "      <th>64</th>\n",
       "      <td>52</td>\n",
       "    </tr>\n",
       "    <tr>\n",
       "      <th>65</th>\n",
       "      <td>39</td>\n",
       "    </tr>\n",
       "    <tr>\n",
       "      <th>66</th>\n",
       "      <td>29</td>\n",
       "    </tr>\n",
       "    <tr>\n",
       "      <th>67</th>\n",
       "      <td>20</td>\n",
       "    </tr>\n",
       "    <tr>\n",
       "      <th>68</th>\n",
       "      <td>14</td>\n",
       "    </tr>\n",
       "    <tr>\n",
       "      <th>69</th>\n",
       "      <td>10</td>\n",
       "    </tr>\n",
       "    <tr>\n",
       "      <th>70</th>\n",
       "      <td>7</td>\n",
       "    </tr>\n",
       "    <tr>\n",
       "      <th>71</th>\n",
       "      <td>6</td>\n",
       "    </tr>\n",
       "    <tr>\n",
       "      <th>72</th>\n",
       "      <td>4</td>\n",
       "    </tr>\n",
       "    <tr>\n",
       "      <th>73</th>\n",
       "      <td>4</td>\n",
       "    </tr>\n",
       "    <tr>\n",
       "      <th>74</th>\n",
       "      <td>3</td>\n",
       "    </tr>\n",
       "    <tr>\n",
       "      <th>75</th>\n",
       "      <td>2</td>\n",
       "    </tr>\n",
       "    <tr>\n",
       "      <th>76</th>\n",
       "      <td>2</td>\n",
       "    </tr>\n",
       "    <tr>\n",
       "      <th>77</th>\n",
       "      <td>2</td>\n",
       "    </tr>\n",
       "    <tr>\n",
       "      <th>78</th>\n",
       "      <td>1</td>\n",
       "    </tr>\n",
       "  </tbody>\n",
       "</table>\n",
       "</div>"
      ],
      "text/plain": [
       "                       population\n",
       "geo time income_group            \n",
       "usa 2020 46                  1282\n",
       "         47                  1069\n",
       "         48                   884\n",
       "         49                   738\n",
       "         50                   626\n",
       "         51                   547\n",
       "         52                   482\n",
       "         53                   429\n",
       "         54                   384\n",
       "         55                   337\n",
       "         56                   287\n",
       "         57                   240\n",
       "         58                   199\n",
       "         59                   164\n",
       "         60                   134\n",
       "         61                   108\n",
       "         62                    86\n",
       "         63                    67\n",
       "         64                    52\n",
       "         65                    39\n",
       "         66                    29\n",
       "         67                    20\n",
       "         68                    14\n",
       "         69                    10\n",
       "         70                     7\n",
       "         71                     6\n",
       "         72                     4\n",
       "         73                     4\n",
       "         74                     3\n",
       "         75                     2\n",
       "         76                     2\n",
       "         77                     2\n",
       "         78                     1"
      ]
     },
     "execution_count": 133,
     "metadata": {},
     "output_type": "execute_result"
    }
   ],
   "source": [
    "res_all.loc['usa', 2020, 46:]"
   ]
  },
  {
   "cell_type": "code",
   "execution_count": 138,
   "id": "f95f388c",
   "metadata": {},
   "outputs": [
    {
     "data": {
      "text/plain": [
       "<AxesSubplot:xlabel='geo,time,income_group'>"
      ]
     },
     "execution_count": 138,
     "metadata": {},
     "output_type": "execute_result"
    },
    {
     "data": {
      "image/png": "[encoded data removed]",
      "text/plain": [
       "<Figure size 720x576 with 1 Axes>"
      ]
     },
     "metadata": {},
     "output_type": "display_data"
    }
   ],
   "source": [
    "res_all.loc['usa', 2020, 50:]['population'].plot(color='r')\n",
    "res_all.loc['usa', 2050, 50:]['population'].plot(color='b')  # room for imporvment?"
   ]
  },
  {
   "cell_type": "code",
   "execution_count": 139,
   "id": "4c69c5f4",
   "metadata": {},
   "outputs": [],
   "source": [
    "res_all.to_csv('../../ddf--datapoints--population_extrapolated--by--geo--time--income_group.csv')"
   ]
  },
  {
   "cell_type": "code",
   "execution_count": null,
   "id": "b121b7a3",
   "metadata": {},
   "outputs": [],
   "source": []
  },
  {
   "cell_type": "code",
   "execution_count": null,
   "id": "32f2e11f",
   "metadata": {},
   "outputs": [],
   "source": []
  },
  {
   "cell_type": "code",
   "execution_count": 140,
   "id": "e2f2a919",
   "metadata": {},
   "outputs": [],
   "source": [
    "# create income mountain"
   ]
  },
  {
   "cell_type": "code",
   "execution_count": 141,
   "id": "dba7b2bf",
   "metadata": {},
   "outputs": [],
   "source": [
    "im_all = res_all.unstack()"
   ]
  },
  {
   "cell_type": "code",
   "execution_count": 142,
   "id": "b11ed9f9",
   "metadata": {},
   "outputs": [],
   "source": [
    "im_all = im_all.fillna(0)"
   ]
  },
  {
   "cell_type": "code",
   "execution_count": 143,
   "id": "401f57dd",
   "metadata": {},
   "outputs": [
    {
     "data": {
      "text/html": [
       "<div>\n",
       "<style scoped>\n",
       "    .dataframe tbody tr th:only-of-type {\n",
       "        vertical-align: middle;\n",
       "    }\n",
       "\n",
       "    .dataframe tbody tr th {\n",
       "        vertical-align: top;\n",
       "    }\n",
       "\n",
       "    .dataframe thead tr th {\n",
       "        text-align: left;\n",
       "    }\n",
       "\n",
       "    .dataframe thead tr:last-of-type th {\n",
       "        text-align: right;\n",
       "    }\n",
       "</style>\n",
       "<table border=\"1\" class=\"dataframe\">\n",
       "  <thead>\n",
       "    <tr>\n",
       "      <th></th>\n",
       "      <th></th>\n",
       "      <th colspan=\"21\" halign=\"left\">population</th>\n",
       "    </tr>\n",
       "    <tr>\n",
       "      <th></th>\n",
       "      <th>income_group</th>\n",
       "      <th>0</th>\n",
       "      <th>1</th>\n",
       "      <th>2</th>\n",
       "      <th>3</th>\n",
       "      <th>4</th>\n",
       "      <th>5</th>\n",
       "      <th>6</th>\n",
       "      <th>7</th>\n",
       "      <th>8</th>\n",
       "      <th>9</th>\n",
       "      <th>...</th>\n",
       "      <th>70</th>\n",
       "      <th>71</th>\n",
       "      <th>72</th>\n",
       "      <th>73</th>\n",
       "      <th>74</th>\n",
       "      <th>75</th>\n",
       "      <th>76</th>\n",
       "      <th>77</th>\n",
       "      <th>78</th>\n",
       "      <th>79</th>\n",
       "    </tr>\n",
       "    <tr>\n",
       "      <th>geo</th>\n",
       "      <th>time</th>\n",
       "      <th></th>\n",
       "      <th></th>\n",
       "      <th></th>\n",
       "      <th></th>\n",
       "      <th></th>\n",
       "      <th></th>\n",
       "      <th></th>\n",
       "      <th></th>\n",
       "      <th></th>\n",
       "      <th></th>\n",
       "      <th></th>\n",
       "      <th></th>\n",
       "      <th></th>\n",
       "      <th></th>\n",
       "      <th></th>\n",
       "      <th></th>\n",
       "      <th></th>\n",
       "      <th></th>\n",
       "      <th></th>\n",
       "      <th></th>\n",
       "      <th></th>\n",
       "    </tr>\n",
       "  </thead>\n",
       "  <tbody>\n",
       "    <tr>\n",
       "      <th rowspan=\"5\" valign=\"top\">afg</th>\n",
       "      <th>1800</th>\n",
       "      <td>35.0</td>\n",
       "      <td>56.0</td>\n",
       "      <td>92.0</td>\n",
       "      <td>154.0</td>\n",
       "      <td>266.0</td>\n",
       "      <td>487.0</td>\n",
       "      <td>929.0</td>\n",
       "      <td>1852.0</td>\n",
       "      <td>3858.0</td>\n",
       "      <td>8412.0</td>\n",
       "      <td>...</td>\n",
       "      <td>0.0</td>\n",
       "      <td>0.0</td>\n",
       "      <td>0.0</td>\n",
       "      <td>0.0</td>\n",
       "      <td>0.0</td>\n",
       "      <td>0.0</td>\n",
       "      <td>0.0</td>\n",
       "      <td>0.0</td>\n",
       "      <td>0.0</td>\n",
       "      <td>0.0</td>\n",
       "    </tr>\n",
       "    <tr>\n",
       "      <th>1801</th>\n",
       "      <td>35.0</td>\n",
       "      <td>56.0</td>\n",
       "      <td>92.0</td>\n",
       "      <td>154.0</td>\n",
       "      <td>266.0</td>\n",
       "      <td>487.0</td>\n",
       "      <td>929.0</td>\n",
       "      <td>1852.0</td>\n",
       "      <td>3858.0</td>\n",
       "      <td>8412.0</td>\n",
       "      <td>...</td>\n",
       "      <td>0.0</td>\n",
       "      <td>0.0</td>\n",
       "      <td>0.0</td>\n",
       "      <td>0.0</td>\n",
       "      <td>0.0</td>\n",
       "      <td>0.0</td>\n",
       "      <td>0.0</td>\n",
       "      <td>0.0</td>\n",
       "      <td>0.0</td>\n",
       "      <td>0.0</td>\n",
       "    </tr>\n",
       "    <tr>\n",
       "      <th>1802</th>\n",
       "      <td>35.0</td>\n",
       "      <td>56.0</td>\n",
       "      <td>92.0</td>\n",
       "      <td>154.0</td>\n",
       "      <td>266.0</td>\n",
       "      <td>487.0</td>\n",
       "      <td>929.0</td>\n",
       "      <td>1852.0</td>\n",
       "      <td>3858.0</td>\n",
       "      <td>8412.0</td>\n",
       "      <td>...</td>\n",
       "      <td>0.0</td>\n",
       "      <td>0.0</td>\n",
       "      <td>0.0</td>\n",
       "      <td>0.0</td>\n",
       "      <td>0.0</td>\n",
       "      <td>0.0</td>\n",
       "      <td>0.0</td>\n",
       "      <td>0.0</td>\n",
       "      <td>0.0</td>\n",
       "      <td>0.0</td>\n",
       "    </tr>\n",
       "    <tr>\n",
       "      <th>1803</th>\n",
       "      <td>35.0</td>\n",
       "      <td>56.0</td>\n",
       "      <td>92.0</td>\n",
       "      <td>154.0</td>\n",
       "      <td>266.0</td>\n",
       "      <td>487.0</td>\n",
       "      <td>929.0</td>\n",
       "      <td>1852.0</td>\n",
       "      <td>3858.0</td>\n",
       "      <td>8412.0</td>\n",
       "      <td>...</td>\n",
       "      <td>0.0</td>\n",
       "      <td>0.0</td>\n",
       "      <td>0.0</td>\n",
       "      <td>0.0</td>\n",
       "      <td>0.0</td>\n",
       "      <td>0.0</td>\n",
       "      <td>0.0</td>\n",
       "      <td>0.0</td>\n",
       "      <td>0.0</td>\n",
       "      <td>0.0</td>\n",
       "    </tr>\n",
       "    <tr>\n",
       "      <th>1804</th>\n",
       "      <td>35.0</td>\n",
       "      <td>56.0</td>\n",
       "      <td>92.0</td>\n",
       "      <td>154.0</td>\n",
       "      <td>266.0</td>\n",
       "      <td>487.0</td>\n",
       "      <td>929.0</td>\n",
       "      <td>1852.0</td>\n",
       "      <td>3858.0</td>\n",
       "      <td>8412.0</td>\n",
       "      <td>...</td>\n",
       "      <td>0.0</td>\n",
       "      <td>0.0</td>\n",
       "      <td>0.0</td>\n",
       "      <td>0.0</td>\n",
       "      <td>0.0</td>\n",
       "      <td>0.0</td>\n",
       "      <td>0.0</td>\n",
       "      <td>0.0</td>\n",
       "      <td>0.0</td>\n",
       "      <td>0.0</td>\n",
       "    </tr>\n",
       "    <tr>\n",
       "      <th>...</th>\n",
       "      <th>...</th>\n",
       "      <td>...</td>\n",
       "      <td>...</td>\n",
       "      <td>...</td>\n",
       "      <td>...</td>\n",
       "      <td>...</td>\n",
       "      <td>...</td>\n",
       "      <td>...</td>\n",
       "      <td>...</td>\n",
       "      <td>...</td>\n",
       "      <td>...</td>\n",
       "      <td>...</td>\n",
       "      <td>...</td>\n",
       "      <td>...</td>\n",
       "      <td>...</td>\n",
       "      <td>...</td>\n",
       "      <td>...</td>\n",
       "      <td>...</td>\n",
       "      <td>...</td>\n",
       "      <td>...</td>\n",
       "      <td>...</td>\n",
       "      <td>...</td>\n",
       "    </tr>\n",
       "    <tr>\n",
       "      <th rowspan=\"5\" valign=\"top\">zwe</th>\n",
       "      <th>2046</th>\n",
       "      <td>0.0</td>\n",
       "      <td>0.0</td>\n",
       "      <td>8.0</td>\n",
       "      <td>99.0</td>\n",
       "      <td>208.0</td>\n",
       "      <td>352.0</td>\n",
       "      <td>557.0</td>\n",
       "      <td>859.0</td>\n",
       "      <td>1351.0</td>\n",
       "      <td>2213.0</td>\n",
       "      <td>...</td>\n",
       "      <td>0.0</td>\n",
       "      <td>0.0</td>\n",
       "      <td>0.0</td>\n",
       "      <td>0.0</td>\n",
       "      <td>0.0</td>\n",
       "      <td>0.0</td>\n",
       "      <td>0.0</td>\n",
       "      <td>0.0</td>\n",
       "      <td>0.0</td>\n",
       "      <td>0.0</td>\n",
       "    </tr>\n",
       "    <tr>\n",
       "      <th>2047</th>\n",
       "      <td>0.0</td>\n",
       "      <td>0.0</td>\n",
       "      <td>6.0</td>\n",
       "      <td>94.0</td>\n",
       "      <td>209.0</td>\n",
       "      <td>356.0</td>\n",
       "      <td>565.0</td>\n",
       "      <td>870.0</td>\n",
       "      <td>1367.0</td>\n",
       "      <td>2219.0</td>\n",
       "      <td>...</td>\n",
       "      <td>0.0</td>\n",
       "      <td>0.0</td>\n",
       "      <td>0.0</td>\n",
       "      <td>0.0</td>\n",
       "      <td>0.0</td>\n",
       "      <td>0.0</td>\n",
       "      <td>0.0</td>\n",
       "      <td>0.0</td>\n",
       "      <td>0.0</td>\n",
       "      <td>0.0</td>\n",
       "    </tr>\n",
       "    <tr>\n",
       "      <th>2048</th>\n",
       "      <td>0.0</td>\n",
       "      <td>0.0</td>\n",
       "      <td>6.0</td>\n",
       "      <td>90.0</td>\n",
       "      <td>212.0</td>\n",
       "      <td>361.0</td>\n",
       "      <td>573.0</td>\n",
       "      <td>880.0</td>\n",
       "      <td>1377.0</td>\n",
       "      <td>2221.0</td>\n",
       "      <td>...</td>\n",
       "      <td>0.0</td>\n",
       "      <td>0.0</td>\n",
       "      <td>0.0</td>\n",
       "      <td>0.0</td>\n",
       "      <td>0.0</td>\n",
       "      <td>0.0</td>\n",
       "      <td>0.0</td>\n",
       "      <td>0.0</td>\n",
       "      <td>0.0</td>\n",
       "      <td>0.0</td>\n",
       "    </tr>\n",
       "    <tr>\n",
       "      <th>2049</th>\n",
       "      <td>0.0</td>\n",
       "      <td>0.0</td>\n",
       "      <td>6.0</td>\n",
       "      <td>83.0</td>\n",
       "      <td>213.0</td>\n",
       "      <td>364.0</td>\n",
       "      <td>578.0</td>\n",
       "      <td>888.0</td>\n",
       "      <td>1388.0</td>\n",
       "      <td>2230.0</td>\n",
       "      <td>...</td>\n",
       "      <td>0.0</td>\n",
       "      <td>0.0</td>\n",
       "      <td>0.0</td>\n",
       "      <td>0.0</td>\n",
       "      <td>0.0</td>\n",
       "      <td>0.0</td>\n",
       "      <td>0.0</td>\n",
       "      <td>0.0</td>\n",
       "      <td>0.0</td>\n",
       "      <td>0.0</td>\n",
       "    </tr>\n",
       "    <tr>\n",
       "      <th>2050</th>\n",
       "      <td>0.0</td>\n",
       "      <td>2.0</td>\n",
       "      <td>12.0</td>\n",
       "      <td>89.0</td>\n",
       "      <td>233.0</td>\n",
       "      <td>397.0</td>\n",
       "      <td>627.0</td>\n",
       "      <td>960.0</td>\n",
       "      <td>1489.0</td>\n",
       "      <td>2365.0</td>\n",
       "      <td>...</td>\n",
       "      <td>0.0</td>\n",
       "      <td>0.0</td>\n",
       "      <td>0.0</td>\n",
       "      <td>0.0</td>\n",
       "      <td>0.0</td>\n",
       "      <td>0.0</td>\n",
       "      <td>0.0</td>\n",
       "      <td>0.0</td>\n",
       "      <td>0.0</td>\n",
       "      <td>0.0</td>\n",
       "    </tr>\n",
       "  </tbody>\n",
       "</table>\n",
       "<p>48945 rows × 80 columns</p>\n",
       "</div>"
      ],
      "text/plain": [
       "             population                                                  \\\n",
       "income_group         0     1     2      3      4      5      6       7    \n",
       "geo time                                                                  \n",
       "afg 1800           35.0  56.0  92.0  154.0  266.0  487.0  929.0  1852.0   \n",
       "    1801           35.0  56.0  92.0  154.0  266.0  487.0  929.0  1852.0   \n",
       "    1802           35.0  56.0  92.0  154.0  266.0  487.0  929.0  1852.0   \n",
       "    1803           35.0  56.0  92.0  154.0  266.0  487.0  929.0  1852.0   \n",
       "    1804           35.0  56.0  92.0  154.0  266.0  487.0  929.0  1852.0   \n",
       "...                 ...   ...   ...    ...    ...    ...    ...     ...   \n",
       "zwe 2046            0.0   0.0   8.0   99.0  208.0  352.0  557.0   859.0   \n",
       "    2047            0.0   0.0   6.0   94.0  209.0  356.0  565.0   870.0   \n",
       "    2048            0.0   0.0   6.0   90.0  212.0  361.0  573.0   880.0   \n",
       "    2049            0.0   0.0   6.0   83.0  213.0  364.0  578.0   888.0   \n",
       "    2050            0.0   2.0  12.0   89.0  233.0  397.0  627.0   960.0   \n",
       "\n",
       "                              ...                                          \\\n",
       "income_group      8       9   ...   70   71   72   73   74   75   76   77   \n",
       "geo time                      ...                                           \n",
       "afg 1800      3858.0  8412.0  ...  0.0  0.0  0.0  0.0  0.0  0.0  0.0  0.0   \n",
       "    1801      3858.0  8412.0  ...  0.0  0.0  0.0  0.0  0.0  0.0  0.0  0.0   \n",
       "    1802      3858.0  8412.0  ...  0.0  0.0  0.0  0.0  0.0  0.0  0.0  0.0   \n",
       "    1803      3858.0  8412.0  ...  0.0  0.0  0.0  0.0  0.0  0.0  0.0  0.0   \n",
       "    1804      3858.0  8412.0  ...  0.0  0.0  0.0  0.0  0.0  0.0  0.0  0.0   \n",
       "...              ...     ...  ...  ...  ...  ...  ...  ...  ...  ...  ...   \n",
       "zwe 2046      1351.0  2213.0  ...  0.0  0.0  0.0  0.0  0.0  0.0  0.0  0.0   \n",
       "    2047      1367.0  2219.0  ...  0.0  0.0  0.0  0.0  0.0  0.0  0.0  0.0   \n",
       "    2048      1377.0  2221.0  ...  0.0  0.0  0.0  0.0  0.0  0.0  0.0  0.0   \n",
       "    2049      1388.0  2230.0  ...  0.0  0.0  0.0  0.0  0.0  0.0  0.0  0.0   \n",
       "    2050      1489.0  2365.0  ...  0.0  0.0  0.0  0.0  0.0  0.0  0.0  0.0   \n",
       "\n",
       "                        \n",
       "income_group   78   79  \n",
       "geo time                \n",
       "afg 1800      0.0  0.0  \n",
       "    1801      0.0  0.0  \n",
       "    1802      0.0  0.0  \n",
       "    1803      0.0  0.0  \n",
       "    1804      0.0  0.0  \n",
       "...           ...  ...  \n",
       "zwe 2046      0.0  0.0  \n",
       "    2047      0.0  0.0  \n",
       "    2048      0.0  0.0  \n",
       "    2049      0.0  0.0  \n",
       "    2050      0.0  0.0  \n",
       "\n",
       "[48945 rows x 80 columns]"
      ]
     },
     "execution_count": 143,
     "metadata": {},
     "output_type": "execute_result"
    }
   ],
   "source": [
    "im_all"
   ]
  },
  {
   "cell_type": "code",
   "execution_count": 144,
   "id": "f6609793",
   "metadata": {},
   "outputs": [],
   "source": [
    "res = []\n",
    "\n",
    "for i, row in im_all.iterrows():\n",
    "    line = ','.join(row.loc['population'].astype(int).astype(str).values)\n",
    "    res.append(line)"
   ]
  },
  {
   "cell_type": "code",
   "execution_count": 145,
   "id": "ee2d8b3a",
   "metadata": {},
   "outputs": [],
   "source": [
    "res_lines = pd.Series(res, index=im_all.index)"
   ]
  },
  {
   "cell_type": "code",
   "execution_count": 146,
   "id": "d410f3eb",
   "metadata": {},
   "outputs": [],
   "source": [
    "res_lines.name = 'income_mountain_79bracket_shape_for_log'"
   ]
  },
  {
   "cell_type": "code",
   "execution_count": 147,
   "id": "58fe0e16",
   "metadata": {},
   "outputs": [],
   "source": [
    "res_lines.index.names = ['country', 'time']"
   ]
  },
  {
   "cell_type": "code",
   "execution_count": 148,
   "id": "e94ddd9e",
   "metadata": {},
   "outputs": [
    {
     "data": {
      "text/plain": [
       "country  time\n",
       "afg      1800    35,56,92,154,266,487,929,1852,3858,8412,19000,...\n",
       "         1801    35,56,92,154,266,487,929,1852,3858,8412,19000,...\n",
       "         1802    35,56,92,154,266,487,929,1852,3858,8412,19000,...\n",
       "         1803    35,56,92,154,266,487,929,1852,3858,8412,19000,...\n",
       "         1804    35,56,92,154,266,487,929,1852,3858,8412,19000,...\n",
       "                                       ...                        \n",
       "zwe      2046    0,0,8,99,208,352,557,859,1351,2213,3936,7614,1...\n",
       "         2047    0,0,6,94,209,356,565,870,1367,2219,3908,7452,1...\n",
       "         2048    0,0,6,90,212,361,573,880,1377,2221,3878,7311,1...\n",
       "         2049    0,0,6,83,213,364,578,888,1388,2230,3863,7202,1...\n",
       "         2050    0,2,12,89,233,397,627,960,1489,2365,4027,7335,...\n",
       "Name: income_mountain_79bracket_shape_for_log, Length: 48945, dtype: object"
      ]
     },
     "execution_count": 148,
     "metadata": {},
     "output_type": "execute_result"
    }
   ],
   "source": [
    "res_lines"
   ]
  },
  {
   "cell_type": "code",
   "execution_count": 149,
   "id": "747073d0",
   "metadata": {},
   "outputs": [],
   "source": [
    "res_lines.to_csv('../../../ddf--worldbank--povcalnet/income_mountain/ddf--datapoints--income_mountain_79bracket_shape_for_log--by--country--time.csv')"
   ]
  },
  {
   "cell_type": "code",
   "execution_count": null,
   "id": "aae3a7a0",
   "metadata": {},
   "outputs": [],
   "source": []
  },
  {
   "cell_type": "code",
   "execution_count": 150,
   "id": "b3281e8e",
   "metadata": {},
   "outputs": [],
   "source": [
    "# DONE!"
   ]
  },
  {
   "cell_type": "code",
   "execution_count": null,
   "id": "9612f699",
   "metadata": {},
   "outputs": [],
   "source": []
  },
  {
   "cell_type": "code",
   "execution_count": null,
   "id": "0076d4ff",
   "metadata": {},
   "outputs": [],
   "source": []
  },
  {
   "cell_type": "code",
   "execution_count": null,
   "id": "65d78d66",
   "metadata": {},
   "outputs": [],
   "source": []
  },
  {
   "cell_type": "code",
   "execution_count": null,
   "id": "58978b02",
   "metadata": {},
   "outputs": [],
   "source": []
  },
  {
   "cell_type": "code",
   "execution_count": null,
   "id": "c6dd67be",
   "metadata": {},
   "outputs": [],
   "source": []
  },
  {
   "cell_type": "code",
   "execution_count": null,
   "id": "988fbc54",
   "metadata": {},
   "outputs": [],
   "source": []
  },
  {
   "cell_type": "code",
   "execution_count": null,
   "id": "71b06313",
   "metadata": {},
   "outputs": [],
   "source": []
  },
  {
   "cell_type": "code",
   "execution_count": 639,
   "id": "11eb8cdc",
   "metadata": {},
   "outputs": [
    {
     "data": {
      "text/plain": [
       "8.0"
      ]
     },
     "execution_count": 639,
     "metadata": {},
     "output_type": "execute_result"
    }
   ],
   "source": [
    "fb_max = fb['population'].max()\n",
    "fb_max"
   ]
  },
  {
   "cell_type": "code",
   "execution_count": 640,
   "id": "a8ce649a",
   "metadata": {},
   "outputs": [],
   "source": [
    "wb_input = wb['population'].copy()\n",
    "\n",
    "for i, v in wb_input.iloc[::-1].iteritems():\n",
    "    if v > fb_max:\n",
    "        break\n",
    "        \n",
    "wb_input = wb_input.loc[:i]"
   ]
  },
  {
   "cell_type": "code",
   "execution_count": 641,
   "id": "69bf4c83",
   "metadata": {},
   "outputs": [],
   "source": [
    "fb_input = fb['population'].copy()\n",
    "idmax = fb_input.idxmax()\n",
    "        \n",
    "fb_input = fb_input.loc[idmax:]"
   ]
  },
  {
   "cell_type": "code",
   "execution_count": 642,
   "id": "7f5d97e9",
   "metadata": {},
   "outputs": [
    {
     "data": {
      "text/plain": [
       "income_group\n",
       "58    8.0\n",
       "59    8.0\n",
       "60    3.0\n",
       "61    5.0\n",
       "62    1.0\n",
       "63    4.0\n",
       "64    1.0\n",
       "65    2.0\n",
       "66    1.0\n",
       "67    1.0\n",
       "68    0.0\n",
       "69    1.0\n",
       "70    1.0\n",
       "Name: population, dtype: float64"
      ]
     },
     "execution_count": 642,
     "metadata": {},
     "output_type": "execute_result"
    }
   ],
   "source": [
    "fb_input"
   ]
  },
  {
   "cell_type": "code",
   "execution_count": 643,
   "id": "03571edc",
   "metadata": {},
   "outputs": [],
   "source": [
    "fb_idx_max = fb.index.max()"
   ]
  },
  {
   "cell_type": "code",
   "execution_count": 644,
   "id": "1311953e",
   "metadata": {},
   "outputs": [],
   "source": [
    "com = pd.concat([wb_input, fb_input])\n",
    "com = com.reindex(range(0, fb_idx_max+1))"
   ]
  },
  {
   "cell_type": "code",
   "execution_count": 645,
   "id": "33b197ff",
   "metadata": {},
   "outputs": [],
   "source": [
    "com = com.interpolate('pchip')"
   ]
  },
  {
   "cell_type": "code",
   "execution_count": 648,
   "id": "7e8c916f",
   "metadata": {},
   "outputs": [
    {
     "data": {
      "text/plain": [
       "<AxesSubplot:xlabel='income_group'>"
      ]
     },
     "execution_count": 648,
     "metadata": {},
     "output_type": "execute_result"
    },
    {
     "data": {
      "image/png": "[encoded data removed]",
      "text/plain": [
       "<Figure size 720x576 with 1 Axes>"
      ]
     },
     "metadata": {},
     "output_type": "display_data"
    }
   ],
   "source": [
    "# com[40:].plot()\n",
    "wb['population'][40:].plot()"
   ]
  },
  {
   "cell_type": "code",
   "execution_count": 438,
   "id": "9a9374d9",
   "metadata": {},
   "outputs": [
    {
     "data": {
      "text/plain": [
       "income_group\n",
       "40    1.000000\n",
       "41    0.510051\n",
       "42    0.263119\n",
       "43    0.137325\n",
       "44    0.069710\n",
       "45    0.036934\n",
       "46    0.018493\n",
       "47    0.009363\n",
       "48    0.004401\n",
       "49    0.002052\n",
       "50    0.001693\n",
       "51    0.001395\n",
       "52    0.001151\n",
       "53    0.000954\n",
       "54    0.000796\n",
       "55    0.000669\n",
       "56    0.000567\n",
       "57    0.000481\n",
       "58    0.000405\n",
       "59    0.000331\n",
       "60    0.000251\n",
       "61    0.000159\n",
       "62    0.000074\n",
       "63    0.000042\n",
       "64    0.000021\n",
       "65    0.000042\n",
       "66    0.000011\n",
       "67    0.000032\n",
       "68    0.000011\n",
       "69    0.000000\n",
       "70    0.000011\n",
       "Name: population, dtype: float64"
      ]
     },
     "execution_count": 438,
     "metadata": {},
     "output_type": "execute_result"
    }
   ],
   "source": [
    "ser_input"
   ]
  },
  {
   "cell_type": "code",
   "execution_count": 480,
   "id": "038a7ceb",
   "metadata": {},
   "outputs": [
    {
     "data": {
      "text/plain": [
       "income_group\n",
       "40    1.000000\n",
       "41    0.510051\n",
       "42    0.263119\n",
       "43    0.137325\n",
       "44    0.069710\n",
       "Name: population, dtype: float64"
      ]
     },
     "execution_count": 480,
     "metadata": {},
     "output_type": "execute_result"
    }
   ],
   "source": [
    "smoothlib.get_sample_at_point(42, ser_input, 1, 0, 2)"
   ]
  },
  {
   "cell_type": "code",
   "execution_count": 502,
   "id": "31ca8fbc",
   "metadata": {},
   "outputs": [
    {
     "name": "stdout",
     "output_type": "stream",
     "text": [
      "0.8064516129032258 0.9815065594583157\n",
      "1.5853739778575626\n"
     ]
    },
    {
     "data": {
      "text/plain": [
       "1"
      ]
     },
     "execution_count": 502,
     "metadata": {},
     "output_type": "execute_result"
    }
   ],
   "source": [
    "smoothlib.mval_at_point(46, ser)"
   ]
  },
  {
   "cell_type": "code",
   "execution_count": 485,
   "id": "66599608",
   "metadata": {},
   "outputs": [
    {
     "data": {
      "text/plain": [
       "income_group\n",
       "40    94520.000000\n",
       "41    48210.000000\n",
       "42    24870.000000\n",
       "43    12980.000000\n",
       "44     6589.000000\n",
       "45     3491.000000\n",
       "46     1748.000000\n",
       "47      885.000000\n",
       "48      416.000000\n",
       "49      194.000000\n",
       "50      160.035281\n",
       "51      131.876352\n",
       "52      108.820461\n",
       "53       90.164855\n",
       "54       75.206783\n",
       "55       63.243491\n",
       "56       53.572227\n",
       "57       45.490239\n",
       "58       38.294775\n",
       "59       31.283082\n",
       "60       23.752408\n",
       "61       15.000000\n",
       "62        7.000000\n",
       "63        4.000000\n",
       "64        2.000000\n",
       "65        4.000000\n",
       "66        1.000000\n",
       "67        3.000000\n",
       "68        1.000000\n",
       "69        0.000000\n",
       "70        1.000000\n",
       "Name: population, dtype: float64"
      ]
     },
     "execution_count": 485,
     "metadata": {},
     "output_type": "execute_result"
    }
   ],
   "source": [
    "ser"
   ]
  },
  {
   "cell_type": "code",
   "execution_count": 486,
   "id": "e8a48391",
   "metadata": {},
   "outputs": [
    {
     "data": {
      "text/plain": [
       "0.0004812738044858231"
      ]
     },
     "execution_count": 486,
     "metadata": {},
     "output_type": "execute_result"
    }
   ],
   "source": [
    "45.49 / 94520.000000"
   ]
  },
  {
   "cell_type": "code",
   "execution_count": null,
   "id": "fba9971e",
   "metadata": {},
   "outputs": [],
   "source": []
  },
  {
   "cell_type": "code",
   "execution_count": 600,
   "id": "491402b8",
   "metadata": {
    "scrolled": true
   },
   "outputs": [],
   "source": [
    "ser = com[40:].copy()\n",
    "ser_max = ser.max()\n",
    "ser_input = ser / ser_max\n",
    "# lowess = sm.nonparametric.lowess(ser.values, ser.index.values, frac=0.22)\n",
    "# plt.plot(lowess[6:, 0],  lowess[6:, 1])\n",
    "ser_new = smoothlib.run_smooth(ser_input, 5, 0)\n",
    "# ser_new = smoothlib.run_smooth(ser_new, 5, 0)\n",
    "\n",
    "# print(ser_new)\n",
    "ser_new = ser_new * ser_max\n",
    "ser_new.index = ser_new.index + 40\n",
    "# ser_new.plot()\n",
    "# com[40:].plot()\n",
    "# fb_input.plot()\n",
    "# wb_input[46:].plot()"
   ]
  },
  {
   "cell_type": "code",
   "execution_count": 649,
   "id": "fc5ef4f8",
   "metadata": {},
   "outputs": [
    {
     "data": {
      "text/plain": [
       "income_group\n",
       "40    2301.000000\n",
       "41    1054.000000\n",
       "42     586.000000\n",
       "43     466.000000\n",
       "44     495.000000\n",
       "45     585.000000\n",
       "46     602.000000\n",
       "47     517.000000\n",
       "48     359.000000\n",
       "49     163.000000\n",
       "50     125.462990\n",
       "51      94.099771\n",
       "52      68.441017\n",
       "53      48.017403\n",
       "54      32.359601\n",
       "55      20.998286\n",
       "56      13.464132\n",
       "57       9.287812\n",
       "58       8.000000\n",
       "59       8.000000\n",
       "60       3.000000\n",
       "61       5.000000\n",
       "62       1.000000\n",
       "63       4.000000\n",
       "64       1.000000\n",
       "65       2.000000\n",
       "66       1.000000\n",
       "67       1.000000\n",
       "68       0.000000\n",
       "69       1.000000\n",
       "70       1.000000\n",
       "Name: population, dtype: float64"
      ]
     },
     "execution_count": 649,
     "metadata": {},
     "output_type": "execute_result"
    }
   ],
   "source": [
    "com[40:]"
   ]
  },
  {
   "cell_type": "code",
   "execution_count": 650,
   "id": "10703972",
   "metadata": {},
   "outputs": [
    {
     "data": {
      "text/plain": [
       "40    834600.000000\n",
       "41    474088.000000\n",
       "42    281298.000000\n",
       "43    148877.000000\n",
       "44     58727.000000\n",
       "45     13964.000000\n",
       "46      1282.000000\n",
       "47      1049.633540\n",
       "48       863.038298\n",
       "49       716.052897\n",
       "50       611.611657\n",
       "51       523.308017\n",
       "52       456.130088\n",
       "53       403.916493\n",
       "54       360.505857\n",
       "55       319.736802\n",
       "56       275.447951\n",
       "57       221.477929\n",
       "58       157.919593\n",
       "59       119.666667\n",
       "60       111.600000\n",
       "61        89.600000\n",
       "62        78.800000\n",
       "63        60.200000\n",
       "64        39.200000\n",
       "65        24.600000\n",
       "66        15.400000\n",
       "67         9.800000\n",
       "68         6.800000\n",
       "69         5.200000\n",
       "70         4.857143\n",
       "71         3.714286\n",
       "72         3.285714\n",
       "73         2.428571\n",
       "74         2.142857\n",
       "75         1.857143\n",
       "76         1.214286\n",
       "77         0.571429\n",
       "78         0.000000\n",
       "dtype: float64"
      ]
     },
     "execution_count": 650,
     "metadata": {},
     "output_type": "execute_result"
    }
   ],
   "source": [
    "ser_new"
   ]
  },
  {
   "cell_type": "code",
   "execution_count": 606,
   "id": "cc31795c",
   "metadata": {},
   "outputs": [
    {
     "data": {
      "text/plain": [
       "<AxesSubplot:>"
      ]
     },
     "execution_count": 606,
     "metadata": {},
     "output_type": "execute_result"
    },
    {
     "data": {
      "image/png": "[encoded data removed]",
      "text/plain": [
       "<Figure size 720x576 with 1 Axes>"
      ]
     },
     "metadata": {},
     "output_type": "display_data"
    }
   ],
   "source": [
    "# print(ser_new)\n",
    "# ser_new = ser_new * ser_max\n",
    "# ser_new.index = ser_new.index + 40\n",
    "ser_new.loc[46:].plot()\n",
    "# wb_input.loc[46:].plot(color='r')\n",
    "# com[46:].plot()"
   ]
  },
  {
   "cell_type": "code",
   "execution_count": 605,
   "id": "fe8044d3",
   "metadata": {},
   "outputs": [
    {
     "data": {
      "text/plain": [
       "45.39985694315453"
      ]
     },
     "execution_count": 605,
     "metadata": {},
     "output_type": "execute_result"
    }
   ],
   "source": [
    "(np.round(ser_new, 0) - com[40:]).sum()"
   ]
  },
  {
   "cell_type": "code",
   "execution_count": 597,
   "id": "a7cf83c2",
   "metadata": {},
   "outputs": [
    {
     "data": {
      "text/plain": [
       "income_group\n",
       "40    834600.000000\n",
       "41    474088.000000\n",
       "42    281298.000000\n",
       "43    148877.000000\n",
       "44     58727.000000\n",
       "45     13964.000000\n",
       "46      1282.000000\n",
       "47      1049.633540\n",
       "48       863.038298\n",
       "49       716.052897\n",
       "50       602.515961\n",
       "51       516.266113\n",
       "52       451.141976\n",
       "53       400.982174\n",
       "54       359.625329\n",
       "55       320.910067\n",
       "56       278.675008\n",
       "57       226.758778\n",
       "58       159.000000\n",
       "59        88.000000\n",
       "60       112.000000\n",
       "61       116.000000\n",
       "62        83.000000\n",
       "63        49.000000\n",
       "64        34.000000\n",
       "65        19.000000\n",
       "66        11.000000\n",
       "67        10.000000\n",
       "68         3.000000\n",
       "69         6.000000\n",
       "70         4.000000\n",
       "71         3.000000\n",
       "72         7.000000\n",
       "73         1.000000\n",
       "74         2.000000\n",
       "75         0.000000\n",
       "76         0.000000\n",
       "77         2.000000\n",
       "78         1.000000\n",
       "Name: population, dtype: float64"
      ]
     },
     "execution_count": 597,
     "metadata": {},
     "output_type": "execute_result"
    }
   ],
   "source": [
    "com[40:]"
   ]
  },
  {
   "cell_type": "code",
   "execution_count": null,
   "id": "6dfdc7a5",
   "metadata": {},
   "outputs": [],
   "source": []
  },
  {
   "cell_type": "code",
   "execution_count": null,
   "id": "555cb510",
   "metadata": {},
   "outputs": [],
   "source": []
  },
  {
   "cell_type": "code",
   "execution_count": 436,
   "id": "10bc351c",
   "metadata": {},
   "outputs": [
    {
     "data": {
      "text/plain": [
       "40"
      ]
     },
     "execution_count": 436,
     "metadata": {},
     "output_type": "execute_result"
    }
   ],
   "source": [
    "ser.idxmax()"
   ]
  },
  {
   "cell_type": "code",
   "execution_count": 437,
   "id": "8467cda0",
   "metadata": {},
   "outputs": [
    {
     "data": {
      "text/plain": [
       "31"
      ]
     },
     "execution_count": 437,
     "metadata": {},
     "output_type": "execute_result"
    }
   ],
   "source": [
    "len(ser)"
   ]
  },
  {
   "cell_type": "code",
   "execution_count": null,
   "id": "0c2a0495",
   "metadata": {},
   "outputs": [],
   "source": []
  },
  {
   "cell_type": "code",
   "execution_count": null,
   "id": "809254bb",
   "metadata": {},
   "outputs": [],
   "source": []
  },
  {
   "cell_type": "code",
   "execution_count": null,
   "id": "733ef04f",
   "metadata": {},
   "outputs": [],
   "source": []
  },
  {
   "cell_type": "code",
   "execution_count": 359,
   "id": "7d6da6c4",
   "metadata": {},
   "outputs": [
    {
     "data": {
      "text/plain": [
       "3243"
      ]
     },
     "execution_count": 359,
     "metadata": {},
     "output_type": "execute_result"
    }
   ],
   "source": [
    "wb['population'][46:].sum()"
   ]
  },
  {
   "cell_type": "code",
   "execution_count": 360,
   "id": "a6ff7ccb",
   "metadata": {},
   "outputs": [
    {
     "data": {
      "text/plain": [
       "4386.739953311917"
      ]
     },
     "execution_count": 360,
     "metadata": {},
     "output_type": "execute_result"
    }
   ],
   "source": [
    "com[46:].sum()"
   ]
  },
  {
   "cell_type": "code",
   "execution_count": 361,
   "id": "7cb6c3e2",
   "metadata": {},
   "outputs": [
    {
     "data": {
      "text/plain": [
       "array([[4.00000000e+01, 9.45200000e+04],\n",
       "       [4.10000000e+01, 4.82100000e+04],\n",
       "       [4.20000000e+01, 2.48700000e+04],\n",
       "       [4.30000000e+01, 1.29800000e+04],\n",
       "       [4.40000000e+01, 6.58900000e+03],\n",
       "       [4.50000000e+01, 3.49100000e+03],\n",
       "       [4.60000000e+01, 1.74800000e+03],\n",
       "       [4.70000000e+01, 8.85000000e+02],\n",
       "       [4.80000000e+01, 4.16000000e+02],\n",
       "       [4.90000000e+01, 1.94000000e+02],\n",
       "       [5.00000000e+01, 1.46131672e+02],\n",
       "       [5.10000000e+01, 1.25991465e+02],\n",
       "       [5.20000000e+01, 1.07795776e+02],\n",
       "       [5.30000000e+01, 9.19754149e+01],\n",
       "       [5.40000000e+01, 7.81869051e+01],\n",
       "       [5.50000000e+01, 6.59772755e+01],\n",
       "       [5.60000000e+01, 5.54155114e+01],\n",
       "       [5.70000000e+01, 4.65011266e+01],\n",
       "       [5.80000000e+01, 3.85032467e+01],\n",
       "       [5.90000000e+01, 3.08015050e+01],\n",
       "       [6.00000000e+01, 2.32803099e+01],\n",
       "       [6.10000000e+01, 1.64079605e+01],\n",
       "       [6.20000000e+01, 1.07490203e+01],\n",
       "       [6.30000000e+01, 6.61559643e+00],\n",
       "       [6.40000000e+01, 4.00934484e+00],\n",
       "       [6.50000000e+01, 2.81777140e+00],\n",
       "       [6.60000000e+01, 2.26076526e+00],\n",
       "       [6.70000000e+01, 1.76414075e+00],\n",
       "       [6.80000000e+01, 1.45326842e+00],\n",
       "       [6.90000000e+01, 1.84293898e+00],\n",
       "       [7.00000000e+01, 3.29571791e+00],\n",
       "       [7.10000000e+01, 6.33923582e+00],\n",
       "       [7.20000000e+01, 1.13246173e+01],\n",
       "       [7.30000000e+01, 1.83176348e+01],\n",
       "       [7.40000000e+01, 2.73324603e+01],\n",
       "       [7.50000000e+01, 3.83239617e+01],\n",
       "       [7.60000000e+01, 5.14119583e+01],\n",
       "       [7.70000000e+01, 6.46678018e+01],\n",
       "       [7.80000000e+01, 7.81770526e+01]])"
      ]
     },
     "execution_count": 361,
     "metadata": {},
     "output_type": "execute_result"
    }
   ],
   "source": [
    "lowess"
   ]
  },
  {
   "cell_type": "code",
   "execution_count": null,
   "id": "35bb9953",
   "metadata": {},
   "outputs": [],
   "source": [
    "ser_new"
   ]
  },
  {
   "cell_type": "code",
   "execution_count": null,
   "id": "9fe1adb3",
   "metadata": {},
   "outputs": [],
   "source": []
  },
  {
   "cell_type": "code",
   "execution_count": null,
   "id": "e850805e",
   "metadata": {},
   "outputs": [],
   "source": [
    "# below are ways I have tried. not working..."
   ]
  },
  {
   "cell_type": "code",
   "execution_count": 214,
   "id": "c38df75f",
   "metadata": {},
   "outputs": [],
   "source": [
    "ser = com[40:]['population'].copy()"
   ]
  },
  {
   "cell_type": "code",
   "execution_count": 215,
   "id": "f904102e",
   "metadata": {},
   "outputs": [],
   "source": [
    "lowess = sm.nonparametric.lowess(ser.values, ser.index.values, frac=0.22)"
   ]
  },
  {
   "cell_type": "code",
   "execution_count": 218,
   "id": "5fc46e53",
   "metadata": {},
   "outputs": [
    {
     "data": {
      "text/plain": [
       "[<matplotlib.lines.Line2D at 0x7f1a3393da20>]"
      ]
     },
     "execution_count": 218,
     "metadata": {},
     "output_type": "execute_result"
    },
    {
     "data": {
      "image/png": "[encoded data removed]",
      "text/plain": [
       "<Figure size 720x576 with 1 Axes>"
      ]
     },
     "metadata": {},
     "output_type": "display_data"
    }
   ],
   "source": [
    "plt.plot(lowess[6:, 0],  lowess[6:, 1])"
   ]
  },
  {
   "cell_type": "code",
   "execution_count": null,
   "id": "d45db851",
   "metadata": {},
   "outputs": [],
   "source": []
  },
  {
   "cell_type": "code",
   "execution_count": null,
   "id": "e1412c83",
   "metadata": {},
   "outputs": [],
   "source": []
  },
  {
   "cell_type": "code",
   "execution_count": 226,
   "id": "be05afa3",
   "metadata": {},
   "outputs": [
    {
     "data": {
      "text/plain": [
       "<AxesSubplot:xlabel='income_group'>"
      ]
     },
     "execution_count": 226,
     "metadata": {},
     "output_type": "execute_result"
    },
    {
     "data": {
      "image/png": "[encoded data removed]",
      "text/plain": [
       "<Figure size 720x576 with 1 Axes>"
      ]
     },
     "metadata": {},
     "output_type": "display_data"
    }
   ],
   "source": [
    "ser = com['population'].copy()\n",
    "ser_max = ser.max()\n",
    "# ser = ser / ser_max\n",
    "ser_smooth = smoothlib.run_smooth(ser / ser_max, 3, 0)\n",
    "ser_smooth = smoothlib.run_smooth(ser_smooth, 3, 0)\n",
    "ser_smooth = smoothlib.run_smooth(ser_smooth, 3, 0)\n",
    "ser_smooth = ser_smooth * ser_max\n",
    "\n",
    "ser[46:].plot()\n",
    "ser_smooth[46:].plot()"
   ]
  },
  {
   "cell_type": "code",
   "execution_count": 227,
   "id": "b539a116",
   "metadata": {},
   "outputs": [
    {
     "data": {
      "text/plain": [
       "<AxesSubplot:xlabel='income_group'>"
      ]
     },
     "execution_count": 227,
     "metadata": {},
     "output_type": "execute_result"
    },
    {
     "data": {
      "image/png": "[encoded data removed]",
      "text/plain": [
       "<Figure size 720x576 with 1 Axes>"
      ]
     },
     "metadata": {},
     "output_type": "display_data"
    }
   ],
   "source": [
    "ser.plot()\n",
    "ser_smooth.plot()"
   ]
  },
  {
   "cell_type": "code",
   "execution_count": 228,
   "id": "eb2f3546",
   "metadata": {},
   "outputs": [
    {
     "data": {
      "text/plain": [
       "<AxesSubplot:>"
      ]
     },
     "execution_count": 228,
     "metadata": {},
     "output_type": "execute_result"
    },
    {
     "data": {
      "image/png": "[encoded data removed]",
      "text/plain": [
       "<Figure size 720x576 with 1 Axes>"
      ]
     },
     "metadata": {},
     "output_type": "display_data"
    }
   ],
   "source": [
    "ser_smooth[48:].plot()"
   ]
  },
  {
   "cell_type": "code",
   "execution_count": 186,
   "id": "86ad47e8",
   "metadata": {},
   "outputs": [
    {
     "data": {
      "text/plain": [
       "income_group\n",
       "46    56.796875\n",
       "47    43.640625\n",
       "48    38.187500\n",
       "49    36.812500\n",
       "50    51.484375\n",
       "51    57.453125\n",
       "52    66.593750\n",
       "53    76.406250\n",
       "54    82.265625\n",
       "55    84.046875\n",
       "56    84.125000\n",
       "57    82.500000\n",
       "58    64.000000\n",
       "59    54.250000\n",
       "60    40.625000\n",
       "61    26.875000\n",
       "62    17.000000\n",
       "63    11.250000\n",
       "64     7.875000\n",
       "65     5.625000\n",
       "66     4.500000\n",
       "67     3.250000\n",
       "68     2.875000\n",
       "69     2.375000\n",
       "70     2.000000\n",
       "71          NaN\n",
       "72          NaN\n",
       "73          NaN\n",
       "74          NaN\n",
       "75          NaN\n",
       "76          NaN\n",
       "77          NaN\n",
       "78          NaN\n",
       "Name: population, dtype: float64"
      ]
     },
     "execution_count": 186,
     "metadata": {},
     "output_type": "execute_result"
    }
   ],
   "source": [
    "ser.rolling(8).mean().loc[46:].shift(-8)"
   ]
  },
  {
   "cell_type": "code",
   "execution_count": null,
   "id": "f1f1f009",
   "metadata": {},
   "outputs": [],
   "source": []
  },
  {
   "cell_type": "code",
   "execution_count": 168,
   "id": "57885745",
   "metadata": {},
   "outputs": [
    {
     "data": {
      "text/plain": [
       "<AxesSubplot:xlabel='income_group'>"
      ]
     },
     "execution_count": 168,
     "metadata": {},
     "output_type": "execute_result"
    },
    {
     "data": {
      "image/png": "[encoded data removed]",
      "text/plain": [
       "<Figure size 720x576 with 1 Axes>"
      ]
     },
     "metadata": {},
     "output_type": "display_data"
    }
   ],
   "source": [
    "com[40:].plot()"
   ]
  },
  {
   "cell_type": "code",
   "execution_count": null,
   "id": "f9458fc2",
   "metadata": {},
   "outputs": [],
   "source": []
  },
  {
   "cell_type": "code",
   "execution_count": null,
   "id": "5c15f9bc",
   "metadata": {},
   "outputs": [],
   "source": []
  },
  {
   "cell_type": "code",
   "execution_count": null,
   "id": "ee7c16d8",
   "metadata": {},
   "outputs": [],
   "source": []
  },
  {
   "cell_type": "code",
   "execution_count": 144,
   "id": "43147fc0",
   "metadata": {},
   "outputs": [
    {
     "data": {
      "text/plain": [
       "population    121\n",
       "Name: 49, dtype: int64"
      ]
     },
     "execution_count": 144,
     "metadata": {},
     "output_type": "execute_result"
    }
   ],
   "source": [
    "wb.iloc[-1]"
   ]
  },
  {
   "cell_type": "code",
   "execution_count": 145,
   "id": "6dd7d330",
   "metadata": {},
   "outputs": [
    {
     "data": {
      "text/plain": [
       "population    75.0\n",
       "Name: 58, dtype: float64"
      ]
     },
     "execution_count": 145,
     "metadata": {},
     "output_type": "execute_result"
    }
   ],
   "source": [
    "fb.iloc[1]"
   ]
  },
  {
   "cell_type": "code",
   "execution_count": 149,
   "id": "aeab2848",
   "metadata": {},
   "outputs": [
    {
     "data": {
      "text/plain": [
       "income_group\n",
       "49    121.000\n",
       "50    113.125\n",
       "51    105.250\n",
       "52     97.375\n",
       "53     89.500\n",
       "54     81.625\n",
       "55     73.750\n",
       "56     65.875\n",
       "57     58.000\n",
       "58     75.000\n",
       "Name: population, dtype: float64"
      ]
     },
     "execution_count": 149,
     "metadata": {},
     "output_type": "execute_result"
    }
   ],
   "source": [
    "com[49:59]"
   ]
  },
  {
   "cell_type": "code",
   "execution_count": null,
   "id": "0163a024",
   "metadata": {},
   "outputs": [],
   "source": []
  },
  {
   "cell_type": "code",
   "execution_count": null,
   "id": "646ee050",
   "metadata": {},
   "outputs": [],
   "source": []
  },
  {
   "cell_type": "code",
   "execution_count": null,
   "id": "6e5bd20b",
   "metadata": {},
   "outputs": [],
   "source": [
    "# Next: create shapes for all country and save it as datapoint file.\n",
    "# so that we have population by income group for all 3 datasets."
   ]
  }
 ],
 "metadata": {
  "kernelspec": {
   "display_name": "Python 3 (ipykernel)",
   "language": "python",
   "name": "python3"
  },
  "language_info": {
   "codemirror_mode": {
    "name": "ipython",
    "version": 3
   },
   "file_extension": ".py",
   "mimetype": "text/x-python",
   "name": "python",
   "nbconvert_exporter": "python",
   "pygments_lexer": "ipython3",
   "version": "3.10.4"
  }
 },
 "nbformat": 4,
 "nbformat_minor": 5
}
