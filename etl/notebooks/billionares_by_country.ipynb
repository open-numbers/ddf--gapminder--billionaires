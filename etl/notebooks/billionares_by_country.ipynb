{
 "cells": [
  {
   "cell_type": "code",
   "execution_count": 1,
   "id": "dcd52082",
   "metadata": {
    "collapsed": false
   },
   "outputs": [],
   "source": [
    "import pandas as pd"
   ]
  },
  {
   "cell_type": "code",
   "execution_count": 2,
   "id": "658d356e",
   "metadata": {
    "collapsed": false
   },
   "outputs": [],
   "source": [
    "import numpy as np"
   ]
  },
  {
   "cell_type": "code",
   "execution_count": 3,
   "id": "dafe6101",
   "metadata": {
    "collapsed": false
   },
   "outputs": [],
   "source": [
    "import matplotlib.pyplot as plt\n",
    "import seaborn as sns\n",
    "%matplotlib inline\n",
    "sns.set_style(\"whitegrid\")"
   ]
  },
  {
   "cell_type": "code",
   "execution_count": 4,
   "id": "eb66e05f",
   "metadata": {
    "collapsed": false
   },
   "outputs": [],
   "source": [
    "ppl = pd.read_csv('../../ddf--entities--person.csv')"
   ]
  },
  {
   "cell_type": "code",
   "execution_count": 5,
   "id": "219bae3f",
   "metadata": {
    "collapsed": false
   },
   "outputs": [
    {
     "data": {
      "text/html": [
       "<div>\n",
       "<style scoped>\n",
       "    .dataframe tbody tr th:only-of-type {\n",
       "        vertical-align: middle;\n",
       "    }\n",
       "\n",
       "    .dataframe tbody tr th {\n",
       "        vertical-align: top;\n",
       "    }\n",
       "\n",
       "    .dataframe thead th {\n",
       "        text-align: right;\n",
       "    }\n",
       "</style>\n",
       "<table border=\"1\" class=\"dataframe\">\n",
       "  <thead>\n",
       "    <tr style=\"text-align: right;\">\n",
       "      <th></th>\n",
       "      <th>person</th>\n",
       "      <th>name</th>\n",
       "      <th>state</th>\n",
       "      <th>headquarters</th>\n",
       "      <th>source</th>\n",
       "      <th>industry</th>\n",
       "      <th>image_uri</th>\n",
       "      <th>age</th>\n",
       "      <th>gender</th>\n",
       "      <th>last_name</th>\n",
       "      <th>birth</th>\n",
       "      <th>birth_1</th>\n",
       "      <th>birth_2</th>\n",
       "      <th>birth_3</th>\n",
       "      <th>sex</th>\n",
       "      <th>permanent_country</th>\n",
       "      <th>company</th>\n",
       "      <th>birth_comb</th>\n",
       "      <th>countries</th>\n",
       "      <th>names</th>\n",
       "    </tr>\n",
       "  </thead>\n",
       "  <tbody>\n",
       "    <tr>\n",
       "      <th>0</th>\n",
       "      <td>a_jayson_adair</td>\n",
       "      <td>A. Jayson Adair</td>\n",
       "      <td>Texas</td>\n",
       "      <td>TX</td>\n",
       "      <td>damaged cars</td>\n",
       "      <td>Automotive</td>\n",
       "      <td>no-pic</td>\n",
       "      <td>52.0</td>\n",
       "      <td>M</td>\n",
       "      <td>Adair</td>\n",
       "      <td>NaN</td>\n",
       "      <td>NaN</td>\n",
       "      <td>NaN</td>\n",
       "      <td>NaN</td>\n",
       "      <td>NaN</td>\n",
       "      <td>NaN</td>\n",
       "      <td>NaN</td>\n",
       "      <td>NaN</td>\n",
       "      <td>usa</td>\n",
       "      <td>A. Jayson Adair</td>\n",
       "    </tr>\n",
       "    <tr>\n",
       "      <th>1</th>\n",
       "      <td>a_jerrold_perenchio</td>\n",
       "      <td>A. Jerrold Perenchio</td>\n",
       "      <td>California</td>\n",
       "      <td>CA</td>\n",
       "      <td>television, Univision; television; Univision</td>\n",
       "      <td>Media &amp; Entertainment; Media;Entertainment</td>\n",
       "      <td>a-jerrold-perenchio; no-pic</td>\n",
       "      <td>91.0</td>\n",
       "      <td>M</td>\n",
       "      <td>Perenchio</td>\n",
       "      <td>NaN</td>\n",
       "      <td>NaN</td>\n",
       "      <td>1931</td>\n",
       "      <td>NaN</td>\n",
       "      <td>NaN</td>\n",
       "      <td>NaN</td>\n",
       "      <td>Chartwell Leisure</td>\n",
       "      <td>1931.0</td>\n",
       "      <td>usa</td>\n",
       "      <td>A. Jerrold Perenchio;Jerrold Perenchio</td>\n",
       "    </tr>\n",
       "    <tr>\n",
       "      <th>2</th>\n",
       "      <td>abdul_aziz_al_ghurair</td>\n",
       "      <td>Abdul Aziz Al Ghurair</td>\n",
       "      <td>NaN</td>\n",
       "      <td>NaN</td>\n",
       "      <td>banking</td>\n",
       "      <td>Finance</td>\n",
       "      <td>abdul-aziz-al-ghurair; no-pic</td>\n",
       "      <td>67.0</td>\n",
       "      <td>M</td>\n",
       "      <td>Al Ghurair</td>\n",
       "      <td>NaN</td>\n",
       "      <td>NaN</td>\n",
       "      <td>NaN</td>\n",
       "      <td>NaN</td>\n",
       "      <td>NaN</td>\n",
       "      <td>NaN</td>\n",
       "      <td>NaN</td>\n",
       "      <td>NaN</td>\n",
       "      <td>are</td>\n",
       "      <td>Abdul Aziz Al Ghurair</td>\n",
       "    </tr>\n",
       "    <tr>\n",
       "      <th>3</th>\n",
       "      <td>abdul_majeed_alhokair</td>\n",
       "      <td>Abdul Majeed Alhokair</td>\n",
       "      <td>NaN</td>\n",
       "      <td>NaN</td>\n",
       "      <td>retail, real estate</td>\n",
       "      <td>Fashion &amp; Retail</td>\n",
       "      <td>no-pic</td>\n",
       "      <td>52.0</td>\n",
       "      <td>M</td>\n",
       "      <td>Alhokair</td>\n",
       "      <td>NaN</td>\n",
       "      <td>NaN</td>\n",
       "      <td>NaN</td>\n",
       "      <td>NaN</td>\n",
       "      <td>NaN</td>\n",
       "      <td>NaN</td>\n",
       "      <td>NaN</td>\n",
       "      <td>NaN</td>\n",
       "      <td>sau</td>\n",
       "      <td>Abdul Majeed Alhokair</td>\n",
       "    </tr>\n",
       "    <tr>\n",
       "      <th>4</th>\n",
       "      <td>abdul_rasyid</td>\n",
       "      <td>Abdul Rasyid</td>\n",
       "      <td>NaN</td>\n",
       "      <td>NaN</td>\n",
       "      <td>timber, palm oil</td>\n",
       "      <td>Manufacturing</td>\n",
       "      <td>abdul-rasyid</td>\n",
       "      <td>64.0</td>\n",
       "      <td>M</td>\n",
       "      <td>Abdul</td>\n",
       "      <td>NaN</td>\n",
       "      <td>NaN</td>\n",
       "      <td>NaN</td>\n",
       "      <td>NaN</td>\n",
       "      <td>NaN</td>\n",
       "      <td>NaN</td>\n",
       "      <td>NaN</td>\n",
       "      <td>NaN</td>\n",
       "      <td>idn</td>\n",
       "      <td>Abdul Rasyid</td>\n",
       "    </tr>\n",
       "    <tr>\n",
       "      <th>...</th>\n",
       "      <td>...</td>\n",
       "      <td>...</td>\n",
       "      <td>...</td>\n",
       "      <td>...</td>\n",
       "      <td>...</td>\n",
       "      <td>...</td>\n",
       "      <td>...</td>\n",
       "      <td>...</td>\n",
       "      <td>...</td>\n",
       "      <td>...</td>\n",
       "      <td>...</td>\n",
       "      <td>...</td>\n",
       "      <td>...</td>\n",
       "      <td>...</td>\n",
       "      <td>...</td>\n",
       "      <td>...</td>\n",
       "      <td>...</td>\n",
       "      <td>...</td>\n",
       "      <td>...</td>\n",
       "      <td>...</td>\n",
       "    </tr>\n",
       "    <tr>\n",
       "      <th>6041</th>\n",
       "      <td>zuo_zongshen</td>\n",
       "      <td>Zuo Zongshen</td>\n",
       "      <td>NaN</td>\n",
       "      <td>NaN</td>\n",
       "      <td>NaN</td>\n",
       "      <td>Auto Components;Motorcycles, Real Estate;Motor...</td>\n",
       "      <td>NaN</td>\n",
       "      <td>69.0</td>\n",
       "      <td>NaN</td>\n",
       "      <td>NaN</td>\n",
       "      <td>1953-01-01</td>\n",
       "      <td>1953.0</td>\n",
       "      <td>1953</td>\n",
       "      <td>NaN</td>\n",
       "      <td>Male</td>\n",
       "      <td>China-Chongqing</td>\n",
       "      <td>Zongshen</td>\n",
       "      <td>1953.0</td>\n",
       "      <td>chn</td>\n",
       "      <td>Zuo Zongshen;Zuo Zongshen &amp; family</td>\n",
       "    </tr>\n",
       "    <tr>\n",
       "      <th>6042</th>\n",
       "      <td>zuo_zongshen_and_yuan_dexiu</td>\n",
       "      <td>Zuo Zongshen &amp; Yuan Dexiu</td>\n",
       "      <td>NaN</td>\n",
       "      <td>NaN</td>\n",
       "      <td>NaN</td>\n",
       "      <td>Motorcycles, Real estate</td>\n",
       "      <td>NaN</td>\n",
       "      <td>NaN</td>\n",
       "      <td>NaN</td>\n",
       "      <td>NaN</td>\n",
       "      <td>NaN</td>\n",
       "      <td>NaN</td>\n",
       "      <td>1953</td>\n",
       "      <td>NaN</td>\n",
       "      <td>NaN</td>\n",
       "      <td>NaN</td>\n",
       "      <td>Zongshen</td>\n",
       "      <td>1953.0</td>\n",
       "      <td>NaN</td>\n",
       "      <td>Zuo Zongshen &amp; Yuan Dexiu</td>\n",
       "    </tr>\n",
       "    <tr>\n",
       "      <th>6043</th>\n",
       "      <td>zuowen_song</td>\n",
       "      <td>Zuowen Song</td>\n",
       "      <td>NaN</td>\n",
       "      <td>NaN</td>\n",
       "      <td>aluminum, diversified</td>\n",
       "      <td>Diversified;Non-ferrous metals processing;Meta...</td>\n",
       "      <td>zuowen-song</td>\n",
       "      <td>75.0</td>\n",
       "      <td>M</td>\n",
       "      <td>Song</td>\n",
       "      <td>1947-03-01</td>\n",
       "      <td>1947.0</td>\n",
       "      <td>1947</td>\n",
       "      <td>NaN</td>\n",
       "      <td>Male</td>\n",
       "      <td>China-Shandong-Yantai</td>\n",
       "      <td>Nanshan</td>\n",
       "      <td>1947.0</td>\n",
       "      <td>chn</td>\n",
       "      <td>Zuowen Song;Song Zuowen;Song Zuowen &amp; Family;S...</td>\n",
       "    </tr>\n",
       "    <tr>\n",
       "      <th>6044</th>\n",
       "      <td>zygi_wilf</td>\n",
       "      <td>Zygi Wilf</td>\n",
       "      <td>NaN</td>\n",
       "      <td>NaN</td>\n",
       "      <td>NaN</td>\n",
       "      <td>Sports;Real Estate</td>\n",
       "      <td>NaN</td>\n",
       "      <td>72.0</td>\n",
       "      <td>NaN</td>\n",
       "      <td>NaN</td>\n",
       "      <td>1950-04-22</td>\n",
       "      <td>1950.0</td>\n",
       "      <td>1951</td>\n",
       "      <td>NaN</td>\n",
       "      <td>Male</td>\n",
       "      <td>United States-Millburn</td>\n",
       "      <td>Minnesota Vikings;Garden Homes</td>\n",
       "      <td>1950.0</td>\n",
       "      <td>usa</td>\n",
       "      <td>Zygi Wilf</td>\n",
       "    </tr>\n",
       "    <tr>\n",
       "      <th>6045</th>\n",
       "      <td>zygmunt_solorz_zak</td>\n",
       "      <td>Zygmunt Solorz-Zak</td>\n",
       "      <td>NaN</td>\n",
       "      <td>NaN</td>\n",
       "      <td>TV broadcasting; TV station</td>\n",
       "      <td>Media &amp; Entertainment; Media;Media;Entertainment</td>\n",
       "      <td>zygmunt-solorz-zak; no-pic</td>\n",
       "      <td>65.0;66.0</td>\n",
       "      <td>M</td>\n",
       "      <td>Solorz-Zak</td>\n",
       "      <td>1956-08-04</td>\n",
       "      <td>1956.0</td>\n",
       "      <td>1957</td>\n",
       "      <td>NaN</td>\n",
       "      <td>Male</td>\n",
       "      <td>Poland-Warsaw</td>\n",
       "      <td>Cyfrowy Polsat</td>\n",
       "      <td>1956.0</td>\n",
       "      <td>pol</td>\n",
       "      <td>Zygmunt Solorz-Zak</td>\n",
       "    </tr>\n",
       "  </tbody>\n",
       "</table>\n",
       "<p>6046 rows × 20 columns</p>\n",
       "</div>"
      ],
      "text/plain": [
       "                           person                       name       state  \\\n",
       "0                  a_jayson_adair            A. Jayson Adair       Texas   \n",
       "1             a_jerrold_perenchio       A. Jerrold Perenchio  California   \n",
       "2           abdul_aziz_al_ghurair      Abdul Aziz Al Ghurair         NaN   \n",
       "3           abdul_majeed_alhokair      Abdul Majeed Alhokair         NaN   \n",
       "4                    abdul_rasyid               Abdul Rasyid         NaN   \n",
       "...                           ...                        ...         ...   \n",
       "6041                 zuo_zongshen               Zuo Zongshen         NaN   \n",
       "6042  zuo_zongshen_and_yuan_dexiu  Zuo Zongshen & Yuan Dexiu         NaN   \n",
       "6043                  zuowen_song                Zuowen Song         NaN   \n",
       "6044                    zygi_wilf                  Zygi Wilf         NaN   \n",
       "6045           zygmunt_solorz_zak         Zygmunt Solorz-Zak         NaN   \n",
       "\n",
       "     headquarters                                        source  \\\n",
       "0              TX                                  damaged cars   \n",
       "1              CA  television, Univision; television; Univision   \n",
       "2             NaN                                       banking   \n",
       "3             NaN                           retail, real estate   \n",
       "4             NaN                              timber, palm oil   \n",
       "...           ...                                           ...   \n",
       "6041          NaN                                           NaN   \n",
       "6042          NaN                                           NaN   \n",
       "6043          NaN                         aluminum, diversified   \n",
       "6044          NaN                                           NaN   \n",
       "6045          NaN                   TV broadcasting; TV station   \n",
       "\n",
       "                                               industry  \\\n",
       "0                                            Automotive   \n",
       "1            Media & Entertainment; Media;Entertainment   \n",
       "2                                               Finance   \n",
       "3                                      Fashion & Retail   \n",
       "4                                         Manufacturing   \n",
       "...                                                 ...   \n",
       "6041  Auto Components;Motorcycles, Real Estate;Motor...   \n",
       "6042                           Motorcycles, Real estate   \n",
       "6043  Diversified;Non-ferrous metals processing;Meta...   \n",
       "6044                                 Sports;Real Estate   \n",
       "6045   Media & Entertainment; Media;Media;Entertainment   \n",
       "\n",
       "                          image_uri        age gender   last_name       birth  \\\n",
       "0                            no-pic       52.0      M       Adair         NaN   \n",
       "1       a-jerrold-perenchio; no-pic       91.0      M   Perenchio         NaN   \n",
       "2     abdul-aziz-al-ghurair; no-pic       67.0      M  Al Ghurair         NaN   \n",
       "3                            no-pic       52.0      M    Alhokair         NaN   \n",
       "4                      abdul-rasyid       64.0      M       Abdul         NaN   \n",
       "...                             ...        ...    ...         ...         ...   \n",
       "6041                            NaN       69.0    NaN         NaN  1953-01-01   \n",
       "6042                            NaN        NaN    NaN         NaN         NaN   \n",
       "6043                    zuowen-song       75.0      M        Song  1947-03-01   \n",
       "6044                            NaN       72.0    NaN         NaN  1950-04-22   \n",
       "6045     zygmunt-solorz-zak; no-pic  65.0;66.0      M  Solorz-Zak  1956-08-04   \n",
       "\n",
       "     birth_1 birth_2 birth_3   sex       permanent_country  \\\n",
       "0        NaN     NaN     NaN   NaN                     NaN   \n",
       "1        NaN    1931     NaN   NaN                     NaN   \n",
       "2        NaN     NaN     NaN   NaN                     NaN   \n",
       "3        NaN     NaN     NaN   NaN                     NaN   \n",
       "4        NaN     NaN     NaN   NaN                     NaN   \n",
       "...      ...     ...     ...   ...                     ...   \n",
       "6041  1953.0    1953     NaN  Male         China-Chongqing   \n",
       "6042     NaN    1953     NaN   NaN                     NaN   \n",
       "6043  1947.0    1947     NaN  Male   China-Shandong-Yantai   \n",
       "6044  1950.0    1951     NaN  Male  United States-Millburn   \n",
       "6045  1956.0    1957     NaN  Male           Poland-Warsaw   \n",
       "\n",
       "                             company  birth_comb countries  \\\n",
       "0                                NaN         NaN       usa   \n",
       "1                  Chartwell Leisure      1931.0       usa   \n",
       "2                                NaN         NaN       are   \n",
       "3                                NaN         NaN       sau   \n",
       "4                                NaN         NaN       idn   \n",
       "...                              ...         ...       ...   \n",
       "6041                        Zongshen      1953.0       chn   \n",
       "6042                        Zongshen      1953.0       NaN   \n",
       "6043                         Nanshan      1947.0       chn   \n",
       "6044  Minnesota Vikings;Garden Homes      1950.0       usa   \n",
       "6045                  Cyfrowy Polsat      1956.0       pol   \n",
       "\n",
       "                                                  names  \n",
       "0                                       A. Jayson Adair  \n",
       "1                A. Jerrold Perenchio;Jerrold Perenchio  \n",
       "2                                 Abdul Aziz Al Ghurair  \n",
       "3                                 Abdul Majeed Alhokair  \n",
       "4                                          Abdul Rasyid  \n",
       "...                                                 ...  \n",
       "6041                 Zuo Zongshen;Zuo Zongshen & family  \n",
       "6042                          Zuo Zongshen & Yuan Dexiu  \n",
       "6043  Zuowen Song;Song Zuowen;Song Zuowen & Family;S...  \n",
       "6044                                          Zygi Wilf  \n",
       "6045                                 Zygmunt Solorz-Zak  \n",
       "\n",
       "[6046 rows x 20 columns]"
      ]
     },
     "execution_count": 5,
     "metadata": {},
     "output_type": "execute_result"
    }
   ],
   "source": [
    "ppl"
   ]
  },
  {
   "cell_type": "code",
   "execution_count": 5,
   "id": "c89b09af",
   "metadata": {
    "collapsed": false
   },
   "outputs": [],
   "source": []
  },
  {
   "cell_type": "code",
   "execution_count": 6,
   "id": "9ac51abd",
   "metadata": {
    "collapsed": false
   },
   "outputs": [],
   "source": [
    "# TODO: \n",
    "# - check entire calculation\n",
    "# - share over all"
   ]
  },
  {
   "cell_type": "code",
   "execution_count": 7,
   "id": "5e8bb002",
   "metadata": {
    "collapsed": false
   },
   "outputs": [],
   "source": [
    "synonyms = pd.read_csv('../../../ddf--open_numbers/ddf--synonyms--geo.csv')"
   ]
  },
  {
   "cell_type": "code",
   "execution_count": 8,
   "id": "7bc333fc",
   "metadata": {
    "collapsed": false
   },
   "outputs": [],
   "source": [
    "syn = synonyms.set_index('synonym')['geo'].to_dict()"
   ]
  },
  {
   "cell_type": "code",
   "execution_count": 9,
   "id": "4b303dc4",
   "metadata": {
    "collapsed": false
   },
   "outputs": [],
   "source": [
    "# append one that not exists in dict\n",
    "syn['Eswatini (Swaziland)'] = 'swz'"
   ]
  },
  {
   "cell_type": "code",
   "execution_count": 10,
   "id": "e7442875",
   "metadata": {
    "collapsed": false
   },
   "outputs": [],
   "source": [
    "# def _f(x):\n",
    "#     try:\n",
    "#         k = x.split(';')[0]\n",
    "#         return syn[k]\n",
    "#     except KeyError:\n",
    "#         print(x)\n",
    "#         return x\n",
    "def _f(x):\n",
    "    if pd.isnull(x):\n",
    "        return None\n",
    "    k = x.split(';')[0]\n",
    "    if not pd.isnull(k):\n",
    "        return k\n",
    "    else:\n",
    "        return None"
   ]
  },
  {
   "cell_type": "code",
   "execution_count": 11,
   "id": "35c8650f",
   "metadata": {
    "collapsed": false
   },
   "outputs": [],
   "source": [
    "# Question: what to do if there are multiple countries?"
   ]
  },
  {
   "cell_type": "code",
   "execution_count": 12,
   "id": "b2714612",
   "metadata": {
    "collapsed": false
   },
   "outputs": [],
   "source": [
    "ppl['geo'] = ppl['countries'].map(_f)"
   ]
  },
  {
   "cell_type": "code",
   "execution_count": 13,
   "id": "29cd8746",
   "metadata": {
    "collapsed": false
   },
   "outputs": [
    {
     "name": "stdout",
     "output_type": "stream",
     "text": [
      "assets\r\n",
      "datapackage.json\r\n",
      "datapackage.json.bak\r\n",
      "ddf--concepts.csv\r\n",
      "ddf--datapoints--annual_income--by--person--time.csv\r\n",
      "ddf--datapoints--daily_income--by--person--time.csv\r\n",
      "ddf--datapoints--population--by--geo--time--income_group.csv\r\n",
      "ddf--datapoints--population_extrapolated--by--geo--time--income_group.csv\r\n",
      "ddf--entities--geo--country.csv\r\n",
      "ddf--entities--geo.csv\r\n",
      "ddf--entities--geo--g77_and_oecd_countries.csv\r\n",
      "ddf--entities--geo--global.csv\r\n",
      "ddf--entities--geo--income_3groups.csv\r\n",
      "ddf--entities--geo--income_groups.csv\r\n",
      "ddf--entities--geo--landlocked.csv\r\n",
      "ddf--entities--geo--main_religion_2008.csv\r\n",
      "ddf--entities--geo--unhcr_region.csv\r\n",
      "ddf--entities--geo--unicef_region.csv\r\n",
      "ddf--entities--geo--un_sdg_ldc.csv\r\n",
      "ddf--entities--geo--un_sdg_region.csv\r\n",
      "ddf--entities--geo--west_and_rest.csv\r\n",
      "ddf--entities--geo--world_4region.csv\r\n",
      "ddf--entities--geo--world_6region.csv\r\n",
      "ddf--entities--income_group.csv\r\n",
      "ddf--entities--person.csv\r\n",
      "etl\r\n",
      "README.md\r\n",
      "validation-2022-06-21T054605.195Z.log\r\n",
      "validation-2022-10-10T034029.182Z.log\r\n",
      "validation-2022-10-26T033326.917Z.log\r\n"
     ]
    }
   ],
   "source": [
    "!ls ../../"
   ]
  },
  {
   "cell_type": "code",
   "execution_count": 13,
   "id": "db98e6a1",
   "metadata": {
    "collapsed": false
   },
   "outputs": [],
   "source": []
  },
  {
   "cell_type": "code",
   "execution_count": 13,
   "id": "5c5a0f77",
   "metadata": {
    "collapsed": false
   },
   "outputs": [],
   "source": []
  },
  {
   "cell_type": "code",
   "execution_count": 13,
   "id": "1d47e5f0",
   "metadata": {
    "collapsed": false
   },
   "outputs": [],
   "source": []
  },
  {
   "cell_type": "code",
   "execution_count": 14,
   "id": "80fa681a",
   "metadata": {
    "collapsed": false
   },
   "outputs": [],
   "source": [
    "all_brackets = np.logspace(-7, 13, 51, endpoint=True, base=2)\n",
    "brackets_delta = (13 - (-7)) / 50\n",
    "\n",
    "\n",
    "def bracket_number_from_income(s, monthly=False, integer=True):\n",
    "    if monthly:  # the input is monthly income, so calculate to daily income first\n",
    "        res = ((np.log2(s / 30) + 7) / brackets_delta)\n",
    "    else:\n",
    "        res = ((np.log2(s) + 7) / brackets_delta)\n",
    "    if integer:\n",
    "        return res.astype(int)\n",
    "    return res\n",
    "\n",
    "def bracket_number_from_income_c(s):\n",
    "    res = ((np.log2(s) + 7) / brackets_delta)\n",
    "    return res.astype(int)\n",
    "\n",
    "def bracket_number_to_income(n):\n",
    "    p = n * brackets_delta - 7\n",
    "    return np.power(2, p)"
   ]
  },
  {
   "cell_type": "code",
   "execution_count": 15,
   "id": "b6d4524f",
   "metadata": {
    "collapsed": false
   },
   "outputs": [],
   "source": [
    "income = pd.read_csv('../../ddf--datapoints--annual_income--by--person--time.csv')\n",
    "income2 = pd.read_csv('../../ddf--datapoints--daily_income--by--person--time.csv')"
   ]
  },
  {
   "cell_type": "code",
   "execution_count": 16,
   "id": "d20b9f10",
   "metadata": {
    "collapsed": false
   },
   "outputs": [],
   "source": [
    "income = income.sort_values(by=['person', 'time'])\n",
    "income2 = income2.sort_values(by=['person', 'time'])"
   ]
  },
  {
   "cell_type": "code",
   "execution_count": 17,
   "id": "a759d8ec",
   "metadata": {
    "collapsed": false
   },
   "outputs": [
    {
     "data": {
      "text/plain": [
       "array([2021, 2022, 2002, 2003, 2004, 2005, 2006, 2007, 2008, 2009, 2010,\n",
       "       2011, 2012, 2013, 2014, 2015, 2016, 2017, 2018, 2019, 2020])"
      ]
     },
     "execution_count": 17,
     "metadata": {},
     "output_type": "execute_result"
    }
   ],
   "source": [
    "income.time.unique()"
   ]
  },
  {
   "cell_type": "code",
   "execution_count": 18,
   "id": "df184762",
   "metadata": {
    "collapsed": false
   },
   "outputs": [],
   "source": [
    "ppl_ = ppl[~pd.isnull(ppl['geo'])]"
   ]
  },
  {
   "cell_type": "code",
   "execution_count": 19,
   "id": "141674d9",
   "metadata": {
    "collapsed": false
   },
   "outputs": [],
   "source": [
    "# 1. convert person to geo NOTE: we will drop names without countries properties\n",
    "# 2. convert income to income group\n",
    "\n",
    "person_to_geo = ppl_.set_index('person')['geo'].to_dict()\n",
    "\n",
    "def _f(x):\n",
    "    if x in person_to_geo:\n",
    "        return person_to_geo[x]\n",
    "    return np.nan\n",
    "\n",
    "df = income.copy()\n",
    "df['geo'] = df['person'].map(_f)\n",
    "\n",
    "df2 = income2.copy()\n",
    "df2['geo'] = df2['person'].map(_f)"
   ]
  },
  {
   "cell_type": "code",
   "execution_count": 20,
   "id": "ec794ac8",
   "metadata": {
    "collapsed": false
   },
   "outputs": [],
   "source": [
    "def annual_income_to_group(i):\n",
    "    daily = i / 365.0\n",
    "    return bracket_number_from_income(daily)\n",
    "\n",
    "df['income_group'] = df.apply(lambda x: annual_income_to_group(x['annual_income']), axis=1)"
   ]
  },
  {
   "cell_type": "code",
   "execution_count": 21,
   "id": "a750ca67",
   "metadata": {
    "collapsed": false
   },
   "outputs": [],
   "source": [
    "df2['income_group'] = df2['daily_income'].map(bracket_number_from_income)"
   ]
  },
  {
   "cell_type": "code",
   "execution_count": 22,
   "id": "e2930682",
   "metadata": {
    "collapsed": false
   },
   "outputs": [
    {
     "data": {
      "text/html": [
       "<div>\n",
       "<style scoped>\n",
       "    .dataframe tbody tr th:only-of-type {\n",
       "        vertical-align: middle;\n",
       "    }\n",
       "\n",
       "    .dataframe tbody tr th {\n",
       "        vertical-align: top;\n",
       "    }\n",
       "\n",
       "    .dataframe thead th {\n",
       "        text-align: right;\n",
       "    }\n",
       "</style>\n",
       "<table border=\"1\" class=\"dataframe\">\n",
       "  <thead>\n",
       "    <tr style=\"text-align: right;\">\n",
       "      <th></th>\n",
       "      <th>person</th>\n",
       "      <th>time</th>\n",
       "      <th>daily_income</th>\n",
       "      <th>geo</th>\n",
       "      <th>income_group</th>\n",
       "    </tr>\n",
       "  </thead>\n",
       "  <tbody>\n",
       "    <tr>\n",
       "      <th>0</th>\n",
       "      <td>a_jayson_adair</td>\n",
       "      <td>2021</td>\n",
       "      <td>72328</td>\n",
       "      <td>usa</td>\n",
       "      <td>57</td>\n",
       "    </tr>\n",
       "    <tr>\n",
       "      <th>1</th>\n",
       "      <td>a_jayson_adair</td>\n",
       "      <td>2022</td>\n",
       "      <td>77753</td>\n",
       "      <td>usa</td>\n",
       "      <td>58</td>\n",
       "    </tr>\n",
       "    <tr>\n",
       "      <th>2</th>\n",
       "      <td>a_jerrold_perenchio</td>\n",
       "      <td>2002</td>\n",
       "      <td>285715</td>\n",
       "      <td>usa</td>\n",
       "      <td>62</td>\n",
       "    </tr>\n",
       "    <tr>\n",
       "      <th>3</th>\n",
       "      <td>a_jerrold_perenchio</td>\n",
       "      <td>2003</td>\n",
       "      <td>241783</td>\n",
       "      <td>usa</td>\n",
       "      <td>62</td>\n",
       "    </tr>\n",
       "    <tr>\n",
       "      <th>4</th>\n",
       "      <td>a_jerrold_perenchio</td>\n",
       "      <td>2004</td>\n",
       "      <td>266745</td>\n",
       "      <td>usa</td>\n",
       "      <td>62</td>\n",
       "    </tr>\n",
       "    <tr>\n",
       "      <th>...</th>\n",
       "      <td>...</td>\n",
       "      <td>...</td>\n",
       "      <td>...</td>\n",
       "      <td>...</td>\n",
       "      <td>...</td>\n",
       "    </tr>\n",
       "    <tr>\n",
       "      <th>32431</th>\n",
       "      <td>zygmunt_solorz_zak</td>\n",
       "      <td>2018</td>\n",
       "      <td>219780</td>\n",
       "      <td>pol</td>\n",
       "      <td>61</td>\n",
       "    </tr>\n",
       "    <tr>\n",
       "      <th>32432</th>\n",
       "      <td>zygmunt_solorz_zak</td>\n",
       "      <td>2019</td>\n",
       "      <td>207493</td>\n",
       "      <td>pol</td>\n",
       "      <td>61</td>\n",
       "    </tr>\n",
       "    <tr>\n",
       "      <th>32433</th>\n",
       "      <td>zygmunt_solorz_zak</td>\n",
       "      <td>2020</td>\n",
       "      <td>180887</td>\n",
       "      <td>pol</td>\n",
       "      <td>61</td>\n",
       "    </tr>\n",
       "    <tr>\n",
       "      <th>32434</th>\n",
       "      <td>zygmunt_solorz_zak</td>\n",
       "      <td>2021</td>\n",
       "      <td>231452</td>\n",
       "      <td>pol</td>\n",
       "      <td>62</td>\n",
       "    </tr>\n",
       "    <tr>\n",
       "      <th>32435</th>\n",
       "      <td>zygmunt_solorz_zak</td>\n",
       "      <td>2022</td>\n",
       "      <td>204986</td>\n",
       "      <td>pol</td>\n",
       "      <td>61</td>\n",
       "    </tr>\n",
       "  </tbody>\n",
       "</table>\n",
       "<p>32436 rows × 5 columns</p>\n",
       "</div>"
      ],
      "text/plain": [
       "                    person  time  daily_income  geo  income_group\n",
       "0           a_jayson_adair  2021         72328  usa            57\n",
       "1           a_jayson_adair  2022         77753  usa            58\n",
       "2      a_jerrold_perenchio  2002        285715  usa            62\n",
       "3      a_jerrold_perenchio  2003        241783  usa            62\n",
       "4      a_jerrold_perenchio  2004        266745  usa            62\n",
       "...                    ...   ...           ...  ...           ...\n",
       "32431   zygmunt_solorz_zak  2018        219780  pol            61\n",
       "32432   zygmunt_solorz_zak  2019        207493  pol            61\n",
       "32433   zygmunt_solorz_zak  2020        180887  pol            61\n",
       "32434   zygmunt_solorz_zak  2021        231452  pol            62\n",
       "32435   zygmunt_solorz_zak  2022        204986  pol            61\n",
       "\n",
       "[32436 rows x 5 columns]"
      ]
     },
     "execution_count": 22,
     "metadata": {},
     "output_type": "execute_result"
    }
   ],
   "source": [
    "df2"
   ]
  },
  {
   "cell_type": "code",
   "execution_count": 23,
   "id": "cb0e2ac9",
   "metadata": {
    "collapsed": false
   },
   "outputs": [],
   "source": [
    "res = df.groupby(['geo', 'time', 'income_group'])['person'].count()\n",
    "res2 = df2.groupby(['geo', 'time', 'income_group'])['person'].count()"
   ]
  },
  {
   "cell_type": "code",
   "execution_count": 24,
   "id": "cf659b86",
   "metadata": {
    "collapsed": false
   },
   "outputs": [
    {
     "data": {
      "text/plain": [
       "income_group\n",
       "58    46\n",
       "59    41\n",
       "60    49\n",
       "61    31\n",
       "62    21\n",
       "63    16\n",
       "64     7\n",
       "65     6\n",
       "66     5\n",
       "67     5\n",
       "68     2\n",
       "69     2\n",
       "70     1\n",
       "Name: person, dtype: int64"
      ]
     },
     "execution_count": 24,
     "metadata": {},
     "output_type": "execute_result"
    }
   ],
   "source": [
    "res.loc['chn', 2014]"
   ]
  },
  {
   "cell_type": "code",
   "execution_count": 25,
   "id": "d6f7cd35",
   "metadata": {
    "collapsed": false
   },
   "outputs": [
    {
     "data": {
      "text/plain": [
       "Series([], Name: person, dtype: int64)"
      ]
     },
     "execution_count": 25,
     "metadata": {},
     "output_type": "execute_result"
    }
   ],
   "source": [
    "_d = res - res2\n",
    "_d[_d > 0]"
   ]
  },
  {
   "cell_type": "code",
   "execution_count": 25,
   "id": "0403e2da",
   "metadata": {
    "collapsed": false
   },
   "outputs": [],
   "source": []
  },
  {
   "cell_type": "code",
   "execution_count": 26,
   "id": "961f15c0",
   "metadata": {
    "collapsed": false
   },
   "outputs": [],
   "source": [
    "# reindex to range() and fillna before continue\n",
    "\n",
    "def reindex_income_group(ser):\n",
    "    # print(ser)\n",
    "    ser = ser.set_index('income_group')\n",
    "    ser = ser.reindex(range(ser.index.min(), ser.index.max()+1)).fillna(0)\n",
    "    return ser"
   ]
  },
  {
   "cell_type": "code",
   "execution_count": 27,
   "id": "93cfc328",
   "metadata": {
    "collapsed": false
   },
   "outputs": [],
   "source": [
    "res = res.reset_index()"
   ]
  },
  {
   "cell_type": "code",
   "execution_count": 28,
   "id": "c2b728ca",
   "metadata": {
    "collapsed": false
   },
   "outputs": [],
   "source": [
    "res = res.groupby(['geo', 'time']).apply(reindex_income_group)['person']"
   ]
  },
  {
   "cell_type": "code",
   "execution_count": 29,
   "id": "5d840b65",
   "metadata": {
    "collapsed": false
   },
   "outputs": [],
   "source": [
    "res = res.sort_index().astype(int)"
   ]
  },
  {
   "cell_type": "code",
   "execution_count": 30,
   "id": "db999eb2",
   "metadata": {
    "collapsed": false
   },
   "outputs": [
    {
     "data": {
      "text/plain": [
       "income_group\n",
       "57     25\n",
       "58    118\n",
       "59    117\n",
       "60     95\n",
       "61    108\n",
       "62     97\n",
       "63     83\n",
       "64     66\n",
       "65     35\n",
       "66     22\n",
       "67     10\n",
       "68     10\n",
       "69      4\n",
       "70      4\n",
       "71      2\n",
       "72      7\n",
       "73      1\n",
       "74      5\n",
       "75      1\n",
       "76      1\n",
       "77      1\n",
       "Name: person, dtype: int64"
      ]
     },
     "execution_count": 30,
     "metadata": {},
     "output_type": "execute_result"
    }
   ],
   "source": [
    "res.loc['usa', 2022]"
   ]
  },
  {
   "cell_type": "code",
   "execution_count": 31,
   "id": "cf5fa566",
   "metadata": {
    "collapsed": false
   },
   "outputs": [
    {
     "data": {
      "text/plain": [
       "time  income_group\n",
       "2013  60              1\n",
       "2014  63              1\n",
       "2015  62              1\n",
       "2016  62              1\n",
       "2017  62              1\n",
       "2018  61              1\n",
       "2019  61              1\n",
       "2020  59              1\n",
       "Name: person, dtype: int64"
      ]
     },
     "execution_count": 31,
     "metadata": {},
     "output_type": "execute_result"
    }
   ],
   "source": [
    "res.loc['ago']"
   ]
  },
  {
   "cell_type": "code",
   "execution_count": 32,
   "id": "3024e31f",
   "metadata": {
    "collapsed": false
   },
   "outputs": [
    {
     "data": {
      "text/html": [
       "<div>\n",
       "<style scoped>\n",
       "    .dataframe tbody tr th:only-of-type {\n",
       "        vertical-align: middle;\n",
       "    }\n",
       "\n",
       "    .dataframe tbody tr th {\n",
       "        vertical-align: top;\n",
       "    }\n",
       "\n",
       "    .dataframe thead th {\n",
       "        text-align: right;\n",
       "    }\n",
       "</style>\n",
       "<table border=\"1\" class=\"dataframe\">\n",
       "  <thead>\n",
       "    <tr style=\"text-align: right;\">\n",
       "      <th></th>\n",
       "      <th>person</th>\n",
       "      <th>time</th>\n",
       "      <th>annual_income</th>\n",
       "      <th>geo</th>\n",
       "      <th>income_group</th>\n",
       "    </tr>\n",
       "  </thead>\n",
       "  <tbody>\n",
       "    <tr>\n",
       "      <th>12737</th>\n",
       "      <td>jeff_bezos</td>\n",
       "      <td>2002</td>\n",
       "      <td>60165000</td>\n",
       "      <td>usa</td>\n",
       "      <td>60</td>\n",
       "    </tr>\n",
       "    <tr>\n",
       "      <th>12738</th>\n",
       "      <td>jeff_bezos</td>\n",
       "      <td>2003</td>\n",
       "      <td>95925000</td>\n",
       "      <td>usa</td>\n",
       "      <td>62</td>\n",
       "    </tr>\n",
       "    <tr>\n",
       "      <th>12739</th>\n",
       "      <td>jeff_bezos</td>\n",
       "      <td>2004</td>\n",
       "      <td>183906000</td>\n",
       "      <td>usa</td>\n",
       "      <td>64</td>\n",
       "    </tr>\n",
       "    <tr>\n",
       "      <th>12740</th>\n",
       "      <td>jeff_bezos</td>\n",
       "      <td>2005</td>\n",
       "      <td>142926000</td>\n",
       "      <td>usa</td>\n",
       "      <td>63</td>\n",
       "    </tr>\n",
       "    <tr>\n",
       "      <th>12741</th>\n",
       "      <td>jeff_bezos</td>\n",
       "      <td>2006</td>\n",
       "      <td>147318000</td>\n",
       "      <td>usa</td>\n",
       "      <td>64</td>\n",
       "    </tr>\n",
       "    <tr>\n",
       "      <th>12742</th>\n",
       "      <td>jeff_bezos</td>\n",
       "      <td>2007</td>\n",
       "      <td>150084000</td>\n",
       "      <td>usa</td>\n",
       "      <td>64</td>\n",
       "    </tr>\n",
       "    <tr>\n",
       "      <th>12743</th>\n",
       "      <td>jeff_bezos</td>\n",
       "      <td>2008</td>\n",
       "      <td>273306000</td>\n",
       "      <td>usa</td>\n",
       "      <td>66</td>\n",
       "    </tr>\n",
       "    <tr>\n",
       "      <th>12744</th>\n",
       "      <td>jeff_bezos</td>\n",
       "      <td>2009</td>\n",
       "      <td>224808000</td>\n",
       "      <td>usa</td>\n",
       "      <td>65</td>\n",
       "    </tr>\n",
       "    <tr>\n",
       "      <th>12745</th>\n",
       "      <td>jeff_bezos</td>\n",
       "      <td>2010</td>\n",
       "      <td>402579000</td>\n",
       "      <td>usa</td>\n",
       "      <td>67</td>\n",
       "    </tr>\n",
       "    <tr>\n",
       "      <th>12746</th>\n",
       "      <td>jeff_bezos</td>\n",
       "      <td>2011</td>\n",
       "      <td>579924000</td>\n",
       "      <td>usa</td>\n",
       "      <td>68</td>\n",
       "    </tr>\n",
       "    <tr>\n",
       "      <th>12747</th>\n",
       "      <td>jeff_bezos</td>\n",
       "      <td>2012</td>\n",
       "      <td>574080000</td>\n",
       "      <td>usa</td>\n",
       "      <td>68</td>\n",
       "    </tr>\n",
       "    <tr>\n",
       "      <th>12748</th>\n",
       "      <td>jeff_bezos</td>\n",
       "      <td>2013</td>\n",
       "      <td>777168000</td>\n",
       "      <td>usa</td>\n",
       "      <td>70</td>\n",
       "    </tr>\n",
       "    <tr>\n",
       "      <th>12749</th>\n",
       "      <td>jeff_bezos</td>\n",
       "      <td>2014</td>\n",
       "      <td>971520000</td>\n",
       "      <td>usa</td>\n",
       "      <td>70</td>\n",
       "    </tr>\n",
       "    <tr>\n",
       "      <th>12750</th>\n",
       "      <td>jeff_bezos</td>\n",
       "      <td>2015</td>\n",
       "      <td>1063835999</td>\n",
       "      <td>usa</td>\n",
       "      <td>71</td>\n",
       "    </tr>\n",
       "    <tr>\n",
       "      <th>12751</th>\n",
       "      <td>jeff_bezos</td>\n",
       "      <td>2016</td>\n",
       "      <td>1381763999</td>\n",
       "      <td>usa</td>\n",
       "      <td>72</td>\n",
       "    </tr>\n",
       "    <tr>\n",
       "      <th>12752</th>\n",
       "      <td>jeff_bezos</td>\n",
       "      <td>2017</td>\n",
       "      <td>2184000000</td>\n",
       "      <td>usa</td>\n",
       "      <td>73</td>\n",
       "    </tr>\n",
       "    <tr>\n",
       "      <th>12753</th>\n",
       "      <td>jeff_bezos</td>\n",
       "      <td>2018</td>\n",
       "      <td>3208800000</td>\n",
       "      <td>usa</td>\n",
       "      <td>75</td>\n",
       "    </tr>\n",
       "    <tr>\n",
       "      <th>12754</th>\n",
       "      <td>jeff_bezos</td>\n",
       "      <td>2019</td>\n",
       "      <td>3674550000</td>\n",
       "      <td>usa</td>\n",
       "      <td>75</td>\n",
       "    </tr>\n",
       "    <tr>\n",
       "      <th>12755</th>\n",
       "      <td>jeff_bezos</td>\n",
       "      <td>2020</td>\n",
       "      <td>3108630000</td>\n",
       "      <td>usa</td>\n",
       "      <td>75</td>\n",
       "    </tr>\n",
       "    <tr>\n",
       "      <th>12756</th>\n",
       "      <td>jeff_bezos</td>\n",
       "      <td>2021</td>\n",
       "      <td>4672800000</td>\n",
       "      <td>usa</td>\n",
       "      <td>76</td>\n",
       "    </tr>\n",
       "    <tr>\n",
       "      <th>12757</th>\n",
       "      <td>jeff_bezos</td>\n",
       "      <td>2022</td>\n",
       "      <td>4411800000</td>\n",
       "      <td>usa</td>\n",
       "      <td>76</td>\n",
       "    </tr>\n",
       "  </tbody>\n",
       "</table>\n",
       "</div>"
      ],
      "text/plain": [
       "           person  time  annual_income  geo  income_group\n",
       "12737  jeff_bezos  2002       60165000  usa            60\n",
       "12738  jeff_bezos  2003       95925000  usa            62\n",
       "12739  jeff_bezos  2004      183906000  usa            64\n",
       "12740  jeff_bezos  2005      142926000  usa            63\n",
       "12741  jeff_bezos  2006      147318000  usa            64\n",
       "12742  jeff_bezos  2007      150084000  usa            64\n",
       "12743  jeff_bezos  2008      273306000  usa            66\n",
       "12744  jeff_bezos  2009      224808000  usa            65\n",
       "12745  jeff_bezos  2010      402579000  usa            67\n",
       "12746  jeff_bezos  2011      579924000  usa            68\n",
       "12747  jeff_bezos  2012      574080000  usa            68\n",
       "12748  jeff_bezos  2013      777168000  usa            70\n",
       "12749  jeff_bezos  2014      971520000  usa            70\n",
       "12750  jeff_bezos  2015     1063835999  usa            71\n",
       "12751  jeff_bezos  2016     1381763999  usa            72\n",
       "12752  jeff_bezos  2017     2184000000  usa            73\n",
       "12753  jeff_bezos  2018     3208800000  usa            75\n",
       "12754  jeff_bezos  2019     3674550000  usa            75\n",
       "12755  jeff_bezos  2020     3108630000  usa            75\n",
       "12756  jeff_bezos  2021     4672800000  usa            76\n",
       "12757  jeff_bezos  2022     4411800000  usa            76"
      ]
     },
     "execution_count": 32,
     "metadata": {},
     "output_type": "execute_result"
    }
   ],
   "source": [
    "df[df.person == 'jeff_bezos']"
   ]
  },
  {
   "cell_type": "code",
   "execution_count": 33,
   "id": "43a654ae",
   "metadata": {
    "collapsed": false
   },
   "outputs": [
    {
     "data": {
      "text/html": [
       "<div>\n",
       "<style scoped>\n",
       "    .dataframe tbody tr th:only-of-type {\n",
       "        vertical-align: middle;\n",
       "    }\n",
       "\n",
       "    .dataframe tbody tr th {\n",
       "        vertical-align: top;\n",
       "    }\n",
       "\n",
       "    .dataframe thead th {\n",
       "        text-align: right;\n",
       "    }\n",
       "</style>\n",
       "<table border=\"1\" class=\"dataframe\">\n",
       "  <thead>\n",
       "    <tr style=\"text-align: right;\">\n",
       "      <th></th>\n",
       "      <th>person</th>\n",
       "      <th>name</th>\n",
       "      <th>state</th>\n",
       "      <th>headquarters</th>\n",
       "      <th>source</th>\n",
       "      <th>industry</th>\n",
       "      <th>image_uri</th>\n",
       "      <th>age</th>\n",
       "      <th>gender</th>\n",
       "      <th>last_name</th>\n",
       "      <th>...</th>\n",
       "      <th>birth_1</th>\n",
       "      <th>birth_2</th>\n",
       "      <th>birth_3</th>\n",
       "      <th>sex</th>\n",
       "      <th>permanent_country</th>\n",
       "      <th>company</th>\n",
       "      <th>birth_comb</th>\n",
       "      <th>countries</th>\n",
       "      <th>names</th>\n",
       "      <th>geo</th>\n",
       "    </tr>\n",
       "  </thead>\n",
       "  <tbody>\n",
       "    <tr>\n",
       "      <th>2168</th>\n",
       "      <td>jeff_bezos</td>\n",
       "      <td>Jeff Bezos</td>\n",
       "      <td>Washington</td>\n",
       "      <td>WA</td>\n",
       "      <td>Amazon; Amazon.com</td>\n",
       "      <td>Technology;E-Commerce;Online Retail</td>\n",
       "      <td>jeff-bezos</td>\n",
       "      <td>58.0</td>\n",
       "      <td>M</td>\n",
       "      <td>Bezos</td>\n",
       "      <td>...</td>\n",
       "      <td>1964.0</td>\n",
       "      <td>1964</td>\n",
       "      <td>1964</td>\n",
       "      <td>Male</td>\n",
       "      <td>United States-Washington State-Seattle</td>\n",
       "      <td>Amazon</td>\n",
       "      <td>1964.0</td>\n",
       "      <td>usa</td>\n",
       "      <td>Jeff Bezos</td>\n",
       "      <td>usa</td>\n",
       "    </tr>\n",
       "  </tbody>\n",
       "</table>\n",
       "<p>1 rows × 21 columns</p>\n",
       "</div>"
      ],
      "text/plain": [
       "          person        name       state headquarters              source  \\\n",
       "2168  jeff_bezos  Jeff Bezos  Washington           WA  Amazon; Amazon.com   \n",
       "\n",
       "                                 industry   image_uri   age gender last_name  \\\n",
       "2168  Technology;E-Commerce;Online Retail  jeff-bezos  58.0      M     Bezos   \n",
       "\n",
       "      ... birth_1 birth_2 birth_3   sex  \\\n",
       "2168  ...  1964.0    1964    1964  Male   \n",
       "\n",
       "                           permanent_country company birth_comb  countries  \\\n",
       "2168  United States-Washington State-Seattle  Amazon     1964.0        usa   \n",
       "\n",
       "           names  geo  \n",
       "2168  Jeff Bezos  usa  \n",
       "\n",
       "[1 rows x 21 columns]"
      ]
     },
     "execution_count": 33,
     "metadata": {},
     "output_type": "execute_result"
    }
   ],
   "source": [
    "ppl[ppl['person'].str.contains('bezos')]"
   ]
  },
  {
   "cell_type": "code",
   "execution_count": 33,
   "id": "7b2d85b5",
   "metadata": {
    "collapsed": false
   },
   "outputs": [],
   "source": []
  },
  {
   "cell_type": "code",
   "execution_count": 34,
   "id": "f45a08f2",
   "metadata": {
    "collapsed": false
   },
   "outputs": [
    {
     "data": {
      "text/plain": [
       "time\n",
       "2002     335\n",
       "2003     335\n",
       "2004     435\n",
       "2005     531\n",
       "2006     628\n",
       "2007     760\n",
       "2008     908\n",
       "2009     737\n",
       "2010    1010\n",
       "2011    1206\n",
       "2012    1226\n",
       "2013    1430\n",
       "2014    1649\n",
       "2015    1833\n",
       "2016    1820\n",
       "2017    2273\n",
       "2018    2604\n",
       "2019    2755\n",
       "2020    2762\n",
       "2021    3548\n",
       "2022    3651\n",
       "Name: person, dtype: int64"
      ]
     },
     "execution_count": 34,
     "metadata": {},
     "output_type": "execute_result"
    }
   ],
   "source": [
    "res.groupby('time').sum()"
   ]
  },
  {
   "cell_type": "code",
   "execution_count": 35,
   "id": "8fa3fec9",
   "metadata": {
    "collapsed": false
   },
   "outputs": [
    {
     "data": {
      "text/plain": [
       "income_group\n",
       "60    1\n",
       "Name: person, dtype: int64"
      ]
     },
     "execution_count": 35,
     "metadata": {},
     "output_type": "execute_result"
    }
   ],
   "source": [
    "res.loc['ago', 2013, :]"
   ]
  },
  {
   "cell_type": "code",
   "execution_count": 35,
   "id": "6855f6f8",
   "metadata": {
    "collapsed": false
   },
   "outputs": [],
   "source": []
  },
  {
   "cell_type": "code",
   "execution_count": 36,
   "id": "eefbdc19",
   "metadata": {
    "collapsed": false
   },
   "outputs": [
    {
     "data": {
      "text/plain": [
       "income_group\n",
       "57     25\n",
       "58    118\n",
       "59    117\n",
       "60     95\n",
       "61    108\n",
       "62     97\n",
       "63     83\n",
       "64     66\n",
       "65     35\n",
       "66     22\n",
       "67     10\n",
       "68     10\n",
       "69      4\n",
       "70      4\n",
       "71      2\n",
       "72      7\n",
       "73      1\n",
       "74      5\n",
       "75      1\n",
       "76      1\n",
       "77      1\n",
       "Name: person, dtype: int64"
      ]
     },
     "execution_count": 36,
     "metadata": {},
     "output_type": "execute_result"
    }
   ],
   "source": [
    "res.loc['usa', 2022]"
   ]
  },
  {
   "cell_type": "code",
   "execution_count": 37,
   "id": "adaaf5d8",
   "metadata": {
    "collapsed": false
   },
   "outputs": [],
   "source": [
    "res.name = 'population'"
   ]
  },
  {
   "cell_type": "code",
   "execution_count": 38,
   "id": "ef8135ea",
   "metadata": {
    "collapsed": false
   },
   "outputs": [],
   "source": [
    "res.to_csv('../../ddf--datapoints--population--by--geo--time--income_group.csv')"
   ]
  },
  {
   "cell_type": "code",
   "execution_count": null,
   "id": "1377232e",
   "metadata": {
    "collapsed": false
   },
   "outputs": [],
   "source": []
  },
  {
   "cell_type": "code",
   "execution_count": null,
   "id": "306c8bf9",
   "metadata": {
    "collapsed": false
   },
   "outputs": [],
   "source": []
  },
  {
   "cell_type": "code",
   "execution_count": null,
   "id": "1e191450",
   "metadata": {
    "collapsed": false
   },
   "outputs": [],
   "source": []
  },
  {
   "cell_type": "code",
   "execution_count": null,
   "id": "47b2f396",
   "metadata": {
    "collapsed": false
   },
   "outputs": [],
   "source": []
  },
  {
   "cell_type": "code",
   "execution_count": null,
   "id": "4234bccc",
   "metadata": {
    "collapsed": false
   },
   "outputs": [],
   "source": []
  },
  {
   "cell_type": "code",
   "execution_count": null,
   "id": "5d83a88b",
   "metadata": {
    "collapsed": false
   },
   "outputs": [],
   "source": []
  },
  {
   "cell_type": "code",
   "execution_count": null,
   "id": "c8b800b7",
   "metadata": {
    "collapsed": false
   },
   "outputs": [],
   "source": [
    "# we are going to use new method. Ignore below methods"
   ]
  },
  {
   "cell_type": "code",
   "execution_count": null,
   "id": "6e945321",
   "metadata": {
    "collapsed": false
   },
   "outputs": [],
   "source": []
  },
  {
   "cell_type": "code",
   "execution_count": null,
   "id": "8f02233a",
   "metadata": {
    "collapsed": false
   },
   "outputs": [],
   "source": [
    "# now get estimation for past and future "
   ]
  },
  {
   "cell_type": "code",
   "execution_count": null,
   "id": "b86ebcd2",
   "metadata": {
    "collapsed": false
   },
   "outputs": [],
   "source": [
    "def get_model(X, Y):\n",
    "    X = sm.add_constant(X)\n",
    "    return sm.OLS(Y, X).fit()\n",
    "\n",
    "def get_predict(model, X):\n",
    "    a, b = model.params\n",
    "    Yp = np.array([b * x + a for x in X])\n",
    "    Yp[Yp < 0] = 0\n",
    "    return Yp"
   ]
  },
  {
   "cell_type": "code",
   "execution_count": null,
   "id": "af70c1fb",
   "metadata": {
    "collapsed": false
   },
   "outputs": [],
   "source": []
  },
  {
   "cell_type": "code",
   "execution_count": null,
   "id": "f16d88bd",
   "metadata": {
    "collapsed": false
   },
   "outputs": [],
   "source": [
    "res2 = res.reset_index()"
   ]
  },
  {
   "cell_type": "code",
   "execution_count": null,
   "id": "5e2d71e2",
   "metadata": {
    "collapsed": false
   },
   "outputs": [],
   "source": [
    "g = res2[(res2['income_group'] == 71) & (res2['geo'] == 'chn')].set_index('time')['person'].copy()"
   ]
  },
  {
   "cell_type": "code",
   "execution_count": null,
   "id": "dce5d666",
   "metadata": {
    "collapsed": false
   },
   "outputs": [],
   "source": [
    "g"
   ]
  },
  {
   "cell_type": "code",
   "execution_count": null,
   "id": "d8f7ae46",
   "metadata": {
    "collapsed": false
   },
   "outputs": [],
   "source": [
    "g = g.reindex(pd.RangeIndex(1998, 2022))"
   ]
  },
  {
   "cell_type": "code",
   "execution_count": null,
   "id": "1f5a075d",
   "metadata": {
    "collapsed": false
   },
   "outputs": [],
   "source": [
    "# g.plot()\n",
    "X = g.index.values\n",
    "Y = g.values\n",
    "yp = get_predict(get_model(X, Y), X)\n",
    "g2 = g.fillna(pd.Series(yp, index=g.index))"
   ]
  },
  {
   "cell_type": "code",
   "execution_count": null,
   "id": "85a38bc4",
   "metadata": {
    "collapsed": false
   },
   "outputs": [],
   "source": [
    "g2.plot()"
   ]
  },
  {
   "cell_type": "code",
   "execution_count": null,
   "id": "385917a0",
   "metadata": {
    "collapsed": false
   },
   "outputs": [],
   "source": [
    "g2"
   ]
  },
  {
   "cell_type": "code",
   "execution_count": null,
   "id": "3e5a7f7a",
   "metadata": {
    "collapsed": false
   },
   "outputs": [],
   "source": []
  },
  {
   "cell_type": "code",
   "execution_count": null,
   "id": "4d575561",
   "metadata": {
    "collapsed": false
   },
   "outputs": [],
   "source": [
    "res2.time.unique()"
   ]
  },
  {
   "cell_type": "code",
   "execution_count": null,
   "id": "b3948c22",
   "metadata": {
    "collapsed": false
   },
   "outputs": [],
   "source": [
    "def complete_time_series(ser):\n",
    "    # print(ser)\n",
    "    if ser.shape[0] < 2:\n",
    "        print(\"not enough data point\")\n",
    "        return np.round(ser)\n",
    "    xmax = ser.index.max()\n",
    "    xmin = ser.index.min()\n",
    "    ser = ser.reindex(pd.RangeIndex(xmin, xmax+1))\n",
    "    #print(ser)\n",
    "    X = ser.index.values\n",
    "    Y = ser.fillna(0).values\n",
    "    xp = np.array(range(xmin-50, xmax+50))\n",
    "    yp = get_predict(get_model(X, Y), xp)\n",
    "    \n",
    "    res = pd.Series(yp, index=xp)\n",
    "    res.update(ser)\n",
    "    res.index.name = 'time'\n",
    "    res.name = 'person'\n",
    "    res[res < 0] = 0\n",
    "    return np.round(res)"
   ]
  },
  {
   "cell_type": "code",
   "execution_count": null,
   "id": "a155076d",
   "metadata": {
    "collapsed": false
   },
   "outputs": [],
   "source": [
    "res = complete_time_series(res2[res2['income_group'] == 76].set_index('time')['person'])"
   ]
  },
  {
   "cell_type": "code",
   "execution_count": null,
   "id": "198be227",
   "metadata": {
    "collapsed": false
   },
   "outputs": [],
   "source": [
    "res.loc[2000:2010]"
   ]
  },
  {
   "cell_type": "code",
   "execution_count": null,
   "id": "584d3dd7",
   "metadata": {
    "collapsed": false
   },
   "outputs": [],
   "source": [
    "ser = res2[(res2['income_group'] == 70) & (res2['geo'] == 'usa')].set_index('time')['person']\n",
    "\n",
    "complete_time_series(ser).plot()"
   ]
  },
  {
   "cell_type": "code",
   "execution_count": null,
   "id": "b3b0c57e",
   "metadata": {
    "collapsed": false
   },
   "outputs": [],
   "source": [
    "usadf = res2[res2['geo'] == 'usa']"
   ]
  },
  {
   "cell_type": "code",
   "execution_count": null,
   "id": "d5888737",
   "metadata": {
    "collapsed": false
   },
   "outputs": [],
   "source": [
    "gs = usadf.groupby('income_group')\n",
    "\n",
    "def run(df):\n",
    "    # print(g)\n",
    "    # print(df)\n",
    "    return complete_time_series(df[['time', 'person']].set_index('time')['person']).reset_index()\n",
    "    # res = res.assign(income_group=g).set_index('income_group', append=True)\n",
    "    # return res\n",
    "\n",
    "# res = gs.apply(run)"
   ]
  },
  {
   "cell_type": "code",
   "execution_count": null,
   "id": "6b8ff0e4",
   "metadata": {
    "collapsed": false
   },
   "outputs": [],
   "source": [
    "def run_geo(df):\n",
    "    # print(df.head(1))\n",
    "    return  df.groupby('income_group').apply(run).droplevel(1)\n",
    "    # res.index.names = \n",
    "\n",
    "res = dict([(g, run_geo(df)) for g, df in res2.groupby('geo')])"
   ]
  },
  {
   "cell_type": "code",
   "execution_count": null,
   "id": "69be923d",
   "metadata": {
    "collapsed": false
   },
   "outputs": [],
   "source": [
    "res_ = []\n",
    "for k, v in res.items():\n",
    "    v_ = v.copy()\n",
    "    v_['geo'] = k\n",
    "    res_.append(v_)"
   ]
  },
  {
   "cell_type": "code",
   "execution_count": null,
   "id": "0606c259",
   "metadata": {
    "collapsed": false
   },
   "outputs": [],
   "source": [
    "res_ = pd.concat(res_)"
   ]
  },
  {
   "cell_type": "code",
   "execution_count": null,
   "id": "cad5dc0e",
   "metadata": {
    "collapsed": false
   },
   "outputs": [],
   "source": [
    "res_ = res_.set_index(['geo', 'time'], append=True)"
   ]
  },
  {
   "cell_type": "code",
   "execution_count": null,
   "id": "252b3478",
   "metadata": {
    "collapsed": false
   },
   "outputs": [],
   "source": [
    "res_ = res_.reorder_levels([1, 2, 0])"
   ]
  },
  {
   "cell_type": "code",
   "execution_count": null,
   "id": "75368402",
   "metadata": {
    "collapsed": false
   },
   "outputs": [],
   "source": [
    "res_ = res_.sort_index()"
   ]
  },
  {
   "cell_type": "code",
   "execution_count": null,
   "id": "7f16da58",
   "metadata": {
    "collapsed": false
   },
   "outputs": [],
   "source": [
    "res_.loc['can']"
   ]
  },
  {
   "cell_type": "code",
   "execution_count": null,
   "id": "054cd95b",
   "metadata": {
    "collapsed": false
   },
   "outputs": [],
   "source": [
    "res_.loc['can', 2018]"
   ]
  },
  {
   "cell_type": "code",
   "execution_count": null,
   "id": "f52d1692",
   "metadata": {
    "collapsed": false
   },
   "outputs": [],
   "source": [
    "res_.columns = ['population']"
   ]
  },
  {
   "cell_type": "code",
   "execution_count": null,
   "id": "c1bf3d23",
   "metadata": {
    "collapsed": false
   },
   "outputs": [],
   "source": [
    "res_.to_csv('../../ddf--datapoints--population--by--geo--time--income_group.csv')"
   ]
  },
  {
   "cell_type": "code",
   "execution_count": null,
   "id": "33fcd19f",
   "metadata": {
    "collapsed": false
   },
   "outputs": [],
   "source": [
    "res_.loc['can']"
   ]
  },
  {
   "cell_type": "code",
   "execution_count": null,
   "id": "7d4fec2a",
   "metadata": {
    "collapsed": false
   },
   "outputs": [],
   "source": []
  },
  {
   "cell_type": "code",
   "execution_count": null,
   "id": "bb1697ae",
   "metadata": {
    "collapsed": false
   },
   "outputs": [],
   "source": []
  },
  {
   "cell_type": "code",
   "execution_count": null,
   "id": "3799aee0",
   "metadata": {
    "collapsed": false
   },
   "outputs": [],
   "source": []
  },
  {
   "cell_type": "code",
   "execution_count": null,
   "id": "2cc5efa5",
   "metadata": {
    "collapsed": false
   },
   "outputs": [],
   "source": []
  },
  {
   "cell_type": "code",
   "execution_count": null,
   "id": "c5002a0f",
   "metadata": {
    "collapsed": false
   },
   "outputs": [],
   "source": []
  },
  {
   "cell_type": "code",
   "execution_count": null,
   "id": "03fe0512",
   "metadata": {
    "collapsed": false
   },
   "outputs": [],
   "source": [
    "res_.loc['can', 2018].plot()"
   ]
  },
  {
   "cell_type": "code",
   "execution_count": null,
   "id": "9f45442a",
   "metadata": {
    "collapsed": false
   },
   "outputs": [],
   "source": [
    "res_.loc['usa', 2020].plot()"
   ]
  },
  {
   "cell_type": "code",
   "execution_count": null,
   "id": "f086c0be",
   "metadata": {
    "collapsed": false
   },
   "outputs": [],
   "source": [
    "im = pd.read_csv('../../../ddf--worldbank--povcalnet/etl/datapoints/ddf--datapoints--population--by--geo--time--income_bracket_50.csv')\n",
    "# im = pd.read_csv('../../../ddf--worldbank--povcalnet/income_mountain/ddf--datapoints--population--by--geo--time--income_bracket_50.csv')"
   ]
  },
  {
   "cell_type": "code",
   "execution_count": null,
   "id": "30196f9a",
   "metadata": {
    "collapsed": false
   },
   "outputs": [],
   "source": [
    "im = im.set_index(['geo', 'time', 'income_bracket_50'])"
   ]
  },
  {
   "cell_type": "code",
   "execution_count": null,
   "id": "9c9036c2",
   "metadata": {
    "collapsed": false
   },
   "outputs": [],
   "source": [
    "wb = im.loc['usa', 2020].copy()"
   ]
  },
  {
   "cell_type": "code",
   "execution_count": null,
   "id": "1982ddf2",
   "metadata": {
    "collapsed": false
   },
   "outputs": [],
   "source": [
    "fb = res_.loc['usa', 2020].copy()"
   ]
  },
  {
   "cell_type": "code",
   "execution_count": null,
   "id": "018041a9",
   "metadata": {
    "collapsed": false
   },
   "outputs": [],
   "source": [
    "fb"
   ]
  },
  {
   "cell_type": "code",
   "execution_count": null,
   "id": "3a5f1e9b",
   "metadata": {
    "collapsed": false
   },
   "outputs": [],
   "source": [
    "wb.index.name = 'income_group'\n",
    "fb.index.name = 'income_group'\n",
    "\n",
    "com = pd.concat([wb, fb])"
   ]
  },
  {
   "cell_type": "code",
   "execution_count": null,
   "id": "63941506",
   "metadata": {
    "collapsed": false
   },
   "outputs": [],
   "source": [
    "com = com.reindex(range(0, 79)).interpolate('slinear')"
   ]
  },
  {
   "cell_type": "code",
   "execution_count": null,
   "id": "9146d92d",
   "metadata": {
    "collapsed": false
   },
   "outputs": [],
   "source": [
    "plt.rcParams['figure.figsize'] = [10, 8]"
   ]
  },
  {
   "cell_type": "code",
   "execution_count": null,
   "id": "a4de4dae",
   "metadata": {
    "collapsed": false
   },
   "outputs": [],
   "source": [
    "wb[46:]['population'].plot(color='r')\n",
    "fb['population'].plot(color='g')\n",
    "\n",
    "com[49:58]['population'].astype(int).plot(color='b')"
   ]
  },
  {
   "cell_type": "code",
   "execution_count": null,
   "id": "b0ae24e1",
   "metadata": {
    "collapsed": false
   },
   "outputs": [],
   "source": [
    "res_.index.get_level_values('geo').unique()"
   ]
  },
  {
   "cell_type": "code",
   "execution_count": null,
   "id": "c0bd141e",
   "metadata": {
    "collapsed": false
   },
   "outputs": [],
   "source": []
  },
  {
   "cell_type": "code",
   "execution_count": null,
   "id": "3f9b1633",
   "metadata": {
    "collapsed": false
   },
   "outputs": [],
   "source": [
    "import sys\n",
    "sys.path.insert(0, '../scripts')"
   ]
  },
  {
   "cell_type": "markdown",
   "id": "ae368b9b",
   "metadata": {
    "collapsed": false
   },
   "source": []
  },
  {
   "cell_type": "code",
   "execution_count": null,
   "id": "06b8cb68",
   "metadata": {
    "collapsed": false
   },
   "outputs": [],
   "source": [
    "%load_ext autoreload"
   ]
  },
  {
   "cell_type": "code",
   "execution_count": null,
   "id": "6aa20b47",
   "metadata": {
    "collapsed": false
   },
   "outputs": [],
   "source": [
    "%autoreload 1"
   ]
  },
  {
   "cell_type": "code",
   "execution_count": null,
   "id": "fdcf1b53",
   "metadata": {
    "collapsed": false
   },
   "outputs": [],
   "source": [
    "%aimport smoothlib"
   ]
  },
  {
   "cell_type": "code",
   "execution_count": null,
   "id": "653f5c42",
   "metadata": {
    "collapsed": false
   },
   "outputs": [],
   "source": [
    "import smoothlib"
   ]
  },
  {
   "cell_type": "code",
   "execution_count": null,
   "id": "d43f21b6",
   "metadata": {
    "collapsed": false
   },
   "outputs": [],
   "source": [
    "from scipy.signal import savgol_filter\n",
    "import statsmodels.api as sm"
   ]
  },
  {
   "cell_type": "code",
   "execution_count": null,
   "id": "d86f1b37",
   "metadata": {
    "collapsed": false
   },
   "outputs": [],
   "source": [
    "# we don't want to underestimate the millionaires! so, overestimate it!"
   ]
  },
  {
   "cell_type": "code",
   "execution_count": null,
   "id": "7c543c06",
   "metadata": {
    "collapsed": false
   },
   "outputs": [],
   "source": [
    "!pwd"
   ]
  },
  {
   "cell_type": "code",
   "execution_count": null,
   "id": "fa3e4955",
   "metadata": {
    "collapsed": false
   },
   "outputs": [],
   "source": []
  },
  {
   "cell_type": "code",
   "execution_count": null,
   "id": "b5509976",
   "metadata": {
    "collapsed": false
   },
   "outputs": [],
   "source": []
  },
  {
   "cell_type": "code",
   "execution_count": null,
   "id": "a1b9b39f",
   "metadata": {
    "collapsed": false
   },
   "outputs": [],
   "source": [
    "def create_shape(wb, fb):\n",
    "    # remove some wb's tailing datapoint which are lower than\n",
    "    # the maximum of fb's datapoint\n",
    "    # and also the head of fb's datapoints which are lower than the maximum\n",
    "    fb_input = fb['population'].copy()\n",
    "    wb_input = wb['population'].copy()\n",
    "    fb_max = fb_input.max()\n",
    "    for i, v in wb_input.iloc[::-1].iteritems():\n",
    "        if v > fb_max:\n",
    "            break        \n",
    "    wb_input = wb_input.loc[:i]\n",
    "    idmax = fb_input.idxmax()       \n",
    "    fb_input = fb_input.loc[idmax:]\n",
    "    fb_idx_max = fb.index.max()\n",
    "    \n",
    "    # inteoplate values. pchip is good at creating curves\n",
    "    com = pd.concat([wb_input, fb_input])\n",
    "    com = com.reindex(range(0, fb_idx_max+1))\n",
    "    com = com.interpolate('pchip')\n",
    "    \n",
    "    # smoothing\n",
    "    begin_idx = i - 5\n",
    "    ser = com[begin_idx:].copy()\n",
    "    ser_max = ser.max()\n",
    "    ser_input = ser / ser_max\n",
    "    # ser.loc[ser == 0] = 1\n",
    "    # ser_input = np.log(ser)\n",
    "    # print(ser)\n",
    "    # print(ser_input)\n",
    "    # MAYBE: use log version. But it's not working on first try.\n",
    "    \n",
    "    ser_new = smoothlib.run_smooth(ser_input, 8, 0)\n",
    "    ser_new = smoothlib.run_smooth(ser_new, 5, 0)\n",
    "    ser_new = smoothlib.run_smooth(ser_new, 3, 0)\n",
    "    # ser_new = smoothlib.run_smooth(ser_new, 3, 0)\n",
    "    ser_new = np.round(ser_new * ser_max)\n",
    "    # print(ser_new)\n",
    "    # ser_new = np.round(np.exp(ser_new))\n",
    "    \n",
    "#     print(begin_idx)\n",
    "#     print(wb_input.loc[:begin_idx].tail())\n",
    "#     print(ser_new.head())\n",
    "    res = pd.concat([wb_input.loc[:begin_idx-1], ser_new])\n",
    "    return res"
   ]
  },
  {
   "cell_type": "code",
   "execution_count": null,
   "id": "0564fca1",
   "metadata": {
    "collapsed": false
   },
   "outputs": [],
   "source": []
  },
  {
   "cell_type": "code",
   "execution_count": null,
   "id": "33696603",
   "metadata": {
    "collapsed": false
   },
   "outputs": [],
   "source": [
    "geo, time = ['gbr', 2020]\n",
    "fb = res_.loc[geo, time].copy()\n",
    "wb = im.loc[geo, time].copy()"
   ]
  },
  {
   "cell_type": "code",
   "execution_count": null,
   "id": "8a22b2bd",
   "metadata": {
    "collapsed": false
   },
   "outputs": [],
   "source": [
    "wb.index.name = 'income_group'\n",
    "fb.index.name = 'income_group'"
   ]
  },
  {
   "cell_type": "code",
   "execution_count": null,
   "id": "5bafb8f8",
   "metadata": {
    "collapsed": false
   },
   "outputs": [],
   "source": [
    "res_shape = create_shape(wb, fb)"
   ]
  },
  {
   "cell_type": "code",
   "execution_count": null,
   "id": "f9072245",
   "metadata": {
    "collapsed": false
   },
   "outputs": [],
   "source": [
    "wb[45:]['population'].plot(color='r')\n",
    "fb['population'].plot(color='g')\n",
    "\n",
    "# com[49:58]['population'].astype(int).plot(color='b')\n",
    "res_shape.loc[45:].plot()"
   ]
  },
  {
   "cell_type": "code",
   "execution_count": null,
   "id": "4bbfb5fe",
   "metadata": {
    "collapsed": false
   },
   "outputs": [],
   "source": [
    "k = 46\n",
    "wb['population'].loc[k:].plot()\n",
    "res_shape.loc[k:].plot()"
   ]
  },
  {
   "cell_type": "code",
   "execution_count": null,
   "id": "36fad1e3",
   "metadata": {
    "collapsed": false
   },
   "outputs": [],
   "source": [
    "res_shape.loc[k:]"
   ]
  },
  {
   "cell_type": "code",
   "execution_count": null,
   "id": "18a74199",
   "metadata": {
    "collapsed": false
   },
   "outputs": [],
   "source": [
    "im.index.names = ['geo', 'year', 'income_group']"
   ]
  },
  {
   "cell_type": "code",
   "execution_count": null,
   "id": "23171eb5",
   "metadata": {
    "collapsed": false
   },
   "outputs": [],
   "source": [
    "im"
   ]
  },
  {
   "cell_type": "code",
   "execution_count": null,
   "id": "d9083c53",
   "metadata": {
    "collapsed": false
   },
   "outputs": [],
   "source": [
    "res_"
   ]
  },
  {
   "cell_type": "code",
   "execution_count": null,
   "id": "cf8e7f47",
   "metadata": {
    "collapsed": false
   },
   "outputs": [],
   "source": [
    "im2 = im.reset_index(level=[2])\n",
    "res_2 = res_.reset_index(level=[2])"
   ]
  },
  {
   "cell_type": "code",
   "execution_count": null,
   "id": "5c351e3f",
   "metadata": {
    "collapsed": false
   },
   "outputs": [],
   "source": [
    "both_idx = im2.index.intersection(res_2.index)"
   ]
  },
  {
   "cell_type": "code",
   "execution_count": null,
   "id": "4e0a5bd1",
   "metadata": {
    "collapsed": false
   },
   "outputs": [],
   "source": [
    "both_idx"
   ]
  },
  {
   "cell_type": "code",
   "execution_count": null,
   "id": "ac174a11",
   "metadata": {
    "collapsed": false
   },
   "outputs": [],
   "source": [
    "both_idx[0]"
   ]
  },
  {
   "cell_type": "code",
   "execution_count": null,
   "id": "1958c90d",
   "metadata": {
    "collapsed": false
   },
   "outputs": [],
   "source": [
    "both_idx.unique()"
   ]
  },
  {
   "cell_type": "code",
   "execution_count": null,
   "id": "eef307b0",
   "metadata": {
    "collapsed": false
   },
   "outputs": [],
   "source": []
  },
  {
   "cell_type": "code",
   "execution_count": null,
   "id": "9548ec4f",
   "metadata": {
    "collapsed": false
   },
   "outputs": [],
   "source": []
  },
  {
   "cell_type": "code",
   "execution_count": null,
   "id": "73bad47f",
   "metadata": {
    "collapsed": false
   },
   "outputs": [],
   "source": [
    "# do create shape for all geo time\n",
    "\n",
    "res = []\n",
    "\n",
    "for idx in both_idx:\n",
    "    geo, time = idx\n",
    "    wb = im.loc[geo, time, :].copy()\n",
    "    fb = res_.loc[geo, time, :].copy()\n",
    "    res_shape = create_shape(wb, fb)\n",
    "    res_shape.name = 'population'\n",
    "    res_shape = res_shape.to_frame()\n",
    "    res_shape['geo'] = geo\n",
    "    res_shape['time'] = time\n",
    "    res_shape = res_shape.set_index(['geo', 'time'], append=True)\n",
    "    res.append(res_shape)"
   ]
  },
  {
   "cell_type": "code",
   "execution_count": null,
   "id": "93a3513f",
   "metadata": {
    "collapsed": false
   },
   "outputs": [],
   "source": [
    "res = pd.concat(res)"
   ]
  },
  {
   "cell_type": "code",
   "execution_count": null,
   "id": "c62cfefb",
   "metadata": {
    "collapsed": false
   },
   "outputs": [],
   "source": [
    "res = res.reorder_levels([1, 2, 0])"
   ]
  },
  {
   "cell_type": "code",
   "execution_count": null,
   "id": "58d96c94",
   "metadata": {
    "collapsed": false
   },
   "outputs": [],
   "source": [
    "res"
   ]
  },
  {
   "cell_type": "code",
   "execution_count": null,
   "id": "fc4dd6ba",
   "metadata": {
    "collapsed": false
   },
   "outputs": [],
   "source": [
    "wb_other = im2.loc[~im2.index.isin(both_idx)].set_index('income_group', append=True)"
   ]
  },
  {
   "cell_type": "code",
   "execution_count": null,
   "id": "034c3e84",
   "metadata": {
    "collapsed": false
   },
   "outputs": [],
   "source": [
    "wb_other.index.names = ['geo', 'time', 'income_group']"
   ]
  },
  {
   "cell_type": "code",
   "execution_count": null,
   "id": "f0dcfa8d",
   "metadata": {
    "collapsed": false
   },
   "outputs": [],
   "source": [
    "res_all = pd.concat([wb_other, res])"
   ]
  },
  {
   "cell_type": "code",
   "execution_count": null,
   "id": "7230f365",
   "metadata": {
    "collapsed": false
   },
   "outputs": [],
   "source": [
    "res.index.intersection(wb_other.index)"
   ]
  },
  {
   "cell_type": "code",
   "execution_count": null,
   "id": "5bcff777",
   "metadata": {
    "collapsed": false
   },
   "outputs": [],
   "source": [
    "res.index.names"
   ]
  },
  {
   "cell_type": "code",
   "execution_count": null,
   "id": "83789c48",
   "metadata": {
    "collapsed": false
   },
   "outputs": [],
   "source": [
    "wb_other.index.names"
   ]
  },
  {
   "cell_type": "code",
   "execution_count": null,
   "id": "1e1e4297",
   "metadata": {
    "collapsed": false
   },
   "outputs": [],
   "source": [
    "res_all = res_all.sort_index()"
   ]
  },
  {
   "cell_type": "code",
   "execution_count": null,
   "id": "40bc1031",
   "metadata": {
    "collapsed": false
   },
   "outputs": [],
   "source": [
    "res_all['population'] = res_all['population'].astype(int)"
   ]
  },
  {
   "cell_type": "code",
   "execution_count": null,
   "id": "e82715dd",
   "metadata": {
    "collapsed": false
   },
   "outputs": [],
   "source": [
    "res_all"
   ]
  },
  {
   "cell_type": "code",
   "execution_count": null,
   "id": "2ba3bf49",
   "metadata": {
    "collapsed": false
   },
   "outputs": [],
   "source": [
    "res_all.loc['usa', 2020, 46:]"
   ]
  },
  {
   "cell_type": "code",
   "execution_count": null,
   "id": "ba416ab0",
   "metadata": {
    "collapsed": false
   },
   "outputs": [],
   "source": [
    "res_all.loc['usa', 2020, 50:]['population'].plot(color='r')\n",
    "res_all.loc['usa', 2050, 50:]['population'].plot(color='b')  # room for imporvment?"
   ]
  },
  {
   "cell_type": "code",
   "execution_count": null,
   "id": "34824140",
   "metadata": {
    "collapsed": false
   },
   "outputs": [],
   "source": [
    "res_all.to_csv('../../ddf--datapoints--population_extrapolated--by--geo--time--income_group.csv')"
   ]
  },
  {
   "cell_type": "code",
   "execution_count": null,
   "id": "72c4beaa",
   "metadata": {
    "collapsed": false
   },
   "outputs": [],
   "source": []
  },
  {
   "cell_type": "code",
   "execution_count": null,
   "id": "ab052b49",
   "metadata": {
    "collapsed": false
   },
   "outputs": [],
   "source": []
  },
  {
   "cell_type": "code",
   "execution_count": null,
   "id": "aff07753",
   "metadata": {
    "collapsed": false
   },
   "outputs": [],
   "source": [
    "# create income mountain"
   ]
  },
  {
   "cell_type": "code",
   "execution_count": null,
   "id": "66a55836",
   "metadata": {
    "collapsed": false
   },
   "outputs": [],
   "source": [
    "im_all = res_all.unstack()"
   ]
  },
  {
   "cell_type": "code",
   "execution_count": null,
   "id": "6e41ce22",
   "metadata": {
    "collapsed": false
   },
   "outputs": [],
   "source": [
    "im_all = im_all.fillna(0)"
   ]
  },
  {
   "cell_type": "code",
   "execution_count": null,
   "id": "873e185f",
   "metadata": {
    "collapsed": false
   },
   "outputs": [],
   "source": [
    "im_all"
   ]
  },
  {
   "cell_type": "code",
   "execution_count": null,
   "id": "91776ce1",
   "metadata": {
    "collapsed": false
   },
   "outputs": [],
   "source": [
    "res = []\n",
    "\n",
    "for i, row in im_all.iterrows():\n",
    "    line = ','.join(row.loc['population'].astype(int).astype(str).values)\n",
    "    res.append(line)"
   ]
  },
  {
   "cell_type": "code",
   "execution_count": null,
   "id": "ca8248bb",
   "metadata": {
    "collapsed": false
   },
   "outputs": [],
   "source": [
    "res_lines = pd.Series(res, index=im_all.index)"
   ]
  },
  {
   "cell_type": "code",
   "execution_count": null,
   "id": "cc496f98",
   "metadata": {
    "collapsed": false
   },
   "outputs": [],
   "source": [
    "res_lines.name = 'income_mountain_79bracket_shape_for_log'"
   ]
  },
  {
   "cell_type": "code",
   "execution_count": null,
   "id": "f7e9e71f",
   "metadata": {
    "collapsed": false
   },
   "outputs": [],
   "source": [
    "res_lines.index.names = ['country', 'time']"
   ]
  },
  {
   "cell_type": "code",
   "execution_count": null,
   "id": "4bdae050",
   "metadata": {
    "collapsed": false
   },
   "outputs": [],
   "source": [
    "res_lines"
   ]
  },
  {
   "cell_type": "code",
   "execution_count": null,
   "id": "cac903fb",
   "metadata": {
    "collapsed": false
   },
   "outputs": [],
   "source": [
    "res_lines.to_csv('../../../ddf--worldbank--povcalnet/income_mountain/ddf--datapoints--income_mountain_79bracket_shape_for_log--by--country--time.csv')"
   ]
  },
  {
   "cell_type": "code",
   "execution_count": null,
   "id": "8a724295",
   "metadata": {
    "collapsed": false
   },
   "outputs": [],
   "source": []
  },
  {
   "cell_type": "code",
   "execution_count": null,
   "id": "bd00d088",
   "metadata": {
    "collapsed": false
   },
   "outputs": [],
   "source": [
    "# DONE!"
   ]
  },
  {
   "cell_type": "code",
   "execution_count": null,
   "id": "d0b08598",
   "metadata": {
    "collapsed": false
   },
   "outputs": [],
   "source": []
  },
  {
   "cell_type": "code",
   "execution_count": null,
   "id": "7965dd89",
   "metadata": {
    "collapsed": false
   },
   "outputs": [],
   "source": []
  },
  {
   "cell_type": "code",
   "execution_count": null,
   "id": "72739393",
   "metadata": {
    "collapsed": false
   },
   "outputs": [],
   "source": []
  },
  {
   "cell_type": "code",
   "execution_count": null,
   "id": "eb912a94",
   "metadata": {
    "collapsed": false
   },
   "outputs": [],
   "source": []
  },
  {
   "cell_type": "code",
   "execution_count": null,
   "id": "c642f536",
   "metadata": {
    "collapsed": false
   },
   "outputs": [],
   "source": []
  },
  {
   "cell_type": "code",
   "execution_count": null,
   "id": "84c04266",
   "metadata": {
    "collapsed": false
   },
   "outputs": [],
   "source": []
  },
  {
   "cell_type": "code",
   "execution_count": null,
   "id": "74cf8bb7",
   "metadata": {
    "collapsed": false
   },
   "outputs": [],
   "source": []
  },
  {
   "cell_type": "code",
   "execution_count": null,
   "id": "688d032a",
   "metadata": {
    "collapsed": false
   },
   "outputs": [],
   "source": [
    "fb_max = fb['population'].max()\n",
    "fb_max"
   ]
  },
  {
   "cell_type": "code",
   "execution_count": null,
   "id": "0ab6fa32",
   "metadata": {
    "collapsed": false
   },
   "outputs": [],
   "source": [
    "wb_input = wb['population'].copy()\n",
    "\n",
    "for i, v in wb_input.iloc[::-1].iteritems():\n",
    "    if v > fb_max:\n",
    "        break\n",
    "        \n",
    "wb_input = wb_input.loc[:i]"
   ]
  },
  {
   "cell_type": "code",
   "execution_count": null,
   "id": "b17e9e53",
   "metadata": {
    "collapsed": false
   },
   "outputs": [],
   "source": [
    "fb_input = fb['population'].copy()\n",
    "idmax = fb_input.idxmax()\n",
    "        \n",
    "fb_input = fb_input.loc[idmax:]"
   ]
  },
  {
   "cell_type": "code",
   "execution_count": null,
   "id": "0a9c2b5f",
   "metadata": {
    "collapsed": false
   },
   "outputs": [],
   "source": [
    "fb_input"
   ]
  },
  {
   "cell_type": "code",
   "execution_count": null,
   "id": "478e20e9",
   "metadata": {
    "collapsed": false
   },
   "outputs": [],
   "source": [
    "fb_idx_max = fb.index.max()"
   ]
  },
  {
   "cell_type": "code",
   "execution_count": null,
   "id": "c219cffb",
   "metadata": {
    "collapsed": false
   },
   "outputs": [],
   "source": [
    "com = pd.concat([wb_input, fb_input])\n",
    "com = com.reindex(range(0, fb_idx_max+1))"
   ]
  },
  {
   "cell_type": "code",
   "execution_count": null,
   "id": "b564e772",
   "metadata": {
    "collapsed": false
   },
   "outputs": [],
   "source": [
    "com = com.interpolate('pchip')"
   ]
  },
  {
   "cell_type": "code",
   "execution_count": null,
   "id": "9b664464",
   "metadata": {
    "collapsed": false
   },
   "outputs": [],
   "source": [
    "# com[40:].plot()\n",
    "wb['population'][40:].plot()"
   ]
  },
  {
   "cell_type": "code",
   "execution_count": null,
   "id": "d088f81e",
   "metadata": {
    "collapsed": false
   },
   "outputs": [],
   "source": [
    "ser_input"
   ]
  },
  {
   "cell_type": "code",
   "execution_count": null,
   "id": "1c9d7fbc",
   "metadata": {
    "collapsed": false
   },
   "outputs": [],
   "source": [
    "smoothlib.get_sample_at_point(42, ser_input, 1, 0, 2)"
   ]
  },
  {
   "cell_type": "code",
   "execution_count": null,
   "id": "2c4c0657",
   "metadata": {
    "collapsed": false
   },
   "outputs": [],
   "source": [
    "smoothlib.mval_at_point(46, ser)"
   ]
  },
  {
   "cell_type": "code",
   "execution_count": null,
   "id": "8df87993",
   "metadata": {
    "collapsed": false
   },
   "outputs": [],
   "source": [
    "ser"
   ]
  },
  {
   "cell_type": "code",
   "execution_count": null,
   "id": "0468503f",
   "metadata": {
    "collapsed": false
   },
   "outputs": [],
   "source": [
    "45.49 / 94520.000000"
   ]
  },
  {
   "cell_type": "code",
   "execution_count": null,
   "id": "46c6333e",
   "metadata": {
    "collapsed": false
   },
   "outputs": [],
   "source": []
  },
  {
   "cell_type": "code",
   "execution_count": null,
   "id": "3c6ec247",
   "metadata": {
    "collapsed": false,
    "scrolled": true
   },
   "outputs": [],
   "source": [
    "ser = com[40:].copy()\n",
    "ser_max = ser.max()\n",
    "ser_input = ser / ser_max\n",
    "# lowess = sm.nonparametric.lowess(ser.values, ser.index.values, frac=0.22)\n",
    "# plt.plot(lowess[6:, 0],  lowess[6:, 1])\n",
    "ser_new = smoothlib.run_smooth(ser_input, 5, 0)\n",
    "# ser_new = smoothlib.run_smooth(ser_new, 5, 0)\n",
    "\n",
    "# print(ser_new)\n",
    "ser_new = ser_new * ser_max\n",
    "ser_new.index = ser_new.index + 40\n",
    "# ser_new.plot()\n",
    "# com[40:].plot()\n",
    "# fb_input.plot()\n",
    "# wb_input[46:].plot()"
   ]
  },
  {
   "cell_type": "code",
   "execution_count": null,
   "id": "84962a23",
   "metadata": {
    "collapsed": false
   },
   "outputs": [],
   "source": [
    "com[40:]"
   ]
  },
  {
   "cell_type": "code",
   "execution_count": null,
   "id": "9c2f9866",
   "metadata": {
    "collapsed": false
   },
   "outputs": [],
   "source": [
    "ser_new"
   ]
  },
  {
   "cell_type": "code",
   "execution_count": null,
   "id": "6916448b",
   "metadata": {
    "collapsed": false
   },
   "outputs": [],
   "source": [
    "# print(ser_new)\n",
    "# ser_new = ser_new * ser_max\n",
    "# ser_new.index = ser_new.index + 40\n",
    "ser_new.loc[46:].plot()\n",
    "# wb_input.loc[46:].plot(color='r')\n",
    "# com[46:].plot()"
   ]
  },
  {
   "cell_type": "code",
   "execution_count": null,
   "id": "9682fdbe",
   "metadata": {
    "collapsed": false
   },
   "outputs": [],
   "source": [
    "(np.round(ser_new, 0) - com[40:]).sum()"
   ]
  },
  {
   "cell_type": "code",
   "execution_count": null,
   "id": "4b4205bc",
   "metadata": {
    "collapsed": false
   },
   "outputs": [],
   "source": [
    "com[40:]"
   ]
  },
  {
   "cell_type": "code",
   "execution_count": null,
   "id": "2dc74ca4",
   "metadata": {
    "collapsed": false
   },
   "outputs": [],
   "source": []
  },
  {
   "cell_type": "code",
   "execution_count": null,
   "id": "2dedc75f",
   "metadata": {
    "collapsed": false
   },
   "outputs": [],
   "source": []
  },
  {
   "cell_type": "code",
   "execution_count": null,
   "id": "657526bb",
   "metadata": {
    "collapsed": false
   },
   "outputs": [],
   "source": [
    "ser.idxmax()"
   ]
  },
  {
   "cell_type": "code",
   "execution_count": null,
   "id": "6015d1ed",
   "metadata": {
    "collapsed": false
   },
   "outputs": [],
   "source": [
    "len(ser)"
   ]
  },
  {
   "cell_type": "code",
   "execution_count": null,
   "id": "3ff62e65",
   "metadata": {
    "collapsed": false
   },
   "outputs": [],
   "source": []
  },
  {
   "cell_type": "code",
   "execution_count": null,
   "id": "7e87a852",
   "metadata": {
    "collapsed": false
   },
   "outputs": [],
   "source": []
  },
  {
   "cell_type": "code",
   "execution_count": null,
   "id": "9b86f1c0",
   "metadata": {
    "collapsed": false
   },
   "outputs": [],
   "source": []
  },
  {
   "cell_type": "code",
   "execution_count": null,
   "id": "0282c26c",
   "metadata": {
    "collapsed": false
   },
   "outputs": [],
   "source": [
    "wb['population'][46:].sum()"
   ]
  },
  {
   "cell_type": "code",
   "execution_count": null,
   "id": "428e9234",
   "metadata": {
    "collapsed": false
   },
   "outputs": [],
   "source": [
    "com[46:].sum()"
   ]
  },
  {
   "cell_type": "code",
   "execution_count": null,
   "id": "8f5e48f5",
   "metadata": {
    "collapsed": false
   },
   "outputs": [],
   "source": [
    "lowess"
   ]
  },
  {
   "cell_type": "code",
   "execution_count": null,
   "id": "47a00af4",
   "metadata": {
    "collapsed": false
   },
   "outputs": [],
   "source": [
    "ser_new"
   ]
  },
  {
   "cell_type": "code",
   "execution_count": null,
   "id": "6a1d2693",
   "metadata": {
    "collapsed": false
   },
   "outputs": [],
   "source": []
  },
  {
   "cell_type": "code",
   "execution_count": null,
   "id": "acde32d2",
   "metadata": {
    "collapsed": false
   },
   "outputs": [],
   "source": [
    "# below are ways I have tried. not working..."
   ]
  },
  {
   "cell_type": "code",
   "execution_count": null,
   "id": "36b996ac",
   "metadata": {
    "collapsed": false
   },
   "outputs": [],
   "source": [
    "ser = com[40:]['population'].copy()"
   ]
  },
  {
   "cell_type": "code",
   "execution_count": null,
   "id": "7bc8d67c",
   "metadata": {
    "collapsed": false
   },
   "outputs": [],
   "source": [
    "lowess = sm.nonparametric.lowess(ser.values, ser.index.values, frac=0.22)"
   ]
  },
  {
   "cell_type": "code",
   "execution_count": null,
   "id": "38b1f4ad",
   "metadata": {
    "collapsed": false
   },
   "outputs": [],
   "source": [
    "plt.plot(lowess[6:, 0],  lowess[6:, 1])"
   ]
  },
  {
   "cell_type": "code",
   "execution_count": null,
   "id": "b71d0575",
   "metadata": {
    "collapsed": false
   },
   "outputs": [],
   "source": []
  },
  {
   "cell_type": "code",
   "execution_count": null,
   "id": "419941a6",
   "metadata": {
    "collapsed": false
   },
   "outputs": [],
   "source": []
  },
  {
   "cell_type": "code",
   "execution_count": null,
   "id": "d672d966",
   "metadata": {
    "collapsed": false
   },
   "outputs": [],
   "source": [
    "ser = com['population'].copy()\n",
    "ser_max = ser.max()\n",
    "# ser = ser / ser_max\n",
    "ser_smooth = smoothlib.run_smooth(ser / ser_max, 3, 0)\n",
    "ser_smooth = smoothlib.run_smooth(ser_smooth, 3, 0)\n",
    "ser_smooth = smoothlib.run_smooth(ser_smooth, 3, 0)\n",
    "ser_smooth = ser_smooth * ser_max\n",
    "\n",
    "ser[46:].plot()\n",
    "ser_smooth[46:].plot()"
   ]
  },
  {
   "cell_type": "code",
   "execution_count": null,
   "id": "aa1749cf",
   "metadata": {
    "collapsed": false
   },
   "outputs": [],
   "source": [
    "ser.plot()\n",
    "ser_smooth.plot()"
   ]
  },
  {
   "cell_type": "code",
   "execution_count": null,
   "id": "5e2fe1bd",
   "metadata": {
    "collapsed": false
   },
   "outputs": [],
   "source": [
    "ser_smooth[48:].plot()"
   ]
  },
  {
   "cell_type": "code",
   "execution_count": null,
   "id": "ab575379",
   "metadata": {
    "collapsed": false
   },
   "outputs": [],
   "source": [
    "ser.rolling(8).mean().loc[46:].shift(-8)"
   ]
  },
  {
   "cell_type": "code",
   "execution_count": null,
   "id": "78b911fc",
   "metadata": {
    "collapsed": false
   },
   "outputs": [],
   "source": []
  },
  {
   "cell_type": "code",
   "execution_count": null,
   "id": "53b1a566",
   "metadata": {
    "collapsed": false
   },
   "outputs": [],
   "source": [
    "com[40:].plot()"
   ]
  },
  {
   "cell_type": "code",
   "execution_count": null,
   "id": "4de91747",
   "metadata": {
    "collapsed": false
   },
   "outputs": [],
   "source": []
  },
  {
   "cell_type": "code",
   "execution_count": null,
   "id": "282fcd3b",
   "metadata": {
    "collapsed": false
   },
   "outputs": [],
   "source": []
  },
  {
   "cell_type": "code",
   "execution_count": null,
   "id": "d682dfea",
   "metadata": {
    "collapsed": false
   },
   "outputs": [],
   "source": []
  },
  {
   "cell_type": "code",
   "execution_count": null,
   "id": "78ac6699",
   "metadata": {
    "collapsed": false
   },
   "outputs": [],
   "source": [
    "wb.iloc[-1]"
   ]
  },
  {
   "cell_type": "code",
   "execution_count": null,
   "id": "5c885d7d",
   "metadata": {
    "collapsed": false
   },
   "outputs": [],
   "source": [
    "fb.iloc[1]"
   ]
  },
  {
   "cell_type": "code",
   "execution_count": null,
   "id": "7fedfc68",
   "metadata": {
    "collapsed": false
   },
   "outputs": [],
   "source": [
    "com[49:59]"
   ]
  },
  {
   "cell_type": "code",
   "execution_count": null,
   "id": "78ab539a",
   "metadata": {
    "collapsed": false
   },
   "outputs": [],
   "source": []
  },
  {
   "cell_type": "code",
   "execution_count": null,
   "id": "75f9455f",
   "metadata": {
    "collapsed": false
   },
   "outputs": [],
   "source": []
  },
  {
   "cell_type": "code",
   "execution_count": null,
   "id": "83eb5ef0",
   "metadata": {
    "collapsed": false
   },
   "outputs": [],
   "source": [
    "# Next: create shapes for all country and save it as datapoint file.\n",
    "# so that we have population by income group for all 3 datasets."
   ]
  }
 ],
 "metadata": {
  "kernelspec": {
   "argv": [
    "python",
    "-m",
    "ipykernel_launcher",
    "-f",
    "{connection_file}"
   ],
   "display_name": "Python 3 (ipykernel)",
   "env": null,
   "interrupt_mode": "signal",
   "language": "python",
   "metadata": {
    "debugger": true
   },
   "name": "python3"
  },
  "language_info": {
   "codemirror_mode": {
    "name": "ipython",
    "version": 3
   },
   "file_extension": ".py",
   "mimetype": "text/x-python",
   "name": "python",
   "nbconvert_exporter": "python",
   "pygments_lexer": "ipython3",
   "version": "3.10.7"
  },
  "name": "billionares_by_country.ipynb",
  "vscode": {
   "interpreter": {
    "hash": "bade94fa6dab5916a3875465aa8d670cf8ca4b0b164f89f2a3e58702811d5be6"
   }
  }
 },
 "nbformat": 4,
 "nbformat_minor": 5
}
