{
 "cells": [
  {
   "cell_type": "code",
   "execution_count": 1,
   "id": "9e6af005",
   "metadata": {
    "collapsed": false
   },
   "outputs": [],
   "source": [
    "import pandas as pd"
   ]
  },
  {
   "cell_type": "code",
   "execution_count": 2,
   "id": "ecdc1879",
   "metadata": {
    "collapsed": false
   },
   "outputs": [],
   "source": [
    "import numpy as np"
   ]
  },
  {
   "cell_type": "code",
   "execution_count": 3,
   "id": "2c1a25c0",
   "metadata": {
    "collapsed": false
   },
   "outputs": [],
   "source": [
    "import matplotlib.pyplot as plt\n",
    "import seaborn as sns\n",
    "%matplotlib inline\n",
    "sns.set_style(\"whitegrid\")"
   ]
  },
  {
   "cell_type": "code",
   "execution_count": 4,
   "id": "f0e2ad62",
   "metadata": {
    "collapsed": false
   },
   "outputs": [],
   "source": [
    "ppl = pd.read_csv('../../ddf--entities--person.csv')"
   ]
  },
  {
   "cell_type": "code",
   "execution_count": 5,
   "id": "d130e7ff",
   "metadata": {
    "collapsed": false
   },
   "outputs": [
    {
     "data": {
      "text/html": [
       "<div>\n",
       "<style scoped>\n",
       "    .dataframe tbody tr th:only-of-type {\n",
       "        vertical-align: middle;\n",
       "    }\n",
       "\n",
       "    .dataframe tbody tr th {\n",
       "        vertical-align: top;\n",
       "    }\n",
       "\n",
       "    .dataframe thead th {\n",
       "        text-align: right;\n",
       "    }\n",
       "</style>\n",
       "<table border=\"1\" class=\"dataframe\">\n",
       "  <thead>\n",
       "    <tr style=\"text-align: right;\">\n",
       "      <th></th>\n",
       "      <th>person</th>\n",
       "      <th>name</th>\n",
       "      <th>state</th>\n",
       "      <th>headquarters</th>\n",
       "      <th>source</th>\n",
       "      <th>industry</th>\n",
       "      <th>image_uri</th>\n",
       "      <th>age</th>\n",
       "      <th>gender</th>\n",
       "      <th>last_name</th>\n",
       "      <th>birth</th>\n",
       "      <th>birth_1</th>\n",
       "      <th>birth_2</th>\n",
       "      <th>birth_3</th>\n",
       "      <th>sex</th>\n",
       "      <th>permanent_country</th>\n",
       "      <th>company</th>\n",
       "      <th>birth_comb</th>\n",
       "      <th>countries</th>\n",
       "      <th>names</th>\n",
       "    </tr>\n",
       "  </thead>\n",
       "  <tbody>\n",
       "    <tr>\n",
       "      <th>0</th>\n",
       "      <td>a_jayson_adair</td>\n",
       "      <td>A. Jayson Adair</td>\n",
       "      <td>Texas</td>\n",
       "      <td>TX</td>\n",
       "      <td>damaged cars</td>\n",
       "      <td>Automotive</td>\n",
       "      <td>no-pic</td>\n",
       "      <td>52.0</td>\n",
       "      <td>M</td>\n",
       "      <td>Adair</td>\n",
       "      <td>NaN</td>\n",
       "      <td>NaN</td>\n",
       "      <td>NaN</td>\n",
       "      <td>NaN</td>\n",
       "      <td>NaN</td>\n",
       "      <td>NaN</td>\n",
       "      <td>NaN</td>\n",
       "      <td>NaN</td>\n",
       "      <td>usa</td>\n",
       "      <td>A. Jayson Adair</td>\n",
       "    </tr>\n",
       "    <tr>\n",
       "      <th>1</th>\n",
       "      <td>a_jerrold_perenchio</td>\n",
       "      <td>A. Jerrold Perenchio</td>\n",
       "      <td>California</td>\n",
       "      <td>CA</td>\n",
       "      <td>television, Univision; television; Univision</td>\n",
       "      <td>Media &amp; Entertainment; Media;Entertainment</td>\n",
       "      <td>a-jerrold-perenchio; no-pic</td>\n",
       "      <td>91.0</td>\n",
       "      <td>M</td>\n",
       "      <td>Perenchio</td>\n",
       "      <td>NaN</td>\n",
       "      <td>NaN</td>\n",
       "      <td>1931</td>\n",
       "      <td>NaN</td>\n",
       "      <td>NaN</td>\n",
       "      <td>NaN</td>\n",
       "      <td>Chartwell Leisure</td>\n",
       "      <td>1931.0</td>\n",
       "      <td>usa</td>\n",
       "      <td>A. Jerrold Perenchio;Jerrold Perenchio</td>\n",
       "    </tr>\n",
       "    <tr>\n",
       "      <th>2</th>\n",
       "      <td>abdul_aziz_al_ghurair</td>\n",
       "      <td>Abdul Aziz Al Ghurair</td>\n",
       "      <td>NaN</td>\n",
       "      <td>NaN</td>\n",
       "      <td>banking</td>\n",
       "      <td>Finance</td>\n",
       "      <td>abdul-aziz-al-ghurair; no-pic</td>\n",
       "      <td>67.0</td>\n",
       "      <td>M</td>\n",
       "      <td>Al Ghurair</td>\n",
       "      <td>NaN</td>\n",
       "      <td>NaN</td>\n",
       "      <td>NaN</td>\n",
       "      <td>NaN</td>\n",
       "      <td>NaN</td>\n",
       "      <td>NaN</td>\n",
       "      <td>NaN</td>\n",
       "      <td>NaN</td>\n",
       "      <td>are</td>\n",
       "      <td>Abdul Aziz Al Ghurair</td>\n",
       "    </tr>\n",
       "    <tr>\n",
       "      <th>3</th>\n",
       "      <td>abdul_majeed_alhokair</td>\n",
       "      <td>Abdul Majeed Alhokair</td>\n",
       "      <td>NaN</td>\n",
       "      <td>NaN</td>\n",
       "      <td>retail, real estate</td>\n",
       "      <td>Fashion &amp; Retail</td>\n",
       "      <td>no-pic</td>\n",
       "      <td>52.0</td>\n",
       "      <td>M</td>\n",
       "      <td>Alhokair</td>\n",
       "      <td>NaN</td>\n",
       "      <td>NaN</td>\n",
       "      <td>NaN</td>\n",
       "      <td>NaN</td>\n",
       "      <td>NaN</td>\n",
       "      <td>NaN</td>\n",
       "      <td>NaN</td>\n",
       "      <td>NaN</td>\n",
       "      <td>sau</td>\n",
       "      <td>Abdul Majeed Alhokair</td>\n",
       "    </tr>\n",
       "    <tr>\n",
       "      <th>4</th>\n",
       "      <td>abdul_rasyid</td>\n",
       "      <td>Abdul Rasyid</td>\n",
       "      <td>NaN</td>\n",
       "      <td>NaN</td>\n",
       "      <td>timber, palm oil</td>\n",
       "      <td>Manufacturing</td>\n",
       "      <td>abdul-rasyid</td>\n",
       "      <td>64.0</td>\n",
       "      <td>M</td>\n",
       "      <td>Abdul</td>\n",
       "      <td>NaN</td>\n",
       "      <td>NaN</td>\n",
       "      <td>NaN</td>\n",
       "      <td>NaN</td>\n",
       "      <td>NaN</td>\n",
       "      <td>NaN</td>\n",
       "      <td>NaN</td>\n",
       "      <td>NaN</td>\n",
       "      <td>idn</td>\n",
       "      <td>Abdul Rasyid</td>\n",
       "    </tr>\n",
       "    <tr>\n",
       "      <th>...</th>\n",
       "      <td>...</td>\n",
       "      <td>...</td>\n",
       "      <td>...</td>\n",
       "      <td>...</td>\n",
       "      <td>...</td>\n",
       "      <td>...</td>\n",
       "      <td>...</td>\n",
       "      <td>...</td>\n",
       "      <td>...</td>\n",
       "      <td>...</td>\n",
       "      <td>...</td>\n",
       "      <td>...</td>\n",
       "      <td>...</td>\n",
       "      <td>...</td>\n",
       "      <td>...</td>\n",
       "      <td>...</td>\n",
       "      <td>...</td>\n",
       "      <td>...</td>\n",
       "      <td>...</td>\n",
       "      <td>...</td>\n",
       "    </tr>\n",
       "    <tr>\n",
       "      <th>6041</th>\n",
       "      <td>zuo_zongshen</td>\n",
       "      <td>Zuo Zongshen</td>\n",
       "      <td>NaN</td>\n",
       "      <td>NaN</td>\n",
       "      <td>NaN</td>\n",
       "      <td>Auto Components;Motorcycles, Real Estate;Motor...</td>\n",
       "      <td>NaN</td>\n",
       "      <td>69.0</td>\n",
       "      <td>NaN</td>\n",
       "      <td>NaN</td>\n",
       "      <td>1953-01-01</td>\n",
       "      <td>1953.0</td>\n",
       "      <td>1953</td>\n",
       "      <td>NaN</td>\n",
       "      <td>Male</td>\n",
       "      <td>China-Chongqing</td>\n",
       "      <td>Zongshen</td>\n",
       "      <td>1953.0</td>\n",
       "      <td>chn</td>\n",
       "      <td>Zuo Zongshen;Zuo Zongshen &amp; family</td>\n",
       "    </tr>\n",
       "    <tr>\n",
       "      <th>6042</th>\n",
       "      <td>zuo_zongshen_and_yuan_dexiu</td>\n",
       "      <td>Zuo Zongshen &amp; Yuan Dexiu</td>\n",
       "      <td>NaN</td>\n",
       "      <td>NaN</td>\n",
       "      <td>NaN</td>\n",
       "      <td>Motorcycles, Real estate</td>\n",
       "      <td>NaN</td>\n",
       "      <td>NaN</td>\n",
       "      <td>NaN</td>\n",
       "      <td>NaN</td>\n",
       "      <td>NaN</td>\n",
       "      <td>NaN</td>\n",
       "      <td>1953</td>\n",
       "      <td>NaN</td>\n",
       "      <td>NaN</td>\n",
       "      <td>NaN</td>\n",
       "      <td>Zongshen</td>\n",
       "      <td>1953.0</td>\n",
       "      <td>NaN</td>\n",
       "      <td>Zuo Zongshen &amp; Yuan Dexiu</td>\n",
       "    </tr>\n",
       "    <tr>\n",
       "      <th>6043</th>\n",
       "      <td>zuowen_song</td>\n",
       "      <td>Zuowen Song</td>\n",
       "      <td>NaN</td>\n",
       "      <td>NaN</td>\n",
       "      <td>aluminum, diversified</td>\n",
       "      <td>Diversified;Non-ferrous metals processing;Meta...</td>\n",
       "      <td>zuowen-song</td>\n",
       "      <td>75.0</td>\n",
       "      <td>M</td>\n",
       "      <td>Song</td>\n",
       "      <td>1947-03-01</td>\n",
       "      <td>1947.0</td>\n",
       "      <td>1947</td>\n",
       "      <td>NaN</td>\n",
       "      <td>Male</td>\n",
       "      <td>China-Shandong-Yantai</td>\n",
       "      <td>Nanshan</td>\n",
       "      <td>1947.0</td>\n",
       "      <td>chn</td>\n",
       "      <td>Zuowen Song;Song Zuowen;Song Zuowen &amp; Family;S...</td>\n",
       "    </tr>\n",
       "    <tr>\n",
       "      <th>6044</th>\n",
       "      <td>zygi_wilf</td>\n",
       "      <td>Zygi Wilf</td>\n",
       "      <td>NaN</td>\n",
       "      <td>NaN</td>\n",
       "      <td>NaN</td>\n",
       "      <td>Sports;Real Estate</td>\n",
       "      <td>NaN</td>\n",
       "      <td>72.0</td>\n",
       "      <td>NaN</td>\n",
       "      <td>NaN</td>\n",
       "      <td>1950-04-22</td>\n",
       "      <td>1950.0</td>\n",
       "      <td>1951</td>\n",
       "      <td>NaN</td>\n",
       "      <td>Male</td>\n",
       "      <td>United States-Millburn</td>\n",
       "      <td>Minnesota Vikings;Garden Homes</td>\n",
       "      <td>1950.0</td>\n",
       "      <td>usa</td>\n",
       "      <td>Zygi Wilf</td>\n",
       "    </tr>\n",
       "    <tr>\n",
       "      <th>6045</th>\n",
       "      <td>zygmunt_solorz_zak</td>\n",
       "      <td>Zygmunt Solorz-Zak</td>\n",
       "      <td>NaN</td>\n",
       "      <td>NaN</td>\n",
       "      <td>TV broadcasting; TV station</td>\n",
       "      <td>Media &amp; Entertainment; Media;Media;Entertainment</td>\n",
       "      <td>zygmunt-solorz-zak; no-pic</td>\n",
       "      <td>65.0;66.0</td>\n",
       "      <td>M</td>\n",
       "      <td>Solorz-Zak</td>\n",
       "      <td>1956-08-04</td>\n",
       "      <td>1956.0</td>\n",
       "      <td>1957</td>\n",
       "      <td>NaN</td>\n",
       "      <td>Male</td>\n",
       "      <td>Poland-Warsaw</td>\n",
       "      <td>Cyfrowy Polsat</td>\n",
       "      <td>1956.0</td>\n",
       "      <td>pol</td>\n",
       "      <td>Zygmunt Solorz-Zak</td>\n",
       "    </tr>\n",
       "  </tbody>\n",
       "</table>\n",
       "<p>6046 rows × 20 columns</p>\n",
       "</div>"
      ],
      "text/plain": [
       "                           person                       name       state  \\\n",
       "0                  a_jayson_adair            A. Jayson Adair       Texas   \n",
       "1             a_jerrold_perenchio       A. Jerrold Perenchio  California   \n",
       "2           abdul_aziz_al_ghurair      Abdul Aziz Al Ghurair         NaN   \n",
       "3           abdul_majeed_alhokair      Abdul Majeed Alhokair         NaN   \n",
       "4                    abdul_rasyid               Abdul Rasyid         NaN   \n",
       "...                           ...                        ...         ...   \n",
       "6041                 zuo_zongshen               Zuo Zongshen         NaN   \n",
       "6042  zuo_zongshen_and_yuan_dexiu  Zuo Zongshen & Yuan Dexiu         NaN   \n",
       "6043                  zuowen_song                Zuowen Song         NaN   \n",
       "6044                    zygi_wilf                  Zygi Wilf         NaN   \n",
       "6045           zygmunt_solorz_zak         Zygmunt Solorz-Zak         NaN   \n",
       "\n",
       "     headquarters                                        source  \\\n",
       "0              TX                                  damaged cars   \n",
       "1              CA  television, Univision; television; Univision   \n",
       "2             NaN                                       banking   \n",
       "3             NaN                           retail, real estate   \n",
       "4             NaN                              timber, palm oil   \n",
       "...           ...                                           ...   \n",
       "6041          NaN                                           NaN   \n",
       "6042          NaN                                           NaN   \n",
       "6043          NaN                         aluminum, diversified   \n",
       "6044          NaN                                           NaN   \n",
       "6045          NaN                   TV broadcasting; TV station   \n",
       "\n",
       "                                               industry  \\\n",
       "0                                            Automotive   \n",
       "1            Media & Entertainment; Media;Entertainment   \n",
       "2                                               Finance   \n",
       "3                                      Fashion & Retail   \n",
       "4                                         Manufacturing   \n",
       "...                                                 ...   \n",
       "6041  Auto Components;Motorcycles, Real Estate;Motor...   \n",
       "6042                           Motorcycles, Real estate   \n",
       "6043  Diversified;Non-ferrous metals processing;Meta...   \n",
       "6044                                 Sports;Real Estate   \n",
       "6045   Media & Entertainment; Media;Media;Entertainment   \n",
       "\n",
       "                          image_uri        age gender   last_name       birth  \\\n",
       "0                            no-pic       52.0      M       Adair         NaN   \n",
       "1       a-jerrold-perenchio; no-pic       91.0      M   Perenchio         NaN   \n",
       "2     abdul-aziz-al-ghurair; no-pic       67.0      M  Al Ghurair         NaN   \n",
       "3                            no-pic       52.0      M    Alhokair         NaN   \n",
       "4                      abdul-rasyid       64.0      M       Abdul         NaN   \n",
       "...                             ...        ...    ...         ...         ...   \n",
       "6041                            NaN       69.0    NaN         NaN  1953-01-01   \n",
       "6042                            NaN        NaN    NaN         NaN         NaN   \n",
       "6043                    zuowen-song       75.0      M        Song  1947-03-01   \n",
       "6044                            NaN       72.0    NaN         NaN  1950-04-22   \n",
       "6045     zygmunt-solorz-zak; no-pic  65.0;66.0      M  Solorz-Zak  1956-08-04   \n",
       "\n",
       "     birth_1 birth_2 birth_3   sex       permanent_country  \\\n",
       "0        NaN     NaN     NaN   NaN                     NaN   \n",
       "1        NaN    1931     NaN   NaN                     NaN   \n",
       "2        NaN     NaN     NaN   NaN                     NaN   \n",
       "3        NaN     NaN     NaN   NaN                     NaN   \n",
       "4        NaN     NaN     NaN   NaN                     NaN   \n",
       "...      ...     ...     ...   ...                     ...   \n",
       "6041  1953.0    1953     NaN  Male         China-Chongqing   \n",
       "6042     NaN    1953     NaN   NaN                     NaN   \n",
       "6043  1947.0    1947     NaN  Male   China-Shandong-Yantai   \n",
       "6044  1950.0    1951     NaN  Male  United States-Millburn   \n",
       "6045  1956.0    1957     NaN  Male           Poland-Warsaw   \n",
       "\n",
       "                             company  birth_comb countries  \\\n",
       "0                                NaN         NaN       usa   \n",
       "1                  Chartwell Leisure      1931.0       usa   \n",
       "2                                NaN         NaN       are   \n",
       "3                                NaN         NaN       sau   \n",
       "4                                NaN         NaN       idn   \n",
       "...                              ...         ...       ...   \n",
       "6041                        Zongshen      1953.0       chn   \n",
       "6042                        Zongshen      1953.0       NaN   \n",
       "6043                         Nanshan      1947.0       chn   \n",
       "6044  Minnesota Vikings;Garden Homes      1950.0       usa   \n",
       "6045                  Cyfrowy Polsat      1956.0       pol   \n",
       "\n",
       "                                                  names  \n",
       "0                                       A. Jayson Adair  \n",
       "1                A. Jerrold Perenchio;Jerrold Perenchio  \n",
       "2                                 Abdul Aziz Al Ghurair  \n",
       "3                                 Abdul Majeed Alhokair  \n",
       "4                                          Abdul Rasyid  \n",
       "...                                                 ...  \n",
       "6041                 Zuo Zongshen;Zuo Zongshen & family  \n",
       "6042                          Zuo Zongshen & Yuan Dexiu  \n",
       "6043  Zuowen Song;Song Zuowen;Song Zuowen & Family;S...  \n",
       "6044                                          Zygi Wilf  \n",
       "6045                                 Zygmunt Solorz-Zak  \n",
       "\n",
       "[6046 rows x 20 columns]"
      ]
     },
     "execution_count": 5,
     "metadata": {},
     "output_type": "execute_result"
    }
   ],
   "source": [
    "ppl"
   ]
  },
  {
   "cell_type": "code",
   "execution_count": 5,
   "id": "2c7d4739",
   "metadata": {
    "collapsed": false
   },
   "outputs": [],
   "source": []
  },
  {
   "cell_type": "code",
   "execution_count": 6,
   "id": "83de5f5c",
   "metadata": {
    "collapsed": false
   },
   "outputs": [],
   "source": [
    "# TODO: \n",
    "# - check entire calculation\n",
    "# - share over all"
   ]
  },
  {
   "cell_type": "code",
   "execution_count": 7,
   "id": "0b0f9151",
   "metadata": {
    "collapsed": false
   },
   "outputs": [],
   "source": [
    "synonyms = pd.read_csv('../../../ddf--open_numbers/ddf--synonyms--geo.csv')"
   ]
  },
  {
   "cell_type": "code",
   "execution_count": 8,
   "id": "b9fb35c7",
   "metadata": {
    "collapsed": false
   },
   "outputs": [],
   "source": [
    "syn = synonyms.set_index('synonym')['geo'].to_dict()"
   ]
  },
  {
   "cell_type": "code",
   "execution_count": 9,
   "id": "b5009579",
   "metadata": {
    "collapsed": false
   },
   "outputs": [],
   "source": [
    "# append one that not exists in dict\n",
    "syn['Eswatini (Swaziland)'] = 'swz'"
   ]
  },
  {
   "cell_type": "code",
   "execution_count": 10,
   "id": "99d5922f",
   "metadata": {
    "collapsed": false
   },
   "outputs": [],
   "source": [
    "# def _f(x):\n",
    "#     try:\n",
    "#         k = x.split(';')[0]\n",
    "#         return syn[k]\n",
    "#     except KeyError:\n",
    "#         print(x)\n",
    "#         return x\n",
    "def _f(x):\n",
    "    if pd.isnull(x):\n",
    "        return None\n",
    "    k = x.split(';')[0]\n",
    "    if not pd.isnull(k):\n",
    "        return k\n",
    "    else:\n",
    "        return None"
   ]
  },
  {
   "cell_type": "code",
   "execution_count": 11,
   "id": "3f9d5e0e",
   "metadata": {
    "collapsed": false
   },
   "outputs": [],
   "source": [
    "# Question: what to do if there are multiple countries?"
   ]
  },
  {
   "cell_type": "code",
   "execution_count": 12,
   "id": "f52cbed5",
   "metadata": {
    "collapsed": false
   },
   "outputs": [],
   "source": [
    "ppl['geo'] = ppl['countries'].map(_f)"
   ]
  },
  {
   "cell_type": "code",
   "execution_count": 13,
   "id": "e7609349",
   "metadata": {
    "collapsed": false
   },
   "outputs": [
    {
     "name": "stdout",
     "output_type": "stream",
     "text": [
      "assets\r\n",
      "datapackage.json\r\n",
      "datapackage.json.bak\r\n",
      "ddf--concepts.csv\r\n",
      "ddf--datapoints--annual_income--by--person--time.csv\r\n",
      "ddf--datapoints--daily_income--by--person--time.csv\r\n",
      "ddf--datapoints--population--by--geo--time--income_group.csv\r\n",
      "ddf--datapoints--population_extrapolated--by--geo--time--income_group.csv\r\n",
      "ddf--entities--geo--country.csv\r\n",
      "ddf--entities--geo.csv\r\n",
      "ddf--entities--geo--g77_and_oecd_countries.csv\r\n",
      "ddf--entities--geo--global.csv\r\n",
      "ddf--entities--geo--income_3groups.csv\r\n",
      "ddf--entities--geo--income_groups.csv\r\n",
      "ddf--entities--geo--landlocked.csv\r\n",
      "ddf--entities--geo--main_religion_2008.csv\r\n",
      "ddf--entities--geo--unhcr_region.csv\r\n",
      "ddf--entities--geo--unicef_region.csv\r\n",
      "ddf--entities--geo--un_sdg_ldc.csv\r\n",
      "ddf--entities--geo--un_sdg_region.csv\r\n",
      "ddf--entities--geo--west_and_rest.csv\r\n",
      "ddf--entities--geo--world_4region.csv\r\n",
      "ddf--entities--geo--world_6region.csv\r\n",
      "ddf--entities--income_group.csv\r\n",
      "ddf--entities--person.csv\r\n",
      "etl\r\n",
      "README.md\r\n",
      "validation-2022-06-21T054605.195Z.log\r\n"
     ]
    }
   ],
   "source": [
    "!ls ../../"
   ]
  },
  {
   "cell_type": "code",
   "execution_count": 14,
   "id": "9fc3ec98",
   "metadata": {
    "collapsed": false
   },
   "outputs": [],
   "source": []
  },
  {
   "cell_type": "code",
   "execution_count": 14,
   "id": "30a4642a",
   "metadata": {
    "collapsed": false
   },
   "outputs": [],
   "source": []
  },
  {
   "cell_type": "code",
   "execution_count": 14,
   "id": "6ff9aa9e",
   "metadata": {
    "collapsed": false
   },
   "outputs": [],
   "source": []
  },
  {
   "cell_type": "code",
   "execution_count": 26,
   "id": "dd3ffb3f",
   "metadata": {
    "collapsed": false
   },
   "outputs": [],
   "source": [
    "all_brackets = np.logspace(-7, 13, 51, endpoint=True, base=2)\n",
    "brackets_delta = (13 - (-7)) / 50\n",
    "\n",
    "\n",
    "def bracket_number_from_income(s, monthly=False, integer=True):\n",
    "    if monthly:  # the input is monthly income, so calculate to daily income first\n",
    "        res = ((np.log2(s / 30) + 7) / brackets_delta)\n",
    "    else:\n",
    "        res = ((np.log2(s) + 7) / brackets_delta)\n",
    "    if integer:\n",
    "        return res.astype(int)\n",
    "    return res\n",
    "\n",
    "def bracket_number_from_income_c(s):\n",
    "    res = ((np.log2(s) + 7) / brackets_delta)\n",
    "    return res.astype(int)\n",
    "\n",
    "def bracket_number_to_income(n):\n",
    "    p = n * brackets_delta - 7\n",
    "    return np.power(2, p)"
   ]
  },
  {
   "cell_type": "code",
   "execution_count": 30,
   "id": "f5b86472",
   "metadata": {
    "collapsed": false
   },
   "outputs": [],
   "source": [
    "income = pd.read_csv('../../ddf--datapoints--annual_income--by--person--time.csv')\n",
    "income2 = pd.read_csv('../../ddf--datapoints--daily_income--by--person--time.csv')"
   ]
  },
  {
   "cell_type": "code",
   "execution_count": 31,
   "id": "0688913e",
   "metadata": {
    "collapsed": false
   },
   "outputs": [],
   "source": [
    "income = income.sort_values(by=['person', 'time'])\n",
    "income2 = income2.sort_values(by=['person', 'time'])"
   ]
  },
  {
   "cell_type": "code",
   "execution_count": 32,
   "id": "48146831",
   "metadata": {
    "collapsed": false
   },
   "outputs": [
    {
     "data": {
      "text/plain": [
       "array([2021, 2022, 2002, 2003, 2004, 2005, 2006, 2007, 2008, 2009, 2010,\n",
       "       2011, 2012, 2013, 2014, 2015, 2016, 2017, 2018, 2019, 2020])"
      ]
     },
     "execution_count": 32,
     "metadata": {},
     "output_type": "execute_result"
    }
   ],
   "source": [
    "income.time.unique()"
   ]
  },
  {
   "cell_type": "code",
   "execution_count": 33,
   "id": "ff941871",
   "metadata": {
    "collapsed": false
   },
   "outputs": [],
   "source": [
    "ppl_ = ppl[~pd.isnull(ppl['geo'])]"
   ]
  },
  {
   "cell_type": "code",
   "execution_count": 34,
   "id": "947e5116",
   "metadata": {
    "collapsed": false
   },
   "outputs": [],
   "source": [
    "# 1. convert person to geo NOTE: we will drop names without countries properties\n",
    "# 2. convert income to income group\n",
    "\n",
    "person_to_geo = ppl_.set_index('person')['geo'].to_dict()\n",
    "\n",
    "def _f(x):\n",
    "    if x in person_to_geo:\n",
    "        return person_to_geo[x]\n",
    "    return np.nan\n",
    "\n",
    "df = income.copy()\n",
    "df['geo'] = df['person'].map(_f)\n",
    "\n",
    "df2 = income2.copy()\n",
    "df2['geo'] = df2['person'].map(_f)"
   ]
  },
  {
   "cell_type": "code",
   "execution_count": 35,
   "id": "50466e62",
   "metadata": {
    "collapsed": false
   },
   "outputs": [],
   "source": [
    "def annual_income_to_group(i):\n",
    "    daily = i / 365.0\n",
    "    return bracket_number_from_income(daily)\n",
    "\n",
    "df['income_group'] = df.apply(lambda x: annual_income_to_group(x['annual_income']), axis=1)"
   ]
  },
  {
   "cell_type": "code",
   "execution_count": 36,
   "id": "2d864887",
   "metadata": {
    "collapsed": false
   },
   "outputs": [],
   "source": [
    "df2['income_group'] = df2['daily_income'].map(bracket_number_from_income)"
   ]
  },
  {
   "cell_type": "code",
   "execution_count": 37,
   "id": "77640ef0",
   "metadata": {
    "collapsed": false
   },
   "outputs": [
    {
     "data": {
      "text/html": [
       "<div>\n",
       "<style scoped>\n",
       "    .dataframe tbody tr th:only-of-type {\n",
       "        vertical-align: middle;\n",
       "    }\n",
       "\n",
       "    .dataframe tbody tr th {\n",
       "        vertical-align: top;\n",
       "    }\n",
       "\n",
       "    .dataframe thead th {\n",
       "        text-align: right;\n",
       "    }\n",
       "</style>\n",
       "<table border=\"1\" class=\"dataframe\">\n",
       "  <thead>\n",
       "    <tr style=\"text-align: right;\">\n",
       "      <th></th>\n",
       "      <th>person</th>\n",
       "      <th>time</th>\n",
       "      <th>daily_income</th>\n",
       "      <th>geo</th>\n",
       "      <th>income_group</th>\n",
       "    </tr>\n",
       "  </thead>\n",
       "  <tbody>\n",
       "    <tr>\n",
       "      <th>0</th>\n",
       "      <td>a_jayson_adair</td>\n",
       "      <td>2021</td>\n",
       "      <td>72328</td>\n",
       "      <td>usa</td>\n",
       "      <td>57</td>\n",
       "    </tr>\n",
       "    <tr>\n",
       "      <th>1</th>\n",
       "      <td>a_jayson_adair</td>\n",
       "      <td>2022</td>\n",
       "      <td>77753</td>\n",
       "      <td>usa</td>\n",
       "      <td>58</td>\n",
       "    </tr>\n",
       "    <tr>\n",
       "      <th>2</th>\n",
       "      <td>a_jerrold_perenchio</td>\n",
       "      <td>2002</td>\n",
       "      <td>285715</td>\n",
       "      <td>usa</td>\n",
       "      <td>62</td>\n",
       "    </tr>\n",
       "    <tr>\n",
       "      <th>3</th>\n",
       "      <td>a_jerrold_perenchio</td>\n",
       "      <td>2003</td>\n",
       "      <td>241783</td>\n",
       "      <td>usa</td>\n",
       "      <td>62</td>\n",
       "    </tr>\n",
       "    <tr>\n",
       "      <th>4</th>\n",
       "      <td>a_jerrold_perenchio</td>\n",
       "      <td>2004</td>\n",
       "      <td>266745</td>\n",
       "      <td>usa</td>\n",
       "      <td>62</td>\n",
       "    </tr>\n",
       "    <tr>\n",
       "      <th>...</th>\n",
       "      <td>...</td>\n",
       "      <td>...</td>\n",
       "      <td>...</td>\n",
       "      <td>...</td>\n",
       "      <td>...</td>\n",
       "    </tr>\n",
       "    <tr>\n",
       "      <th>33337</th>\n",
       "      <td>zygmunt_solorz_zak</td>\n",
       "      <td>2018</td>\n",
       "      <td>219780</td>\n",
       "      <td>pol</td>\n",
       "      <td>61</td>\n",
       "    </tr>\n",
       "    <tr>\n",
       "      <th>33338</th>\n",
       "      <td>zygmunt_solorz_zak</td>\n",
       "      <td>2019</td>\n",
       "      <td>207493</td>\n",
       "      <td>pol</td>\n",
       "      <td>61</td>\n",
       "    </tr>\n",
       "    <tr>\n",
       "      <th>33339</th>\n",
       "      <td>zygmunt_solorz_zak</td>\n",
       "      <td>2020</td>\n",
       "      <td>180887</td>\n",
       "      <td>pol</td>\n",
       "      <td>61</td>\n",
       "    </tr>\n",
       "    <tr>\n",
       "      <th>33340</th>\n",
       "      <td>zygmunt_solorz_zak</td>\n",
       "      <td>2021</td>\n",
       "      <td>231452</td>\n",
       "      <td>pol</td>\n",
       "      <td>62</td>\n",
       "    </tr>\n",
       "    <tr>\n",
       "      <th>33341</th>\n",
       "      <td>zygmunt_solorz_zak</td>\n",
       "      <td>2022</td>\n",
       "      <td>204986</td>\n",
       "      <td>pol</td>\n",
       "      <td>61</td>\n",
       "    </tr>\n",
       "  </tbody>\n",
       "</table>\n",
       "<p>33342 rows × 5 columns</p>\n",
       "</div>"
      ],
      "text/plain": [
       "                    person  time  daily_income  geo  income_group\n",
       "0           a_jayson_adair  2021         72328  usa            57\n",
       "1           a_jayson_adair  2022         77753  usa            58\n",
       "2      a_jerrold_perenchio  2002        285715  usa            62\n",
       "3      a_jerrold_perenchio  2003        241783  usa            62\n",
       "4      a_jerrold_perenchio  2004        266745  usa            62\n",
       "...                    ...   ...           ...  ...           ...\n",
       "33337   zygmunt_solorz_zak  2018        219780  pol            61\n",
       "33338   zygmunt_solorz_zak  2019        207493  pol            61\n",
       "33339   zygmunt_solorz_zak  2020        180887  pol            61\n",
       "33340   zygmunt_solorz_zak  2021        231452  pol            62\n",
       "33341   zygmunt_solorz_zak  2022        204986  pol            61\n",
       "\n",
       "[33342 rows x 5 columns]"
      ]
     },
     "execution_count": 37,
     "metadata": {},
     "output_type": "execute_result"
    }
   ],
   "source": [
    "df2"
   ]
  },
  {
   "cell_type": "code",
   "execution_count": 38,
   "id": "09b8da07",
   "metadata": {
    "collapsed": false
   },
   "outputs": [],
   "source": [
    "res = df.groupby(['geo', 'time', 'income_group'])['person'].count()\n",
    "res2 = df2.groupby(['geo', 'time', 'income_group'])['person'].count()"
   ]
  },
  {
   "cell_type": "code",
   "execution_count": 42,
   "id": "49bf98cb",
   "metadata": {
    "collapsed": false
   },
   "outputs": [
    {
     "data": {
      "text/plain": [
       "income_group\n",
       "58    46\n",
       "59    41\n",
       "60    49\n",
       "61    31\n",
       "62    21\n",
       "63    16\n",
       "64     7\n",
       "65     6\n",
       "66     5\n",
       "67     6\n",
       "68     2\n",
       "69     2\n",
       "70     1\n",
       "Name: person, dtype: int64"
      ]
     },
     "execution_count": 42,
     "metadata": {},
     "output_type": "execute_result"
    }
   ],
   "source": [
    "res.loc['chn', 2014]"
   ]
  },
  {
   "cell_type": "code",
   "execution_count": 44,
   "id": "3d0244f7",
   "metadata": {
    "collapsed": false
   },
   "outputs": [
    {
     "data": {
      "text/plain": [
       "Series([], Name: person, dtype: int64)"
      ]
     },
     "execution_count": 44,
     "metadata": {},
     "output_type": "execute_result"
    }
   ],
   "source": [
    "_d = res - res2\n",
    "_d[_d > 0]"
   ]
  },
  {
   "cell_type": "code",
   "execution_count": null,
   "id": "4a20fd91",
   "metadata": {
    "collapsed": false
   },
   "outputs": [],
   "source": []
  },
  {
   "cell_type": "code",
   "execution_count": 26,
   "id": "228dea46",
   "metadata": {
    "collapsed": false
   },
   "outputs": [],
   "source": [
    "# reindex to range() and fillna before continue\n",
    "\n",
    "def reindex_income_group(ser):\n",
    "    # print(ser)\n",
    "    ser = ser.set_index('income_group')\n",
    "    ser = ser.reindex(range(ser.index.min(), ser.index.max()+1)).fillna(0)\n",
    "    return ser"
   ]
  },
  {
   "cell_type": "code",
   "execution_count": 27,
   "id": "71717ff1",
   "metadata": {
    "collapsed": false
   },
   "outputs": [],
   "source": [
    "res = res.reset_index()"
   ]
  },
  {
   "cell_type": "code",
   "execution_count": 28,
   "id": "12515dfc",
   "metadata": {
    "collapsed": false
   },
   "outputs": [],
   "source": [
    "res = res.groupby(['geo', 'time']).apply(reindex_income_group)['person']"
   ]
  },
  {
   "cell_type": "code",
   "execution_count": 29,
   "id": "1e917c5e",
   "metadata": {
    "collapsed": false
   },
   "outputs": [],
   "source": [
    "res = res.sort_index().astype(int)"
   ]
  },
  {
   "cell_type": "code",
   "execution_count": 30,
   "id": "9f5c7716",
   "metadata": {
    "collapsed": false
   },
   "outputs": [
    {
     "data": {
      "text/plain": [
       "income_group\n",
       "57     25\n",
       "58    118\n",
       "59    117\n",
       "60     95\n",
       "61    108\n",
       "62     97\n",
       "63     83\n",
       "64     66\n",
       "65     35\n",
       "66     22\n",
       "67     10\n",
       "68     10\n",
       "69      4\n",
       "70      4\n",
       "71      2\n",
       "72      7\n",
       "73      1\n",
       "74      5\n",
       "75      1\n",
       "76      1\n",
       "77      1\n",
       "Name: person, dtype: int64"
      ]
     },
     "execution_count": 30,
     "metadata": {},
     "output_type": "execute_result"
    }
   ],
   "source": [
    "res.loc['usa', 2022]"
   ]
  },
  {
   "cell_type": "code",
   "execution_count": 31,
   "id": "e7e48411",
   "metadata": {
    "collapsed": false
   },
   "outputs": [
    {
     "data": {
      "text/plain": [
       "time  income_group\n",
       "2013  60              1\n",
       "2014  63              1\n",
       "2015  62              1\n",
       "2016  62              1\n",
       "2017  62              1\n",
       "2018  61              1\n",
       "2019  61              1\n",
       "2020  59              1\n",
       "Name: person, dtype: int64"
      ]
     },
     "execution_count": 31,
     "metadata": {},
     "output_type": "execute_result"
    }
   ],
   "source": [
    "res.loc['ago']"
   ]
  },
  {
   "cell_type": "code",
   "execution_count": 32,
   "id": "b6a1d3fb",
   "metadata": {
    "collapsed": false
   },
   "outputs": [
    {
     "data": {
      "text/html": [
       "<div>\n",
       "<style scoped>\n",
       "    .dataframe tbody tr th:only-of-type {\n",
       "        vertical-align: middle;\n",
       "    }\n",
       "\n",
       "    .dataframe tbody tr th {\n",
       "        vertical-align: top;\n",
       "    }\n",
       "\n",
       "    .dataframe thead th {\n",
       "        text-align: right;\n",
       "    }\n",
       "</style>\n",
       "<table border=\"1\" class=\"dataframe\">\n",
       "  <thead>\n",
       "    <tr style=\"text-align: right;\">\n",
       "      <th></th>\n",
       "      <th>person</th>\n",
       "      <th>time</th>\n",
       "      <th>annual_income</th>\n",
       "      <th>geo</th>\n",
       "      <th>income_group</th>\n",
       "    </tr>\n",
       "  </thead>\n",
       "  <tbody>\n",
       "    <tr>\n",
       "      <th>13037</th>\n",
       "      <td>jeff_bezos</td>\n",
       "      <td>2002</td>\n",
       "      <td>60165000</td>\n",
       "      <td>usa</td>\n",
       "      <td>60</td>\n",
       "    </tr>\n",
       "    <tr>\n",
       "      <th>13038</th>\n",
       "      <td>jeff_bezos</td>\n",
       "      <td>2003</td>\n",
       "      <td>95925000</td>\n",
       "      <td>usa</td>\n",
       "      <td>62</td>\n",
       "    </tr>\n",
       "    <tr>\n",
       "      <th>13039</th>\n",
       "      <td>jeff_bezos</td>\n",
       "      <td>2004</td>\n",
       "      <td>183906000</td>\n",
       "      <td>usa</td>\n",
       "      <td>64</td>\n",
       "    </tr>\n",
       "    <tr>\n",
       "      <th>13040</th>\n",
       "      <td>jeff_bezos</td>\n",
       "      <td>2005</td>\n",
       "      <td>142926000</td>\n",
       "      <td>usa</td>\n",
       "      <td>63</td>\n",
       "    </tr>\n",
       "    <tr>\n",
       "      <th>13041</th>\n",
       "      <td>jeff_bezos</td>\n",
       "      <td>2006</td>\n",
       "      <td>147318000</td>\n",
       "      <td>usa</td>\n",
       "      <td>64</td>\n",
       "    </tr>\n",
       "    <tr>\n",
       "      <th>13042</th>\n",
       "      <td>jeff_bezos</td>\n",
       "      <td>2007</td>\n",
       "      <td>150084000</td>\n",
       "      <td>usa</td>\n",
       "      <td>64</td>\n",
       "    </tr>\n",
       "    <tr>\n",
       "      <th>13043</th>\n",
       "      <td>jeff_bezos</td>\n",
       "      <td>2008</td>\n",
       "      <td>273306000</td>\n",
       "      <td>usa</td>\n",
       "      <td>66</td>\n",
       "    </tr>\n",
       "    <tr>\n",
       "      <th>13044</th>\n",
       "      <td>jeff_bezos</td>\n",
       "      <td>2009</td>\n",
       "      <td>224808000</td>\n",
       "      <td>usa</td>\n",
       "      <td>65</td>\n",
       "    </tr>\n",
       "    <tr>\n",
       "      <th>13045</th>\n",
       "      <td>jeff_bezos</td>\n",
       "      <td>2010</td>\n",
       "      <td>402579000</td>\n",
       "      <td>usa</td>\n",
       "      <td>67</td>\n",
       "    </tr>\n",
       "    <tr>\n",
       "      <th>13046</th>\n",
       "      <td>jeff_bezos</td>\n",
       "      <td>2011</td>\n",
       "      <td>579924000</td>\n",
       "      <td>usa</td>\n",
       "      <td>68</td>\n",
       "    </tr>\n",
       "    <tr>\n",
       "      <th>13047</th>\n",
       "      <td>jeff_bezos</td>\n",
       "      <td>2012</td>\n",
       "      <td>574080000</td>\n",
       "      <td>usa</td>\n",
       "      <td>68</td>\n",
       "    </tr>\n",
       "    <tr>\n",
       "      <th>13048</th>\n",
       "      <td>jeff_bezos</td>\n",
       "      <td>2013</td>\n",
       "      <td>777168000</td>\n",
       "      <td>usa</td>\n",
       "      <td>70</td>\n",
       "    </tr>\n",
       "    <tr>\n",
       "      <th>13049</th>\n",
       "      <td>jeff_bezos</td>\n",
       "      <td>2014</td>\n",
       "      <td>971520000</td>\n",
       "      <td>usa</td>\n",
       "      <td>70</td>\n",
       "    </tr>\n",
       "    <tr>\n",
       "      <th>13050</th>\n",
       "      <td>jeff_bezos</td>\n",
       "      <td>2015</td>\n",
       "      <td>1063835999</td>\n",
       "      <td>usa</td>\n",
       "      <td>71</td>\n",
       "    </tr>\n",
       "    <tr>\n",
       "      <th>13051</th>\n",
       "      <td>jeff_bezos</td>\n",
       "      <td>2016</td>\n",
       "      <td>1381763999</td>\n",
       "      <td>usa</td>\n",
       "      <td>72</td>\n",
       "    </tr>\n",
       "    <tr>\n",
       "      <th>13052</th>\n",
       "      <td>jeff_bezos</td>\n",
       "      <td>2017</td>\n",
       "      <td>2184000000</td>\n",
       "      <td>usa</td>\n",
       "      <td>73</td>\n",
       "    </tr>\n",
       "    <tr>\n",
       "      <th>13053</th>\n",
       "      <td>jeff_bezos</td>\n",
       "      <td>2018</td>\n",
       "      <td>3208800000</td>\n",
       "      <td>usa</td>\n",
       "      <td>75</td>\n",
       "    </tr>\n",
       "    <tr>\n",
       "      <th>13054</th>\n",
       "      <td>jeff_bezos</td>\n",
       "      <td>2019</td>\n",
       "      <td>3674550000</td>\n",
       "      <td>usa</td>\n",
       "      <td>75</td>\n",
       "    </tr>\n",
       "    <tr>\n",
       "      <th>13055</th>\n",
       "      <td>jeff_bezos</td>\n",
       "      <td>2020</td>\n",
       "      <td>3108630000</td>\n",
       "      <td>usa</td>\n",
       "      <td>75</td>\n",
       "    </tr>\n",
       "    <tr>\n",
       "      <th>13056</th>\n",
       "      <td>jeff_bezos</td>\n",
       "      <td>2021</td>\n",
       "      <td>4672800000</td>\n",
       "      <td>usa</td>\n",
       "      <td>76</td>\n",
       "    </tr>\n",
       "    <tr>\n",
       "      <th>13057</th>\n",
       "      <td>jeff_bezos</td>\n",
       "      <td>2022</td>\n",
       "      <td>4411800000</td>\n",
       "      <td>usa</td>\n",
       "      <td>76</td>\n",
       "    </tr>\n",
       "  </tbody>\n",
       "</table>\n",
       "</div>"
      ],
      "text/plain": [
       "           person  time  annual_income  geo  income_group\n",
       "13037  jeff_bezos  2002       60165000  usa            60\n",
       "13038  jeff_bezos  2003       95925000  usa            62\n",
       "13039  jeff_bezos  2004      183906000  usa            64\n",
       "13040  jeff_bezos  2005      142926000  usa            63\n",
       "13041  jeff_bezos  2006      147318000  usa            64\n",
       "13042  jeff_bezos  2007      150084000  usa            64\n",
       "13043  jeff_bezos  2008      273306000  usa            66\n",
       "13044  jeff_bezos  2009      224808000  usa            65\n",
       "13045  jeff_bezos  2010      402579000  usa            67\n",
       "13046  jeff_bezos  2011      579924000  usa            68\n",
       "13047  jeff_bezos  2012      574080000  usa            68\n",
       "13048  jeff_bezos  2013      777168000  usa            70\n",
       "13049  jeff_bezos  2014      971520000  usa            70\n",
       "13050  jeff_bezos  2015     1063835999  usa            71\n",
       "13051  jeff_bezos  2016     1381763999  usa            72\n",
       "13052  jeff_bezos  2017     2184000000  usa            73\n",
       "13053  jeff_bezos  2018     3208800000  usa            75\n",
       "13054  jeff_bezos  2019     3674550000  usa            75\n",
       "13055  jeff_bezos  2020     3108630000  usa            75\n",
       "13056  jeff_bezos  2021     4672800000  usa            76\n",
       "13057  jeff_bezos  2022     4411800000  usa            76"
      ]
     },
     "execution_count": 32,
     "metadata": {},
     "output_type": "execute_result"
    }
   ],
   "source": [
    "df[df.person == 'jeff_bezos']"
   ]
  },
  {
   "cell_type": "code",
   "execution_count": 33,
   "id": "02407256",
   "metadata": {
    "collapsed": false
   },
   "outputs": [
    {
     "data": {
      "text/html": [
       "<div>\n",
       "<style scoped>\n",
       "    .dataframe tbody tr th:only-of-type {\n",
       "        vertical-align: middle;\n",
       "    }\n",
       "\n",
       "    .dataframe tbody tr th {\n",
       "        vertical-align: top;\n",
       "    }\n",
       "\n",
       "    .dataframe thead th {\n",
       "        text-align: right;\n",
       "    }\n",
       "</style>\n",
       "<table border=\"1\" class=\"dataframe\">\n",
       "  <thead>\n",
       "    <tr style=\"text-align: right;\">\n",
       "      <th></th>\n",
       "      <th>person</th>\n",
       "      <th>name</th>\n",
       "      <th>state</th>\n",
       "      <th>headquarters</th>\n",
       "      <th>source</th>\n",
       "      <th>industry</th>\n",
       "      <th>image_uri</th>\n",
       "      <th>age</th>\n",
       "      <th>gender</th>\n",
       "      <th>last_name</th>\n",
       "      <th>...</th>\n",
       "      <th>birth_1</th>\n",
       "      <th>birth_2</th>\n",
       "      <th>birth_3</th>\n",
       "      <th>sex</th>\n",
       "      <th>permanent_country</th>\n",
       "      <th>company</th>\n",
       "      <th>birth_comb</th>\n",
       "      <th>countries</th>\n",
       "      <th>names</th>\n",
       "      <th>geo</th>\n",
       "    </tr>\n",
       "  </thead>\n",
       "  <tbody>\n",
       "    <tr>\n",
       "      <th>2168</th>\n",
       "      <td>jeff_bezos</td>\n",
       "      <td>Jeff Bezos</td>\n",
       "      <td>Washington</td>\n",
       "      <td>WA</td>\n",
       "      <td>Amazon; Amazon.com</td>\n",
       "      <td>Technology;E-Commerce;Online Retail</td>\n",
       "      <td>jeff-bezos</td>\n",
       "      <td>58.0</td>\n",
       "      <td>M</td>\n",
       "      <td>Bezos</td>\n",
       "      <td>...</td>\n",
       "      <td>1964.0</td>\n",
       "      <td>1964</td>\n",
       "      <td>1964</td>\n",
       "      <td>Male</td>\n",
       "      <td>United States-Washington State-Seattle</td>\n",
       "      <td>Amazon</td>\n",
       "      <td>1964.0</td>\n",
       "      <td>usa</td>\n",
       "      <td>Jeff Bezos</td>\n",
       "      <td>usa</td>\n",
       "    </tr>\n",
       "  </tbody>\n",
       "</table>\n",
       "<p>1 rows × 21 columns</p>\n",
       "</div>"
      ],
      "text/plain": [
       "          person        name       state headquarters              source  \\\n",
       "2168  jeff_bezos  Jeff Bezos  Washington           WA  Amazon; Amazon.com   \n",
       "\n",
       "                                 industry   image_uri   age gender last_name  \\\n",
       "2168  Technology;E-Commerce;Online Retail  jeff-bezos  58.0      M     Bezos   \n",
       "\n",
       "      ... birth_1 birth_2 birth_3   sex  \\\n",
       "2168  ...  1964.0    1964    1964  Male   \n",
       "\n",
       "                           permanent_country company birth_comb  countries  \\\n",
       "2168  United States-Washington State-Seattle  Amazon     1964.0        usa   \n",
       "\n",
       "           names  geo  \n",
       "2168  Jeff Bezos  usa  \n",
       "\n",
       "[1 rows x 21 columns]"
      ]
     },
     "execution_count": 33,
     "metadata": {},
     "output_type": "execute_result"
    }
   ],
   "source": [
    "ppl[ppl['person'].str.contains('bezos')]"
   ]
  },
  {
   "cell_type": "code",
   "execution_count": 33,
   "id": "fd4f5829",
   "metadata": {
    "collapsed": false
   },
   "outputs": [],
   "source": []
  },
  {
   "cell_type": "code",
   "execution_count": 34,
   "id": "2c596ae0",
   "metadata": {
    "collapsed": false
   },
   "outputs": [
    {
     "data": {
      "text/plain": [
       "time\n",
       "2002     334\n",
       "2003     334\n",
       "2004     434\n",
       "2005     530\n",
       "2006     626\n",
       "2007     759\n",
       "2008     907\n",
       "2009     736\n",
       "2010    1008\n",
       "2011    1204\n",
       "2012    1225\n",
       "2013    1429\n",
       "2014    1650\n",
       "2015    1834\n",
       "2016    1820\n",
       "2017    2273\n",
       "2018    2608\n",
       "2019    2759\n",
       "2020    2768\n",
       "2021    3559\n",
       "2022    3665\n",
       "Name: person, dtype: int64"
      ]
     },
     "execution_count": 34,
     "metadata": {},
     "output_type": "execute_result"
    }
   ],
   "source": [
    "res.groupby('time').sum()"
   ]
  },
  {
   "cell_type": "code",
   "execution_count": 35,
   "id": "05c47e1a",
   "metadata": {
    "collapsed": false
   },
   "outputs": [
    {
     "data": {
      "text/plain": [
       "income_group\n",
       "60    1\n",
       "Name: person, dtype: int64"
      ]
     },
     "execution_count": 35,
     "metadata": {},
     "output_type": "execute_result"
    }
   ],
   "source": [
    "res.loc['ago', 2013, :]"
   ]
  },
  {
   "cell_type": "code",
   "execution_count": 35,
   "id": "6073a29b",
   "metadata": {
    "collapsed": false
   },
   "outputs": [],
   "source": []
  },
  {
   "cell_type": "code",
   "execution_count": 36,
   "id": "b795830c",
   "metadata": {
    "collapsed": false
   },
   "outputs": [
    {
     "data": {
      "text/plain": [
       "income_group\n",
       "57     25\n",
       "58    118\n",
       "59    117\n",
       "60     95\n",
       "61    108\n",
       "62     97\n",
       "63     83\n",
       "64     66\n",
       "65     35\n",
       "66     22\n",
       "67     10\n",
       "68     10\n",
       "69      4\n",
       "70      4\n",
       "71      2\n",
       "72      7\n",
       "73      1\n",
       "74      5\n",
       "75      1\n",
       "76      1\n",
       "77      1\n",
       "Name: person, dtype: int64"
      ]
     },
     "execution_count": 36,
     "metadata": {},
     "output_type": "execute_result"
    }
   ],
   "source": [
    "res.loc['usa', 2022]"
   ]
  },
  {
   "cell_type": "code",
   "execution_count": 37,
   "id": "125b6bbe",
   "metadata": {
    "collapsed": false
   },
   "outputs": [],
   "source": [
    "res.name = 'population'"
   ]
  },
  {
   "cell_type": "code",
   "execution_count": 38,
   "id": "1697feaf",
   "metadata": {
    "collapsed": false
   },
   "outputs": [],
   "source": [
    "res.to_csv('../../ddf--datapoints--population--by--geo--time--income_group.csv')"
   ]
  },
  {
   "cell_type": "code",
   "execution_count": null,
   "id": "dfef1558",
   "metadata": {
    "collapsed": false
   },
   "outputs": [],
   "source": []
  },
  {
   "cell_type": "code",
   "execution_count": null,
   "id": "709ff2a8",
   "metadata": {
    "collapsed": false
   },
   "outputs": [],
   "source": []
  },
  {
   "cell_type": "code",
   "execution_count": null,
   "id": "d4b241df",
   "metadata": {
    "collapsed": false
   },
   "outputs": [],
   "source": []
  },
  {
   "cell_type": "code",
   "execution_count": null,
   "id": "50b9e3d8",
   "metadata": {
    "collapsed": false
   },
   "outputs": [],
   "source": []
  },
  {
   "cell_type": "code",
   "execution_count": null,
   "id": "b42c3f4e",
   "metadata": {
    "collapsed": false
   },
   "outputs": [],
   "source": []
  },
  {
   "cell_type": "code",
   "execution_count": null,
   "id": "9ea3d9f0",
   "metadata": {
    "collapsed": false
   },
   "outputs": [],
   "source": []
  },
  {
   "cell_type": "code",
   "execution_count": null,
   "id": "a37ef243",
   "metadata": {
    "collapsed": false
   },
   "outputs": [],
   "source": []
  },
  {
   "cell_type": "code",
   "execution_count": null,
   "id": "c354fe94",
   "metadata": {
    "collapsed": false
   },
   "outputs": [],
   "source": [
    "# we are going to use new method. Ignore below methods"
   ]
  },
  {
   "cell_type": "code",
   "execution_count": null,
   "id": "59204b5e",
   "metadata": {
    "collapsed": false
   },
   "outputs": [],
   "source": []
  },
  {
   "cell_type": "code",
   "execution_count": null,
   "id": "2469ea66",
   "metadata": {
    "collapsed": false
   },
   "outputs": [],
   "source": [
    "# now get estimation for past and future "
   ]
  },
  {
   "cell_type": "code",
   "execution_count": null,
   "id": "74b381a9",
   "metadata": {
    "collapsed": false
   },
   "outputs": [],
   "source": [
    "def get_model(X, Y):\n",
    "    X = sm.add_constant(X)\n",
    "    return sm.OLS(Y, X).fit()\n",
    "\n",
    "def get_predict(model, X):\n",
    "    a, b = model.params\n",
    "    Yp = np.array([b * x + a for x in X])\n",
    "    Yp[Yp < 0] = 0\n",
    "    return Yp"
   ]
  },
  {
   "cell_type": "code",
   "execution_count": null,
   "id": "0e18cff7",
   "metadata": {
    "collapsed": false
   },
   "outputs": [],
   "source": []
  },
  {
   "cell_type": "code",
   "execution_count": null,
   "id": "ea88ca93",
   "metadata": {
    "collapsed": false
   },
   "outputs": [],
   "source": [
    "res2 = res.reset_index()"
   ]
  },
  {
   "cell_type": "code",
   "execution_count": null,
   "id": "634ee9a2",
   "metadata": {
    "collapsed": false
   },
   "outputs": [],
   "source": [
    "g = res2[(res2['income_group'] == 71) & (res2['geo'] == 'chn')].set_index('time')['person'].copy()"
   ]
  },
  {
   "cell_type": "code",
   "execution_count": null,
   "id": "6cea22fa",
   "metadata": {
    "collapsed": false
   },
   "outputs": [],
   "source": [
    "g"
   ]
  },
  {
   "cell_type": "code",
   "execution_count": null,
   "id": "5b7bb88d",
   "metadata": {
    "collapsed": false
   },
   "outputs": [],
   "source": [
    "g = g.reindex(pd.RangeIndex(1998, 2022))"
   ]
  },
  {
   "cell_type": "code",
   "execution_count": null,
   "id": "c042ebb3",
   "metadata": {
    "collapsed": false
   },
   "outputs": [],
   "source": [
    "# g.plot()\n",
    "X = g.index.values\n",
    "Y = g.values\n",
    "yp = get_predict(get_model(X, Y), X)\n",
    "g2 = g.fillna(pd.Series(yp, index=g.index))"
   ]
  },
  {
   "cell_type": "code",
   "execution_count": null,
   "id": "ee307b7e",
   "metadata": {
    "collapsed": false
   },
   "outputs": [],
   "source": [
    "g2.plot()"
   ]
  },
  {
   "cell_type": "code",
   "execution_count": null,
   "id": "3e29abde",
   "metadata": {
    "collapsed": false
   },
   "outputs": [],
   "source": [
    "g2"
   ]
  },
  {
   "cell_type": "code",
   "execution_count": null,
   "id": "cd27477b",
   "metadata": {
    "collapsed": false
   },
   "outputs": [],
   "source": []
  },
  {
   "cell_type": "code",
   "execution_count": null,
   "id": "23631260",
   "metadata": {
    "collapsed": false
   },
   "outputs": [],
   "source": [
    "res2.time.unique()"
   ]
  },
  {
   "cell_type": "code",
   "execution_count": null,
   "id": "2a23f9c7",
   "metadata": {
    "collapsed": false
   },
   "outputs": [],
   "source": [
    "def complete_time_series(ser):\n",
    "    # print(ser)\n",
    "    if ser.shape[0] < 2:\n",
    "        print(\"not enough data point\")\n",
    "        return np.round(ser)\n",
    "    xmax = ser.index.max()\n",
    "    xmin = ser.index.min()\n",
    "    ser = ser.reindex(pd.RangeIndex(xmin, xmax+1))\n",
    "    #print(ser)\n",
    "    X = ser.index.values\n",
    "    Y = ser.fillna(0).values\n",
    "    xp = np.array(range(xmin-50, xmax+50))\n",
    "    yp = get_predict(get_model(X, Y), xp)\n",
    "    \n",
    "    res = pd.Series(yp, index=xp)\n",
    "    res.update(ser)\n",
    "    res.index.name = 'time'\n",
    "    res.name = 'person'\n",
    "    res[res < 0] = 0\n",
    "    return np.round(res)"
   ]
  },
  {
   "cell_type": "code",
   "execution_count": null,
   "id": "4065a1a7",
   "metadata": {
    "collapsed": false
   },
   "outputs": [],
   "source": [
    "res = complete_time_series(res2[res2['income_group'] == 76].set_index('time')['person'])"
   ]
  },
  {
   "cell_type": "code",
   "execution_count": null,
   "id": "dc884f91",
   "metadata": {
    "collapsed": false
   },
   "outputs": [],
   "source": [
    "res.loc[2000:2010]"
   ]
  },
  {
   "cell_type": "code",
   "execution_count": null,
   "id": "270702f4",
   "metadata": {
    "collapsed": false
   },
   "outputs": [],
   "source": [
    "ser = res2[(res2['income_group'] == 70) & (res2['geo'] == 'usa')].set_index('time')['person']\n",
    "\n",
    "complete_time_series(ser).plot()"
   ]
  },
  {
   "cell_type": "code",
   "execution_count": null,
   "id": "e28923c6",
   "metadata": {
    "collapsed": false
   },
   "outputs": [],
   "source": [
    "usadf = res2[res2['geo'] == 'usa']"
   ]
  },
  {
   "cell_type": "code",
   "execution_count": null,
   "id": "dabf9415",
   "metadata": {
    "collapsed": false
   },
   "outputs": [],
   "source": [
    "gs = usadf.groupby('income_group')\n",
    "\n",
    "def run(df):\n",
    "    # print(g)\n",
    "    # print(df)\n",
    "    return complete_time_series(df[['time', 'person']].set_index('time')['person']).reset_index()\n",
    "    # res = res.assign(income_group=g).set_index('income_group', append=True)\n",
    "    # return res\n",
    "\n",
    "# res = gs.apply(run)"
   ]
  },
  {
   "cell_type": "code",
   "execution_count": null,
   "id": "8a0d21da",
   "metadata": {
    "collapsed": false
   },
   "outputs": [],
   "source": [
    "def run_geo(df):\n",
    "    # print(df.head(1))\n",
    "    return  df.groupby('income_group').apply(run).droplevel(1)\n",
    "    # res.index.names = \n",
    "\n",
    "res = dict([(g, run_geo(df)) for g, df in res2.groupby('geo')])"
   ]
  },
  {
   "cell_type": "code",
   "execution_count": null,
   "id": "a7b71f21",
   "metadata": {
    "collapsed": false
   },
   "outputs": [],
   "source": [
    "res_ = []\n",
    "for k, v in res.items():\n",
    "    v_ = v.copy()\n",
    "    v_['geo'] = k\n",
    "    res_.append(v_)"
   ]
  },
  {
   "cell_type": "code",
   "execution_count": null,
   "id": "69ca18b2",
   "metadata": {
    "collapsed": false
   },
   "outputs": [],
   "source": [
    "res_ = pd.concat(res_)"
   ]
  },
  {
   "cell_type": "code",
   "execution_count": null,
   "id": "3c2a74a0",
   "metadata": {
    "collapsed": false
   },
   "outputs": [],
   "source": [
    "res_ = res_.set_index(['geo', 'time'], append=True)"
   ]
  },
  {
   "cell_type": "code",
   "execution_count": null,
   "id": "d40e4c8c",
   "metadata": {
    "collapsed": false
   },
   "outputs": [],
   "source": [
    "res_ = res_.reorder_levels([1, 2, 0])"
   ]
  },
  {
   "cell_type": "code",
   "execution_count": null,
   "id": "b60156d9",
   "metadata": {
    "collapsed": false
   },
   "outputs": [],
   "source": [
    "res_ = res_.sort_index()"
   ]
  },
  {
   "cell_type": "code",
   "execution_count": null,
   "id": "a5f77faa",
   "metadata": {
    "collapsed": false
   },
   "outputs": [],
   "source": [
    "res_.loc['can']"
   ]
  },
  {
   "cell_type": "code",
   "execution_count": null,
   "id": "6897dc3e",
   "metadata": {
    "collapsed": false
   },
   "outputs": [],
   "source": [
    "res_.loc['can', 2018]"
   ]
  },
  {
   "cell_type": "code",
   "execution_count": null,
   "id": "e4fdb70d",
   "metadata": {
    "collapsed": false
   },
   "outputs": [],
   "source": [
    "res_.columns = ['population']"
   ]
  },
  {
   "cell_type": "code",
   "execution_count": null,
   "id": "0a1142d8",
   "metadata": {
    "collapsed": false
   },
   "outputs": [],
   "source": [
    "res_.to_csv('../../ddf--datapoints--population--by--geo--time--income_group.csv')"
   ]
  },
  {
   "cell_type": "code",
   "execution_count": null,
   "id": "84175a49",
   "metadata": {
    "collapsed": false
   },
   "outputs": [],
   "source": [
    "res_.loc['can']"
   ]
  },
  {
   "cell_type": "code",
   "execution_count": null,
   "id": "3b443c25",
   "metadata": {
    "collapsed": false
   },
   "outputs": [],
   "source": []
  },
  {
   "cell_type": "code",
   "execution_count": null,
   "id": "4565a2a8",
   "metadata": {
    "collapsed": false
   },
   "outputs": [],
   "source": []
  },
  {
   "cell_type": "code",
   "execution_count": null,
   "id": "d9108c77",
   "metadata": {
    "collapsed": false
   },
   "outputs": [],
   "source": []
  },
  {
   "cell_type": "code",
   "execution_count": null,
   "id": "f75c967c",
   "metadata": {
    "collapsed": false
   },
   "outputs": [],
   "source": []
  },
  {
   "cell_type": "code",
   "execution_count": null,
   "id": "9c4c169c",
   "metadata": {
    "collapsed": false
   },
   "outputs": [],
   "source": []
  },
  {
   "cell_type": "code",
   "execution_count": null,
   "id": "2f49d0a4",
   "metadata": {
    "collapsed": false
   },
   "outputs": [],
   "source": [
    "res_.loc['can', 2018].plot()"
   ]
  },
  {
   "cell_type": "code",
   "execution_count": null,
   "id": "f84e8c90",
   "metadata": {
    "collapsed": false
   },
   "outputs": [],
   "source": [
    "res_.loc['usa', 2020].plot()"
   ]
  },
  {
   "cell_type": "code",
   "execution_count": null,
   "id": "d65f262c",
   "metadata": {
    "collapsed": false
   },
   "outputs": [],
   "source": [
    "im = pd.read_csv('../../../ddf--worldbank--povcalnet/etl/datapoints/ddf--datapoints--population--by--geo--time--income_bracket_50.csv')\n",
    "# im = pd.read_csv('../../../ddf--worldbank--povcalnet/income_mountain/ddf--datapoints--population--by--geo--time--income_bracket_50.csv')"
   ]
  },
  {
   "cell_type": "code",
   "execution_count": null,
   "id": "9286b8b8",
   "metadata": {
    "collapsed": false
   },
   "outputs": [],
   "source": [
    "im = im.set_index(['geo', 'time', 'income_bracket_50'])"
   ]
  },
  {
   "cell_type": "code",
   "execution_count": null,
   "id": "092f9a23",
   "metadata": {
    "collapsed": false
   },
   "outputs": [],
   "source": [
    "wb = im.loc['usa', 2020].copy()"
   ]
  },
  {
   "cell_type": "code",
   "execution_count": null,
   "id": "076ce30a",
   "metadata": {
    "collapsed": false
   },
   "outputs": [],
   "source": [
    "fb = res_.loc['usa', 2020].copy()"
   ]
  },
  {
   "cell_type": "code",
   "execution_count": null,
   "id": "8b6078fa",
   "metadata": {
    "collapsed": false
   },
   "outputs": [],
   "source": [
    "fb"
   ]
  },
  {
   "cell_type": "code",
   "execution_count": null,
   "id": "c0778f9d",
   "metadata": {
    "collapsed": false
   },
   "outputs": [],
   "source": [
    "wb.index.name = 'income_group'\n",
    "fb.index.name = 'income_group'\n",
    "\n",
    "com = pd.concat([wb, fb])"
   ]
  },
  {
   "cell_type": "code",
   "execution_count": null,
   "id": "408ba76a",
   "metadata": {
    "collapsed": false
   },
   "outputs": [],
   "source": [
    "com = com.reindex(range(0, 79)).interpolate('slinear')"
   ]
  },
  {
   "cell_type": "code",
   "execution_count": null,
   "id": "ab604aa0",
   "metadata": {
    "collapsed": false
   },
   "outputs": [],
   "source": [
    "plt.rcParams['figure.figsize'] = [10, 8]"
   ]
  },
  {
   "cell_type": "code",
   "execution_count": null,
   "id": "80887457",
   "metadata": {
    "collapsed": false
   },
   "outputs": [],
   "source": [
    "wb[46:]['population'].plot(color='r')\n",
    "fb['population'].plot(color='g')\n",
    "\n",
    "com[49:58]['population'].astype(int).plot(color='b')"
   ]
  },
  {
   "cell_type": "code",
   "execution_count": null,
   "id": "49ceb64d",
   "metadata": {
    "collapsed": false
   },
   "outputs": [],
   "source": [
    "res_.index.get_level_values('geo').unique()"
   ]
  },
  {
   "cell_type": "code",
   "execution_count": null,
   "id": "99d6e44f",
   "metadata": {
    "collapsed": false
   },
   "outputs": [],
   "source": []
  },
  {
   "cell_type": "code",
   "execution_count": null,
   "id": "8432e2ba",
   "metadata": {
    "collapsed": false
   },
   "outputs": [],
   "source": [
    "import sys\n",
    "sys.path.insert(0, '../scripts')"
   ]
  },
  {
   "cell_type": "markdown",
   "id": "83167ffc",
   "metadata": {
    "collapsed": false
   },
   "source": []
  },
  {
   "cell_type": "code",
   "execution_count": null,
   "id": "1e17ef65",
   "metadata": {
    "collapsed": false
   },
   "outputs": [],
   "source": [
    "%load_ext autoreload"
   ]
  },
  {
   "cell_type": "code",
   "execution_count": null,
   "id": "ef879ca5",
   "metadata": {
    "collapsed": false
   },
   "outputs": [],
   "source": [
    "%autoreload 1"
   ]
  },
  {
   "cell_type": "code",
   "execution_count": null,
   "id": "d9800fa1",
   "metadata": {
    "collapsed": false
   },
   "outputs": [],
   "source": [
    "%aimport smoothlib"
   ]
  },
  {
   "cell_type": "code",
   "execution_count": null,
   "id": "ffebddba",
   "metadata": {
    "collapsed": false
   },
   "outputs": [],
   "source": [
    "import smoothlib"
   ]
  },
  {
   "cell_type": "code",
   "execution_count": null,
   "id": "19c95958",
   "metadata": {
    "collapsed": false
   },
   "outputs": [],
   "source": [
    "from scipy.signal import savgol_filter\n",
    "import statsmodels.api as sm"
   ]
  },
  {
   "cell_type": "code",
   "execution_count": null,
   "id": "c753c73d",
   "metadata": {
    "collapsed": false
   },
   "outputs": [],
   "source": [
    "# we don't want to underestimate the millionaires! so, overestimate it!"
   ]
  },
  {
   "cell_type": "code",
   "execution_count": null,
   "id": "04a30527",
   "metadata": {
    "collapsed": false
   },
   "outputs": [],
   "source": [
    "!pwd"
   ]
  },
  {
   "cell_type": "code",
   "execution_count": null,
   "id": "e0d06881",
   "metadata": {
    "collapsed": false
   },
   "outputs": [],
   "source": []
  },
  {
   "cell_type": "code",
   "execution_count": null,
   "id": "23cac813",
   "metadata": {
    "collapsed": false
   },
   "outputs": [],
   "source": []
  },
  {
   "cell_type": "code",
   "execution_count": null,
   "id": "e997dd5e",
   "metadata": {
    "collapsed": false
   },
   "outputs": [],
   "source": [
    "def create_shape(wb, fb):\n",
    "    # remove some wb's tailing datapoint which are lower than\n",
    "    # the maximum of fb's datapoint\n",
    "    # and also the head of fb's datapoints which are lower than the maximum\n",
    "    fb_input = fb['population'].copy()\n",
    "    wb_input = wb['population'].copy()\n",
    "    fb_max = fb_input.max()\n",
    "    for i, v in wb_input.iloc[::-1].iteritems():\n",
    "        if v > fb_max:\n",
    "            break        \n",
    "    wb_input = wb_input.loc[:i]\n",
    "    idmax = fb_input.idxmax()       \n",
    "    fb_input = fb_input.loc[idmax:]\n",
    "    fb_idx_max = fb.index.max()\n",
    "    \n",
    "    # inteoplate values. pchip is good at creating curves\n",
    "    com = pd.concat([wb_input, fb_input])\n",
    "    com = com.reindex(range(0, fb_idx_max+1))\n",
    "    com = com.interpolate('pchip')\n",
    "    \n",
    "    # smoothing\n",
    "    begin_idx = i - 5\n",
    "    ser = com[begin_idx:].copy()\n",
    "    ser_max = ser.max()\n",
    "    ser_input = ser / ser_max\n",
    "    # ser.loc[ser == 0] = 1\n",
    "    # ser_input = np.log(ser)\n",
    "    # print(ser)\n",
    "    # print(ser_input)\n",
    "    # MAYBE: use log version. But it's not working on first try.\n",
    "    \n",
    "    ser_new = smoothlib.run_smooth(ser_input, 8, 0)\n",
    "    ser_new = smoothlib.run_smooth(ser_new, 5, 0)\n",
    "    ser_new = smoothlib.run_smooth(ser_new, 3, 0)\n",
    "    # ser_new = smoothlib.run_smooth(ser_new, 3, 0)\n",
    "    ser_new = np.round(ser_new * ser_max)\n",
    "    # print(ser_new)\n",
    "    # ser_new = np.round(np.exp(ser_new))\n",
    "    \n",
    "#     print(begin_idx)\n",
    "#     print(wb_input.loc[:begin_idx].tail())\n",
    "#     print(ser_new.head())\n",
    "    res = pd.concat([wb_input.loc[:begin_idx-1], ser_new])\n",
    "    return res"
   ]
  },
  {
   "cell_type": "code",
   "execution_count": null,
   "id": "fd7ae215",
   "metadata": {
    "collapsed": false
   },
   "outputs": [],
   "source": []
  },
  {
   "cell_type": "code",
   "execution_count": null,
   "id": "141a5fda",
   "metadata": {
    "collapsed": false
   },
   "outputs": [],
   "source": [
    "geo, time = ['gbr', 2020]\n",
    "fb = res_.loc[geo, time].copy()\n",
    "wb = im.loc[geo, time].copy()"
   ]
  },
  {
   "cell_type": "code",
   "execution_count": null,
   "id": "d0305a0c",
   "metadata": {
    "collapsed": false
   },
   "outputs": [],
   "source": [
    "wb.index.name = 'income_group'\n",
    "fb.index.name = 'income_group'"
   ]
  },
  {
   "cell_type": "code",
   "execution_count": null,
   "id": "a6e108df",
   "metadata": {
    "collapsed": false
   },
   "outputs": [],
   "source": [
    "res_shape = create_shape(wb, fb)"
   ]
  },
  {
   "cell_type": "code",
   "execution_count": null,
   "id": "5cb6ede8",
   "metadata": {
    "collapsed": false
   },
   "outputs": [],
   "source": [
    "wb[45:]['population'].plot(color='r')\n",
    "fb['population'].plot(color='g')\n",
    "\n",
    "# com[49:58]['population'].astype(int).plot(color='b')\n",
    "res_shape.loc[45:].plot()"
   ]
  },
  {
   "cell_type": "code",
   "execution_count": null,
   "id": "11b11ed2",
   "metadata": {
    "collapsed": false
   },
   "outputs": [],
   "source": [
    "k = 46\n",
    "wb['population'].loc[k:].plot()\n",
    "res_shape.loc[k:].plot()"
   ]
  },
  {
   "cell_type": "code",
   "execution_count": null,
   "id": "11e12a80",
   "metadata": {
    "collapsed": false
   },
   "outputs": [],
   "source": [
    "res_shape.loc[k:]"
   ]
  },
  {
   "cell_type": "code",
   "execution_count": null,
   "id": "d59f5e1a",
   "metadata": {
    "collapsed": false
   },
   "outputs": [],
   "source": [
    "im.index.names = ['geo', 'year', 'income_group']"
   ]
  },
  {
   "cell_type": "code",
   "execution_count": null,
   "id": "b10b5a2a",
   "metadata": {
    "collapsed": false
   },
   "outputs": [],
   "source": [
    "im"
   ]
  },
  {
   "cell_type": "code",
   "execution_count": null,
   "id": "796c6777",
   "metadata": {
    "collapsed": false
   },
   "outputs": [],
   "source": [
    "res_"
   ]
  },
  {
   "cell_type": "code",
   "execution_count": null,
   "id": "a3f167f2",
   "metadata": {
    "collapsed": false
   },
   "outputs": [],
   "source": [
    "im2 = im.reset_index(level=[2])\n",
    "res_2 = res_.reset_index(level=[2])"
   ]
  },
  {
   "cell_type": "code",
   "execution_count": null,
   "id": "674095ce",
   "metadata": {
    "collapsed": false
   },
   "outputs": [],
   "source": [
    "both_idx = im2.index.intersection(res_2.index)"
   ]
  },
  {
   "cell_type": "code",
   "execution_count": null,
   "id": "dd7d9d1a",
   "metadata": {
    "collapsed": false
   },
   "outputs": [],
   "source": [
    "both_idx"
   ]
  },
  {
   "cell_type": "code",
   "execution_count": null,
   "id": "8d748942",
   "metadata": {
    "collapsed": false
   },
   "outputs": [],
   "source": [
    "both_idx[0]"
   ]
  },
  {
   "cell_type": "code",
   "execution_count": null,
   "id": "cb1b81bb",
   "metadata": {
    "collapsed": false
   },
   "outputs": [],
   "source": [
    "both_idx.unique()"
   ]
  },
  {
   "cell_type": "code",
   "execution_count": null,
   "id": "f994bee4",
   "metadata": {
    "collapsed": false
   },
   "outputs": [],
   "source": []
  },
  {
   "cell_type": "code",
   "execution_count": null,
   "id": "3761a71d",
   "metadata": {
    "collapsed": false
   },
   "outputs": [],
   "source": []
  },
  {
   "cell_type": "code",
   "execution_count": null,
   "id": "6959d127",
   "metadata": {
    "collapsed": false
   },
   "outputs": [],
   "source": [
    "# do create shape for all geo time\n",
    "\n",
    "res = []\n",
    "\n",
    "for idx in both_idx:\n",
    "    geo, time = idx\n",
    "    wb = im.loc[geo, time, :].copy()\n",
    "    fb = res_.loc[geo, time, :].copy()\n",
    "    res_shape = create_shape(wb, fb)\n",
    "    res_shape.name = 'population'\n",
    "    res_shape = res_shape.to_frame()\n",
    "    res_shape['geo'] = geo\n",
    "    res_shape['time'] = time\n",
    "    res_shape = res_shape.set_index(['geo', 'time'], append=True)\n",
    "    res.append(res_shape)"
   ]
  },
  {
   "cell_type": "code",
   "execution_count": null,
   "id": "82b4b1f1",
   "metadata": {
    "collapsed": false
   },
   "outputs": [],
   "source": [
    "res = pd.concat(res)"
   ]
  },
  {
   "cell_type": "code",
   "execution_count": null,
   "id": "00dbad4b",
   "metadata": {
    "collapsed": false
   },
   "outputs": [],
   "source": [
    "res = res.reorder_levels([1, 2, 0])"
   ]
  },
  {
   "cell_type": "code",
   "execution_count": null,
   "id": "f9115551",
   "metadata": {
    "collapsed": false
   },
   "outputs": [],
   "source": [
    "res"
   ]
  },
  {
   "cell_type": "code",
   "execution_count": null,
   "id": "6b9338c8",
   "metadata": {
    "collapsed": false
   },
   "outputs": [],
   "source": [
    "wb_other = im2.loc[~im2.index.isin(both_idx)].set_index('income_group', append=True)"
   ]
  },
  {
   "cell_type": "code",
   "execution_count": null,
   "id": "05337b91",
   "metadata": {
    "collapsed": false
   },
   "outputs": [],
   "source": [
    "wb_other.index.names = ['geo', 'time', 'income_group']"
   ]
  },
  {
   "cell_type": "code",
   "execution_count": null,
   "id": "152a6d08",
   "metadata": {
    "collapsed": false
   },
   "outputs": [],
   "source": [
    "res_all = pd.concat([wb_other, res])"
   ]
  },
  {
   "cell_type": "code",
   "execution_count": null,
   "id": "bfdf5d4c",
   "metadata": {
    "collapsed": false
   },
   "outputs": [],
   "source": [
    "res.index.intersection(wb_other.index)"
   ]
  },
  {
   "cell_type": "code",
   "execution_count": null,
   "id": "8fc694b8",
   "metadata": {
    "collapsed": false
   },
   "outputs": [],
   "source": [
    "res.index.names"
   ]
  },
  {
   "cell_type": "code",
   "execution_count": null,
   "id": "2927b8bc",
   "metadata": {
    "collapsed": false
   },
   "outputs": [],
   "source": [
    "wb_other.index.names"
   ]
  },
  {
   "cell_type": "code",
   "execution_count": null,
   "id": "287d44fd",
   "metadata": {
    "collapsed": false
   },
   "outputs": [],
   "source": [
    "res_all = res_all.sort_index()"
   ]
  },
  {
   "cell_type": "code",
   "execution_count": null,
   "id": "fb22ff33",
   "metadata": {
    "collapsed": false
   },
   "outputs": [],
   "source": [
    "res_all['population'] = res_all['population'].astype(int)"
   ]
  },
  {
   "cell_type": "code",
   "execution_count": null,
   "id": "85452fe6",
   "metadata": {
    "collapsed": false
   },
   "outputs": [],
   "source": [
    "res_all"
   ]
  },
  {
   "cell_type": "code",
   "execution_count": null,
   "id": "2e8ff792",
   "metadata": {
    "collapsed": false
   },
   "outputs": [],
   "source": [
    "res_all.loc['usa', 2020, 46:]"
   ]
  },
  {
   "cell_type": "code",
   "execution_count": null,
   "id": "e870d764",
   "metadata": {
    "collapsed": false
   },
   "outputs": [],
   "source": [
    "res_all.loc['usa', 2020, 50:]['population'].plot(color='r')\n",
    "res_all.loc['usa', 2050, 50:]['population'].plot(color='b')  # room for imporvment?"
   ]
  },
  {
   "cell_type": "code",
   "execution_count": null,
   "id": "8d9a6d51",
   "metadata": {
    "collapsed": false
   },
   "outputs": [],
   "source": [
    "res_all.to_csv('../../ddf--datapoints--population_extrapolated--by--geo--time--income_group.csv')"
   ]
  },
  {
   "cell_type": "code",
   "execution_count": null,
   "id": "1d53f5f0",
   "metadata": {
    "collapsed": false
   },
   "outputs": [],
   "source": []
  },
  {
   "cell_type": "code",
   "execution_count": null,
   "id": "5c886c41",
   "metadata": {
    "collapsed": false
   },
   "outputs": [],
   "source": []
  },
  {
   "cell_type": "code",
   "execution_count": null,
   "id": "01c2ce7e",
   "metadata": {
    "collapsed": false
   },
   "outputs": [],
   "source": [
    "# create income mountain"
   ]
  },
  {
   "cell_type": "code",
   "execution_count": null,
   "id": "797f99c2",
   "metadata": {
    "collapsed": false
   },
   "outputs": [],
   "source": [
    "im_all = res_all.unstack()"
   ]
  },
  {
   "cell_type": "code",
   "execution_count": null,
   "id": "3a7a21f9",
   "metadata": {
    "collapsed": false
   },
   "outputs": [],
   "source": [
    "im_all = im_all.fillna(0)"
   ]
  },
  {
   "cell_type": "code",
   "execution_count": null,
   "id": "1f6dd3a8",
   "metadata": {
    "collapsed": false
   },
   "outputs": [],
   "source": [
    "im_all"
   ]
  },
  {
   "cell_type": "code",
   "execution_count": null,
   "id": "06634b89",
   "metadata": {
    "collapsed": false
   },
   "outputs": [],
   "source": [
    "res = []\n",
    "\n",
    "for i, row in im_all.iterrows():\n",
    "    line = ','.join(row.loc['population'].astype(int).astype(str).values)\n",
    "    res.append(line)"
   ]
  },
  {
   "cell_type": "code",
   "execution_count": null,
   "id": "18fd12a4",
   "metadata": {
    "collapsed": false
   },
   "outputs": [],
   "source": [
    "res_lines = pd.Series(res, index=im_all.index)"
   ]
  },
  {
   "cell_type": "code",
   "execution_count": null,
   "id": "a7d71cec",
   "metadata": {
    "collapsed": false
   },
   "outputs": [],
   "source": [
    "res_lines.name = 'income_mountain_79bracket_shape_for_log'"
   ]
  },
  {
   "cell_type": "code",
   "execution_count": null,
   "id": "5f5338eb",
   "metadata": {
    "collapsed": false
   },
   "outputs": [],
   "source": [
    "res_lines.index.names = ['country', 'time']"
   ]
  },
  {
   "cell_type": "code",
   "execution_count": null,
   "id": "35411729",
   "metadata": {
    "collapsed": false
   },
   "outputs": [],
   "source": [
    "res_lines"
   ]
  },
  {
   "cell_type": "code",
   "execution_count": null,
   "id": "e03d0280",
   "metadata": {
    "collapsed": false
   },
   "outputs": [],
   "source": [
    "res_lines.to_csv('../../../ddf--worldbank--povcalnet/income_mountain/ddf--datapoints--income_mountain_79bracket_shape_for_log--by--country--time.csv')"
   ]
  },
  {
   "cell_type": "code",
   "execution_count": null,
   "id": "9bd03bfe",
   "metadata": {
    "collapsed": false
   },
   "outputs": [],
   "source": []
  },
  {
   "cell_type": "code",
   "execution_count": null,
   "id": "4d10d088",
   "metadata": {
    "collapsed": false
   },
   "outputs": [],
   "source": [
    "# DONE!"
   ]
  },
  {
   "cell_type": "code",
   "execution_count": null,
   "id": "49fb167f",
   "metadata": {
    "collapsed": false
   },
   "outputs": [],
   "source": []
  },
  {
   "cell_type": "code",
   "execution_count": null,
   "id": "b92ff75f",
   "metadata": {
    "collapsed": false
   },
   "outputs": [],
   "source": []
  },
  {
   "cell_type": "code",
   "execution_count": null,
   "id": "7bfc3e20",
   "metadata": {
    "collapsed": false
   },
   "outputs": [],
   "source": []
  },
  {
   "cell_type": "code",
   "execution_count": null,
   "id": "fa315e92",
   "metadata": {
    "collapsed": false
   },
   "outputs": [],
   "source": []
  },
  {
   "cell_type": "code",
   "execution_count": null,
   "id": "6bf89e31",
   "metadata": {
    "collapsed": false
   },
   "outputs": [],
   "source": []
  },
  {
   "cell_type": "code",
   "execution_count": null,
   "id": "8f0c6379",
   "metadata": {
    "collapsed": false
   },
   "outputs": [],
   "source": []
  },
  {
   "cell_type": "code",
   "execution_count": null,
   "id": "1e7a5186",
   "metadata": {
    "collapsed": false
   },
   "outputs": [],
   "source": []
  },
  {
   "cell_type": "code",
   "execution_count": null,
   "id": "db77eca8",
   "metadata": {
    "collapsed": false
   },
   "outputs": [],
   "source": [
    "fb_max = fb['population'].max()\n",
    "fb_max"
   ]
  },
  {
   "cell_type": "code",
   "execution_count": null,
   "id": "a27fb8ec",
   "metadata": {
    "collapsed": false
   },
   "outputs": [],
   "source": [
    "wb_input = wb['population'].copy()\n",
    "\n",
    "for i, v in wb_input.iloc[::-1].iteritems():\n",
    "    if v > fb_max:\n",
    "        break\n",
    "        \n",
    "wb_input = wb_input.loc[:i]"
   ]
  },
  {
   "cell_type": "code",
   "execution_count": null,
   "id": "1a3e00d3",
   "metadata": {
    "collapsed": false
   },
   "outputs": [],
   "source": [
    "fb_input = fb['population'].copy()\n",
    "idmax = fb_input.idxmax()\n",
    "        \n",
    "fb_input = fb_input.loc[idmax:]"
   ]
  },
  {
   "cell_type": "code",
   "execution_count": null,
   "id": "70d19952",
   "metadata": {
    "collapsed": false
   },
   "outputs": [],
   "source": [
    "fb_input"
   ]
  },
  {
   "cell_type": "code",
   "execution_count": null,
   "id": "c5f061c5",
   "metadata": {
    "collapsed": false
   },
   "outputs": [],
   "source": [
    "fb_idx_max = fb.index.max()"
   ]
  },
  {
   "cell_type": "code",
   "execution_count": null,
   "id": "74e74757",
   "metadata": {
    "collapsed": false
   },
   "outputs": [],
   "source": [
    "com = pd.concat([wb_input, fb_input])\n",
    "com = com.reindex(range(0, fb_idx_max+1))"
   ]
  },
  {
   "cell_type": "code",
   "execution_count": null,
   "id": "0364d836",
   "metadata": {
    "collapsed": false
   },
   "outputs": [],
   "source": [
    "com = com.interpolate('pchip')"
   ]
  },
  {
   "cell_type": "code",
   "execution_count": null,
   "id": "3a9070cb",
   "metadata": {
    "collapsed": false
   },
   "outputs": [],
   "source": [
    "# com[40:].plot()\n",
    "wb['population'][40:].plot()"
   ]
  },
  {
   "cell_type": "code",
   "execution_count": null,
   "id": "4314d4bc",
   "metadata": {
    "collapsed": false
   },
   "outputs": [],
   "source": [
    "ser_input"
   ]
  },
  {
   "cell_type": "code",
   "execution_count": null,
   "id": "f6731f2b",
   "metadata": {
    "collapsed": false
   },
   "outputs": [],
   "source": [
    "smoothlib.get_sample_at_point(42, ser_input, 1, 0, 2)"
   ]
  },
  {
   "cell_type": "code",
   "execution_count": null,
   "id": "2193e569",
   "metadata": {
    "collapsed": false
   },
   "outputs": [],
   "source": [
    "smoothlib.mval_at_point(46, ser)"
   ]
  },
  {
   "cell_type": "code",
   "execution_count": null,
   "id": "b2ecc61c",
   "metadata": {
    "collapsed": false
   },
   "outputs": [],
   "source": [
    "ser"
   ]
  },
  {
   "cell_type": "code",
   "execution_count": null,
   "id": "85080a6a",
   "metadata": {
    "collapsed": false
   },
   "outputs": [],
   "source": [
    "45.49 / 94520.000000"
   ]
  },
  {
   "cell_type": "code",
   "execution_count": null,
   "id": "ca5ae7c9",
   "metadata": {
    "collapsed": false
   },
   "outputs": [],
   "source": []
  },
  {
   "cell_type": "code",
   "execution_count": null,
   "id": "4047189b",
   "metadata": {
    "collapsed": false,
    "scrolled": true
   },
   "outputs": [],
   "source": [
    "ser = com[40:].copy()\n",
    "ser_max = ser.max()\n",
    "ser_input = ser / ser_max\n",
    "# lowess = sm.nonparametric.lowess(ser.values, ser.index.values, frac=0.22)\n",
    "# plt.plot(lowess[6:, 0],  lowess[6:, 1])\n",
    "ser_new = smoothlib.run_smooth(ser_input, 5, 0)\n",
    "# ser_new = smoothlib.run_smooth(ser_new, 5, 0)\n",
    "\n",
    "# print(ser_new)\n",
    "ser_new = ser_new * ser_max\n",
    "ser_new.index = ser_new.index + 40\n",
    "# ser_new.plot()\n",
    "# com[40:].plot()\n",
    "# fb_input.plot()\n",
    "# wb_input[46:].plot()"
   ]
  },
  {
   "cell_type": "code",
   "execution_count": null,
   "id": "3313f477",
   "metadata": {
    "collapsed": false
   },
   "outputs": [],
   "source": [
    "com[40:]"
   ]
  },
  {
   "cell_type": "code",
   "execution_count": null,
   "id": "d0f849c7",
   "metadata": {
    "collapsed": false
   },
   "outputs": [],
   "source": [
    "ser_new"
   ]
  },
  {
   "cell_type": "code",
   "execution_count": null,
   "id": "502fa42d",
   "metadata": {
    "collapsed": false
   },
   "outputs": [],
   "source": [
    "# print(ser_new)\n",
    "# ser_new = ser_new * ser_max\n",
    "# ser_new.index = ser_new.index + 40\n",
    "ser_new.loc[46:].plot()\n",
    "# wb_input.loc[46:].plot(color='r')\n",
    "# com[46:].plot()"
   ]
  },
  {
   "cell_type": "code",
   "execution_count": null,
   "id": "a25e92c7",
   "metadata": {
    "collapsed": false
   },
   "outputs": [],
   "source": [
    "(np.round(ser_new, 0) - com[40:]).sum()"
   ]
  },
  {
   "cell_type": "code",
   "execution_count": null,
   "id": "560d9e84",
   "metadata": {
    "collapsed": false
   },
   "outputs": [],
   "source": [
    "com[40:]"
   ]
  },
  {
   "cell_type": "code",
   "execution_count": null,
   "id": "4d31aa63",
   "metadata": {
    "collapsed": false
   },
   "outputs": [],
   "source": []
  },
  {
   "cell_type": "code",
   "execution_count": null,
   "id": "765eb6db",
   "metadata": {
    "collapsed": false
   },
   "outputs": [],
   "source": []
  },
  {
   "cell_type": "code",
   "execution_count": null,
   "id": "b338ffb0",
   "metadata": {
    "collapsed": false
   },
   "outputs": [],
   "source": [
    "ser.idxmax()"
   ]
  },
  {
   "cell_type": "code",
   "execution_count": null,
   "id": "5f155bbe",
   "metadata": {
    "collapsed": false
   },
   "outputs": [],
   "source": [
    "len(ser)"
   ]
  },
  {
   "cell_type": "code",
   "execution_count": null,
   "id": "dc77b449",
   "metadata": {
    "collapsed": false
   },
   "outputs": [],
   "source": []
  },
  {
   "cell_type": "code",
   "execution_count": null,
   "id": "bc2fd622",
   "metadata": {
    "collapsed": false
   },
   "outputs": [],
   "source": []
  },
  {
   "cell_type": "code",
   "execution_count": null,
   "id": "38d52346",
   "metadata": {
    "collapsed": false
   },
   "outputs": [],
   "source": []
  },
  {
   "cell_type": "code",
   "execution_count": null,
   "id": "e4c33f9e",
   "metadata": {
    "collapsed": false
   },
   "outputs": [],
   "source": [
    "wb['population'][46:].sum()"
   ]
  },
  {
   "cell_type": "code",
   "execution_count": null,
   "id": "bf7d30bd",
   "metadata": {
    "collapsed": false
   },
   "outputs": [],
   "source": [
    "com[46:].sum()"
   ]
  },
  {
   "cell_type": "code",
   "execution_count": null,
   "id": "1846e71b",
   "metadata": {
    "collapsed": false
   },
   "outputs": [],
   "source": [
    "lowess"
   ]
  },
  {
   "cell_type": "code",
   "execution_count": null,
   "id": "3714d92b",
   "metadata": {
    "collapsed": false
   },
   "outputs": [],
   "source": [
    "ser_new"
   ]
  },
  {
   "cell_type": "code",
   "execution_count": null,
   "id": "39e38dfc",
   "metadata": {
    "collapsed": false
   },
   "outputs": [],
   "source": []
  },
  {
   "cell_type": "code",
   "execution_count": null,
   "id": "51314892",
   "metadata": {
    "collapsed": false
   },
   "outputs": [],
   "source": [
    "# below are ways I have tried. not working..."
   ]
  },
  {
   "cell_type": "code",
   "execution_count": null,
   "id": "34167870",
   "metadata": {
    "collapsed": false
   },
   "outputs": [],
   "source": [
    "ser = com[40:]['population'].copy()"
   ]
  },
  {
   "cell_type": "code",
   "execution_count": null,
   "id": "97022eb1",
   "metadata": {
    "collapsed": false
   },
   "outputs": [],
   "source": [
    "lowess = sm.nonparametric.lowess(ser.values, ser.index.values, frac=0.22)"
   ]
  },
  {
   "cell_type": "code",
   "execution_count": null,
   "id": "302f9f56",
   "metadata": {
    "collapsed": false
   },
   "outputs": [],
   "source": [
    "plt.plot(lowess[6:, 0],  lowess[6:, 1])"
   ]
  },
  {
   "cell_type": "code",
   "execution_count": null,
   "id": "366bcd9f",
   "metadata": {
    "collapsed": false
   },
   "outputs": [],
   "source": []
  },
  {
   "cell_type": "code",
   "execution_count": null,
   "id": "fb6824af",
   "metadata": {
    "collapsed": false
   },
   "outputs": [],
   "source": []
  },
  {
   "cell_type": "code",
   "execution_count": null,
   "id": "8bfe64d6",
   "metadata": {
    "collapsed": false
   },
   "outputs": [],
   "source": [
    "ser = com['population'].copy()\n",
    "ser_max = ser.max()\n",
    "# ser = ser / ser_max\n",
    "ser_smooth = smoothlib.run_smooth(ser / ser_max, 3, 0)\n",
    "ser_smooth = smoothlib.run_smooth(ser_smooth, 3, 0)\n",
    "ser_smooth = smoothlib.run_smooth(ser_smooth, 3, 0)\n",
    "ser_smooth = ser_smooth * ser_max\n",
    "\n",
    "ser[46:].plot()\n",
    "ser_smooth[46:].plot()"
   ]
  },
  {
   "cell_type": "code",
   "execution_count": null,
   "id": "df915b64",
   "metadata": {
    "collapsed": false
   },
   "outputs": [],
   "source": [
    "ser.plot()\n",
    "ser_smooth.plot()"
   ]
  },
  {
   "cell_type": "code",
   "execution_count": null,
   "id": "6036614c",
   "metadata": {
    "collapsed": false
   },
   "outputs": [],
   "source": [
    "ser_smooth[48:].plot()"
   ]
  },
  {
   "cell_type": "code",
   "execution_count": null,
   "id": "b33438f3",
   "metadata": {
    "collapsed": false
   },
   "outputs": [],
   "source": [
    "ser.rolling(8).mean().loc[46:].shift(-8)"
   ]
  },
  {
   "cell_type": "code",
   "execution_count": null,
   "id": "2bf3b440",
   "metadata": {
    "collapsed": false
   },
   "outputs": [],
   "source": []
  },
  {
   "cell_type": "code",
   "execution_count": null,
   "id": "76ad96ba",
   "metadata": {
    "collapsed": false
   },
   "outputs": [],
   "source": [
    "com[40:].plot()"
   ]
  },
  {
   "cell_type": "code",
   "execution_count": null,
   "id": "7fb04690",
   "metadata": {
    "collapsed": false
   },
   "outputs": [],
   "source": []
  },
  {
   "cell_type": "code",
   "execution_count": null,
   "id": "c472cc14",
   "metadata": {
    "collapsed": false
   },
   "outputs": [],
   "source": []
  },
  {
   "cell_type": "code",
   "execution_count": null,
   "id": "f96b4803",
   "metadata": {
    "collapsed": false
   },
   "outputs": [],
   "source": []
  },
  {
   "cell_type": "code",
   "execution_count": null,
   "id": "1c36ec2f",
   "metadata": {
    "collapsed": false
   },
   "outputs": [],
   "source": [
    "wb.iloc[-1]"
   ]
  },
  {
   "cell_type": "code",
   "execution_count": null,
   "id": "6d948e78",
   "metadata": {
    "collapsed": false
   },
   "outputs": [],
   "source": [
    "fb.iloc[1]"
   ]
  },
  {
   "cell_type": "code",
   "execution_count": null,
   "id": "83de0ecf",
   "metadata": {
    "collapsed": false
   },
   "outputs": [],
   "source": [
    "com[49:59]"
   ]
  },
  {
   "cell_type": "code",
   "execution_count": null,
   "id": "5aec3ea4",
   "metadata": {
    "collapsed": false
   },
   "outputs": [],
   "source": []
  },
  {
   "cell_type": "code",
   "execution_count": null,
   "id": "2bb4b81d",
   "metadata": {
    "collapsed": false
   },
   "outputs": [],
   "source": []
  },
  {
   "cell_type": "code",
   "execution_count": null,
   "id": "f1e0b55f",
   "metadata": {
    "collapsed": false
   },
   "outputs": [],
   "source": [
    "# Next: create shapes for all country and save it as datapoint file.\n",
    "# so that we have population by income group for all 3 datasets."
   ]
  }
 ],
 "metadata": {
  "kernelspec": {
   "argv": [
    "python",
    "-m",
    "ipykernel_launcher",
    "-f",
    "{connection_file}"
   ],
   "display_name": "Python 3 (ipykernel)",
   "env": null,
   "interrupt_mode": "signal",
   "language": "python",
   "metadata": {
    "debugger": true
   },
   "name": "python3"
  },
  "language_info": {
   "codemirror_mode": {
    "name": "ipython",
    "version": 3
   },
   "file_extension": ".py",
   "mimetype": "text/x-python",
   "name": "python",
   "nbconvert_exporter": "python",
   "pygments_lexer": "ipython3",
   "version": "3.10.7"
  },
  "name": "billionares_by_country.ipynb",
  "vscode": {
   "interpreter": {
    "hash": "bade94fa6dab5916a3875465aa8d670cf8ca4b0b164f89f2a3e58702811d5be6"
   }
  }
 },
 "nbformat": 4,
 "nbformat_minor": 5
}
