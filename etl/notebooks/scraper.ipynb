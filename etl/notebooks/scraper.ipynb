{
 "cells": [
  {
   "cell_type": "code",
   "execution_count": 1,
   "id": "01cd0b0c",
   "metadata": {
    "collapsed": false
   },
   "outputs": [],
   "source": [
    "import pandas as pd"
   ]
  },
  {
   "cell_type": "code",
   "execution_count": 2,
   "id": "3df18ede",
   "metadata": {
    "collapsed": false
   },
   "outputs": [],
   "source": [
    "import requests as req"
   ]
  },
  {
   "cell_type": "code",
   "execution_count": 3,
   "id": "0f7420f8",
   "metadata": {
    "collapsed": false
   },
   "outputs": [],
   "source": [
    "url = \"https://www.forbes.com/ajax/list/data?year=1997&uri=billionaires&type=person\""
   ]
  },
  {
   "cell_type": "code",
   "execution_count": 4,
   "id": "7fcd8540",
   "metadata": {
    "collapsed": false
   },
   "outputs": [],
   "source": [
    "res = req.get(url)"
   ]
  },
  {
   "cell_type": "code",
   "execution_count": 5,
   "id": "3d1f819f",
   "metadata": {
    "collapsed": false
   },
   "outputs": [],
   "source": [
    "data = res.json()"
   ]
  },
  {
   "cell_type": "code",
   "execution_count": 6,
   "id": "113d0700",
   "metadata": {
    "collapsed": false
   },
   "outputs": [
    {
     "data": {
      "text/plain": [
       "{'name': 'A. Jayson Adair',\n",
       " 'lastName': 'Adair',\n",
       " 'uri': 'a-jayson-adair',\n",
       " 'imageUri': 'no-pic',\n",
       " 'worthChange': -32.566,\n",
       " 'age': 52,\n",
       " 'source': 'damaged cars',\n",
       " 'industry': 'Automotive',\n",
       " 'gender': 'M',\n",
       " 'country': 'United States',\n",
       " 'timestamp': 1643251201943,\n",
       " 'headquarters': 'TX',\n",
       " 'state': 'Texas',\n",
       " 'realTimeWorth': 1167.09,\n",
       " 'realTimeRank': 2380,\n",
       " 'realTimePosition': 2380,\n",
       " 'squareImage': 'https://specials-images.forbesimg.com/imageserve/5fb529400560bf6784deea95/416x416.jpg?background=000000&cropX1=887&cropX2=1362&cropY1=707&cropY2=1183'}"
      ]
     },
     "execution_count": 6,
     "metadata": {},
     "output_type": "execute_result"
    }
   ],
   "source": [
    "data[0]"
   ]
  },
  {
   "cell_type": "code",
   "execution_count": 7,
   "id": "eb573b3a",
   "metadata": {
    "collapsed": false
   },
   "outputs": [],
   "source": [
    "df = pd.DataFrame.from_records(data)"
   ]
  },
  {
   "cell_type": "code",
   "execution_count": 8,
   "id": "12c9e5dc",
   "metadata": {
    "collapsed": false
   },
   "outputs": [
    {
     "data": {
      "text/html": [
       "<div>\n",
       "<style scoped>\n",
       "    .dataframe tbody tr th:only-of-type {\n",
       "        vertical-align: middle;\n",
       "    }\n",
       "\n",
       "    .dataframe tbody tr th {\n",
       "        vertical-align: top;\n",
       "    }\n",
       "\n",
       "    .dataframe thead th {\n",
       "        text-align: right;\n",
       "    }\n",
       "</style>\n",
       "<table border=\"1\" class=\"dataframe\">\n",
       "  <thead>\n",
       "    <tr style=\"text-align: right;\">\n",
       "      <th></th>\n",
       "      <th>name</th>\n",
       "      <th>lastName</th>\n",
       "      <th>uri</th>\n",
       "      <th>imageUri</th>\n",
       "      <th>worthChange</th>\n",
       "      <th>age</th>\n",
       "      <th>source</th>\n",
       "      <th>industry</th>\n",
       "      <th>gender</th>\n",
       "      <th>country</th>\n",
       "      <th>timestamp</th>\n",
       "      <th>headquarters</th>\n",
       "      <th>state</th>\n",
       "      <th>realTimeWorth</th>\n",
       "      <th>realTimeRank</th>\n",
       "      <th>realTimePosition</th>\n",
       "      <th>squareImage</th>\n",
       "      <th>worth</th>\n",
       "      <th>position</th>\n",
       "      <th>rank</th>\n",
       "    </tr>\n",
       "  </thead>\n",
       "  <tbody>\n",
       "    <tr>\n",
       "      <th>0</th>\n",
       "      <td>A. Jayson Adair</td>\n",
       "      <td>Adair</td>\n",
       "      <td>a-jayson-adair</td>\n",
       "      <td>no-pic</td>\n",
       "      <td>-32.566</td>\n",
       "      <td>52.0</td>\n",
       "      <td>damaged cars</td>\n",
       "      <td>Automotive</td>\n",
       "      <td>M</td>\n",
       "      <td>United States</td>\n",
       "      <td>1643251201943</td>\n",
       "      <td>TX</td>\n",
       "      <td>Texas</td>\n",
       "      <td>1167.090</td>\n",
       "      <td>2380.0</td>\n",
       "      <td>2380.0</td>\n",
       "      <td>https://specials-images.forbesimg.com/imageser...</td>\n",
       "      <td>NaN</td>\n",
       "      <td>NaN</td>\n",
       "      <td>NaN</td>\n",
       "    </tr>\n",
       "    <tr>\n",
       "      <th>1</th>\n",
       "      <td>Abdulla Al Futtaim &amp; family</td>\n",
       "      <td>Al Futtaim</td>\n",
       "      <td>abdulla-al-futtaim</td>\n",
       "      <td>abdulla-al-futtaim</td>\n",
       "      <td>-4.939</td>\n",
       "      <td>NaN</td>\n",
       "      <td>auto dealers, investments</td>\n",
       "      <td>Automotive</td>\n",
       "      <td>M</td>\n",
       "      <td>United Arab Emirates</td>\n",
       "      <td>1643251201942</td>\n",
       "      <td>NaN</td>\n",
       "      <td>NaN</td>\n",
       "      <td>2252.027</td>\n",
       "      <td>1424.0</td>\n",
       "      <td>1424.0</td>\n",
       "      <td>//specials-images.forbesimg.com/imageserve/5ab...</td>\n",
       "      <td>NaN</td>\n",
       "      <td>NaN</td>\n",
       "      <td>NaN</td>\n",
       "    </tr>\n",
       "    <tr>\n",
       "      <th>2</th>\n",
       "      <td>Abdulla bin Ahmad Al Ghurair &amp; family</td>\n",
       "      <td>Al Ghurair</td>\n",
       "      <td>abdulla-bin-ahmad-al-ghurair</td>\n",
       "      <td>abdulla-bin-ahmad-al-ghurair</td>\n",
       "      <td>0.000</td>\n",
       "      <td>NaN</td>\n",
       "      <td>diversified</td>\n",
       "      <td>Diversified</td>\n",
       "      <td>M</td>\n",
       "      <td>United Arab Emirates</td>\n",
       "      <td>1643251201942</td>\n",
       "      <td>NaN</td>\n",
       "      <td>NaN</td>\n",
       "      <td>3124.442</td>\n",
       "      <td>1005.0</td>\n",
       "      <td>1005.0</td>\n",
       "      <td>//specials-images.forbesimg.com/imageserve/5a9...</td>\n",
       "      <td>NaN</td>\n",
       "      <td>NaN</td>\n",
       "      <td>NaN</td>\n",
       "    </tr>\n",
       "    <tr>\n",
       "      <th>3</th>\n",
       "      <td>Abdulsamad Rabiu</td>\n",
       "      <td>Rabiu</td>\n",
       "      <td>abdulsamad-rabiu</td>\n",
       "      <td>abdulsamad-rabiu</td>\n",
       "      <td>-212.219</td>\n",
       "      <td>61.0</td>\n",
       "      <td>cement, sugar</td>\n",
       "      <td>Diversified</td>\n",
       "      <td>M</td>\n",
       "      <td>Nigeria</td>\n",
       "      <td>1643251201942</td>\n",
       "      <td>NaN</td>\n",
       "      <td>NaN</td>\n",
       "      <td>6812.393</td>\n",
       "      <td>381.0</td>\n",
       "      <td>381.0</td>\n",
       "      <td>https://specials-images.forbesimg.com/imageser...</td>\n",
       "      <td>NaN</td>\n",
       "      <td>NaN</td>\n",
       "      <td>NaN</td>\n",
       "    </tr>\n",
       "    <tr>\n",
       "      <th>4</th>\n",
       "      <td>Abhay Firodia</td>\n",
       "      <td>Firodia</td>\n",
       "      <td>abhay-firodia</td>\n",
       "      <td>abhay-firodia</td>\n",
       "      <td>0.000</td>\n",
       "      <td>77.0</td>\n",
       "      <td>automobiles</td>\n",
       "      <td>Automotive</td>\n",
       "      <td>M</td>\n",
       "      <td>India</td>\n",
       "      <td>1643251201942</td>\n",
       "      <td>NaN</td>\n",
       "      <td>NaN</td>\n",
       "      <td>2955.776</td>\n",
       "      <td>1058.0</td>\n",
       "      <td>1058.0</td>\n",
       "      <td>https://specials-images.forbesimg.com/imageser...</td>\n",
       "      <td>NaN</td>\n",
       "      <td>NaN</td>\n",
       "      <td>NaN</td>\n",
       "    </tr>\n",
       "    <tr>\n",
       "      <th>...</th>\n",
       "      <td>...</td>\n",
       "      <td>...</td>\n",
       "      <td>...</td>\n",
       "      <td>...</td>\n",
       "      <td>...</td>\n",
       "      <td>...</td>\n",
       "      <td>...</td>\n",
       "      <td>...</td>\n",
       "      <td>...</td>\n",
       "      <td>...</td>\n",
       "      <td>...</td>\n",
       "      <td>...</td>\n",
       "      <td>...</td>\n",
       "      <td>...</td>\n",
       "      <td>...</td>\n",
       "      <td>...</td>\n",
       "      <td>...</td>\n",
       "      <td>...</td>\n",
       "      <td>...</td>\n",
       "      <td>...</td>\n",
       "    </tr>\n",
       "    <tr>\n",
       "      <th>2591</th>\n",
       "      <td>Zhou Ruxin</td>\n",
       "      <td>Zhou</td>\n",
       "      <td>zhou-ruxin</td>\n",
       "      <td>no-pic</td>\n",
       "      <td>-40.410</td>\n",
       "      <td>58.0</td>\n",
       "      <td>Navigation</td>\n",
       "      <td>Technology</td>\n",
       "      <td>M</td>\n",
       "      <td>China</td>\n",
       "      <td>1643251201943</td>\n",
       "      <td>NaN</td>\n",
       "      <td>Beijing</td>\n",
       "      <td>NaN</td>\n",
       "      <td>NaN</td>\n",
       "      <td>NaN</td>\n",
       "      <td>NaN</td>\n",
       "      <td>983.999</td>\n",
       "      <td>2585.0</td>\n",
       "      <td>2585.0</td>\n",
       "    </tr>\n",
       "    <tr>\n",
       "      <th>2592</th>\n",
       "      <td>Meiguang Zhao</td>\n",
       "      <td>Zhao</td>\n",
       "      <td>meiguang-zhao</td>\n",
       "      <td>no-pic</td>\n",
       "      <td>-99.480</td>\n",
       "      <td>59.0</td>\n",
       "      <td>gold mining</td>\n",
       "      <td>Metals &amp; Mining</td>\n",
       "      <td>M</td>\n",
       "      <td>China</td>\n",
       "      <td>1643251201943</td>\n",
       "      <td>NaN</td>\n",
       "      <td>Jilin</td>\n",
       "      <td>NaN</td>\n",
       "      <td>NaN</td>\n",
       "      <td>NaN</td>\n",
       "      <td>NaN</td>\n",
       "      <td>965.380</td>\n",
       "      <td>2590.0</td>\n",
       "      <td>2590.0</td>\n",
       "    </tr>\n",
       "    <tr>\n",
       "      <th>2593</th>\n",
       "      <td>Wang Huiwen</td>\n",
       "      <td>Wang</td>\n",
       "      <td>wang-huiwen-1</td>\n",
       "      <td>no-pic</td>\n",
       "      <td>-68.644</td>\n",
       "      <td>44.0</td>\n",
       "      <td>e-commerce</td>\n",
       "      <td>Technology</td>\n",
       "      <td>M</td>\n",
       "      <td>China</td>\n",
       "      <td>1643251201943</td>\n",
       "      <td>NaN</td>\n",
       "      <td>Liaoning</td>\n",
       "      <td>NaN</td>\n",
       "      <td>NaN</td>\n",
       "      <td>NaN</td>\n",
       "      <td>NaN</td>\n",
       "      <td>957.383</td>\n",
       "      <td>2591.0</td>\n",
       "      <td>2591.0</td>\n",
       "    </tr>\n",
       "    <tr>\n",
       "      <th>2594</th>\n",
       "      <td>Xu Ziquan &amp; family</td>\n",
       "      <td>Xu</td>\n",
       "      <td>xu-ziquan</td>\n",
       "      <td>no-pic</td>\n",
       "      <td>-56.836</td>\n",
       "      <td>63.0</td>\n",
       "      <td>software</td>\n",
       "      <td>Technology</td>\n",
       "      <td>M</td>\n",
       "      <td>China</td>\n",
       "      <td>1643251201943</td>\n",
       "      <td>NaN</td>\n",
       "      <td>Beijing</td>\n",
       "      <td>NaN</td>\n",
       "      <td>NaN</td>\n",
       "      <td>NaN</td>\n",
       "      <td>NaN</td>\n",
       "      <td>948.258</td>\n",
       "      <td>2593.0</td>\n",
       "      <td>2593.0</td>\n",
       "    </tr>\n",
       "    <tr>\n",
       "      <th>2595</th>\n",
       "      <td>Yu Guo</td>\n",
       "      <td>Yu</td>\n",
       "      <td>yu-guo</td>\n",
       "      <td>no-pic</td>\n",
       "      <td>-393.059</td>\n",
       "      <td>60.0</td>\n",
       "      <td>education</td>\n",
       "      <td>Service</td>\n",
       "      <td>M</td>\n",
       "      <td>China</td>\n",
       "      <td>1643251201943</td>\n",
       "      <td>NaN</td>\n",
       "      <td>Jiangxi</td>\n",
       "      <td>NaN</td>\n",
       "      <td>NaN</td>\n",
       "      <td>NaN</td>\n",
       "      <td>//specials-images.forbesimg.com/imageserve/5c6...</td>\n",
       "      <td>613.976</td>\n",
       "      <td>2594.0</td>\n",
       "      <td>2594.0</td>\n",
       "    </tr>\n",
       "  </tbody>\n",
       "</table>\n",
       "<p>2596 rows × 20 columns</p>\n",
       "</div>"
      ],
      "text/plain": [
       "                                       name    lastName  \\\n",
       "0                           A. Jayson Adair       Adair   \n",
       "1               Abdulla Al Futtaim & family  Al Futtaim   \n",
       "2     Abdulla bin Ahmad Al Ghurair & family  Al Ghurair   \n",
       "3                          Abdulsamad Rabiu       Rabiu   \n",
       "4                             Abhay Firodia     Firodia   \n",
       "...                                     ...         ...   \n",
       "2591                             Zhou Ruxin        Zhou   \n",
       "2592                          Meiguang Zhao        Zhao   \n",
       "2593                            Wang Huiwen        Wang   \n",
       "2594                     Xu Ziquan & family          Xu   \n",
       "2595                                 Yu Guo          Yu   \n",
       "\n",
       "                               uri                      imageUri  worthChange  \\\n",
       "0                   a-jayson-adair                        no-pic      -32.566   \n",
       "1               abdulla-al-futtaim            abdulla-al-futtaim       -4.939   \n",
       "2     abdulla-bin-ahmad-al-ghurair  abdulla-bin-ahmad-al-ghurair        0.000   \n",
       "3                 abdulsamad-rabiu              abdulsamad-rabiu     -212.219   \n",
       "4                    abhay-firodia                 abhay-firodia        0.000   \n",
       "...                            ...                           ...          ...   \n",
       "2591                    zhou-ruxin                        no-pic      -40.410   \n",
       "2592                 meiguang-zhao                        no-pic      -99.480   \n",
       "2593                 wang-huiwen-1                        no-pic      -68.644   \n",
       "2594                     xu-ziquan                        no-pic      -56.836   \n",
       "2595                        yu-guo                        no-pic     -393.059   \n",
       "\n",
       "       age                     source         industry gender  \\\n",
       "0     52.0               damaged cars       Automotive      M   \n",
       "1      NaN  auto dealers, investments       Automotive      M   \n",
       "2      NaN                diversified      Diversified      M   \n",
       "3     61.0              cement, sugar      Diversified      M   \n",
       "4     77.0                automobiles       Automotive      M   \n",
       "...    ...                        ...              ...    ...   \n",
       "2591  58.0                 Navigation       Technology      M   \n",
       "2592  59.0                gold mining  Metals & Mining      M   \n",
       "2593  44.0                 e-commerce       Technology      M   \n",
       "2594  63.0                   software       Technology      M   \n",
       "2595  60.0                  education          Service      M   \n",
       "\n",
       "                   country      timestamp headquarters     state  \\\n",
       "0            United States  1643251201943           TX     Texas   \n",
       "1     United Arab Emirates  1643251201942          NaN       NaN   \n",
       "2     United Arab Emirates  1643251201942          NaN       NaN   \n",
       "3                  Nigeria  1643251201942          NaN       NaN   \n",
       "4                    India  1643251201942          NaN       NaN   \n",
       "...                    ...            ...          ...       ...   \n",
       "2591                 China  1643251201943          NaN   Beijing   \n",
       "2592                 China  1643251201943          NaN     Jilin   \n",
       "2593                 China  1643251201943          NaN  Liaoning   \n",
       "2594                 China  1643251201943          NaN   Beijing   \n",
       "2595                 China  1643251201943          NaN   Jiangxi   \n",
       "\n",
       "      realTimeWorth  realTimeRank  realTimePosition  \\\n",
       "0          1167.090        2380.0            2380.0   \n",
       "1          2252.027        1424.0            1424.0   \n",
       "2          3124.442        1005.0            1005.0   \n",
       "3          6812.393         381.0             381.0   \n",
       "4          2955.776        1058.0            1058.0   \n",
       "...             ...           ...               ...   \n",
       "2591            NaN           NaN               NaN   \n",
       "2592            NaN           NaN               NaN   \n",
       "2593            NaN           NaN               NaN   \n",
       "2594            NaN           NaN               NaN   \n",
       "2595            NaN           NaN               NaN   \n",
       "\n",
       "                                            squareImage    worth  position  \\\n",
       "0     https://specials-images.forbesimg.com/imageser...      NaN       NaN   \n",
       "1     //specials-images.forbesimg.com/imageserve/5ab...      NaN       NaN   \n",
       "2     //specials-images.forbesimg.com/imageserve/5a9...      NaN       NaN   \n",
       "3     https://specials-images.forbesimg.com/imageser...      NaN       NaN   \n",
       "4     https://specials-images.forbesimg.com/imageser...      NaN       NaN   \n",
       "...                                                 ...      ...       ...   \n",
       "2591                                                NaN  983.999    2585.0   \n",
       "2592                                                NaN  965.380    2590.0   \n",
       "2593                                                NaN  957.383    2591.0   \n",
       "2594                                                NaN  948.258    2593.0   \n",
       "2595  //specials-images.forbesimg.com/imageserve/5c6...  613.976    2594.0   \n",
       "\n",
       "        rank  \n",
       "0        NaN  \n",
       "1        NaN  \n",
       "2        NaN  \n",
       "3        NaN  \n",
       "4        NaN  \n",
       "...      ...  \n",
       "2591  2585.0  \n",
       "2592  2590.0  \n",
       "2593  2591.0  \n",
       "2594  2593.0  \n",
       "2595  2594.0  \n",
       "\n",
       "[2596 rows x 20 columns]"
      ]
     },
     "execution_count": 8,
     "metadata": {},
     "output_type": "execute_result"
    }
   ],
   "source": [
    "df"
   ]
  },
  {
   "cell_type": "code",
   "execution_count": 9,
   "id": "fb089c85",
   "metadata": {
    "collapsed": false
   },
   "outputs": [],
   "source": [
    "url_tmpl = \"https://www.forbes.com/ajax/list/data?year={}&uri=billionaires&type=person\""
   ]
  },
  {
   "cell_type": "code",
   "execution_count": 15,
   "id": "c6a736fe",
   "metadata": {
    "collapsed": false
   },
   "outputs": [
    {
     "name": "stdout",
     "output_type": "stream",
     "text": [
      "1997\n"
     ]
    },
    {
     "name": "stdout",
     "output_type": "stream",
     "text": [
      "1998\n"
     ]
    },
    {
     "name": "stdout",
     "output_type": "stream",
     "text": [
      "1999\n"
     ]
    },
    {
     "name": "stdout",
     "output_type": "stream",
     "text": [
      "2000\n"
     ]
    },
    {
     "name": "stdout",
     "output_type": "stream",
     "text": [
      "2001\n"
     ]
    },
    {
     "name": "stdout",
     "output_type": "stream",
     "text": [
      "2002\n"
     ]
    },
    {
     "name": "stdout",
     "output_type": "stream",
     "text": [
      "2003\n"
     ]
    },
    {
     "name": "stdout",
     "output_type": "stream",
     "text": [
      "2004\n"
     ]
    },
    {
     "name": "stdout",
     "output_type": "stream",
     "text": [
      "2005\n"
     ]
    },
    {
     "name": "stdout",
     "output_type": "stream",
     "text": [
      "2006\n"
     ]
    },
    {
     "name": "stdout",
     "output_type": "stream",
     "text": [
      "2007\n"
     ]
    },
    {
     "name": "stdout",
     "output_type": "stream",
     "text": [
      "2008\n"
     ]
    },
    {
     "name": "stdout",
     "output_type": "stream",
     "text": [
      "2009\n"
     ]
    },
    {
     "name": "stdout",
     "output_type": "stream",
     "text": [
      "2010\n"
     ]
    },
    {
     "name": "stdout",
     "output_type": "stream",
     "text": [
      "2011\n"
     ]
    },
    {
     "name": "stdout",
     "output_type": "stream",
     "text": [
      "2012\n"
     ]
    },
    {
     "name": "stdout",
     "output_type": "stream",
     "text": [
      "2013\n"
     ]
    },
    {
     "name": "stdout",
     "output_type": "stream",
     "text": [
      "2014\n"
     ]
    },
    {
     "name": "stdout",
     "output_type": "stream",
     "text": [
      "2015\n"
     ]
    },
    {
     "name": "stdout",
     "output_type": "stream",
     "text": [
      "2016\n"
     ]
    },
    {
     "name": "stdout",
     "output_type": "stream",
     "text": [
      "2017\n"
     ]
    },
    {
     "name": "stdout",
     "output_type": "stream",
     "text": [
      "2018\n"
     ]
    },
    {
     "name": "stdout",
     "output_type": "stream",
     "text": [
      "2019\n"
     ]
    },
    {
     "name": "stdout",
     "output_type": "stream",
     "text": [
      "2020\n"
     ]
    },
    {
     "name": "stdout",
     "output_type": "stream",
     "text": [
      "2021\n"
     ]
    }
   ],
   "source": [
    "for year in range(1997, 2022):\n",
    "    print(year)\n",
    "    fn = f\"../source/{year}.csv\"\n",
    "    df = get_data(year)\n",
    "    df.to_csv(fn, index=False)"
   ]
  },
  {
   "cell_type": "code",
   "execution_count": 13,
   "id": "27fbdd20",
   "metadata": {
    "collapsed": false
   },
   "outputs": [],
   "source": [
    "def get_data(year):\n",
    "    res = req.get(url_tmpl.format(year)).json()\n",
    "    df = pd.DataFrame.from_records(res)\n",
    "    return df"
   ]
  },
  {
   "cell_type": "code",
   "execution_count": 21,
   "id": "b677bfcc",
   "metadata": {
    "collapsed": false
   },
   "outputs": [
    {
     "data": {
      "text/plain": [
       "name                                                  A. Jayson Adair\n",
       "lastName                                                        Adair\n",
       "uri                                                    a-jayson-adair\n",
       "imageUri                                                       no-pic\n",
       "worthChange                                                   -32.566\n",
       "age                                                              52.0\n",
       "source                                                   damaged cars\n",
       "industry                                                   Automotive\n",
       "gender                                                              M\n",
       "country                                                 United States\n",
       "timestamp                                               1643253901890\n",
       "headquarters                                                       TX\n",
       "state                                                           Texas\n",
       "realTimeWorth                                                 1167.09\n",
       "realTimeRank                                                   2381.0\n",
       "realTimePosition                                               2381.0\n",
       "squareImage         https://specials-images.forbesimg.com/imageser...\n",
       "worth                                                             NaN\n",
       "position                                                          NaN\n",
       "rank                                                              NaN\n",
       "Name: 0, dtype: object"
      ]
     },
     "execution_count": 21,
     "metadata": {},
     "output_type": "execute_result"
    }
   ],
   "source": [
    "get_data(1998).iloc[0]"
   ]
  },
  {
   "cell_type": "code",
   "execution_count": 22,
   "id": "16172b32",
   "metadata": {
    "collapsed": false
   },
   "outputs": [],
   "source": [
    "cols = ['name', 'age', 'country', 'realTimeWorth']"
   ]
  },
  {
   "cell_type": "code",
   "execution_count": 23,
   "id": "43629d08",
   "metadata": {
    "collapsed": false
   },
   "outputs": [],
   "source": [
    "def get_data_file(year):\n",
    "    fn = f\"../source/{year}.csv\"\n",
    "    return pd.read_csv(fn)"
   ]
  },
  {
   "cell_type": "code",
   "execution_count": 28,
   "id": "e633ff05",
   "metadata": {
    "collapsed": false
   },
   "outputs": [],
   "source": [
    "df = get_data_file(2021)"
   ]
  },
  {
   "cell_type": "code",
   "execution_count": 29,
   "id": "4f72fade",
   "metadata": {
    "collapsed": false
   },
   "outputs": [
    {
     "data": {
      "text/plain": [
       "name                                                        Abhay Soi\n",
       "lastName                                                          Soi\n",
       "uri                                                         abhay-soi\n",
       "imageUri                                                       no-pic\n",
       "worthChange                                                       0.0\n",
       "age                                                              48.0\n",
       "source                                                     healthcare\n",
       "industry                                                   Healthcare\n",
       "gender                                                              M\n",
       "country                                                         India\n",
       "timestamp                                               1643251502564\n",
       "realTimeWorth                                                1067.196\n",
       "realTimeRank                                                   2502.0\n",
       "realTimePosition                                               2502.0\n",
       "squareImage         https://specials-images.forbesimg.com/imageser...\n",
       "headquarters                                                      NaN\n",
       "state                                                             NaN\n",
       "position                                                          NaN\n",
       "rank                                                              NaN\n",
       "worth                                                             NaN\n",
       "title                                                             NaN\n",
       "government                                                        NaN\n",
       "pay                                                               NaN\n",
       "managementAssets                                                  NaN\n",
       "salary                                                            NaN\n",
       "Name: 0, dtype: object"
      ]
     },
     "execution_count": 29,
     "metadata": {},
     "output_type": "execute_result"
    }
   ],
   "source": [
    "df.loc[0]"
   ]
  },
  {
   "cell_type": "code",
   "execution_count": 31,
   "id": "838b7b41",
   "metadata": {
    "collapsed": false
   },
   "outputs": [
    {
     "data": {
      "text/plain": [
       "0       1067.196\n",
       "1       1760.863\n",
       "2       1457.710\n",
       "3       4000.000\n",
       "4       1283.846\n",
       "          ...   \n",
       "2896    1299.318\n",
       "2897    1249.054\n",
       "2898    1000.000\n",
       "2899    1045.538\n",
       "2901    1003.500\n",
       "Name: realTimeWorth, Length: 2594, dtype: float64"
      ]
     },
     "execution_count": 31,
     "metadata": {},
     "output_type": "execute_result"
    }
   ],
   "source": [
    "df['realTimeWorth'].dropna()"
   ]
  },
  {
   "cell_type": "code",
   "execution_count": 33,
   "id": "51990547",
   "metadata": {
    "collapsed": false
   },
   "outputs": [
    {
     "data": {
      "text/html": [
       "<div>\n",
       "<style scoped>\n",
       "    .dataframe tbody tr th:only-of-type {\n",
       "        vertical-align: middle;\n",
       "    }\n",
       "\n",
       "    .dataframe tbody tr th {\n",
       "        vertical-align: top;\n",
       "    }\n",
       "\n",
       "    .dataframe thead th {\n",
       "        text-align: right;\n",
       "    }\n",
       "</style>\n",
       "<table border=\"1\" class=\"dataframe\">\n",
       "  <thead>\n",
       "    <tr style=\"text-align: right;\">\n",
       "      <th></th>\n",
       "      <th>realTimeWorth</th>\n",
       "      <th>worth</th>\n",
       "    </tr>\n",
       "    <tr>\n",
       "      <th>uri</th>\n",
       "      <th></th>\n",
       "      <th></th>\n",
       "    </tr>\n",
       "  </thead>\n",
       "  <tbody>\n",
       "    <tr>\n",
       "      <th>abhay-soi</th>\n",
       "      <td>1067.196</td>\n",
       "      <td>NaN</td>\n",
       "    </tr>\n",
       "    <tr>\n",
       "      <th>adam-foroughi</th>\n",
       "      <td>1760.863</td>\n",
       "      <td>NaN</td>\n",
       "    </tr>\n",
       "    <tr>\n",
       "      <th>adam-neumann</th>\n",
       "      <td>1457.710</td>\n",
       "      <td>NaN</td>\n",
       "    </tr>\n",
       "    <tr>\n",
       "      <th>alex-shevchenko</th>\n",
       "      <td>4000.000</td>\n",
       "      <td>NaN</td>\n",
       "    </tr>\n",
       "    <tr>\n",
       "      <th>anand-deshpande</th>\n",
       "      <td>1283.846</td>\n",
       "      <td>NaN</td>\n",
       "    </tr>\n",
       "    <tr>\n",
       "      <th>...</th>\n",
       "      <td>...</td>\n",
       "      <td>...</td>\n",
       "    </tr>\n",
       "    <tr>\n",
       "      <th>daniel-yong-zhang-1</th>\n",
       "      <td>1003.500</td>\n",
       "      <td>1000.0</td>\n",
       "    </tr>\n",
       "    <tr>\n",
       "      <th>zhang-yuqiang</th>\n",
       "      <td>NaN</td>\n",
       "      <td>1000.0</td>\n",
       "    </tr>\n",
       "    <tr>\n",
       "      <th>zhao-meiguang</th>\n",
       "      <td>NaN</td>\n",
       "      <td>1000.0</td>\n",
       "    </tr>\n",
       "    <tr>\n",
       "      <th>zhong-naixiong</th>\n",
       "      <td>NaN</td>\n",
       "      <td>1000.0</td>\n",
       "    </tr>\n",
       "    <tr>\n",
       "      <th>zhou-wei-1</th>\n",
       "      <td>NaN</td>\n",
       "      <td>1000.0</td>\n",
       "    </tr>\n",
       "  </tbody>\n",
       "</table>\n",
       "<p>2906 rows × 2 columns</p>\n",
       "</div>"
      ],
      "text/plain": [
       "                     realTimeWorth   worth\n",
       "uri                                       \n",
       "abhay-soi                 1067.196     NaN\n",
       "adam-foroughi             1760.863     NaN\n",
       "adam-neumann              1457.710     NaN\n",
       "alex-shevchenko           4000.000     NaN\n",
       "anand-deshpande           1283.846     NaN\n",
       "...                            ...     ...\n",
       "daniel-yong-zhang-1       1003.500  1000.0\n",
       "zhang-yuqiang                  NaN  1000.0\n",
       "zhao-meiguang                  NaN  1000.0\n",
       "zhong-naixiong                 NaN  1000.0\n",
       "zhou-wei-1                     NaN  1000.0\n",
       "\n",
       "[2906 rows x 2 columns]"
      ]
     },
     "execution_count": 33,
     "metadata": {},
     "output_type": "execute_result"
    }
   ],
   "source": [
    "df.set_index('uri')[['realTimeWorth', 'worth']]"
   ]
  },
  {
   "cell_type": "code",
   "execution_count": 34,
   "id": "5f963ea0",
   "metadata": {
    "collapsed": false
   },
   "outputs": [],
   "source": [
    "url_profile_tmpl = \"https://www.forbes.com/profile/{}\""
   ]
  },
  {
   "cell_type": "code",
   "execution_count": 37,
   "id": "84d62b92",
   "metadata": {
    "collapsed": false
   },
   "outputs": [],
   "source": [
    "pf = url_profile_tmpl.format(\"abhay-soi\")"
   ]
  },
  {
   "cell_type": "code",
   "execution_count": 38,
   "id": "f419510b",
   "metadata": {
    "collapsed": false
   },
   "outputs": [
    {
     "data": {
      "text/plain": [
       "'https://www.forbes.com/profile/abhay-soi'"
      ]
     },
     "execution_count": 38,
     "metadata": {},
     "output_type": "execute_result"
    }
   ],
   "source": [
    "pf"
   ]
  },
  {
   "cell_type": "code",
   "execution_count": 41,
   "id": "4844342c",
   "metadata": {
    "collapsed": false
   },
   "outputs": [
    {
     "ename": "FileNotFoundError",
     "evalue": "[Errno 2] No such file or directory: '/c/Users/semio/Downloads/wp/Billionaires1996-2014.dta'",
     "output_type": "error",
     "traceback": [
      "\u001b[1;31m---------------------------------------------------------------------------\u001b[0m",
      "\u001b[1;31mFileNotFoundError\u001b[0m                         Traceback (most recent call last)",
      "\u001b[1;32m~\\AppData\\Local\\Temp/ipykernel_4732/2763266299.py\u001b[0m in \u001b[0;36m<module>\u001b[1;34m\u001b[0m\n\u001b[1;32m----> 1\u001b[1;33m \u001b[0mpd\u001b[0m\u001b[1;33m.\u001b[0m\u001b[0mread_table\u001b[0m\u001b[1;33m(\u001b[0m\u001b[1;34m\"/c/Users/semio/Downloads/wp/Billionaires1996-2014.dta\"\u001b[0m\u001b[1;33m)\u001b[0m\u001b[1;33m\u001b[0m\u001b[1;33m\u001b[0m\u001b[0m\n\u001b[0m",
      "\u001b[1;32m~\\anaconda3\\envs\\gapminder\\lib\\site-packages\\pandas\\util\\_decorators.py\u001b[0m in \u001b[0;36mwrapper\u001b[1;34m(*args, **kwargs)\u001b[0m\n\u001b[0;32m    309\u001b[0m                     \u001b[0mstacklevel\u001b[0m\u001b[1;33m=\u001b[0m\u001b[0mstacklevel\u001b[0m\u001b[1;33m,\u001b[0m\u001b[1;33m\u001b[0m\u001b[1;33m\u001b[0m\u001b[0m\n\u001b[0;32m    310\u001b[0m                 )\n\u001b[1;32m--> 311\u001b[1;33m             \u001b[1;32mreturn\u001b[0m \u001b[0mfunc\u001b[0m\u001b[1;33m(\u001b[0m\u001b[1;33m*\u001b[0m\u001b[0margs\u001b[0m\u001b[1;33m,\u001b[0m \u001b[1;33m**\u001b[0m\u001b[0mkwargs\u001b[0m\u001b[1;33m)\u001b[0m\u001b[1;33m\u001b[0m\u001b[1;33m\u001b[0m\u001b[0m\n\u001b[0m\u001b[0;32m    312\u001b[0m \u001b[1;33m\u001b[0m\u001b[0m\n\u001b[0;32m    313\u001b[0m         \u001b[1;32mreturn\u001b[0m \u001b[0mwrapper\u001b[0m\u001b[1;33m\u001b[0m\u001b[1;33m\u001b[0m\u001b[0m\n",
      "\u001b[1;32m~\\anaconda3\\envs\\gapminder\\lib\\site-packages\\pandas\\io\\parsers\\readers.py\u001b[0m in \u001b[0;36mread_table\u001b[1;34m(filepath_or_buffer, sep, delimiter, header, names, index_col, usecols, squeeze, prefix, mangle_dupe_cols, dtype, engine, converters, true_values, false_values, skipinitialspace, skiprows, skipfooter, nrows, na_values, keep_default_na, na_filter, verbose, skip_blank_lines, parse_dates, infer_datetime_format, keep_date_col, date_parser, dayfirst, cache_dates, iterator, chunksize, compression, thousands, decimal, lineterminator, quotechar, quoting, doublequote, escapechar, comment, encoding, dialect, error_bad_lines, warn_bad_lines, on_bad_lines, encoding_errors, delim_whitespace, low_memory, memory_map, float_precision)\u001b[0m\n\u001b[0;32m    681\u001b[0m     \u001b[0mkwds\u001b[0m\u001b[1;33m.\u001b[0m\u001b[0mupdate\u001b[0m\u001b[1;33m(\u001b[0m\u001b[0mkwds_defaults\u001b[0m\u001b[1;33m)\u001b[0m\u001b[1;33m\u001b[0m\u001b[1;33m\u001b[0m\u001b[0m\n\u001b[0;32m    682\u001b[0m \u001b[1;33m\u001b[0m\u001b[0m\n\u001b[1;32m--> 683\u001b[1;33m     \u001b[1;32mreturn\u001b[0m \u001b[0m_read\u001b[0m\u001b[1;33m(\u001b[0m\u001b[0mfilepath_or_buffer\u001b[0m\u001b[1;33m,\u001b[0m \u001b[0mkwds\u001b[0m\u001b[1;33m)\u001b[0m\u001b[1;33m\u001b[0m\u001b[1;33m\u001b[0m\u001b[0m\n\u001b[0m\u001b[0;32m    684\u001b[0m \u001b[1;33m\u001b[0m\u001b[0m\n\u001b[0;32m    685\u001b[0m \u001b[1;33m\u001b[0m\u001b[0m\n",
      "\u001b[1;32m~\\anaconda3\\envs\\gapminder\\lib\\site-packages\\pandas\\io\\parsers\\readers.py\u001b[0m in \u001b[0;36m_read\u001b[1;34m(filepath_or_buffer, kwds)\u001b[0m\n\u001b[0;32m    480\u001b[0m \u001b[1;33m\u001b[0m\u001b[0m\n\u001b[0;32m    481\u001b[0m     \u001b[1;31m# Create the parser.\u001b[0m\u001b[1;33m\u001b[0m\u001b[1;33m\u001b[0m\u001b[0m\n\u001b[1;32m--> 482\u001b[1;33m     \u001b[0mparser\u001b[0m \u001b[1;33m=\u001b[0m \u001b[0mTextFileReader\u001b[0m\u001b[1;33m(\u001b[0m\u001b[0mfilepath_or_buffer\u001b[0m\u001b[1;33m,\u001b[0m \u001b[1;33m**\u001b[0m\u001b[0mkwds\u001b[0m\u001b[1;33m)\u001b[0m\u001b[1;33m\u001b[0m\u001b[1;33m\u001b[0m\u001b[0m\n\u001b[0m\u001b[0;32m    483\u001b[0m \u001b[1;33m\u001b[0m\u001b[0m\n\u001b[0;32m    484\u001b[0m     \u001b[1;32mif\u001b[0m \u001b[0mchunksize\u001b[0m \u001b[1;32mor\u001b[0m \u001b[0miterator\u001b[0m\u001b[1;33m:\u001b[0m\u001b[1;33m\u001b[0m\u001b[1;33m\u001b[0m\u001b[0m\n",
      "\u001b[1;32m~\\anaconda3\\envs\\gapminder\\lib\\site-packages\\pandas\\io\\parsers\\readers.py\u001b[0m in \u001b[0;36m__init__\u001b[1;34m(self, f, engine, **kwds)\u001b[0m\n\u001b[0;32m    809\u001b[0m             \u001b[0mself\u001b[0m\u001b[1;33m.\u001b[0m\u001b[0moptions\u001b[0m\u001b[1;33m[\u001b[0m\u001b[1;34m\"has_index_names\"\u001b[0m\u001b[1;33m]\u001b[0m \u001b[1;33m=\u001b[0m \u001b[0mkwds\u001b[0m\u001b[1;33m[\u001b[0m\u001b[1;34m\"has_index_names\"\u001b[0m\u001b[1;33m]\u001b[0m\u001b[1;33m\u001b[0m\u001b[1;33m\u001b[0m\u001b[0m\n\u001b[0;32m    810\u001b[0m \u001b[1;33m\u001b[0m\u001b[0m\n\u001b[1;32m--> 811\u001b[1;33m         \u001b[0mself\u001b[0m\u001b[1;33m.\u001b[0m\u001b[0m_engine\u001b[0m \u001b[1;33m=\u001b[0m \u001b[0mself\u001b[0m\u001b[1;33m.\u001b[0m\u001b[0m_make_engine\u001b[0m\u001b[1;33m(\u001b[0m\u001b[0mself\u001b[0m\u001b[1;33m.\u001b[0m\u001b[0mengine\u001b[0m\u001b[1;33m)\u001b[0m\u001b[1;33m\u001b[0m\u001b[1;33m\u001b[0m\u001b[0m\n\u001b[0m\u001b[0;32m    812\u001b[0m \u001b[1;33m\u001b[0m\u001b[0m\n\u001b[0;32m    813\u001b[0m     \u001b[1;32mdef\u001b[0m \u001b[0mclose\u001b[0m\u001b[1;33m(\u001b[0m\u001b[0mself\u001b[0m\u001b[1;33m)\u001b[0m\u001b[1;33m:\u001b[0m\u001b[1;33m\u001b[0m\u001b[1;33m\u001b[0m\u001b[0m\n",
      "\u001b[1;32m~\\anaconda3\\envs\\gapminder\\lib\\site-packages\\pandas\\io\\parsers\\readers.py\u001b[0m in \u001b[0;36m_make_engine\u001b[1;34m(self, engine)\u001b[0m\n\u001b[0;32m   1038\u001b[0m             )\n\u001b[0;32m   1039\u001b[0m         \u001b[1;31m# error: Too many arguments for \"ParserBase\"\u001b[0m\u001b[1;33m\u001b[0m\u001b[1;33m\u001b[0m\u001b[0m\n\u001b[1;32m-> 1040\u001b[1;33m         \u001b[1;32mreturn\u001b[0m \u001b[0mmapping\u001b[0m\u001b[1;33m[\u001b[0m\u001b[0mengine\u001b[0m\u001b[1;33m]\u001b[0m\u001b[1;33m(\u001b[0m\u001b[0mself\u001b[0m\u001b[1;33m.\u001b[0m\u001b[0mf\u001b[0m\u001b[1;33m,\u001b[0m \u001b[1;33m**\u001b[0m\u001b[0mself\u001b[0m\u001b[1;33m.\u001b[0m\u001b[0moptions\u001b[0m\u001b[1;33m)\u001b[0m  \u001b[1;31m# type: ignore[call-arg]\u001b[0m\u001b[1;33m\u001b[0m\u001b[1;33m\u001b[0m\u001b[0m\n\u001b[0m\u001b[0;32m   1041\u001b[0m \u001b[1;33m\u001b[0m\u001b[0m\n\u001b[0;32m   1042\u001b[0m     \u001b[1;32mdef\u001b[0m \u001b[0m_failover_to_python\u001b[0m\u001b[1;33m(\u001b[0m\u001b[0mself\u001b[0m\u001b[1;33m)\u001b[0m\u001b[1;33m:\u001b[0m\u001b[1;33m\u001b[0m\u001b[1;33m\u001b[0m\u001b[0m\n",
      "\u001b[1;32m~\\anaconda3\\envs\\gapminder\\lib\\site-packages\\pandas\\io\\parsers\\c_parser_wrapper.py\u001b[0m in \u001b[0;36m__init__\u001b[1;34m(self, src, **kwds)\u001b[0m\n\u001b[0;32m     49\u001b[0m \u001b[1;33m\u001b[0m\u001b[0m\n\u001b[0;32m     50\u001b[0m         \u001b[1;31m# open handles\u001b[0m\u001b[1;33m\u001b[0m\u001b[1;33m\u001b[0m\u001b[0m\n\u001b[1;32m---> 51\u001b[1;33m         \u001b[0mself\u001b[0m\u001b[1;33m.\u001b[0m\u001b[0m_open_handles\u001b[0m\u001b[1;33m(\u001b[0m\u001b[0msrc\u001b[0m\u001b[1;33m,\u001b[0m \u001b[0mkwds\u001b[0m\u001b[1;33m)\u001b[0m\u001b[1;33m\u001b[0m\u001b[1;33m\u001b[0m\u001b[0m\n\u001b[0m\u001b[0;32m     52\u001b[0m         \u001b[1;32massert\u001b[0m \u001b[0mself\u001b[0m\u001b[1;33m.\u001b[0m\u001b[0mhandles\u001b[0m \u001b[1;32mis\u001b[0m \u001b[1;32mnot\u001b[0m \u001b[1;32mNone\u001b[0m\u001b[1;33m\u001b[0m\u001b[1;33m\u001b[0m\u001b[0m\n\u001b[0;32m     53\u001b[0m \u001b[1;33m\u001b[0m\u001b[0m\n",
      "\u001b[1;32m~\\anaconda3\\envs\\gapminder\\lib\\site-packages\\pandas\\io\\parsers\\base_parser.py\u001b[0m in \u001b[0;36m_open_handles\u001b[1;34m(self, src, kwds)\u001b[0m\n\u001b[0;32m    220\u001b[0m         \u001b[0mLet\u001b[0m \u001b[0mthe\u001b[0m \u001b[0mreaders\u001b[0m \u001b[0mopen\u001b[0m \u001b[0mIOHandles\u001b[0m \u001b[0mafter\u001b[0m \u001b[0mthey\u001b[0m \u001b[0mare\u001b[0m \u001b[0mdone\u001b[0m \u001b[1;32mwith\u001b[0m \u001b[0mtheir\u001b[0m \u001b[0mpotential\u001b[0m \u001b[0mraises\u001b[0m\u001b[1;33m.\u001b[0m\u001b[1;33m\u001b[0m\u001b[1;33m\u001b[0m\u001b[0m\n\u001b[0;32m    221\u001b[0m         \"\"\"\n\u001b[1;32m--> 222\u001b[1;33m         self.handles = get_handle(\n\u001b[0m\u001b[0;32m    223\u001b[0m             \u001b[0msrc\u001b[0m\u001b[1;33m,\u001b[0m\u001b[1;33m\u001b[0m\u001b[1;33m\u001b[0m\u001b[0m\n\u001b[0;32m    224\u001b[0m             \u001b[1;34m\"r\"\u001b[0m\u001b[1;33m,\u001b[0m\u001b[1;33m\u001b[0m\u001b[1;33m\u001b[0m\u001b[0m\n",
      "\u001b[1;32m~\\anaconda3\\envs\\gapminder\\lib\\site-packages\\pandas\\io\\common.py\u001b[0m in \u001b[0;36mget_handle\u001b[1;34m(path_or_buf, mode, encoding, compression, memory_map, is_text, errors, storage_options)\u001b[0m\n\u001b[0;32m    700\u001b[0m         \u001b[1;32mif\u001b[0m \u001b[0mioargs\u001b[0m\u001b[1;33m.\u001b[0m\u001b[0mencoding\u001b[0m \u001b[1;32mand\u001b[0m \u001b[1;34m\"b\"\u001b[0m \u001b[1;32mnot\u001b[0m \u001b[1;32min\u001b[0m \u001b[0mioargs\u001b[0m\u001b[1;33m.\u001b[0m\u001b[0mmode\u001b[0m\u001b[1;33m:\u001b[0m\u001b[1;33m\u001b[0m\u001b[1;33m\u001b[0m\u001b[0m\n\u001b[0;32m    701\u001b[0m             \u001b[1;31m# Encoding\u001b[0m\u001b[1;33m\u001b[0m\u001b[1;33m\u001b[0m\u001b[0m\n\u001b[1;32m--> 702\u001b[1;33m             handle = open(\n\u001b[0m\u001b[0;32m    703\u001b[0m                 \u001b[0mhandle\u001b[0m\u001b[1;33m,\u001b[0m\u001b[1;33m\u001b[0m\u001b[1;33m\u001b[0m\u001b[0m\n\u001b[0;32m    704\u001b[0m                 \u001b[0mioargs\u001b[0m\u001b[1;33m.\u001b[0m\u001b[0mmode\u001b[0m\u001b[1;33m,\u001b[0m\u001b[1;33m\u001b[0m\u001b[1;33m\u001b[0m\u001b[0m\n",
      "\u001b[1;31mFileNotFoundError\u001b[0m: [Errno 2] No such file or directory: '/c/Users/semio/Downloads/wp/Billionaires1996-2014.dta'"
     ]
    }
   ],
   "source": [
    "pd.read_table(\"/c/Users/semio/Downloads/wp/Billionaires1996-2014.dta\")"
   ]
  },
  {
   "cell_type": "code",
   "execution_count": null,
   "id": "b0b6ea0c",
   "metadata": {
    "collapsed": false
   },
   "outputs": [],
   "source": []
  }
 ],
 "metadata": {
  "kernelspec": {
   "argv": [
    "C:/Users/semio/anaconda3/envs/gapminder\\python.exe",
    "-m",
    "ipykernel_launcher",
    "-f",
    "{connection_file}"
   ],
   "display_name": "Python 3 (ipykernel)",
   "env": null,
   "interrupt_mode": "signal",
   "language": "python",
   "metadata": {
    "debugger": true
   },
   "name": "python3"
  },
  "language_info": {
   "codemirror_mode": {
    "name": "ipython",
    "version": 3
   },
   "file_extension": ".py",
   "mimetype": "text/x-python",
   "name": "python",
   "nbconvert_exporter": "python",
   "pygments_lexer": "ipython3",
   "version": "3.10.1"
  },
  "name": "scraper.ipynb"
 },
 "nbformat": 4,
 "nbformat_minor": 5
}
